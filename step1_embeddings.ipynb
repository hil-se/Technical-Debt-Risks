{
 "cells": [
  {
   "cell_type": "code",
   "execution_count": 1,
   "metadata": {},
   "outputs": [],
   "source": [
    "import pandas as pd"
   ]
  },
  {
   "cell_type": "code",
   "execution_count": 2,
   "metadata": {},
   "outputs": [],
   "source": [
    "data_og=pd.read_csv(\"apache-ant-og.csv\")"
   ]
  },
  {
   "cell_type": "code",
   "execution_count": 3,
   "metadata": {},
   "outputs": [
    {
     "data": {
      "text/html": [
       "<div>\n",
       "<style scoped>\n",
       "    .dataframe tbody tr th:only-of-type {\n",
       "        vertical-align: middle;\n",
       "    }\n",
       "\n",
       "    .dataframe tbody tr th {\n",
       "        vertical-align: top;\n",
       "    }\n",
       "\n",
       "    .dataframe thead th {\n",
       "        text-align: right;\n",
       "    }\n",
       "</style>\n",
       "<table border=\"1\" class=\"dataframe\">\n",
       "  <thead>\n",
       "    <tr style=\"text-align: right;\">\n",
       "      <th></th>\n",
       "      <th>projectname</th>\n",
       "      <th>classification</th>\n",
       "      <th>commenttext</th>\n",
       "    </tr>\n",
       "  </thead>\n",
       "  <tbody>\n",
       "    <tr>\n",
       "      <th>0</th>\n",
       "      <td>apache-ant-1.7.0</td>\n",
       "      <td>DEFECT</td>\n",
       "      <td>// FIXME formatters are not thread-safe</td>\n",
       "    </tr>\n",
       "    <tr>\n",
       "      <th>1</th>\n",
       "      <td>apache-ant-1.7.0</td>\n",
       "      <td>DEFECT</td>\n",
       "      <td>// XXX: (Jon Skeet) The comment \"if it hasn't ...</td>\n",
       "    </tr>\n",
       "    <tr>\n",
       "      <th>2</th>\n",
       "      <td>apache-ant-1.7.0</td>\n",
       "      <td>DEFECT</td>\n",
       "      <td>// I hate to admit it, but we don't know what ...</td>\n",
       "    </tr>\n",
       "    <tr>\n",
       "      <th>3</th>\n",
       "      <td>apache-ant-1.7.0</td>\n",
       "      <td>DEFECT</td>\n",
       "      <td>// Just a note: StarTeam has a status for NEW ...</td>\n",
       "    </tr>\n",
       "    <tr>\n",
       "      <th>4</th>\n",
       "      <td>apache-ant-1.7.0</td>\n",
       "      <td>DEFECT</td>\n",
       "      <td>// the generated classes must not be added in ...</td>\n",
       "    </tr>\n",
       "  </tbody>\n",
       "</table>\n",
       "</div>"
      ],
      "text/plain": [
       "        projectname classification  \\\n",
       "0  apache-ant-1.7.0         DEFECT   \n",
       "1  apache-ant-1.7.0         DEFECT   \n",
       "2  apache-ant-1.7.0         DEFECT   \n",
       "3  apache-ant-1.7.0         DEFECT   \n",
       "4  apache-ant-1.7.0         DEFECT   \n",
       "\n",
       "                                         commenttext  \n",
       "0            // FIXME formatters are not thread-safe  \n",
       "1  // XXX: (Jon Skeet) The comment \"if it hasn't ...  \n",
       "2  // I hate to admit it, but we don't know what ...  \n",
       "3  // Just a note: StarTeam has a status for NEW ...  \n",
       "4  // the generated classes must not be added in ...  "
      ]
     },
     "execution_count": 3,
     "metadata": {},
     "output_type": "execute_result"
    }
   ],
   "source": [
    "data_og[:5]"
   ]
  },
  {
   "cell_type": "code",
   "execution_count": 4,
   "metadata": {},
   "outputs": [],
   "source": [
    "data_corr=pd.read_csv(\"apache-ant-corr.csv\")"
   ]
  },
  {
   "cell_type": "code",
   "execution_count": 5,
   "metadata": {},
   "outputs": [
    {
     "data": {
      "text/html": [
       "<div>\n",
       "<style scoped>\n",
       "    .dataframe tbody tr th:only-of-type {\n",
       "        vertical-align: middle;\n",
       "    }\n",
       "\n",
       "    .dataframe tbody tr th {\n",
       "        vertical-align: top;\n",
       "    }\n",
       "\n",
       "    .dataframe thead th {\n",
       "        text-align: right;\n",
       "    }\n",
       "</style>\n",
       "<table border=\"1\" class=\"dataframe\">\n",
       "  <thead>\n",
       "    <tr style=\"text-align: right;\">\n",
       "      <th></th>\n",
       "      <th>ID</th>\n",
       "      <th>projectname</th>\n",
       "      <th>classification</th>\n",
       "      <th>Abstract</th>\n",
       "      <th>label</th>\n",
       "    </tr>\n",
       "  </thead>\n",
       "  <tbody>\n",
       "    <tr>\n",
       "      <th>0</th>\n",
       "      <td>0</td>\n",
       "      <td>apache-ant-1.7.0</td>\n",
       "      <td>DEFECT</td>\n",
       "      <td>// FIXME formatters are not thread-safe</td>\n",
       "      <td>yes</td>\n",
       "    </tr>\n",
       "    <tr>\n",
       "      <th>1</th>\n",
       "      <td>1</td>\n",
       "      <td>apache-ant-1.7.0</td>\n",
       "      <td>DEFECT</td>\n",
       "      <td>// XXX: (Jon Skeet) The comment \"if it hasn't ...</td>\n",
       "      <td>yes</td>\n",
       "    </tr>\n",
       "    <tr>\n",
       "      <th>2</th>\n",
       "      <td>2</td>\n",
       "      <td>apache-ant-1.7.0</td>\n",
       "      <td>DEFECT</td>\n",
       "      <td>// I hate to admit it, but we don't know what ...</td>\n",
       "      <td>yes</td>\n",
       "    </tr>\n",
       "    <tr>\n",
       "      <th>3</th>\n",
       "      <td>3</td>\n",
       "      <td>apache-ant-1.7.0</td>\n",
       "      <td>DEFECT</td>\n",
       "      <td>// Just a note: StarTeam has a status for NEW ...</td>\n",
       "      <td>yes</td>\n",
       "    </tr>\n",
       "    <tr>\n",
       "      <th>4</th>\n",
       "      <td>4</td>\n",
       "      <td>apache-ant-1.7.0</td>\n",
       "      <td>DEFECT</td>\n",
       "      <td>// the generated classes must not be added in ...</td>\n",
       "      <td>yes</td>\n",
       "    </tr>\n",
       "  </tbody>\n",
       "</table>\n",
       "</div>"
      ],
      "text/plain": [
       "   ID       projectname classification  \\\n",
       "0   0  apache-ant-1.7.0         DEFECT   \n",
       "1   1  apache-ant-1.7.0         DEFECT   \n",
       "2   2  apache-ant-1.7.0         DEFECT   \n",
       "3   3  apache-ant-1.7.0         DEFECT   \n",
       "4   4  apache-ant-1.7.0         DEFECT   \n",
       "\n",
       "                                            Abstract label  \n",
       "0            // FIXME formatters are not thread-safe   yes  \n",
       "1  // XXX: (Jon Skeet) The comment \"if it hasn't ...   yes  \n",
       "2  // I hate to admit it, but we don't know what ...   yes  \n",
       "3  // Just a note: StarTeam has a status for NEW ...   yes  \n",
       "4  // the generated classes must not be added in ...   yes  "
      ]
     },
     "execution_count": 5,
     "metadata": {},
     "output_type": "execute_result"
    }
   ],
   "source": [
    "data_corr[:5]"
   ]
  },
  {
   "cell_type": "code",
   "execution_count": 6,
   "metadata": {},
   "outputs": [
    {
     "data": {
      "text/plain": [
       "(4098, 5)"
      ]
     },
     "execution_count": 6,
     "metadata": {},
     "output_type": "execute_result"
    }
   ],
   "source": [
    "data_corr.shape"
   ]
  },
  {
   "cell_type": "code",
   "execution_count": 7,
   "metadata": {},
   "outputs": [
    {
     "data": {
      "text/plain": [
       "135"
      ]
     },
     "execution_count": 7,
     "metadata": {},
     "output_type": "execute_result"
    }
   ],
   "source": [
    "data_corr.loc[data_corr.label=='yes', 'label'].count()\n",
    "#(data_corr.label=='yes').sum()"
   ]
  },
  {
   "cell_type": "code",
   "execution_count": 8,
   "metadata": {},
   "outputs": [
    {
     "data": {
      "text/plain": [
       "3963"
      ]
     },
     "execution_count": 8,
     "metadata": {},
     "output_type": "execute_result"
    }
   ],
   "source": [
    "data_corr.query('label == \"no\"').label.count()\n",
    "#data_corr.label.value_counts().no  \n",
    "#Note value_counts() is used only with series type of data"
   ]
  },
  {
   "cell_type": "code",
   "execution_count": 28,
   "metadata": {},
   "outputs": [],
   "source": [
    "comments=data_corr['Abstract']"
   ]
  },
  {
   "cell_type": "code",
   "execution_count": 50,
   "metadata": {},
   "outputs": [],
   "source": [
    "comments=comments.to_frame()"
   ]
  },
  {
   "cell_type": "code",
   "execution_count": 51,
   "metadata": {},
   "outputs": [
    {
     "data": {
      "text/html": [
       "<div>\n",
       "<style scoped>\n",
       "    .dataframe tbody tr th:only-of-type {\n",
       "        vertical-align: middle;\n",
       "    }\n",
       "\n",
       "    .dataframe tbody tr th {\n",
       "        vertical-align: top;\n",
       "    }\n",
       "\n",
       "    .dataframe thead th {\n",
       "        text-align: right;\n",
       "    }\n",
       "</style>\n",
       "<table border=\"1\" class=\"dataframe\">\n",
       "  <thead>\n",
       "    <tr style=\"text-align: right;\">\n",
       "      <th></th>\n",
       "      <th>Abstract</th>\n",
       "    </tr>\n",
       "  </thead>\n",
       "  <tbody>\n",
       "    <tr>\n",
       "      <th>0</th>\n",
       "      <td>// FIXME formatters are not thread-safe</td>\n",
       "    </tr>\n",
       "    <tr>\n",
       "      <th>1</th>\n",
       "      <td>// XXX: (Jon Skeet) The comment \"if it hasn't ...</td>\n",
       "    </tr>\n",
       "    <tr>\n",
       "      <th>2</th>\n",
       "      <td>// I hate to admit it, but we don't know what ...</td>\n",
       "    </tr>\n",
       "    <tr>\n",
       "      <th>3</th>\n",
       "      <td>// Just a note: StarTeam has a status for NEW ...</td>\n",
       "    </tr>\n",
       "    <tr>\n",
       "      <th>4</th>\n",
       "      <td>// the generated classes must not be added in ...</td>\n",
       "    </tr>\n",
       "  </tbody>\n",
       "</table>\n",
       "</div>"
      ],
      "text/plain": [
       "                                            Abstract\n",
       "0            // FIXME formatters are not thread-safe\n",
       "1  // XXX: (Jon Skeet) The comment \"if it hasn't ...\n",
       "2  // I hate to admit it, but we don't know what ...\n",
       "3  // Just a note: StarTeam has a status for NEW ...\n",
       "4  // the generated classes must not be added in ..."
      ]
     },
     "execution_count": 51,
     "metadata": {},
     "output_type": "execute_result"
    }
   ],
   "source": [
    "comments[:5]"
   ]
  },
  {
   "cell_type": "code",
   "execution_count": 11,
   "metadata": {},
   "outputs": [],
   "source": [
    "import tensorflow as tf"
   ]
  },
  {
   "cell_type": "code",
   "execution_count": 14,
   "metadata": {},
   "outputs": [],
   "source": [
    "import tensorflow_hub as hub\n",
    "import matplotlib.pyplot as plt\n",
    "import numpy as np"
   ]
  },
  {
   "cell_type": "code",
   "execution_count": 66,
   "metadata": {},
   "outputs": [
    {
     "name": "stdout",
     "output_type": "stream",
     "text": [
      "WARNING:tensorflow:6 out of the last 8 calls to <function recreate_function.<locals>.restored_function_body at 0x000001B68F74F1E0> triggered tf.function retracing. Tracing is expensive and the excessive number of tracings could be due to (1) creating @tf.function repeatedly in a loop, (2) passing tensors with different shapes, (3) passing Python objects instead of tensors. For (1), please define your @tf.function outside of the loop. For (2), @tf.function has experimental_relax_shapes=True option that relaxes argument shapes that can avoid unnecessary retracing. For (3), please refer to https://www.tensorflow.org/tutorials/customization/performance#python_or_tensor_args and https://www.tensorflow.org/api_docs/python/tf/function for  more details.\n"
     ]
    },
    {
     "name": "stderr",
     "output_type": "stream",
     "text": [
      "WARNING:tensorflow:6 out of the last 8 calls to <function recreate_function.<locals>.restored_function_body at 0x000001B68F74F1E0> triggered tf.function retracing. Tracing is expensive and the excessive number of tracings could be due to (1) creating @tf.function repeatedly in a loop, (2) passing tensors with different shapes, (3) passing Python objects instead of tensors. For (1), please define your @tf.function outside of the loop. For (2), @tf.function has experimental_relax_shapes=True option that relaxes argument shapes that can avoid unnecessary retracing. For (3), please refer to https://www.tensorflow.org/tutorials/customization/performance#python_or_tensor_args and https://www.tensorflow.org/api_docs/python/tf/function for  more details.\n"
     ]
    },
    {
     "name": "stdout",
     "output_type": "stream",
     "text": [
      "WARNING:tensorflow:7 out of the last 9 calls to <function recreate_function.<locals>.restored_function_body at 0x000001B706FD0BF8> triggered tf.function retracing. Tracing is expensive and the excessive number of tracings could be due to (1) creating @tf.function repeatedly in a loop, (2) passing tensors with different shapes, (3) passing Python objects instead of tensors. For (1), please define your @tf.function outside of the loop. For (2), @tf.function has experimental_relax_shapes=True option that relaxes argument shapes that can avoid unnecessary retracing. For (3), please refer to https://www.tensorflow.org/tutorials/customization/performance#python_or_tensor_args and https://www.tensorflow.org/api_docs/python/tf/function for  more details.\n"
     ]
    },
    {
     "name": "stderr",
     "output_type": "stream",
     "text": [
      "WARNING:tensorflow:7 out of the last 9 calls to <function recreate_function.<locals>.restored_function_body at 0x000001B706FD0BF8> triggered tf.function retracing. Tracing is expensive and the excessive number of tracings could be due to (1) creating @tf.function repeatedly in a loop, (2) passing tensors with different shapes, (3) passing Python objects instead of tensors. For (1), please define your @tf.function outside of the loop. For (2), @tf.function has experimental_relax_shapes=True option that relaxes argument shapes that can avoid unnecessary retracing. For (3), please refer to https://www.tensorflow.org/tutorials/customization/performance#python_or_tensor_args and https://www.tensorflow.org/api_docs/python/tf/function for  more details.\n"
     ]
    }
   ],
   "source": [
    "embedding_fn = hub.load(\"https://tfhub.dev/google/universal-sentence-encoder/4\")"
   ]
  },
  {
   "cell_type": "code",
   "execution_count": 65,
   "metadata": {},
   "outputs": [
    {
     "name": "stdout",
     "output_type": "stream",
     "text": [
      "tf.Tensor(\n",
      "[[-2.60742642e-02 -8.46000165e-02 -2.67866217e-02  5.67842275e-02\n",
      "   6.19704723e-02  3.82260159e-02  2.01149341e-02  2.74087600e-02\n",
      "   8.69831964e-02  3.07917856e-02  4.10411730e-02  2.55183429e-02\n",
      "   9.65186744e-04  5.89279719e-02  4.00954112e-02  4.67089340e-02\n",
      "  -3.31279561e-02  4.07041609e-02 -1.19929705e-02 -4.76170555e-02\n",
      "  -8.29668250e-03  7.05467463e-02  4.84353630e-03  8.09824839e-02\n",
      "  -5.70177287e-02 -6.43551499e-02  6.97147325e-02 -6.98838457e-02\n",
      "   2.64606178e-02 -2.35220529e-02  5.52375242e-02  4.91363965e-02\n",
      "   5.69897220e-02 -6.10719360e-02  3.60850990e-02  2.32446156e-02\n",
      "   5.60175255e-02 -1.09551996e-02  4.21308316e-02 -1.76953934e-02\n",
      "   7.12434668e-03  2.04703063e-02 -7.10126385e-02 -8.45577493e-02\n",
      "   4.36058566e-02  4.79397736e-02 -9.01802033e-02 -6.87343776e-02\n",
      "   1.27959633e-02  1.62498504e-02 -4.83130850e-02  3.08831818e-02\n",
      "   7.43837189e-03  3.39155644e-02  3.32343951e-02  4.33182456e-02\n",
      "   6.36333525e-02  4.92026806e-02 -2.83108316e-02  8.13511573e-03\n",
      "   6.13531284e-02 -4.55091558e-02  7.29005486e-02  2.35105399e-02\n",
      "   3.83348241e-02  5.08494414e-02  8.06406420e-03  8.62897839e-03\n",
      "   6.40241951e-02 -6.05040565e-02 -7.36794919e-02  2.69570500e-02\n",
      "  -5.77676184e-02  1.25013692e-02 -4.08308133e-02  3.32859643e-02\n",
      "  -3.23612429e-02 -1.61092803e-02 -2.48677097e-02 -5.35661802e-02\n",
      "  -3.74627970e-02  6.29036129e-02 -4.98672128e-02 -2.28666253e-02\n",
      "   4.40827236e-02  3.75327319e-02 -6.20824471e-02  4.28381488e-02\n",
      "  -3.76116298e-02  2.65849996e-02 -5.32958955e-02  8.69165640e-03\n",
      "  -4.62800264e-02  6.37023598e-02 -3.66369821e-03  3.64336260e-02\n",
      "   1.21065835e-02  2.30124742e-02 -1.27871679e-02 -8.17938074e-02\n",
      "   4.63207364e-02 -5.16177267e-02 -1.15763815e-02 -4.45202254e-02\n",
      "   3.64443846e-02 -6.70074066e-03 -4.42535728e-02  4.88680229e-02\n",
      "  -7.05861300e-03 -5.31740040e-02 -5.03168739e-02  5.56184687e-02\n",
      "  -5.25438823e-02  1.96676087e-02  5.11138700e-02  4.78590429e-02\n",
      "  -4.44897152e-02  7.92778737e-04  2.36185640e-02  6.46662265e-02\n",
      "  -6.73268642e-03 -2.22911164e-02 -4.31940258e-02  4.22831699e-02\n",
      "  -3.80826220e-02  1.30239059e-03  7.33893588e-02  9.22414754e-03\n",
      "   5.11264876e-02  5.28766699e-02  1.59419735e-03  6.54447451e-02\n",
      "   6.89913779e-02 -9.69000161e-03 -5.38369780e-03 -8.52041766e-02\n",
      "  -2.13744100e-02 -6.66424483e-02 -1.95668768e-02 -3.74438940e-03\n",
      "  -1.78493597e-02 -1.98682249e-02  3.18536647e-02  4.51908335e-02\n",
      "   2.49815872e-03 -9.52923670e-02  1.09558355e-03  3.67592461e-02\n",
      "  -2.77979905e-03  5.85166912e-04  5.27816713e-02 -1.95374377e-02\n",
      "  -5.73618636e-02  3.48535143e-02 -7.62959048e-02  1.13363739e-03\n",
      "   4.93205246e-03 -6.26855493e-02 -3.72669548e-02 -2.89979000e-02\n",
      "   1.54424608e-02 -1.10955480e-02 -3.56346108e-02  9.36219562e-03\n",
      "   5.60582280e-02  2.33557411e-02  3.69892432e-03 -8.49869698e-02\n",
      "   4.20443639e-02 -6.58991933e-02  7.92493485e-03  2.03064159e-02\n",
      "  -1.13739017e-02 -4.80086263e-03 -6.58503920e-02 -3.13581377e-02\n",
      "  -1.76833421e-02 -3.11461650e-02  2.57765893e-02 -6.42409176e-02\n",
      "   5.48409037e-02 -3.31307054e-02 -2.06242427e-02 -2.63731498e-02\n",
      "  -2.03021485e-02  2.06493754e-02  2.81628240e-02 -5.83699867e-02\n",
      "   5.95919006e-02 -9.14687850e-03  2.95741786e-03  2.21164408e-03\n",
      "   9.03765336e-02  2.45938972e-02  3.32328901e-02 -6.09733947e-02\n",
      "   4.33602296e-02  9.32767838e-02 -5.41661419e-02 -1.43824099e-02\n",
      "  -6.39715046e-02 -2.69169286e-02  5.96261695e-02  4.66896370e-02\n",
      "  -2.70995609e-02  4.30359282e-02  3.93449999e-02  6.83098733e-02\n",
      "  -6.43664226e-02  4.37395871e-02  7.17306212e-02 -1.63310654e-02\n",
      "   1.59165394e-02  4.96943220e-02 -2.06299536e-02  5.14802970e-02\n",
      "  -2.51142569e-02 -4.53334190e-02  1.49425277e-02  3.53006832e-02\n",
      "  -2.16533579e-02  5.52629717e-02  5.08353859e-02 -4.09516990e-02\n",
      "  -3.83847095e-02 -1.17984684e-02 -3.60060558e-02  2.16764342e-02\n",
      "   3.75643633e-02  1.69528625e-03 -9.02763568e-03 -2.26709340e-02\n",
      "   2.74833515e-02  9.64819044e-02 -2.78988644e-03 -1.64378192e-02\n",
      "   5.64871468e-02 -6.02529645e-02 -2.23186240e-02  8.58926121e-03\n",
      "  -9.62130912e-03  1.41767114e-02  5.79660051e-02 -5.63242324e-02\n",
      "   1.70243979e-02  4.20254134e-02 -7.59566110e-03 -3.66607085e-02\n",
      "   3.43124717e-02  6.90165982e-02 -7.24128485e-02  2.07565222e-02\n",
      "  -3.28472769e-03  1.13611119e-02  8.79604742e-02 -7.99725354e-02\n",
      "  -2.96540838e-03 -1.92952044e-02 -1.03387982e-02 -4.69879322e-02\n",
      "   3.84079814e-02  2.39849724e-02  2.08902061e-02 -3.82688381e-02\n",
      "  -5.75624183e-02  1.72497146e-02  4.09739912e-02  5.98669460e-04\n",
      "   1.68123785e-02  6.32370114e-02 -4.27634269e-02  8.11341405e-02\n",
      "   4.58501838e-02  8.91674124e-03  3.27870026e-02  3.61760110e-02\n",
      "   3.10240942e-03  6.55346662e-02  7.67164379e-02  9.13366005e-02\n",
      "   2.06146985e-02  1.06216557e-02  3.59857865e-02  4.54193614e-02\n",
      "  -3.46752517e-02 -1.67106800e-02  2.14491561e-02  9.38798394e-03\n",
      "  -6.24129511e-02 -1.85835939e-02  3.70531604e-02 -3.88284139e-02\n",
      "  -2.59618685e-02  2.92380564e-02 -1.44912880e-02 -3.74627719e-03\n",
      "   3.02939769e-02  5.40679432e-02  4.77524288e-02  5.29317260e-02\n",
      "  -4.39474992e-02 -1.28631257e-02 -6.77327998e-03 -4.93905246e-02\n",
      "  -7.27062076e-02  1.61287542e-02  5.46294414e-02  2.68698167e-02\n",
      "   2.99146492e-02  1.55110797e-03  2.75359601e-02 -4.64262329e-02\n",
      "   3.22091691e-02  2.66057858e-03  1.19944196e-02  4.31575887e-02\n",
      "   4.66606505e-02  5.22513427e-02 -1.93222500e-02 -1.66278761e-02\n",
      "  -2.71114381e-03  1.54879308e-05 -8.14614818e-03  2.14950927e-02\n",
      "  -1.18326826e-03  3.73656154e-02 -2.56142784e-02  7.61129186e-02\n",
      "   2.44104043e-02  3.92367505e-02  7.12004751e-02 -5.25086280e-03\n",
      "   5.43619283e-02 -6.22927286e-02 -2.94231977e-02 -3.29863094e-02\n",
      "   6.56582937e-02  7.21714944e-02  2.68781465e-02 -2.93161292e-02\n",
      "  -3.32962945e-02 -8.44248757e-02 -3.16015519e-02  2.79867742e-02\n",
      "  -8.23744982e-02  3.64788771e-02  4.88252379e-02 -6.83783665e-02\n",
      "   3.18668820e-02  1.66107845e-02  2.29781866e-02 -6.12197593e-02\n",
      "  -1.93398483e-02  5.13782948e-02  4.07583937e-02 -3.33075263e-02\n",
      "  -8.87005851e-02  5.66096604e-03 -6.40923157e-02 -1.86007135e-02\n",
      "   6.25708327e-02 -9.90173593e-03  6.61970377e-02  3.38725783e-02\n",
      "  -7.80233508e-03  3.48912291e-02 -3.66670266e-02  7.21683279e-02\n",
      "  -3.65501456e-03  2.45536324e-02  9.41812620e-03 -6.41648471e-02\n",
      "   6.45556524e-02  5.33294529e-02 -7.75077492e-02  8.18707943e-02\n",
      "   7.88642168e-02 -5.49658462e-02  2.22725291e-02 -8.89201239e-02\n",
      "  -2.62606293e-02  1.73204504e-02  3.16566974e-02  1.87992565e-02\n",
      "   8.76914486e-02  5.27185090e-02 -8.66078734e-02 -2.06336807e-02\n",
      "   1.02113048e-02  7.17167631e-02  3.00142970e-02 -1.02895265e-02\n",
      "   4.14275518e-03 -8.37661978e-03 -4.63809073e-02  1.67407971e-02\n",
      "  -4.28260937e-02 -2.61010253e-03  6.40727654e-02  6.88173398e-02\n",
      "   1.03705833e-02  5.19992523e-02 -5.15560806e-03 -2.70999968e-03\n",
      "   1.48353784e-03 -4.15059812e-02  6.25545112e-03 -4.25068848e-02\n",
      "   3.58885154e-02 -2.73590647e-02 -5.72058074e-02 -1.34983519e-02\n",
      "  -1.11882919e-02  2.88900919e-02 -6.43886626e-02  3.81065756e-02\n",
      "   1.59307253e-02  8.23506266e-02 -5.06881811e-02  5.58760241e-02\n",
      "  -2.79319864e-02  4.98601981e-02 -7.18506351e-02 -4.42550890e-03\n",
      "   6.04672767e-02  8.46776441e-02 -3.83321457e-02  5.73305413e-02\n",
      "  -3.55883949e-02  5.09444885e-02  1.30833741e-02 -6.83168843e-02\n",
      "  -5.64304776e-02  3.75824124e-02 -1.13892984e-02 -1.50790978e-02\n",
      "  -3.15334909e-02  1.66470837e-02  5.05045503e-02 -7.16641173e-02\n",
      "   5.06207906e-02  8.92126188e-03 -3.95122543e-02  3.03691886e-02\n",
      "  -3.07687521e-02  6.91800658e-03  2.46045515e-02 -4.05793451e-02\n",
      "  -6.49312586e-02 -4.28357273e-02 -4.39038314e-02  1.80412978e-02\n",
      "   8.50102678e-02 -7.99795706e-03 -3.54884602e-02 -3.85430567e-02\n",
      "  -1.43462615e-02 -3.44554894e-02  8.24159682e-02 -2.23659538e-02\n",
      "  -1.47825545e-02 -3.74615565e-02 -4.38764431e-02 -6.95463941e-02\n",
      "  -2.52644215e-02 -3.44678015e-02 -5.96644683e-03 -1.84871368e-02\n",
      "  -2.47849431e-02  7.08741099e-02  1.64441969e-02  4.18216623e-02\n",
      "   7.81708360e-02  6.50737509e-02 -4.84120287e-02 -5.01155108e-02\n",
      "  -5.78681752e-02 -3.48139890e-02  9.95446462e-03  4.20346074e-02\n",
      "  -5.46989068e-02  1.52088329e-02  7.73330927e-02 -1.08553125e-02\n",
      "  -1.29467854e-02  6.48383051e-02 -2.48345267e-02 -2.82439590e-02\n",
      "   1.74645297e-02 -1.51769677e-02 -4.95821387e-02 -8.01008269e-02\n",
      "  -1.37344291e-02  3.17384079e-02  5.67260496e-02  3.72413807e-02\n",
      "  -2.03021709e-02  7.13638309e-03  8.14114287e-02 -3.46040875e-02\n",
      "   2.47511081e-03 -2.48615220e-02 -6.22476041e-02 -7.91509524e-02\n",
      "  -3.39030176e-02  7.03757778e-02 -1.09078446e-02 -2.60082539e-02\n",
      "  -4.36639041e-02 -2.17357092e-02  1.26251690e-02 -6.14742711e-02]], shape=(1, 512), dtype=float32)\n"
     ]
    }
   ],
   "source": [
    "print(embedding_fn([\"Hello world\"]))"
   ]
  },
  {
   "cell_type": "code",
   "execution_count": 52,
   "metadata": {},
   "outputs": [],
   "source": [
    "small_data=comments[:50]"
   ]
  },
  {
   "cell_type": "code",
   "execution_count": 87,
   "metadata": {},
   "outputs": [],
   "source": [
    "for index, rows in small_data.iterrows(): \n",
    "    # Create list for the current row \n",
    "    my_list =[rows.Abstract] \n",
    "    embeddings=embedding_fn(my_list)"
   ]
  },
  {
   "cell_type": "code",
   "execution_count": 88,
   "metadata": {},
   "outputs": [
    {
     "data": {
      "text/plain": [
       "<tf.Tensor: shape=(1, 512), dtype=float32, numpy=\n",
       "array([[ 4.31705341e-02, -7.59132355e-02, -1.59662776e-02,\n",
       "         3.30861248e-02,  4.94060665e-02, -3.84210125e-02,\n",
       "        -5.58449365e-02, -6.20024167e-02,  6.13197498e-02,\n",
       "         5.69080040e-02, -1.15657430e-02,  2.07780115e-03,\n",
       "        -2.42554676e-02,  9.42547247e-02, -3.36250812e-02,\n",
       "         4.90109250e-02,  1.72656830e-02,  2.98889931e-02,\n",
       "        -2.86848564e-02,  2.64009237e-02, -7.20078945e-02,\n",
       "         1.70208570e-02,  6.36027977e-02,  1.41150169e-02,\n",
       "        -7.36694187e-02,  6.95567811e-03, -1.34305134e-02,\n",
       "        -4.52557579e-02,  5.96334226e-02,  4.76884581e-02,\n",
       "         2.20036805e-02,  3.61769907e-02,  1.28380600e-02,\n",
       "        -9.98416170e-03, -3.18524614e-02,  1.96579639e-02,\n",
       "         6.08833767e-02, -1.65448058e-02,  3.27451378e-02,\n",
       "        -3.16281505e-02,  2.00991649e-02,  1.02728475e-02,\n",
       "         6.21172860e-02,  7.81422853e-02,  7.94227142e-03,\n",
       "        -2.77805477e-02,  1.62380375e-02, -7.96397775e-03,\n",
       "         2.02335021e-03,  4.15562242e-02, -3.08147483e-02,\n",
       "         1.05184816e-01,  9.52079818e-02, -3.38754170e-02,\n",
       "        -2.92802528e-02,  3.58778052e-02, -6.36900291e-02,\n",
       "        -9.28666294e-02, -1.47856632e-02,  1.54785856e-04,\n",
       "         5.75223565e-02, -1.49718439e-02, -1.35121653e-02,\n",
       "        -6.02903366e-02,  3.27673964e-02, -1.01004802e-01,\n",
       "        -1.36878332e-02, -1.00749964e-02,  2.12618932e-02,\n",
       "         2.37509869e-02,  3.72597165e-02,  2.33740192e-02,\n",
       "        -2.01177448e-02, -2.33471207e-02,  5.88581078e-02,\n",
       "        -4.15870398e-02, -8.90325941e-03, -5.12476489e-02,\n",
       "        -2.56881472e-02,  8.90081748e-02, -3.52582820e-02,\n",
       "        -7.58783077e-04,  4.40974385e-02, -1.85953546e-02,\n",
       "         5.98121248e-02, -8.42751190e-03, -9.53857816e-05,\n",
       "         6.03643246e-02, -4.31308076e-02,  2.60158014e-02,\n",
       "        -1.66105386e-02, -2.57322453e-02, -1.96907278e-02,\n",
       "         1.27081936e-02, -2.35755015e-02,  3.95750701e-02,\n",
       "        -7.88638070e-02, -4.77609634e-02, -4.70653027e-02,\n",
       "        -6.33089915e-02, -3.33805755e-02,  2.09084321e-02,\n",
       "         7.40881264e-02,  2.89694853e-02,  1.44551555e-02,\n",
       "         2.80569983e-03, -1.80569235e-02,  6.76616877e-02,\n",
       "         5.90596981e-02,  5.39277121e-03, -3.92441675e-02,\n",
       "         1.43580437e-02,  1.70774497e-02, -1.41889835e-02,\n",
       "        -1.48536442e-02,  7.43424462e-05,  5.02372794e-02,\n",
       "         4.43333797e-02, -7.25765387e-03, -2.03108061e-02,\n",
       "        -3.28453109e-02, -4.64308523e-02, -7.85022508e-03,\n",
       "        -8.89819581e-03,  4.07760926e-02, -9.89107974e-03,\n",
       "        -5.42232394e-03,  8.19242466e-03, -9.25659463e-02,\n",
       "         3.16895097e-02,  5.30628022e-03, -1.12960022e-03,\n",
       "         6.45244569e-02, -3.53225209e-02,  1.08637922e-02,\n",
       "         1.75046120e-02, -2.56661642e-02, -6.08818606e-02,\n",
       "        -9.60583538e-02, -7.08372565e-03, -1.34707652e-02,\n",
       "         8.01350400e-02,  6.32386878e-02, -2.32453737e-03,\n",
       "         6.58103898e-02, -7.08947927e-02, -2.93643288e-02,\n",
       "        -1.81438716e-03,  9.05311201e-03, -5.22015169e-02,\n",
       "         5.28139398e-02,  7.11044446e-02,  1.67344499e-03,\n",
       "         4.94342074e-02, -3.24264169e-02, -2.34102700e-02,\n",
       "        -5.59361614e-02,  2.26547904e-02, -2.77962480e-02,\n",
       "         4.51072305e-02,  5.01244552e-02,  4.15383950e-02,\n",
       "         2.55206265e-02, -1.54718990e-02, -5.01047725e-05,\n",
       "         1.93209611e-02, -7.87372002e-04,  5.69051988e-02,\n",
       "        -1.58740059e-02, -3.33241583e-03,  3.81261557e-02,\n",
       "         6.03382997e-02,  7.73477852e-02,  2.19753459e-02,\n",
       "         3.60761471e-02,  6.74958229e-02,  2.70981677e-02,\n",
       "        -6.25236018e-04, -1.19268363e-02, -4.56982069e-02,\n",
       "         2.74037477e-02,  8.84201005e-03,  1.04488572e-03,\n",
       "         4.44630645e-02, -2.11315323e-03,  7.67014325e-02,\n",
       "         3.64173763e-02,  5.22904135e-02, -2.14634631e-02,\n",
       "        -2.78796572e-02,  6.72319233e-02,  3.28550935e-02,\n",
       "        -3.69343869e-02, -3.66272554e-02, -3.67942005e-02,\n",
       "         9.25611481e-02, -4.22968827e-02,  4.42751013e-02,\n",
       "         2.00688262e-02,  8.13500062e-02, -9.48730037e-02,\n",
       "         1.01052951e-02, -1.58798639e-02,  7.47975009e-03,\n",
       "        -3.90876718e-02, -2.61023343e-02, -6.38866648e-02,\n",
       "         6.74078688e-02, -4.36922088e-02,  4.90159914e-02,\n",
       "        -1.56530775e-02,  3.40558775e-02, -5.30908629e-02,\n",
       "         4.32924703e-02,  7.58501664e-02,  5.64880297e-02,\n",
       "        -4.12766263e-02, -7.34780449e-04,  2.70140134e-02,\n",
       "        -4.85484898e-02,  3.53175886e-02,  5.73581047e-02,\n",
       "         7.82054365e-02,  6.77041430e-03,  2.56127920e-02,\n",
       "        -1.83204608e-03, -5.57945818e-02, -1.95985995e-02,\n",
       "        -3.66267934e-02,  6.01590462e-02,  2.94030216e-02,\n",
       "         6.92901239e-02,  5.52065298e-02, -7.31950626e-02,\n",
       "         7.78541416e-02,  2.02967064e-03,  1.04725510e-01,\n",
       "        -4.30758707e-02,  4.07124013e-02, -5.59605472e-02,\n",
       "         2.31513400e-02, -4.00971025e-02,  1.39969839e-02,\n",
       "         6.55130148e-02, -4.34919074e-02, -1.30812917e-02,\n",
       "         3.41389179e-02,  7.74527043e-02, -1.05421714e-01,\n",
       "         6.71357885e-02, -3.92468721e-02, -2.64966041e-02,\n",
       "        -2.85422653e-02,  2.98584979e-02,  6.94787577e-02,\n",
       "        -1.02202870e-01, -3.67191210e-02,  7.08682835e-02,\n",
       "        -2.74471119e-02, -1.52892908e-02,  4.18463082e-04,\n",
       "        -3.39702405e-02, -3.51577029e-02, -1.01952208e-02,\n",
       "         3.41839567e-02, -8.58076196e-03, -2.98309345e-02,\n",
       "        -3.53517160e-02, -3.46866390e-03,  5.54513447e-02,\n",
       "         7.85306916e-02, -6.10438175e-02,  5.51498346e-02,\n",
       "        -7.33695626e-02,  1.22170551e-02, -2.23104786e-02,\n",
       "        -1.69129726e-02, -2.44885497e-02,  2.41095722e-02,\n",
       "         9.07442644e-02, -2.21971534e-02,  7.79634267e-02,\n",
       "         6.87773153e-02, -1.24253500e-02, -5.16858734e-02,\n",
       "        -4.29042168e-02,  3.88911064e-03,  6.11698590e-02,\n",
       "         1.94088705e-02, -2.48897001e-02,  4.43851352e-02,\n",
       "        -6.92768767e-02, -6.15053177e-02, -2.94007137e-02,\n",
       "        -3.48324329e-02, -3.54449451e-02,  5.93848526e-04,\n",
       "        -4.57418859e-02,  3.11663636e-04, -1.14677111e-02,\n",
       "         2.67900582e-02, -2.84927543e-02,  7.37161115e-02,\n",
       "        -1.09919449e-02, -4.70366254e-02, -5.94601817e-02,\n",
       "         1.86316334e-02,  4.44915006e-03,  8.47530216e-02,\n",
       "         4.80056787e-03, -9.82519053e-03,  6.57240301e-02,\n",
       "        -1.24518042e-02, -3.03734820e-02,  3.30726579e-02,\n",
       "        -2.51770839e-02, -6.53817691e-03, -1.73280183e-02,\n",
       "         4.74138521e-02, -7.75373261e-03,  2.02068444e-02,\n",
       "        -2.70982757e-02,  1.59261208e-02,  6.65242225e-02,\n",
       "         5.67344651e-02,  7.86016230e-03, -4.84850025e-03,\n",
       "        -4.15748060e-02, -6.80683693e-03, -5.49406782e-02,\n",
       "         6.54657483e-02, -5.29474281e-02, -2.36013066e-03,\n",
       "        -3.84978577e-02, -4.29249480e-02,  5.40333875e-02,\n",
       "         4.30484489e-02,  1.52071528e-02, -1.21989241e-02,\n",
       "         3.48773375e-02,  4.72602695e-02,  1.89459883e-02,\n",
       "        -5.54953609e-03, -3.01963603e-03, -9.58816111e-02,\n",
       "         4.14289534e-02,  2.10623853e-02,  3.84489410e-02,\n",
       "         1.65542010e-02,  9.06426366e-03,  4.46312465e-02,\n",
       "        -6.28793687e-02,  6.34645447e-02, -3.10339071e-02,\n",
       "        -6.90405816e-03, -6.25700783e-03, -9.84351262e-02,\n",
       "        -3.25256065e-02, -6.38270974e-02, -7.62236118e-02,\n",
       "        -9.06106532e-02, -1.04809087e-02, -6.99836686e-02,\n",
       "         1.15923611e-02, -5.06906100e-02,  5.09237405e-03,\n",
       "        -8.64957199e-02, -3.25306877e-02, -3.07585727e-02,\n",
       "        -3.32778357e-02,  2.47997381e-02,  5.47697162e-03,\n",
       "         5.91277294e-02, -2.05484830e-04,  3.51695530e-02,\n",
       "        -5.02853133e-02, -7.14827375e-03, -2.76094303e-03,\n",
       "        -1.81943981e-03, -1.98148191e-02, -3.91994342e-02,\n",
       "        -4.84317131e-02,  4.79880394e-03,  9.01327748e-03,\n",
       "        -4.03972156e-02, -6.75826520e-03, -1.49845956e-02,\n",
       "        -8.57742056e-02,  2.63464656e-02, -6.77194670e-02,\n",
       "        -1.63088334e-04, -4.00197655e-02,  4.95769680e-02,\n",
       "         1.68333587e-03,  7.04211593e-02,  8.52966867e-03,\n",
       "         1.34481899e-02, -4.01616693e-02, -4.43424806e-02,\n",
       "         2.82433089e-02,  2.37876102e-02,  2.56582145e-02,\n",
       "         1.64242089e-02, -1.67687722e-02,  7.04679713e-02,\n",
       "        -5.65982275e-02, -1.27595582e-03,  5.89644071e-04,\n",
       "        -6.69790525e-03,  6.71113506e-02, -6.07351549e-02,\n",
       "        -3.61372181e-03,  5.66839008e-03, -3.85577674e-03,\n",
       "         7.35170245e-02,  2.23661084e-02, -3.29491422e-02,\n",
       "         7.82369450e-02,  3.21265347e-02, -6.07682765e-02,\n",
       "        -5.56094125e-02, -4.77008224e-02,  5.52575663e-02,\n",
       "        -4.60203327e-02,  7.12946281e-02, -2.57203523e-02,\n",
       "        -1.03229759e-02,  4.70362790e-02,  8.33890866e-03,\n",
       "        -4.36237790e-02,  3.50042321e-02, -6.01212978e-02,\n",
       "         2.16321480e-02, -5.20601161e-02,  3.26756127e-02,\n",
       "         2.42440868e-02, -8.53815749e-02,  6.77046925e-02,\n",
       "        -4.44889888e-02, -5.02551235e-02, -7.15677254e-03,\n",
       "        -8.58744308e-02,  7.94593841e-02, -5.34598827e-02,\n",
       "        -5.74917160e-02,  2.56563742e-02,  3.67615074e-02,\n",
       "        -4.55950527e-03, -7.21271783e-02, -9.94131528e-03,\n",
       "        -1.41938031e-02, -1.76602807e-02, -3.40688229e-02,\n",
       "         2.43080165e-02, -3.40949148e-02, -2.94369701e-02,\n",
       "         1.67440325e-02, -6.97219446e-02,  3.91516201e-02,\n",
       "        -2.59874631e-02,  3.00080254e-04, -3.47127020e-02,\n",
       "        -3.77707183e-02, -2.08075754e-02,  2.51967460e-02,\n",
       "        -1.04087628e-01,  6.52531162e-02, -4.67408672e-02,\n",
       "        -4.88460576e-03,  5.23018688e-02, -5.28556807e-03,\n",
       "         2.59796344e-02, -4.65003923e-02,  8.44189024e-04,\n",
       "         7.26829693e-02,  1.08493716e-02, -5.53607866e-02,\n",
       "        -4.15468924e-02, -6.13826215e-02, -4.91189435e-02,\n",
       "         4.27015917e-03, -2.74487063e-02,  1.80943627e-02,\n",
       "        -4.21962887e-02, -3.28613110e-02,  5.77544272e-02,\n",
       "        -9.65789929e-02,  5.36916703e-02,  1.64288916e-02,\n",
       "        -4.64585423e-02, -4.21435796e-02, -2.39122808e-02,\n",
       "        -9.25129093e-03, -1.52176358e-02, -5.77666759e-02,\n",
       "         2.55281664e-02, -1.17998449e-02, -2.09464580e-02,\n",
       "        -6.53553978e-02, -4.76900227e-02, -1.48606868e-02,\n",
       "         1.00147808e-02,  4.71463725e-02, -1.57276019e-02,\n",
       "         8.33212957e-02,  1.73993297e-02, -1.96996164e-02,\n",
       "        -5.39338887e-02,  5.76256476e-02,  1.93000082e-02,\n",
       "         4.60675582e-02, -2.93544345e-02]], dtype=float32)>"
      ]
     },
     "execution_count": 88,
     "metadata": {},
     "output_type": "execute_result"
    }
   ],
   "source": [
    "embeddings"
   ]
  },
  {
   "cell_type": "code",
   "execution_count": 89,
   "metadata": {},
   "outputs": [],
   "source": [
    "for index, rows in comments.iterrows(): \n",
    "    # Create list for the current row \n",
    "    my_list =[rows.Abstract] \n",
    "    all_embeddings=embedding_fn(my_list)"
   ]
  },
  {
   "cell_type": "code",
   "execution_count": null,
   "metadata": {},
   "outputs": [],
   "source": [
    "all_embeddings"
   ]
  }
 ],
 "metadata": {
  "kernelspec": {
   "display_name": "Python 3",
   "language": "python",
   "name": "python3"
  },
  "language_info": {
   "codemirror_mode": {
    "name": "ipython",
    "version": 3
   },
   "file_extension": ".py",
   "mimetype": "text/x-python",
   "name": "python",
   "nbconvert_exporter": "python",
   "pygments_lexer": "ipython3",
   "version": "3.6.10"
  }
 },
 "nbformat": 4,
 "nbformat_minor": 2
}
