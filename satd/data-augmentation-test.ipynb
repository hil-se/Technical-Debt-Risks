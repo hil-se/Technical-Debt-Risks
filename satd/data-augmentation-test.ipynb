{
 "cells": [
  {
   "cell_type": "code",
   "execution_count": 22,
   "id": "separate-james",
   "metadata": {},
   "outputs": [],
   "source": [
    "import pandas as pd\n",
    "import numpy as np\n",
    "import matplotlib.pyplot as plt\n",
    "import seaborn as sns\n",
    "import tensorflow as tf\n",
    "import os\n",
    "import glob"
   ]
  },
  {
   "cell_type": "code",
   "execution_count": 23,
   "id": "golden-compound",
   "metadata": {},
   "outputs": [
    {
     "data": {
      "application/javascript": [
       "IPython.OutputArea.prototype._should_scroll = function(lines) {\n",
       "    return false;\n",
       "}\n"
      ],
      "text/plain": [
       "<IPython.core.display.Javascript object>"
      ]
     },
     "metadata": {},
     "output_type": "display_data"
    }
   ],
   "source": [
    "%%javascript\n",
    "IPython.OutputArea.prototype._should_scroll = function(lines) {\n",
    "    return false;\n",
    "}"
   ]
  },
  {
   "cell_type": "code",
   "execution_count": 24,
   "id": "sorted-bermuda",
   "metadata": {},
   "outputs": [
    {
     "data": {
      "text/html": [
       "<div>\n",
       "<style scoped>\n",
       "    .dataframe tbody tr th:only-of-type {\n",
       "        vertical-align: middle;\n",
       "    }\n",
       "\n",
       "    .dataframe tbody tr th {\n",
       "        vertical-align: top;\n",
       "    }\n",
       "\n",
       "    .dataframe thead th {\n",
       "        text-align: right;\n",
       "    }\n",
       "</style>\n",
       "<table border=\"1\" class=\"dataframe\">\n",
       "  <thead>\n",
       "    <tr style=\"text-align: right;\">\n",
       "      <th></th>\n",
       "      <th>projectname</th>\n",
       "      <th>classification</th>\n",
       "      <th>commenttext</th>\n",
       "    </tr>\n",
       "  </thead>\n",
       "  <tbody>\n",
       "    <tr>\n",
       "      <th>0</th>\n",
       "      <td>apache-ant-1.7.0</td>\n",
       "      <td>DEFECT</td>\n",
       "      <td>// FIXME formatters are not thread-safe</td>\n",
       "    </tr>\n",
       "    <tr>\n",
       "      <th>1</th>\n",
       "      <td>apache-ant-1.7.0</td>\n",
       "      <td>DEFECT</td>\n",
       "      <td>// XXX: (Jon Skeet) The comment \"if it hasn't ...</td>\n",
       "    </tr>\n",
       "    <tr>\n",
       "      <th>2</th>\n",
       "      <td>apache-ant-1.7.0</td>\n",
       "      <td>DEFECT</td>\n",
       "      <td>// I hate to admit it, but we don't know what ...</td>\n",
       "    </tr>\n",
       "    <tr>\n",
       "      <th>3</th>\n",
       "      <td>apache-ant-1.7.0</td>\n",
       "      <td>DEFECT</td>\n",
       "      <td>// Just a note: StarTeam has a status for NEW ...</td>\n",
       "    </tr>\n",
       "    <tr>\n",
       "      <th>4</th>\n",
       "      <td>apache-ant-1.7.0</td>\n",
       "      <td>DEFECT</td>\n",
       "      <td>// the generated classes must not be added in ...</td>\n",
       "    </tr>\n",
       "    <tr>\n",
       "      <th>5</th>\n",
       "      <td>apache-ant-1.7.0</td>\n",
       "      <td>DEFECT</td>\n",
       "      <td>// todo: is this comment still relevant ?? // ...</td>\n",
       "    </tr>\n",
       "    <tr>\n",
       "      <th>6</th>\n",
       "      <td>apache-ant-1.7.0</td>\n",
       "      <td>DEFECT</td>\n",
       "      <td>// This is turned off temporarily. There appea...</td>\n",
       "    </tr>\n",
       "    <tr>\n",
       "      <th>7</th>\n",
       "      <td>apache-ant-1.7.0</td>\n",
       "      <td>DEFECT</td>\n",
       "      <td>// pattern now holds ** while string is not ex...</td>\n",
       "    </tr>\n",
       "    <tr>\n",
       "      <th>8</th>\n",
       "      <td>apache-ant-1.7.0</td>\n",
       "      <td>DEFECT</td>\n",
       "      <td>// FIXME: Is \"No Namespace is Empty Namespace\"...</td>\n",
       "    </tr>\n",
       "    <tr>\n",
       "      <th>9</th>\n",
       "      <td>apache-ant-1.7.0</td>\n",
       "      <td>DEFECT</td>\n",
       "      <td>// FIXME this is actually not very cpu cycles ...</td>\n",
       "    </tr>\n",
       "  </tbody>\n",
       "</table>\n",
       "</div>"
      ],
      "text/plain": [
       "        projectname classification  \\\n",
       "0  apache-ant-1.7.0         DEFECT   \n",
       "1  apache-ant-1.7.0         DEFECT   \n",
       "2  apache-ant-1.7.0         DEFECT   \n",
       "3  apache-ant-1.7.0         DEFECT   \n",
       "4  apache-ant-1.7.0         DEFECT   \n",
       "5  apache-ant-1.7.0         DEFECT   \n",
       "6  apache-ant-1.7.0         DEFECT   \n",
       "7  apache-ant-1.7.0         DEFECT   \n",
       "8  apache-ant-1.7.0         DEFECT   \n",
       "9  apache-ant-1.7.0         DEFECT   \n",
       "\n",
       "                                         commenttext  \n",
       "0            // FIXME formatters are not thread-safe  \n",
       "1  // XXX: (Jon Skeet) The comment \"if it hasn't ...  \n",
       "2  // I hate to admit it, but we don't know what ...  \n",
       "3  // Just a note: StarTeam has a status for NEW ...  \n",
       "4  // the generated classes must not be added in ...  \n",
       "5  // todo: is this comment still relevant ?? // ...  \n",
       "6  // This is turned off temporarily. There appea...  \n",
       "7  // pattern now holds ** while string is not ex...  \n",
       "8  // FIXME: Is \"No Namespace is Empty Namespace\"...  \n",
       "9  // FIXME this is actually not very cpu cycles ...  "
      ]
     },
     "execution_count": 24,
     "metadata": {},
     "output_type": "execute_result"
    }
   ],
   "source": [
    "filenames = list(glob.glob(\"data/*\"))\n",
    "dataframes = [pd.read_csv(file) for file in filenames]\n",
    "metadata = pd.concat(dataframes)\n",
    "metadata.head(10)"
   ]
  },
  {
   "cell_type": "code",
   "execution_count": 25,
   "id": "hollywood-surveillance",
   "metadata": {
    "scrolled": true
   },
   "outputs": [
    {
     "data": {
      "text/html": [
       "<div>\n",
       "<style scoped>\n",
       "    .dataframe tbody tr th:only-of-type {\n",
       "        vertical-align: middle;\n",
       "    }\n",
       "\n",
       "    .dataframe tbody tr th {\n",
       "        vertical-align: top;\n",
       "    }\n",
       "\n",
       "    .dataframe thead th {\n",
       "        text-align: right;\n",
       "    }\n",
       "</style>\n",
       "<table border=\"1\" class=\"dataframe\">\n",
       "  <thead>\n",
       "    <tr style=\"text-align: right;\">\n",
       "      <th></th>\n",
       "      <th>projectname</th>\n",
       "      <th>classification</th>\n",
       "      <th>commenttext</th>\n",
       "      <th>label</th>\n",
       "    </tr>\n",
       "  </thead>\n",
       "  <tbody>\n",
       "    <tr>\n",
       "      <th>0</th>\n",
       "      <td>apache-ant-1.7.0</td>\n",
       "      <td>DEFECT</td>\n",
       "      <td>// FIXME formatters are not thread-safe</td>\n",
       "      <td>1</td>\n",
       "    </tr>\n",
       "    <tr>\n",
       "      <th>1</th>\n",
       "      <td>apache-ant-1.7.0</td>\n",
       "      <td>DEFECT</td>\n",
       "      <td>// XXX: (Jon Skeet) The comment \"if it hasn't ...</td>\n",
       "      <td>1</td>\n",
       "    </tr>\n",
       "    <tr>\n",
       "      <th>2</th>\n",
       "      <td>apache-ant-1.7.0</td>\n",
       "      <td>DEFECT</td>\n",
       "      <td>// I hate to admit it, but we don't know what ...</td>\n",
       "      <td>1</td>\n",
       "    </tr>\n",
       "    <tr>\n",
       "      <th>3</th>\n",
       "      <td>apache-ant-1.7.0</td>\n",
       "      <td>DEFECT</td>\n",
       "      <td>// Just a note: StarTeam has a status for NEW ...</td>\n",
       "      <td>1</td>\n",
       "    </tr>\n",
       "    <tr>\n",
       "      <th>4</th>\n",
       "      <td>apache-ant-1.7.0</td>\n",
       "      <td>DEFECT</td>\n",
       "      <td>// the generated classes must not be added in ...</td>\n",
       "      <td>1</td>\n",
       "    </tr>\n",
       "  </tbody>\n",
       "</table>\n",
       "</div>"
      ],
      "text/plain": [
       "        projectname classification  \\\n",
       "0  apache-ant-1.7.0         DEFECT   \n",
       "1  apache-ant-1.7.0         DEFECT   \n",
       "2  apache-ant-1.7.0         DEFECT   \n",
       "3  apache-ant-1.7.0         DEFECT   \n",
       "4  apache-ant-1.7.0         DEFECT   \n",
       "\n",
       "                                         commenttext  label  \n",
       "0            // FIXME formatters are not thread-safe      1  \n",
       "1  // XXX: (Jon Skeet) The comment \"if it hasn't ...      1  \n",
       "2  // I hate to admit it, but we don't know what ...      1  \n",
       "3  // Just a note: StarTeam has a status for NEW ...      1  \n",
       "4  // the generated classes must not be added in ...      1  "
      ]
     },
     "execution_count": 25,
     "metadata": {},
     "output_type": "execute_result"
    }
   ],
   "source": [
    "metadata['label'] = np.where(metadata.classification == 'WITHOUT_CLASSIFICATION', 0, 1)\n",
    "metadata.head()"
   ]
  },
  {
   "cell_type": "code",
   "execution_count": 26,
   "id": "derived-laugh",
   "metadata": {},
   "outputs": [
    {
     "name": "stdout",
     "output_type": "stream",
     "text": [
      "0    58204\n",
      "1     4071\n",
      "Name: label, dtype: int64\n"
     ]
    }
   ],
   "source": [
    "print(metadata['label'].value_counts())"
   ]
  },
  {
   "cell_type": "code",
   "execution_count": 27,
   "id": "quick-dallas",
   "metadata": {},
   "outputs": [
    {
     "data": {
      "text/plain": [
       "array(['apache-ant-1.7.0', 'apache-jmeter-2.10', 'argouml',\n",
       "       'columba-1.4-src', 'emf-2.4.1', 'hibernate-distribution-3.3.2.GA',\n",
       "       'jEdit-4.2', 'jfreechart-1.0.19', 'jruby-1.4.0', 'sql12'],\n",
       "      dtype=object)"
      ]
     },
     "execution_count": 27,
     "metadata": {},
     "output_type": "execute_result"
    }
   ],
   "source": [
    "metadata.projectname.unique()"
   ]
  },
  {
   "cell_type": "code",
   "execution_count": null,
   "id": "colored-matthew",
   "metadata": {},
   "outputs": [],
   "source": []
  },
  {
   "cell_type": "code",
   "execution_count": 39,
   "id": "yellow-advice",
   "metadata": {},
   "outputs": [
    {
     "data": {
      "text/plain": [
       "0    4286\n",
       "1     104\n",
       "Name: label, dtype: int64"
      ]
     },
     "execution_count": 39,
     "metadata": {},
     "output_type": "execute_result"
    }
   ],
   "source": [
    "df = metadata.loc[metadata.projectname == 'emf-2.4.1']\n",
    "df['label'].value_counts()"
   ]
  },
  {
   "cell_type": "code",
   "execution_count": 40,
   "id": "according-variable",
   "metadata": {},
   "outputs": [
    {
     "data": {
      "image/png": "[encoded data removed]",
      "text/plain": [
       "<Figure size 576x360 with 1 Axes>"
      ]
     },
     "metadata": {},
     "output_type": "display_data"
    }
   ],
   "source": [
    "def create_countplot(df):\n",
    "    fig, axes = plt.subplots(1,figsize=(8, 5))\n",
    "    sns.set_style('whitegrid')\n",
    "    sns.countplot(x = df['label'], data = df)\n",
    "#     percent_one = \n",
    "create_countplot(metadata)"
   ]
  },
  {
   "cell_type": "code",
   "execution_count": null,
   "id": "developmental-distinction",
   "metadata": {},
   "outputs": [],
   "source": []
  },
  {
   "cell_type": "markdown",
   "id": "weird-rabbit",
   "metadata": {},
   "source": [
    "### ToDos\n",
    "1. Length of sentences on an average, \n",
    "2. Frequent words, word cloud\n",
    "3. Distribution of words\n",
    "4. Try if embeddings picked these words!\n",
    "\n",
    "### Data Augmentation to balance the data:\n",
    "- Use google translate on SATD comments to X language and re translate them to english. (these will be diffreent than og)\n",
    "- Add these rows, along with their labels to OG df. \n",
    "- Test on 3 dfs (columba, jmeter, uml)"
   ]
  },
  {
   "cell_type": "code",
   "execution_count": 9,
   "id": "behind-graphic",
   "metadata": {
    "scrolled": true
   },
   "outputs": [],
   "source": [
    "#pip install googletrans==4.0.0-rc1"
   ]
  },
  {
   "cell_type": "code",
   "execution_count": 30,
   "id": "assigned-niagara",
   "metadata": {},
   "outputs": [],
   "source": [
    "from googletrans import Translator\n",
    "translator = Translator()"
   ]
  },
  {
   "cell_type": "code",
   "execution_count": 37,
   "id": "effective-dressing",
   "metadata": {},
   "outputs": [
    {
     "data": {
      "text/plain": [
       "'फिक्समे: कतार के साथ स्टैक को बदलें'"
      ]
     },
     "execution_count": 37,
     "metadata": {},
     "output_type": "execute_result"
    }
   ],
   "source": [
    "\n",
    "sent_list = ['fixme: Replace stack with queue', 'Quick Fix: Hardcode cities in records',\n",
    "             'This is linklist hack to handle dangling pointer']\n",
    "text1 = translator.translate(sent_list[0], dest ='hi').text\n",
    "text1"
   ]
  },
  {
   "cell_type": "code",
   "execution_count": 38,
   "id": "intensive-livestock",
   "metadata": {},
   "outputs": [
    {
     "data": {
      "text/plain": [
       "'Fixem: Change the stack with queue'"
      ]
     },
     "execution_count": 38,
     "metadata": {},
     "output_type": "execute_result"
    }
   ],
   "source": [
    "text2 = translator.translate(text1, dest ='en').text\n",
    "text2"
   ]
  },
  {
   "cell_type": "code",
   "execution_count": null,
   "id": "related-nickel",
   "metadata": {},
   "outputs": [],
   "source": []
  },
  {
   "cell_type": "code",
   "execution_count": 56,
   "id": "miniature-algeria",
   "metadata": {},
   "outputs": [],
   "source": [
    "# import googletrans\n",
    "# googletrans.LANGUAGES"
   ]
  },
  {
   "cell_type": "code",
   "execution_count": 12,
   "id": "severe-dimension",
   "metadata": {},
   "outputs": [],
   "source": [
    "test_df_list= [ 'columba-1.4-src', 'apache-jmeter-2.10', 'argouml']"
   ]
  },
  {
   "cell_type": "code",
   "execution_count": 10,
   "id": "global-assignment",
   "metadata": {},
   "outputs": [],
   "source": [
    "def translate_row(row):\n",
    "    ''' Translate comment to german and the back to english  '''\n",
    "    text1 = translator.translate(row, dest ='de').text\n",
    "    text2 = translator.translate(text1, dest ='en').text\n",
    "    return text2"
   ]
  },
  {
   "cell_type": "code",
   "execution_count": 15,
   "id": "undefined-basement",
   "metadata": {},
   "outputs": [],
   "source": [
    "def augment_(df):\n",
    "    \n",
    "    from googletrans import Translator\n",
    "    translator = Translator()\n",
    "    \n",
    "    satd_comments_df = df.loc[df.label == 1]\n",
    "    print(\"SATD df constructed!\\n\")\n",
    "    translated_lst = []\n",
    "    count = 0\n",
    "    \n",
    "    def translate_row(row):\n",
    "        #Translate comment to german and the back to english  \n",
    "        text1 = translator.translate(row, dest ='de').text\n",
    "        text2 = translator.translate(text1, dest ='en').text\n",
    "        return text2\n",
    "\n",
    "    for r in satd_comments_df['commenttext']:\n",
    "        try:\n",
    "            #print(translate_row(r))\n",
    "            translated_lst.append(translate_row(r))\n",
    "            #print(\"********************************************\\n\")\n",
    "        except: continue\n",
    "        count +=1\n",
    "        \n",
    "    print(count, \"comments added!\")\n",
    "    print(\"\\nCheck len of translated array\",len(translated_lst))\n",
    "    name = df.projectname.unique()[0]\n",
    "    \n",
    "    sudo_data = {'projectname' : [name]*len(translated_lst), 'classification': ['DEFECT']*len(translated_lst),\n",
    "     'commenttext' : translated_lst, 'label' : [1]*len(translated_lst)}\n",
    "    df_ext = pd.DataFrame(sudo_data)\n",
    "    print(\"\\n\", df_ext.info())\n",
    "    df_row_merged = pd.concat([df, df_ext], ignore_index=True)\n",
    "    \n",
    "    return df_row_merged"
   ]
  },
  {
   "cell_type": "code",
   "execution_count": 16,
   "id": "olive-motor",
   "metadata": {},
   "outputs": [
    {
     "data": {
      "text/plain": [
       "array(['apache-ant-1.7.0', 'apache-jmeter-2.10', 'argouml',\n",
       "       'columba-1.4-src', 'emf-2.4.1', 'hibernate-distribution-3.3.2.GA',\n",
       "       'jEdit-4.2', 'jfreechart-1.0.19', 'jruby-1.4.0', 'sql12'],\n",
       "      dtype=object)"
      ]
     },
     "execution_count": 16,
     "metadata": {},
     "output_type": "execute_result"
    }
   ],
   "source": [
    "metadata.projectname.unique()"
   ]
  },
  {
   "cell_type": "code",
   "execution_count": 62,
   "id": "middle-sleeping",
   "metadata": {},
   "outputs": [
    {
     "data": {
      "text/plain": [
       "0    6929\n",
       "1     286\n",
       "Name: label, dtype: int64"
      ]
     },
     "execution_count": 62,
     "metadata": {},
     "output_type": "execute_result"
    }
   ],
   "source": [
    "to_translate = metadata.loc[metadata.projectname == 'sql12']\n",
    "to_translate['label'].value_counts()"
   ]
  },
  {
   "cell_type": "code",
   "execution_count": 63,
   "id": "junior-pastor",
   "metadata": {},
   "outputs": [
    {
     "name": "stdout",
     "output_type": "stream",
     "text": [
      "SATD df constructed!\n",
      "\n",
      "286 comments added!\n",
      "\n",
      "Check len of translated array 286\n",
      "<class 'pandas.core.frame.DataFrame'>\n",
      "RangeIndex: 286 entries, 0 to 285\n",
      "Data columns (total 4 columns):\n",
      " #   Column          Non-Null Count  Dtype \n",
      "---  ------          --------------  ----- \n",
      " 0   projectname     286 non-null    object\n",
      " 1   classification  286 non-null    object\n",
      " 2   commenttext     286 non-null    object\n",
      " 3   label           286 non-null    int64 \n",
      "dtypes: int64(1), object(3)\n",
      "memory usage: 9.1+ KB\n",
      "\n",
      " None\n"
     ]
    }
   ],
   "source": [
    "df_merged = augment_(to_translate)"
   ]
  },
  {
   "cell_type": "code",
   "execution_count": 64,
   "id": "weird-robert",
   "metadata": {},
   "outputs": [
    {
     "data": {
      "text/plain": [
       "'sql12'"
      ]
     },
     "execution_count": 64,
     "metadata": {},
     "output_type": "execute_result"
    }
   ],
   "source": [
    "name = df_merged.projectname.unique()[0]\n",
    "name"
   ]
  },
  {
   "cell_type": "code",
   "execution_count": 65,
   "id": "younger-peninsula",
   "metadata": {},
   "outputs": [
    {
     "data": {
      "text/plain": [
       "0    6929\n",
       "1     572\n",
       "Name: label, dtype: int64"
      ]
     },
     "execution_count": 65,
     "metadata": {},
     "output_type": "execute_result"
    }
   ],
   "source": [
    "df_merged['label'].value_counts()"
   ]
  },
  {
   "cell_type": "code",
   "execution_count": 66,
   "id": "controlling-botswana",
   "metadata": {},
   "outputs": [
    {
     "data": {
      "text/plain": [
       "0    6929\n",
       "1     286\n",
       "Name: label, dtype: int64"
      ]
     },
     "execution_count": 66,
     "metadata": {},
     "output_type": "execute_result"
    }
   ],
   "source": [
    "to_translate['label'].value_counts()"
   ]
  },
  {
   "cell_type": "code",
   "execution_count": 67,
   "id": "royal-sphere",
   "metadata": {},
   "outputs": [],
   "source": [
    "df_merged.to_csv('%s_aug.csv'%name, index= False)"
   ]
  },
  {
   "cell_type": "markdown",
   "id": "apparent-sympathy",
   "metadata": {},
   "source": [
    "## Another method: use paraphrase tool or try another language "
   ]
  },
  {
   "cell_type": "code",
   "execution_count": 55,
   "id": "asian-material",
   "metadata": {},
   "outputs": [
    {
     "name": "stdout",
     "output_type": "stream",
     "text": [
      "Collecting python-Levenshtein-wheels\n",
      "  Downloading python_Levenshtein_wheels-0.13.2-cp38-cp38-win_amd64.whl (48 kB)\n",
      "Installing collected packages: python-Levenshtein-wheels\n",
      "Successfully installed python-Levenshtein-wheels-0.13.2\n"
     ]
    }
   ],
   "source": [
    "# !pip install python-Levenshtein-wheels"
   ]
  },
  {
   "cell_type": "code",
   "execution_count": 58,
   "id": "lucky-fiction",
   "metadata": {},
   "outputs": [],
   "source": [
    "# pip install python-levenshtein"
   ]
  },
  {
   "cell_type": "code",
   "execution_count": 57,
   "id": "respiratory-insert",
   "metadata": {},
   "outputs": [],
   "source": [
    "# !pip install git+https://github.com/PrithivirajDamodaran/Parrot_Paraphraser.git"
   ]
  },
  {
   "cell_type": "code",
   "execution_count": 14,
   "id": "cross-rotation",
   "metadata": {},
   "outputs": [
    {
     "ename": "ModuleNotFoundError",
     "evalue": "No module named 'parrot'",
     "output_type": "error",
     "traceback": [
      "\u001b[1;31m---------------------------------------------------------------------------\u001b[0m",
      "\u001b[1;31mModuleNotFoundError\u001b[0m                       Traceback (most recent call last)",
      "\u001b[1;32m<ipython-input-14-8cb0a990a7bf>\u001b[0m in \u001b[0;36m<module>\u001b[1;34m\u001b[0m\n\u001b[1;32m----> 1\u001b[1;33m \u001b[1;32mfrom\u001b[0m \u001b[0mparrot\u001b[0m \u001b[1;32mimport\u001b[0m \u001b[0mParrot\u001b[0m\u001b[1;33m\u001b[0m\u001b[1;33m\u001b[0m\u001b[0m\n\u001b[0m",
      "\u001b[1;31mModuleNotFoundError\u001b[0m: No module named 'parrot'"
     ]
    }
   ],
   "source": [
    "from parrot import Parrot"
   ]
  },
  {
   "cell_type": "code",
   "execution_count": null,
   "id": "requested-tampa",
   "metadata": {},
   "outputs": [],
   "source": []
  },
  {
   "cell_type": "code",
   "execution_count": null,
   "id": "weekly-depth",
   "metadata": {},
   "outputs": [],
   "source": []
  },
  {
   "cell_type": "code",
   "execution_count": null,
   "id": "gorgeous-shoulder",
   "metadata": {},
   "outputs": [],
   "source": []
  },
  {
   "cell_type": "code",
   "execution_count": null,
   "id": "northern-freeware",
   "metadata": {},
   "outputs": [],
   "source": []
  },
  {
   "cell_type": "code",
   "execution_count": null,
   "id": "useful-liverpool",
   "metadata": {},
   "outputs": [],
   "source": []
  },
  {
   "cell_type": "code",
   "execution_count": null,
   "id": "miniature-israeli",
   "metadata": {},
   "outputs": [],
   "source": []
  },
  {
   "cell_type": "code",
   "execution_count": null,
   "id": "expected-cradle",
   "metadata": {},
   "outputs": [],
   "source": []
  },
  {
   "cell_type": "code",
   "execution_count": null,
   "id": "comic-finger",
   "metadata": {},
   "outputs": [],
   "source": []
  },
  {
   "cell_type": "code",
   "execution_count": null,
   "id": "looking-fitting",
   "metadata": {},
   "outputs": [],
   "source": []
  },
  {
   "cell_type": "code",
   "execution_count": null,
   "id": "tired-deputy",
   "metadata": {},
   "outputs": [],
   "source": []
  }
 ],
 "metadata": {
  "kernelspec": {
   "display_name": "Python 3",
   "language": "python",
   "name": "python3"
  },
  "language_info": {
   "codemirror_mode": {
    "name": "ipython",
    "version": 3
   },
   "file_extension": ".py",
   "mimetype": "text/x-python",
   "name": "python",
   "nbconvert_exporter": "python",
   "pygments_lexer": "ipython3",
   "version": "3.8.5"
  }
 },
 "nbformat": 4,
 "nbformat_minor": 5
}
