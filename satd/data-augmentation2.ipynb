{
 "cells": [
  {
   "cell_type": "code",
   "execution_count": 1,
   "metadata": {},
   "outputs": [],
   "source": [
    "import pandas as pd\n",
    "import numpy as np\n",
    "import matplotlib.pyplot as plt\n",
    "import seaborn as sns\n",
    "import os\n",
    "import glob\n",
    "import re\n",
    "from nltk.corpus import stopwords\n",
    "from sklearn.model_selection import train_test_split\n",
    "\n",
    "# import nltk\n",
    "# nltk.download('stopwords')\n"
   ]
  },
  {
   "cell_type": "code",
   "execution_count": 2,
   "metadata": {},
   "outputs": [],
   "source": [
    "from googletrans import Translator\n",
    "translator = Translator()"
   ]
  },
  {
   "cell_type": "code",
   "execution_count": 3,
   "metadata": {},
   "outputs": [],
   "source": [
    "# !pip install googletrans"
   ]
  },
  {
   "cell_type": "code",
   "execution_count": 8,
   "metadata": {},
   "outputs": [],
   "source": [
    "# sent_list = ['fixme: replace stack with queue', 'Quick Fix: Hardcode cities in records',\n",
    "#              'This is linklist hack to hamdle dangling pointer']\n",
    "# text1 = translator.translate(sent_list[2], dest ='de').text\n",
    "# text1"
   ]
  },
  {
   "cell_type": "code",
   "execution_count": 9,
   "metadata": {},
   "outputs": [],
   "source": [
    "# text2 = translator.translate(text1, dest ='en').text\n",
    "# text2"
   ]
  },
  {
   "cell_type": "code",
   "execution_count": 10,
   "metadata": {},
   "outputs": [],
   "source": [
    "def augment_(df):\n",
    "    \n",
    "    from googletrans import Translator\n",
    "    translator = Translator()\n",
    "    \n",
    "    satd_comments_df = df.loc[df.label == 1]\n",
    "    print(\"SATD df constructed!\\n\")\n",
    "    translated_lst = []\n",
    "    count = 0\n",
    "    \n",
    "    def translate_row(row):\n",
    "        #Translate comment to german and the back to english  \n",
    "        text1 = translator.translate(row, dest ='de').text\n",
    "        text2 = translator.translate(text1, dest ='en').text\n",
    "        return text2\n",
    "\n",
    "    for r in satd_comments_df['commenttext']:\n",
    "        try:\n",
    "            #print(translate_row(r))\n",
    "            translated_lst.append(translate_row(r))\n",
    "            #print(\"********************************************\\n\")\n",
    "        except: continue\n",
    "        count +=1\n",
    "        \n",
    "    print(count, \"comments added!\")\n",
    "    print(\"\\nCheck len of translated array\",len(translated_lst))\n",
    "    name = df.projectname.unique()[0]\n",
    "    \n",
    "    sudo_data = {'projectname' : [name]*len(translated_lst), 'classification': ['DEFECT']*len(translated_lst),\n",
    "     'commenttext' : translated_lst, 'label' : [1]*len(translated_lst)}\n",
    "    df_ext = pd.DataFrame(sudo_data)\n",
    "    print(\"\\n\", df_ext.info())\n",
    "    df_row_merged = pd.concat([df, df_ext], ignore_index=True)\n",
    "    \n",
    "    return df_row_merged"
   ]
  },
  {
   "cell_type": "code",
   "execution_count": 3,
   "metadata": {},
   "outputs": [
    {
     "ename": "ModuleNotFoundError",
     "evalue": "No module named 'parrot'",
     "output_type": "error",
     "traceback": [
      "\u001b[1;31m---------------------------------------------------------------------------\u001b[0m",
      "\u001b[1;31mModuleNotFoundError\u001b[0m                       Traceback (most recent call last)",
      "\u001b[1;32m<ipython-input-3-7a4e06713ed0>\u001b[0m in \u001b[0;36m<module>\u001b[1;34m\u001b[0m\n\u001b[1;32m----> 1\u001b[1;33m \u001b[1;32mimport\u001b[0m \u001b[0mparrot\u001b[0m\u001b[1;33m\u001b[0m\u001b[1;33m\u001b[0m\u001b[0m\n\u001b[0m",
      "\u001b[1;31mModuleNotFoundError\u001b[0m: No module named 'parrot'"
     ]
    }
   ],
   "source": [
    "import parrot"
   ]
  },
  {
   "cell_type": "code",
   "execution_count": 4,
   "metadata": {},
   "outputs": [
    {
     "ename": "ModuleNotFoundError",
     "evalue": "No module named 'parrot'",
     "output_type": "error",
     "traceback": [
      "\u001b[1;31m---------------------------------------------------------------------------\u001b[0m",
      "\u001b[1;31mModuleNotFoundError\u001b[0m                       Traceback (most recent call last)",
      "\u001b[1;32m<ipython-input-4-4400123ec3dd>\u001b[0m in \u001b[0;36m<module>\u001b[1;34m\u001b[0m\n\u001b[1;32m----> 1\u001b[1;33m \u001b[1;32mfrom\u001b[0m \u001b[0mparrot\u001b[0m \u001b[1;32mimport\u001b[0m \u001b[0mParrot\u001b[0m\u001b[1;33m\u001b[0m\u001b[1;33m\u001b[0m\u001b[0m\n\u001b[0m\u001b[0;32m      2\u001b[0m \u001b[1;33m\u001b[0m\u001b[0m\n\u001b[0;32m      3\u001b[0m \u001b[0mparrot\u001b[0m \u001b[1;33m=\u001b[0m \u001b[0mParrot\u001b[0m\u001b[1;33m(\u001b[0m\u001b[1;33m)\u001b[0m\u001b[1;33m\u001b[0m\u001b[1;33m\u001b[0m\u001b[0m\n",
      "\u001b[1;31mModuleNotFoundError\u001b[0m: No module named 'parrot'"
     ]
    }
   ],
   "source": [
    "from parrot import Parrot\n",
    "\n",
    "parrot = Parrot()"
   ]
  },
  {
   "cell_type": "code",
   "execution_count": 15,
   "metadata": {},
   "outputs": [
    {
     "name": "stdout",
     "output_type": "stream",
     "text": [
      "----------------------------------------------------------------------------------------------------\n",
      "Input_phrase:  How to optimize this solution?One of the best ways to learn is to teach what you've already learned\n",
      "----------------------------------------------------------------------------------------------------\n"
     ]
    },
    {
     "name": "stderr",
     "output_type": "stream",
     "text": [
      "C:\\Users\\ketak\\anaconda3\\lib\\site-packages\\transformers\\tokenization_utils_base.py:2296: FutureWarning: The `truncation_strategy` argument is deprecated and will be removed in a future version, use `truncation=True` to truncate examples to a max length. You can give a specific length with `max_length` (e.g. `max_length=45`) or leave max_length to None to truncate to the maximal input size of the model (e.g. 512 for Bert).  If you have pairs of inputs, you can give a specific truncation strategy selected among `truncation='only_first'` (will only truncate the first sentence in the pairs) `truncation='only_second'` (will only truncate the second sentence in the pairs) or `truncation='longest_first'` (will iteratively remove tokens from the longest sentence in the pairs).\n",
      "  warnings.warn(\n"
     ]
    },
    {
     "name": "stdout",
     "output_type": "stream",
     "text": [
      "('how can we optimise this solution?', 85)\n",
      "('tell me the best way to improve this solution?', 81)\n",
      "('tell me the best way to learn is to teach what you already know?', 55)\n",
      "('how do i optimize a solution? one of the best ways to learn is to teach what you already know', 28)\n",
      "('how can i optimize this solution? one of the best ways to learn is to teach what you already know', 25)\n",
      "('how do i optimize this solution? one of the best ways to learn is to teach what you already know', 24)\n",
      "('how do you optimize this solution? one of the best ways to learn is to teach what you already know', 24)\n",
      "('how should i optimize this solution? one of the best ways to learn is to teach what you have already learned', 20)\n",
      "(\"how do you optimize this solution? one of the best ways to learn is to teach what you've already learned\", 15)\n",
      "----------------------------------------------------------------------------------------------------\n",
      "Input_phrase:  Paraphrasing is the process of coming up with someone else's ideas in your own words\n",
      "----------------------------------------------------------------------------------------------------\n",
      "(\"paraphrasing is the process of putting another's ideas into your own words\", 35)\n",
      "(\"paraphrasing is the process of trying to come up with someone's ideas in your own words\", 28)\n",
      "(\"paraphrasing is the process of coming up with another person's ideas in your own words\", 23)\n",
      "(\"paraphrasing is the process of coming up with another's ideas in your own words\", 22)\n",
      "(\"paraphrasing is the process of coming up with someone else's ideas in your own words\", 12)\n"
     ]
    }
   ],
   "source": [
    "phrases = [\n",
    "  \"How to optimize this solution?\"\n",
    "  \"One of the best ways to learn is to teach what you've already learned\",\n",
    "  \"Paraphrasing is the process of coming up with someone else's ideas in your own words\"\n",
    "]\n",
    "\n",
    "for phrase in phrases:\n",
    "    print(\"-\"*100)\n",
    "    print(\"Input_phrase: \", phrase)\n",
    "    print(\"-\"*100)\n",
    "    paraphrases = parrot.augment(input_phrase=phrase)\n",
    "    for paraphrase in paraphrases:\n",
    "        print(paraphrase)"
   ]
  },
  {
   "cell_type": "code",
   "execution_count": 92,
   "metadata": {},
   "outputs": [
    {
     "data": {
      "text/html": [
       "<div>\n",
       "<style scoped>\n",
       "    .dataframe tbody tr th:only-of-type {\n",
       "        vertical-align: middle;\n",
       "    }\n",
       "\n",
       "    .dataframe tbody tr th {\n",
       "        vertical-align: top;\n",
       "    }\n",
       "\n",
       "    .dataframe thead th {\n",
       "        text-align: right;\n",
       "    }\n",
       "</style>\n",
       "<table border=\"1\" class=\"dataframe\">\n",
       "  <thead>\n",
       "    <tr style=\"text-align: right;\">\n",
       "      <th></th>\n",
       "      <th>projectname</th>\n",
       "      <th>classification</th>\n",
       "      <th>commenttext</th>\n",
       "      <th>label</th>\n",
       "    </tr>\n",
       "  </thead>\n",
       "  <tbody>\n",
       "    <tr>\n",
       "      <th>0</th>\n",
       "      <td>argouml</td>\n",
       "      <td>DEFECT</td>\n",
       "      <td>// TODO: This brute force approach of updating...</td>\n",
       "      <td>1</td>\n",
       "    </tr>\n",
       "    <tr>\n",
       "      <th>1</th>\n",
       "      <td>argouml</td>\n",
       "      <td>DEFECT</td>\n",
       "      <td>/* TODO: The above statement also refreshes wh...</td>\n",
       "      <td>1</td>\n",
       "    </tr>\n",
       "    <tr>\n",
       "      <th>2</th>\n",
       "      <td>argouml</td>\n",
       "      <td>DEFECT</td>\n",
       "      <td>/**\\r * Class to display graphics for a UML Sy...</td>\n",
       "      <td>1</td>\n",
       "    </tr>\n",
       "    <tr>\n",
       "      <th>3</th>\n",
       "      <td>argouml</td>\n",
       "      <td>DEFECT</td>\n",
       "      <td>/* TODO: If this is an ordered list, then you ...</td>\n",
       "      <td>1</td>\n",
       "    </tr>\n",
       "    <tr>\n",
       "      <th>4</th>\n",
       "      <td>argouml</td>\n",
       "      <td>DEFECT</td>\n",
       "      <td>/**\\r     * Rank the nodes depending on their ...</td>\n",
       "      <td>1</td>\n",
       "    </tr>\n",
       "    <tr>\n",
       "      <th>...</th>\n",
       "      <td>...</td>\n",
       "      <td>...</td>\n",
       "      <td>...</td>\n",
       "      <td>...</td>\n",
       "    </tr>\n",
       "    <tr>\n",
       "      <th>10460</th>\n",
       "      <td>argouml</td>\n",
       "      <td>DEFECT</td>\n",
       "      <td>/ * Listening only \"Remove\" events does not wo...</td>\n",
       "      <td>1</td>\n",
       "    </tr>\n",
       "    <tr>\n",
       "      <th>10461</th>\n",
       "      <td>argouml</td>\n",
       "      <td>DEFECT</td>\n",
       "      <td>// TODO: We need a way to drive this from Pane...</td>\n",
       "      <td>1</td>\n",
       "    </tr>\n",
       "    <tr>\n",
       "      <th>10462</th>\n",
       "      <td>argouml</td>\n",
       "      <td>DEFECT</td>\n",
       "      <td>/ *\\r     * TODO: Prove that this works.\\r    ...</td>\n",
       "      <td>1</td>\n",
       "    </tr>\n",
       "    <tr>\n",
       "      <th>10463</th>\n",
       "      <td>argouml</td>\n",
       "      <td>DEFECT</td>\n",
       "      <td>// TODO: Probably this is only relevant, if //...</td>\n",
       "      <td>1</td>\n",
       "    </tr>\n",
       "    <tr>\n",
       "      <th>10464</th>\n",
       "      <td>argouml</td>\n",
       "      <td>DEFECT</td>\n",
       "      <td>/ **\\r * All events going to Explorer must fir...</td>\n",
       "      <td>1</td>\n",
       "    </tr>\n",
       "  </tbody>\n",
       "</table>\n",
       "<p>10465 rows × 4 columns</p>\n",
       "</div>"
      ],
      "text/plain": [
       "      projectname classification  \\\n",
       "0         argouml         DEFECT   \n",
       "1         argouml         DEFECT   \n",
       "2         argouml         DEFECT   \n",
       "3         argouml         DEFECT   \n",
       "4         argouml         DEFECT   \n",
       "...           ...            ...   \n",
       "10460     argouml         DEFECT   \n",
       "10461     argouml         DEFECT   \n",
       "10462     argouml         DEFECT   \n",
       "10463     argouml         DEFECT   \n",
       "10464     argouml         DEFECT   \n",
       "\n",
       "                                             commenttext  label  \n",
       "0      // TODO: This brute force approach of updating...      1  \n",
       "1      /* TODO: The above statement also refreshes wh...      1  \n",
       "2      /**\\r * Class to display graphics for a UML Sy...      1  \n",
       "3      /* TODO: If this is an ordered list, then you ...      1  \n",
       "4      /**\\r     * Rank the nodes depending on their ...      1  \n",
       "...                                                  ...    ...  \n",
       "10460  / * Listening only \"Remove\" events does not wo...      1  \n",
       "10461  // TODO: We need a way to drive this from Pane...      1  \n",
       "10462  / *\\r     * TODO: Prove that this works.\\r    ...      1  \n",
       "10463  // TODO: Probably this is only relevant, if //...      1  \n",
       "10464  / **\\r * All events going to Explorer must fir...      1  \n",
       "\n",
       "[10465 rows x 4 columns]"
      ]
     },
     "execution_count": 92,
     "metadata": {},
     "output_type": "execute_result"
    }
   ],
   "source": [
    "import pandas as pd\n",
    "df = pd.read_csv('argouml_aug.csv')\n",
    "df"
   ]
  },
  {
   "cell_type": "code",
   "execution_count": 93,
   "metadata": {},
   "outputs": [
    {
     "data": {
      "text/plain": [
       "0    8039\n",
       "1    2426\n",
       "Name: label, dtype: int64"
      ]
     },
     "execution_count": 93,
     "metadata": {},
     "output_type": "execute_result"
    }
   ],
   "source": [
    "df['label'].value_counts()"
   ]
  },
  {
   "cell_type": "code",
   "execution_count": 95,
   "metadata": {},
   "outputs": [
    {
     "data": {
      "text/plain": [
       "'/* TODO: If this is an ordered list, then you have to\\r                        add in the right location! */'"
      ]
     },
     "execution_count": 95,
     "metadata": {},
     "output_type": "execute_result"
    }
   ],
   "source": [
    "df['commenttext'][3]"
   ]
  },
  {
   "cell_type": "code",
   "execution_count": 96,
   "metadata": {},
   "outputs": [
    {
     "name": "stderr",
     "output_type": "stream",
     "text": [
      "C:\\Users\\ketak\\anaconda3\\lib\\site-packages\\transformers\\tokenization_utils_base.py:2296: FutureWarning: The `truncation_strategy` argument is deprecated and will be removed in a future version, use `truncation=True` to truncate examples to a max length. You can give a specific length with `max_length` (e.g. `max_length=45`) or leave max_length to None to truncate to the maximal input size of the model (e.g. 512 for Bert).  If you have pairs of inputs, you can give a specific truncation strategy selected among `truncation='only_first'` (will only truncate the first sentence in the pairs) `truncation='only_second'` (will only truncate the second sentence in the pairs) or `truncation='longest_first'` (will iteratively remove tokens from the longest sentence in the pairs).\n",
      "  warnings.warn(\n"
     ]
    },
    {
     "data": {
      "text/plain": [
       "[(\"if it's an ordered list then you need to add the right place  to\", 64),\n",
       " ('if this is an ordered list then you have to place the right place', 57),\n",
       " ('if this is an ordered list then you have to place it in the right place ',\n",
       "  53),\n",
       " ('if this is an ordered list then you have to add in the right place ', 51)]"
      ]
     },
     "execution_count": 96,
     "metadata": {},
     "output_type": "execute_result"
    }
   ],
   "source": [
    "def translate_row(row):\n",
    "        #Translate comment to german and the back to english  \n",
    "        text2 = parrot.augment(input_phrase=row)\n",
    "        return text2\n",
    "    \n",
    "sent_list = ['fixme: replace stack with queue', 'Quick Fix: Hardcode cities in records',\n",
    "             'This is linklist hack to handle dangling pointer']\n",
    "translate_row('/* TODO: If this is an ordered list, then you have to\\r                        add in the right location! */')"
   ]
  },
  {
   "cell_type": "code",
   "execution_count": 85,
   "metadata": {},
   "outputs": [
    {
     "data": {
      "text/html": [
       "<div>\n",
       "<style scoped>\n",
       "    .dataframe tbody tr th:only-of-type {\n",
       "        vertical-align: middle;\n",
       "    }\n",
       "\n",
       "    .dataframe tbody tr th {\n",
       "        vertical-align: top;\n",
       "    }\n",
       "\n",
       "    .dataframe thead th {\n",
       "        text-align: right;\n",
       "    }\n",
       "</style>\n",
       "<table border=\"1\" class=\"dataframe\">\n",
       "  <thead>\n",
       "    <tr style=\"text-align: right;\">\n",
       "      <th></th>\n",
       "      <th>ID</th>\n",
       "      <th>projectname</th>\n",
       "      <th>classification</th>\n",
       "      <th>Abstract</th>\n",
       "      <th>label</th>\n",
       "    </tr>\n",
       "  </thead>\n",
       "  <tbody>\n",
       "    <tr>\n",
       "      <th>0</th>\n",
       "      <td>0</td>\n",
       "      <td>argouml</td>\n",
       "      <td>DEFECT</td>\n",
       "      <td>// TODO: This brute force approach of updating...</td>\n",
       "      <td>yes</td>\n",
       "    </tr>\n",
       "    <tr>\n",
       "      <th>1</th>\n",
       "      <td>1</td>\n",
       "      <td>argouml</td>\n",
       "      <td>DEFECT</td>\n",
       "      <td>/* TODO: The above statement also refreshes wh...</td>\n",
       "      <td>yes</td>\n",
       "    </tr>\n",
       "  </tbody>\n",
       "</table>\n",
       "</div>"
      ],
      "text/plain": [
       "   ID projectname classification  \\\n",
       "0   0     argouml         DEFECT   \n",
       "1   1     argouml         DEFECT   \n",
       "\n",
       "                                            Abstract label  \n",
       "0  // TODO: This brute force approach of updating...   yes  \n",
       "1  /* TODO: The above statement also refreshes wh...   yes  "
      ]
     },
     "execution_count": 85,
     "metadata": {},
     "output_type": "execute_result"
    }
   ],
   "source": [
    "# print(satd_comments_df['Abstract'][0], \"\\n\")\n",
    "# print(satd_comments_df['Abstract'][1], \"\\n\")\n",
    "# print(satd_comments_df['Abstract'][2], \"\\n\")\n",
    "satd_comments_df = df.loc[df.label == 'yes']\n",
    "satd_comments_df[:2]"
   ]
  },
  {
   "cell_type": "code",
   "execution_count": null,
   "metadata": {},
   "outputs": [],
   "source": []
  },
  {
   "cell_type": "code",
   "execution_count": 88,
   "metadata": {},
   "outputs": [
    {
     "name": "stdout",
     "output_type": "stream",
     "text": [
      "// TODO: This brute force approach of updating listeners on each // and every event, without checking the event type or any other // information is going to cause lots of InvalidElementExceptions // in subclasses implementations of updateListeners (and they // won't have the event information to make their own decisions)\n",
      "0\n",
      "\n",
      " ********************************************\n",
      "\n",
      "                         * not entirely correct. */verified) - hence \n",
      "0\n",
      "\n",
      " ********************************************\n",
      "\n",
      "2\n"
     ]
    }
   ],
   "source": [
    "\n",
    "sent_lst = ['fixme: please replace stack with queue', 'Quick Fix: need to hardcode cities in records',\n",
    "             'Todo: Apply this rule. linklist hack to handle dangling pointer.']\n",
    "count = 0\n",
    "\n",
    "for r in satd_comments_df['Abstract'][0:2]:\n",
    "    try:\n",
    "        #add every comment to list\n",
    "        #print(translate_row(r))\n",
    "        ans_lst = translate_row(r)\n",
    "        for ans, confidence in ans_lst:\n",
    "            #issa tuple\n",
    "            if confidence > 0:\n",
    "                print(ans)\n",
    "                print(confidence)\n",
    "                count +=1\n",
    "        print(\"\\n\", \"********************************************\\n\")\n",
    "    except: continue\n",
    "    \n",
    "print(count)"
   ]
  },
  {
   "cell_type": "code",
   "execution_count": null,
   "metadata": {},
   "outputs": [],
   "source": []
  },
  {
   "cell_type": "code",
   "execution_count": 49,
   "metadata": {},
   "outputs": [
    {
     "ename": "IndentationError",
     "evalue": "unindent does not match any outer indentation level (<tokenize>, line 11)",
     "output_type": "error",
     "traceback": [
      "\u001b[1;36m  File \u001b[1;32m\"<tokenize>\"\u001b[1;36m, line \u001b[1;32m11\u001b[0m\n\u001b[1;33m    return text2\u001b[0m\n\u001b[1;37m    ^\u001b[0m\n\u001b[1;31mIndentationError\u001b[0m\u001b[1;31m:\u001b[0m unindent does not match any outer indentation level\n"
     ]
    }
   ],
   "source": [
    "def paraphrase_augment(df):\n",
    "    \n",
    "    satd_comments_df = df.loc[df.label == 1]\n",
    "    print(\"SATD df constructed!\\n\")\n",
    "    translated_lst = []\n",
    "    count = 0\n",
    "    \n",
    "    def translate_row(row):\n",
    "        #Translate comment to german and the back to english  \n",
    "         paraphrases = parrot.augment(input_phrase=row)\n",
    "        return text2\n",
    "\n",
    "    for r in satd_comments_df['commenttext']:\n",
    "        try:\n",
    "            #print(translate_row(r))\n",
    "            translated_lst.append(translate_row(r))\n",
    "            #print(\"********************************************\\n\")\n",
    "        except: continue\n",
    "        count +=1\n",
    "        \n",
    "    print(count, \"comments added!\")"
   ]
  },
  {
   "cell_type": "code",
   "execution_count": null,
   "metadata": {},
   "outputs": [],
   "source": []
  }
 ],
 "metadata": {
  "kernelspec": {
   "display_name": "Python 3",
   "language": "python",
   "name": "python3"
  },
  "language_info": {
   "codemirror_mode": {
    "name": "ipython",
    "version": 3
   },
   "file_extension": ".py",
   "mimetype": "text/x-python",
   "name": "python",
   "nbconvert_exporter": "python",
   "pygments_lexer": "ipython3",
   "version": "3.8.5"
  }
 },
 "nbformat": 4,
 "nbformat_minor": 4
}
