{
 "cells": [
  {
   "cell_type": "code",
   "execution_count": 87,
   "id": "mysterious-addition",
   "metadata": {},
   "outputs": [
    {
     "data": {
      "text/plain": [
       "\"import nltk\\nnltk.download('stopwords')\""
      ]
     },
     "execution_count": 87,
     "metadata": {},
     "output_type": "execute_result"
    }
   ],
   "source": [
    "import tensorflow as tf\n",
    "import pandas as pd\n",
    "import numpy as np\n",
    "import seaborn as sns\n",
    "import matplotlib.pyplot as plt\n",
    "pd.set_option('display.max_colwidth', None)\n",
    "import glob\n",
    "import re\n",
    "from nltk.corpus import stopwords\n",
    "from sklearn.model_selection import train_test_split\n",
    "from tensorflow.keras.preprocessing.text import Tokenizer\n",
    "from tensorflow.keras.preprocessing.sequence import pad_sequences\n",
    "from tensorflow.keras import metrics\n",
    "'''import nltk\n",
    "nltk.download('stopwords')'''\n",
    "\n"
   ]
  },
  {
   "cell_type": "code",
   "execution_count": 88,
   "id": "talented-bacon",
   "metadata": {},
   "outputs": [
    {
     "data": {
      "application/javascript": [
       "IPython.OutputArea.prototype._should_scroll = function(lines) {\n",
       "    return false;\n",
       "}\n"
      ],
      "text/plain": [
       "<IPython.core.display.Javascript object>"
      ]
     },
     "metadata": {},
     "output_type": "display_data"
    }
   ],
   "source": [
    "%%javascript\n",
    "IPython.OutputArea.prototype._should_scroll = function(lines) {\n",
    "    return false;\n",
    "}"
   ]
  },
  {
   "cell_type": "code",
   "execution_count": 89,
   "id": "random-headset",
   "metadata": {},
   "outputs": [],
   "source": [
    "filenames = list(glob.glob(\"data/*\"))\n",
    "dataframes = [pd.read_csv(file) for file in filenames]"
   ]
  },
  {
   "cell_type": "code",
   "execution_count": 90,
   "id": "violent-sessions",
   "metadata": {},
   "outputs": [
    {
     "data": {
      "text/html": [
       "<div>\n",
       "<style scoped>\n",
       "    .dataframe tbody tr th:only-of-type {\n",
       "        vertical-align: middle;\n",
       "    }\n",
       "\n",
       "    .dataframe tbody tr th {\n",
       "        vertical-align: top;\n",
       "    }\n",
       "\n",
       "    .dataframe thead th {\n",
       "        text-align: right;\n",
       "    }\n",
       "</style>\n",
       "<table border=\"1\" class=\"dataframe\">\n",
       "  <thead>\n",
       "    <tr style=\"text-align: right;\">\n",
       "      <th></th>\n",
       "      <th>projectname</th>\n",
       "      <th>classification</th>\n",
       "      <th>commenttext</th>\n",
       "    </tr>\n",
       "  </thead>\n",
       "  <tbody>\n",
       "    <tr>\n",
       "      <th>0</th>\n",
       "      <td>apache-ant-1.7.0</td>\n",
       "      <td>DEFECT</td>\n",
       "      <td>// FIXME formatters are not thread-safe</td>\n",
       "    </tr>\n",
       "    <tr>\n",
       "      <th>1</th>\n",
       "      <td>apache-ant-1.7.0</td>\n",
       "      <td>DEFECT</td>\n",
       "      <td>// XXX: (Jon Skeet) The comment \"if it hasn't been done already\" may // not be strictly true. wrapper.maybeConfigure() won't configure the same // attributes/text more than once, but it may well add the children again, // unless I've missed something.</td>\n",
       "    </tr>\n",
       "    <tr>\n",
       "      <th>2</th>\n",
       "      <td>apache-ant-1.7.0</td>\n",
       "      <td>DEFECT</td>\n",
       "      <td>// I hate to admit it, but we don't know what happened // here.  Throw the Exception.</td>\n",
       "    </tr>\n",
       "    <tr>\n",
       "      <th>3</th>\n",
       "      <td>apache-ant-1.7.0</td>\n",
       "      <td>DEFECT</td>\n",
       "      <td>// Just a note: StarTeam has a status for NEW which implies // that there is an item  on your local machine that is not // in the repository.  These are the items that show up as // NOT IN VIEW in the Starteam GUI. // One would think that we would want to perhaps checkin the // NEW items (not in all cases! - Steve Cohen 15 Dec 2001) // Unfortunately, the sdk doesn't really work, and we can't // actually see  anything with a status of NEW. That is why // we can just check out  everything here without worrying // about losing anything.</td>\n",
       "    </tr>\n",
       "    <tr>\n",
       "      <th>4</th>\n",
       "      <td>apache-ant-1.7.0</td>\n",
       "      <td>DEFECT</td>\n",
       "      <td>// the generated classes must not be added in the generic JAR! // is that buggy on old JOnAS (2.4) ??</td>\n",
       "    </tr>\n",
       "    <tr>\n",
       "      <th>5</th>\n",
       "      <td>apache-ant-1.7.0</td>\n",
       "      <td>DEFECT</td>\n",
       "      <td>// todo: is this comment still relevant ?? // FIXME: need to use a SAXSource as the source for the transform // so we can plug in our own entity resolver</td>\n",
       "    </tr>\n",
       "    <tr>\n",
       "      <th>6</th>\n",
       "      <td>apache-ant-1.7.0</td>\n",
       "      <td>DEFECT</td>\n",
       "      <td>// This is turned off temporarily. There appears to be a bug // in SelectorUtils.matchPattern() where it is recursive on // Windows even if no ** is in pattern. //assertEquals(\"FFFTFFFFFFFF\", results); // Unix // vs //assertEquals(\"FFFTFFFFTFFF\", results); // Windows</td>\n",
       "    </tr>\n",
       "    <tr>\n",
       "      <th>7</th>\n",
       "      <td>apache-ant-1.7.0</td>\n",
       "      <td>DEFECT</td>\n",
       "      <td>// pattern now holds ** while string is not exhausted // this will generate false positives but we can live with that.</td>\n",
       "    </tr>\n",
       "    <tr>\n",
       "      <th>8</th>\n",
       "      <td>apache-ant-1.7.0</td>\n",
       "      <td>DEFECT</td>\n",
       "      <td>// FIXME: Is \"No Namespace is Empty Namespace\" really OK?</td>\n",
       "    </tr>\n",
       "    <tr>\n",
       "      <th>9</th>\n",
       "      <td>apache-ant-1.7.0</td>\n",
       "      <td>DEFECT</td>\n",
       "      <td>// FIXME this is actually not very cpu cycles friendly as we are converting from // dos to java while the underlying Sun implementation will convert // from java to dos time for internal storage...</td>\n",
       "    </tr>\n",
       "  </tbody>\n",
       "</table>\n",
       "</div>"
      ],
      "text/plain": [
       "        projectname classification  \\\n",
       "0  apache-ant-1.7.0         DEFECT   \n",
       "1  apache-ant-1.7.0         DEFECT   \n",
       "2  apache-ant-1.7.0         DEFECT   \n",
       "3  apache-ant-1.7.0         DEFECT   \n",
       "4  apache-ant-1.7.0         DEFECT   \n",
       "5  apache-ant-1.7.0         DEFECT   \n",
       "6  apache-ant-1.7.0         DEFECT   \n",
       "7  apache-ant-1.7.0         DEFECT   \n",
       "8  apache-ant-1.7.0         DEFECT   \n",
       "9  apache-ant-1.7.0         DEFECT   \n",
       "\n",
       "                                                                                                                                                                                                                                                                                                                                                                                                                                                                                                                                                   commenttext  \n",
       "0                                                                                                                                                                                                                                                                                                                                                                                                                                                                                                                      // FIXME formatters are not thread-safe  \n",
       "1                                                                                                                                                                                                                                                                                                  // XXX: (Jon Skeet) The comment \"if it hasn't been done already\" may // not be strictly true. wrapper.maybeConfigure() won't configure the same // attributes/text more than once, but it may well add the children again, // unless I've missed something.  \n",
       "2                                                                                                                                                                                                                                                                                                                                                                                                                                                                        // I hate to admit it, but we don't know what happened // here.  Throw the Exception.  \n",
       "3  // Just a note: StarTeam has a status for NEW which implies // that there is an item  on your local machine that is not // in the repository.  These are the items that show up as // NOT IN VIEW in the Starteam GUI. // One would think that we would want to perhaps checkin the // NEW items (not in all cases! - Steve Cohen 15 Dec 2001) // Unfortunately, the sdk doesn't really work, and we can't // actually see  anything with a status of NEW. That is why // we can just check out  everything here without worrying // about losing anything.  \n",
       "4                                                                                                                                                                                                                                                                                                                                                                                                                                                        // the generated classes must not be added in the generic JAR! // is that buggy on old JOnAS (2.4) ??  \n",
       "5                                                                                                                                                                                                                                                                                                                                                                                                    // todo: is this comment still relevant ?? // FIXME: need to use a SAXSource as the source for the transform // so we can plug in our own entity resolver  \n",
       "6                                                                                                                                                                                                                                                                                  // This is turned off temporarily. There appears to be a bug // in SelectorUtils.matchPattern() where it is recursive on // Windows even if no ** is in pattern. //assertEquals(\"FFFTFFFFFFFF\", results); // Unix // vs //assertEquals(\"FFFTFFFFTFFF\", results); // Windows  \n",
       "7                                                                                                                                                                                                                                                                                                                                                                                                                                       // pattern now holds ** while string is not exhausted // this will generate false positives but we can live with that.  \n",
       "8                                                                                                                                                                                                                                                                                                                                                                                                                                                                                                    // FIXME: Is \"No Namespace is Empty Namespace\" really OK?  \n",
       "9                                                                                                                                                                                                                                                                                                                                                        // FIXME this is actually not very cpu cycles friendly as we are converting from // dos to java while the underlying Sun implementation will convert // from java to dos time for internal storage...  "
      ]
     },
     "execution_count": 90,
     "metadata": {},
     "output_type": "execute_result"
    }
   ],
   "source": [
    "metadata = pd.concat(dataframes)\n",
    "metadata.head(10)"
   ]
  },
  {
   "cell_type": "code",
   "execution_count": 91,
   "id": "familiar-conservative",
   "metadata": {},
   "outputs": [
    {
     "data": {
      "text/html": [
       "<div>\n",
       "<style scoped>\n",
       "    .dataframe tbody tr th:only-of-type {\n",
       "        vertical-align: middle;\n",
       "    }\n",
       "\n",
       "    .dataframe tbody tr th {\n",
       "        vertical-align: top;\n",
       "    }\n",
       "\n",
       "    .dataframe thead th {\n",
       "        text-align: right;\n",
       "    }\n",
       "</style>\n",
       "<table border=\"1\" class=\"dataframe\">\n",
       "  <thead>\n",
       "    <tr style=\"text-align: right;\">\n",
       "      <th></th>\n",
       "      <th>projectname</th>\n",
       "      <th>classification</th>\n",
       "      <th>commenttext</th>\n",
       "      <th>label</th>\n",
       "    </tr>\n",
       "  </thead>\n",
       "  <tbody>\n",
       "    <tr>\n",
       "      <th>0</th>\n",
       "      <td>apache-ant-1.7.0</td>\n",
       "      <td>DEFECT</td>\n",
       "      <td>// FIXME formatters are not thread-safe</td>\n",
       "      <td>1</td>\n",
       "    </tr>\n",
       "    <tr>\n",
       "      <th>1</th>\n",
       "      <td>apache-ant-1.7.0</td>\n",
       "      <td>DEFECT</td>\n",
       "      <td>// XXX: (Jon Skeet) The comment \"if it hasn't been done already\" may // not be strictly true. wrapper.maybeConfigure() won't configure the same // attributes/text more than once, but it may well add the children again, // unless I've missed something.</td>\n",
       "      <td>1</td>\n",
       "    </tr>\n",
       "    <tr>\n",
       "      <th>2</th>\n",
       "      <td>apache-ant-1.7.0</td>\n",
       "      <td>DEFECT</td>\n",
       "      <td>// I hate to admit it, but we don't know what happened // here.  Throw the Exception.</td>\n",
       "      <td>1</td>\n",
       "    </tr>\n",
       "    <tr>\n",
       "      <th>3</th>\n",
       "      <td>apache-ant-1.7.0</td>\n",
       "      <td>DEFECT</td>\n",
       "      <td>// Just a note: StarTeam has a status for NEW which implies // that there is an item  on your local machine that is not // in the repository.  These are the items that show up as // NOT IN VIEW in the Starteam GUI. // One would think that we would want to perhaps checkin the // NEW items (not in all cases! - Steve Cohen 15 Dec 2001) // Unfortunately, the sdk doesn't really work, and we can't // actually see  anything with a status of NEW. That is why // we can just check out  everything here without worrying // about losing anything.</td>\n",
       "      <td>1</td>\n",
       "    </tr>\n",
       "    <tr>\n",
       "      <th>4</th>\n",
       "      <td>apache-ant-1.7.0</td>\n",
       "      <td>DEFECT</td>\n",
       "      <td>// the generated classes must not be added in the generic JAR! // is that buggy on old JOnAS (2.4) ??</td>\n",
       "      <td>1</td>\n",
       "    </tr>\n",
       "  </tbody>\n",
       "</table>\n",
       "</div>"
      ],
      "text/plain": [
       "        projectname classification  \\\n",
       "0  apache-ant-1.7.0         DEFECT   \n",
       "1  apache-ant-1.7.0         DEFECT   \n",
       "2  apache-ant-1.7.0         DEFECT   \n",
       "3  apache-ant-1.7.0         DEFECT   \n",
       "4  apache-ant-1.7.0         DEFECT   \n",
       "\n",
       "                                                                                                                                                                                                                                                                                                                                                                                                                                                                                                                                                   commenttext  \\\n",
       "0                                                                                                                                                                                                                                                                                                                                                                                                                                                                                                                      // FIXME formatters are not thread-safe   \n",
       "1                                                                                                                                                                                                                                                                                                  // XXX: (Jon Skeet) The comment \"if it hasn't been done already\" may // not be strictly true. wrapper.maybeConfigure() won't configure the same // attributes/text more than once, but it may well add the children again, // unless I've missed something.   \n",
       "2                                                                                                                                                                                                                                                                                                                                                                                                                                                                        // I hate to admit it, but we don't know what happened // here.  Throw the Exception.   \n",
       "3  // Just a note: StarTeam has a status for NEW which implies // that there is an item  on your local machine that is not // in the repository.  These are the items that show up as // NOT IN VIEW in the Starteam GUI. // One would think that we would want to perhaps checkin the // NEW items (not in all cases! - Steve Cohen 15 Dec 2001) // Unfortunately, the sdk doesn't really work, and we can't // actually see  anything with a status of NEW. That is why // we can just check out  everything here without worrying // about losing anything.   \n",
       "4                                                                                                                                                                                                                                                                                                                                                                                                                                                        // the generated classes must not be added in the generic JAR! // is that buggy on old JOnAS (2.4) ??   \n",
       "\n",
       "   label  \n",
       "0      1  \n",
       "1      1  \n",
       "2      1  \n",
       "3      1  \n",
       "4      1  "
      ]
     },
     "execution_count": 91,
     "metadata": {},
     "output_type": "execute_result"
    }
   ],
   "source": [
    "#Form labels for SATD: 0 for non-satd and 1 for satd\n",
    "# Is important that text labels are converted into numeric for NN\n",
    "metadata['label'] = np.where(metadata.classification == 'WITHOUT_CLASSIFICATION', 0, 1)\n",
    "metadata.head()"
   ]
  },
  {
   "cell_type": "code",
   "execution_count": 92,
   "id": "french-sweet",
   "metadata": {},
   "outputs": [
    {
     "name": "stdout",
     "output_type": "stream",
     "text": [
      "0    58204\n",
      "1     4071\n",
      "Name: label, dtype: int64\n"
     ]
    }
   ],
   "source": [
    "print(metadata['label'].value_counts())"
   ]
  },
  {
   "cell_type": "code",
   "execution_count": 93,
   "id": "green-guinea",
   "metadata": {},
   "outputs": [
    {
     "name": "stdout",
     "output_type": "stream",
     "text": [
      "['apache-ant-1.7.0' 'apache-jmeter-2.10' 'argouml' 'columba-1.4-src'\n",
      " 'emf-2.4.1' 'hibernate-distribution-3.3.2.GA' 'jEdit-4.2'\n",
      " 'jfreechart-1.0.19' 'jruby-1.4.0' 'sql12']\n"
     ]
    }
   ],
   "source": [
    "print(metadata.projectname.unique())"
   ]
  },
  {
   "cell_type": "code",
   "execution_count": 30,
   "id": "fixed-queen",
   "metadata": {},
   "outputs": [],
   "source": [
    "# df = pd.read_csv('data_aug/argouml_aug.csv')"
   ]
  },
  {
   "cell_type": "code",
   "execution_count": 94,
   "id": "democratic-value",
   "metadata": {},
   "outputs": [
    {
     "name": "stdout",
     "output_type": "stream",
     "text": [
      "projectname       0\n",
      "classification    0\n",
      "commenttext       0\n",
      "label             0\n",
      "dtype: int64\n",
      "<class 'pandas.core.frame.DataFrame'>\n",
      "Int64Index: 8057 entries, 0 to 8056\n",
      "Data columns (total 4 columns):\n",
      " #   Column          Non-Null Count  Dtype \n",
      "---  ------          --------------  ----- \n",
      " 0   projectname     8057 non-null   object\n",
      " 1   classification  8057 non-null   object\n",
      " 2   commenttext     8057 non-null   object\n",
      " 3   label           8057 non-null   int32 \n",
      "dtypes: int32(1), object(3)\n",
      "memory usage: 283.3+ KB\n"
     ]
    }
   ],
   "source": [
    "#Specify in project dataset name to test\n",
    "df = metadata[metadata.projectname == 'apache-jmeter-2.10']\n",
    "print(df.isnull().sum())\n",
    "df.info()"
   ]
  },
  {
   "cell_type": "code",
   "execution_count": 95,
   "id": "simple-purple",
   "metadata": {},
   "outputs": [
    {
     "data": {
      "text/html": [
       "<div>\n",
       "<style scoped>\n",
       "    .dataframe tbody tr th:only-of-type {\n",
       "        vertical-align: middle;\n",
       "    }\n",
       "\n",
       "    .dataframe tbody tr th {\n",
       "        vertical-align: top;\n",
       "    }\n",
       "\n",
       "    .dataframe thead th {\n",
       "        text-align: right;\n",
       "    }\n",
       "</style>\n",
       "<table border=\"1\" class=\"dataframe\">\n",
       "  <thead>\n",
       "    <tr style=\"text-align: right;\">\n",
       "      <th></th>\n",
       "      <th>projectname</th>\n",
       "      <th>classification</th>\n",
       "      <th>commenttext</th>\n",
       "      <th>label</th>\n",
       "    </tr>\n",
       "  </thead>\n",
       "  <tbody>\n",
       "    <tr>\n",
       "      <th>0</th>\n",
       "      <td>apache-jmeter-2.10</td>\n",
       "      <td>DEFECT</td>\n",
       "      <td>// Don't try restoring the URL TODO: wy not?</td>\n",
       "      <td>1</td>\n",
       "    </tr>\n",
       "    <tr>\n",
       "      <th>1</th>\n",
       "      <td>apache-jmeter-2.10</td>\n",
       "      <td>DEFECT</td>\n",
       "      <td>// TODO: Why do we clone the return value? This is the only reference // to it (right?) so we shouldn't need a separate copy.</td>\n",
       "      <td>1</td>\n",
       "    </tr>\n",
       "    <tr>\n",
       "      <th>2</th>\n",
       "      <td>apache-jmeter-2.10</td>\n",
       "      <td>DEFECT</td>\n",
       "      <td>/*\\r     * Fix bug in JVMs that return true/false rather than True/False\\r     * from the type editor getAsText() method\\r     */</td>\n",
       "      <td>1</td>\n",
       "    </tr>\n",
       "    <tr>\n",
       "      <th>3</th>\n",
       "      <td>apache-jmeter-2.10</td>\n",
       "      <td>DEFECT</td>\n",
       "      <td>// Should this also fail the sample? // Can happen for incorrect XPath expression</td>\n",
       "      <td>1</td>\n",
       "    </tr>\n",
       "    <tr>\n",
       "      <th>4</th>\n",
       "      <td>apache-jmeter-2.10</td>\n",
       "      <td>DEFECT</td>\n",
       "      <td>// TODO - why does null property have a value?</td>\n",
       "      <td>1</td>\n",
       "    </tr>\n",
       "  </tbody>\n",
       "</table>\n",
       "</div>"
      ],
      "text/plain": [
       "          projectname classification  \\\n",
       "0  apache-jmeter-2.10         DEFECT   \n",
       "1  apache-jmeter-2.10         DEFECT   \n",
       "2  apache-jmeter-2.10         DEFECT   \n",
       "3  apache-jmeter-2.10         DEFECT   \n",
       "4  apache-jmeter-2.10         DEFECT   \n",
       "\n",
       "                                                                                                                         commenttext  \\\n",
       "0                                                                                       // Don't try restoring the URL TODO: wy not?   \n",
       "1      // TODO: Why do we clone the return value? This is the only reference // to it (right?) so we shouldn't need a separate copy.   \n",
       "2  /*\\r     * Fix bug in JVMs that return true/false rather than True/False\\r     * from the type editor getAsText() method\\r     */   \n",
       "3                                                  // Should this also fail the sample? // Can happen for incorrect XPath expression   \n",
       "4                                                                                     // TODO - why does null property have a value?   \n",
       "\n",
       "   label  \n",
       "0      1  \n",
       "1      1  \n",
       "2      1  \n",
       "3      1  \n",
       "4      1  "
      ]
     },
     "execution_count": 95,
     "metadata": {},
     "output_type": "execute_result"
    }
   ],
   "source": [
    "df[0:5]"
   ]
  },
  {
   "cell_type": "code",
   "execution_count": 96,
   "id": "quality-crash",
   "metadata": {},
   "outputs": [],
   "source": [
    "'''\n",
    "1] Preprocessing:\n",
    "1. Remove tags, punctuations, stop words, special characters and return X_clean and y as np arrays\n",
    "2. Split data in train and test. Remember Xclean and y should reflect metadata used for training\n",
    "def remove_tags(text):\n",
    "\n",
    "'''\n",
    "def remove_tags(text):\n",
    "    TAG_RE = re.compile(r'<[^>]+>')\n",
    "\n",
    "    return TAG_RE.sub('', text)\n",
    "    \n",
    "def preprocess_text(sen):\n",
    "    # Removing html tags\n",
    "    sentence = remove_tags(sen)\n",
    "    \n",
    "    # Remove punctuations and numbers\n",
    "    sentence = re.sub('[^a-zA-Z]', ' ', sentence)\n",
    "    \n",
    "    # Single character removal\n",
    "    sentence = re.sub(r\"\\s+[a-zA-Z]\\s+\", ' ', sentence)\n",
    "    \n",
    "    # Removing multiple spaces\n",
    "    sentence = re.sub(r'\\s+', ' ', sentence)\n",
    "    \n",
    "    pattern = re.compile(r'\\b(' + r'|'.join(stopwords.words('english')) + r')\\b\\s*')\n",
    "    sentence = pattern.sub('', sentence)\n",
    "    #print(sentence)\n",
    "    return sentence\n",
    "\n",
    "def prepare_data(_df):\n",
    "    X_clean = []\n",
    "    sentences = list(_df['commenttext'])\n",
    "\n",
    "    for sen in sentences:\n",
    "        X_clean.append(preprocess_text(sen))\n",
    "\n",
    "    print(X_clean[:3], \"\\n\\n*************************\")\n",
    "    X_clean = np.array(X_clean)\n",
    "    y = np.array(_df.label)\n",
    "\n",
    "    print(\"Cleaned corpus shape:\", X_clean.shape, y.shape)\n",
    "    return X_clean, y\n",
    "\n",
    "def split_data(df):\n",
    "    X_clean, y = prepare_data(df)\n",
    "    print(X_clean[:3], \"\\n****kkk****\\n\")\n",
    "    \n",
    "    X_train, X_val, y_train, y_val = train_test_split(X_clean, y, test_size=0.20, random_state=42)\n",
    "    print(\"Train set:\",X_train.shape, y_train.shape)\n",
    "    print(\"Validation set:\", X_val.shape, X_val.shape)\n",
    "    return X_train, X_val, y_train, y_val"
   ]
  },
  {
   "cell_type": "code",
   "execution_count": 97,
   "id": "limiting-joshua",
   "metadata": {},
   "outputs": [
    {
     "name": "stdout",
     "output_type": "stream",
     "text": [
      "[' Don try restoring URL TODO wy ', ' TODO Why clone return value This reference right need separate copy ', ' Fix bug JVMs return true false rather True False type editor getAsText method '] \n",
      "\n",
      "*************************\n",
      "Cleaned corpus shape: (8057,) (8057,)\n",
      "[' Don try restoring URL TODO wy '\n",
      " ' TODO Why clone return value This reference right need separate copy '\n",
      " ' Fix bug JVMs return true false rather True False type editor getAsText method '] \n",
      "****kkk****\n",
      "\n",
      "Train set: (6445,) (6445,)\n",
      "Validation set: (1612,) (1612,)\n"
     ]
    }
   ],
   "source": [
    "#collect Xtrain and ytrain along with Xval and yval\n",
    "X_train, X_val, y_train, y_val = split_data(df)"
   ]
  },
  {
   "cell_type": "code",
   "execution_count": 98,
   "id": "respected-profile",
   "metadata": {},
   "outputs": [
    {
     "name": "stdout",
     "output_type": "stream",
     "text": [
      "\n",
      "\n",
      "Training set head\n",
      "\n",
      "\n",
      "[' Original match behaviour' ' NON NLS NON NLS '\n",
      " ' ensure interrupt cannot overlap shutdown' ...\n",
      " ' NON NLS NON NLS Check form data NON NLS Get form field name NON NLS '\n",
      " ' B The keys either JMeterTreeNode TestElement' ' GuardedBy ']\n"
     ]
    }
   ],
   "source": [
    "print(\"\\n\\nTraining set head\\n\\n\")\n",
    "print((X_train))"
   ]
  },
  {
   "cell_type": "code",
   "execution_count": 99,
   "id": "coated-portal",
   "metadata": {},
   "outputs": [
    {
     "data": {
      "text/plain": [
       "(6445,)"
      ]
     },
     "execution_count": 99,
     "metadata": {},
     "output_type": "execute_result"
    }
   ],
   "source": [
    "X_train.shape"
   ]
  },
  {
   "cell_type": "code",
   "execution_count": 100,
   "id": "above-washer",
   "metadata": {},
   "outputs": [],
   "source": [
    "'''\n",
    "2] Tokenize the splitted data and convert them intp sequences and add post padding.\n",
    "Final output stored as X_train_padded, X-val_padded and y_train and y_val\n",
    "\n",
    "'''\n",
    "\n",
    "def create_features(X_train, X_val, y_train, y_val):\n",
    "    \n",
    "    #Step 2: Use keras to tokenize words and find word.index'length for getting number of unique words i.e vocab size\n",
    "\n",
    "    tokenizer = Tokenizer(filters='!\"#$%&()*+,-./:;<=>?@[\\\\]^_`{|}~\\t\\n\\'',\n",
    "                          lower=True)\n",
    "\n",
    "    tokenizer.fit_on_texts(X_train)\n",
    "\n",
    "    word_index = tokenizer.word_index\n",
    "    vocab_size = len(tokenizer.word_index) + 1\n",
    "    print('VOCAB SIZE: Found %s unique tokens.' % len(word_index))\n",
    "\n",
    "    # Step 3: Embed the sentences into numbers using text to sequences\n",
    "\n",
    "    sequences_train = tokenizer.texts_to_sequences(X_train)\n",
    "    sequences_valid = tokenizer.texts_to_sequences(X_val)\n",
    "\n",
    "    # Step 4: next step is to find the number of words in the longest sentence and then to apply \n",
    "    #padding to the sentences having shorter lengths than the length of the longest sentence\n",
    "\n",
    "    from nltk.tokenize import word_tokenize\n",
    "    word_count = lambda sentence: len(word_tokenize(sentence))\n",
    "    longest_sentence = max(X_train, key=word_count)\n",
    "    length_long_sentence = len(word_tokenize(longest_sentence))\n",
    "    print(\"Longest sentence length: \",  length_long_sentence)\n",
    "    \n",
    "    print(\"**********************\")\n",
    "    \n",
    "    #Step 5: Pad zeros at the end using the length of the longest word \n",
    "    X_train_padded = pad_sequences(sequences_train,length_long_sentence, padding='post')\n",
    "    X_val_padded = pad_sequences(sequences_valid,padding='post', maxlen = length_long_sentence)\n",
    "\n",
    "\n",
    "    print('Shape of X train and X validation tensor:', X_train_padded.shape,X_val_padded.shape)\n",
    "    print('Shape of label train and validation tensor:', y_train.shape,y_val.shape)\n",
    "    \n",
    "    return X_train_padded, X_val_padded, y_train, y_val, vocab_size, word_index, length_long_sentence"
   ]
  },
  {
   "cell_type": "code",
   "execution_count": 101,
   "id": "italian-professor",
   "metadata": {},
   "outputs": [
    {
     "name": "stdout",
     "output_type": "stream",
     "text": [
      "VOCAB SIZE: Found 3428 unique tokens.\n",
      "Longest sentence length:  173\n",
      "**********************\n",
      "Shape of X train and X validation tensor: (6445, 173) (1612, 173)\n",
      "Shape of label train and validation tensor: (6445,) (1612,)\n"
     ]
    }
   ],
   "source": [
    "X_train_padded, X_val_padded, y_train, y_val, vocab_size, word_index, length_long_sentence= create_features(X_train, X_val, y_train, y_val)"
   ]
  },
  {
   "cell_type": "code",
   "execution_count": 102,
   "id": "authentic-egyptian",
   "metadata": {},
   "outputs": [
    {
     "name": "stdout",
     "output_type": "stream",
     "text": [
      "[[154  98 447 ...   0   0   0]\n",
      " [  1   2   1 ...   0   0   0]\n",
      " [ 68 638 118 ...   0   0   0]\n",
      " ...\n",
      " [  1   2   1 ...   0   0   0]\n",
      " [ 64  28 301 ...   0   0   0]\n",
      " [187   0   0 ...   0   0   0]]\n"
     ]
    }
   ],
   "source": [
    "print(X_train_padded)"
   ]
  },
  {
   "cell_type": "code",
   "execution_count": 103,
   "id": "interracial-belize",
   "metadata": {},
   "outputs": [],
   "source": [
    "'''3] Build embedidng matrix : Word2vec and glove (needs fixes)'''\n",
    "def build_embedding_matrix_word2vec(vocab_size, word_index):\n",
    "    import gensim\n",
    "    from gensim.models import Word2Vec\n",
    "    from gensim.utils import simple_preprocess\n",
    "\n",
    "    from gensim.models.keyedvectors import KeyedVectors\n",
    "    path_to_word2vec = 'E:/RIT/GA-TECHNICAL DEBTS/cnn-satd-ketaki/pretrained-embeddings/fasttext/crawl-300d-2M-subword.vec'\n",
    "    word_vectors = KeyedVectors.load_word2vec_format(path_to_word2vec)\n",
    "    \n",
    "    # max unique words to keep\n",
    "    # define matrix dimensions\n",
    "    EMBEDDING_DIM= 300\n",
    "    vocab_size = vocab_size\n",
    "    \n",
    "    #Size of embed matrix must be = vocab sizeV * dimension of embeding\n",
    "    #Step 6: Generate an embedding matrix to get embeddings representaion of words in our corpus\n",
    "    #Our embedding_matrix now contains pretrained word embeddings for the words in our corpus.\n",
    "    embedding_matrix = np.zeros((vocab_size, EMBEDDING_DIM))\n",
    "\n",
    "    for word, i in word_index.items():\n",
    "        if i>=vocab_size:\n",
    "            continue\n",
    "        try:\n",
    "            embedding_vector = word_vectors[word]\n",
    "            embedding_matrix[i] = embedding_vector\n",
    "        except KeyError:\n",
    "            embedding_matrix[i]=np.random.normal(0,np.sqrt(0.25),EMBEDDING_DIM)\n",
    "    \n",
    "    return embedding_matrix, word_vectors"
   ]
  },
  {
   "cell_type": "code",
   "execution_count": 104,
   "id": "taken-ukraine",
   "metadata": {},
   "outputs": [],
   "source": [
    "embedding_matrix, word_vectors =  build_embedding_matrix_word2vec(vocab_size, word_index)"
   ]
  },
  {
   "cell_type": "markdown",
   "id": "connected-municipality",
   "metadata": {},
   "source": [
    "# Embeddings analyze"
   ]
  },
  {
   "cell_type": "code",
   "execution_count": 105,
   "id": "advanced-spare",
   "metadata": {},
   "outputs": [
    {
     "name": "stdout",
     "output_type": "stream",
     "text": [
      "\n",
      "\n",
      "Embedding matrix shape: (3429, 300)\n"
     ]
    }
   ],
   "source": [
    "print(\"\\n\\nEmbedding matrix shape:\",embedding_matrix.shape)\n",
    "#embeddingMatrix[524] gives embedidngs i.e array of 300 vals\n",
    "#524 is index of word number 524 from our seq array "
   ]
  },
  {
   "cell_type": "code",
   "execution_count": 106,
   "id": "august-beverage",
   "metadata": {},
   "outputs": [
    {
     "data": {
      "text/plain": [
       "[('TODO', 0.7365497350692749),\n",
       " ('TODOs', 0.6493289470672607),\n",
       " ('ifdef', 0.6315240859985352),\n",
       " ('fixme', 0.6227824687957764),\n",
       " ('ifdefs', 0.6155142784118652),\n",
       " ('japhb', 0.6077137589454651),\n",
       " ('pmurias', 0.6055840253829956),\n",
       " ('kfree', 0.6007481217384338),\n",
       " ('hixie', 0.5931932926177979),\n",
       " ('PerlJam', 0.5903174877166748)]"
      ]
     },
     "execution_count": 106,
     "metadata": {},
     "output_type": "execute_result"
    }
   ],
   "source": [
    "word_vectors.similar_by_word(\"FIXME\")"
   ]
  },
  {
   "cell_type": "code",
   "execution_count": 107,
   "id": "dress-utility",
   "metadata": {},
   "outputs": [
    {
     "data": {
      "text/plain": [
       "[('TODO', 0.9392647743225098),\n",
       " ('FIXME', 0.9239456057548523),\n",
       " ('TODOs', 0.7614597082138062),\n",
       " ('VTODO', 0.6649309396743774),\n",
       " ('ifdef', 0.6403259038925171),\n",
       " ('fixme', 0.6384193301200867),\n",
       " ('ifdefs', 0.6251087188720703),\n",
       " ('README', 0.6194640398025513),\n",
       " ('ChangeLog', 0.6060833930969238),\n",
       " ('pmurias', 0.606055736541748)]"
      ]
     },
     "execution_count": 107,
     "metadata": {},
     "output_type": "execute_result"
    }
   ],
   "source": [
    "# get vectors for the words\n",
    "todo = word_vectors.get_vector(\"TODO\")\n",
    "fixme = word_vectors.get_vector(\"FIXME\")\n",
    "# calculate and get closest match for resulting vector\n",
    "word_vectors.similar_by_vector(fixme + todo)"
   ]
  },
  {
   "cell_type": "code",
   "execution_count": 108,
   "id": "artificial-nothing",
   "metadata": {},
   "outputs": [],
   "source": [
    "'''4] Weighted loss func to handle class imbalance'''\n",
    "def sklearn_weighted_loss(y_train):\n",
    "    # Calculate the weights for each class so that we can balance the data\n",
    "    #The minority class will have a higher class weight\n",
    "    from sklearn.utils import class_weight\n",
    "    weights = class_weight.compute_class_weight('balanced',\n",
    "                                                np.unique(y_train),\n",
    "                                                y_train)\n",
    "    print(\"Resultant weight:\", weights)\n",
    "    sklearn_weight = {0: weights[0], 1: weights[1]}\n",
    "    return sklearn_weight\n",
    "\n",
    "def weighted_loss(y_train):\n",
    "    '''Link: https://www.tensorflow.org/tutorials/structured_data/imbalanced_data'''\n",
    "\n",
    "    neg, pos = np.bincount(y_train)\n",
    "    total = neg + pos\n",
    "    # Scaling by total/2 helps keep the loss to a similar magnitude.\n",
    "    # The sum of the weights of all examples stays the same.\n",
    "    weight_for_0 = (1 / neg) * (total / 2.0)\n",
    "    weight_for_1 = (1 / pos) * (total / 2.0)\n",
    "\n",
    "    class_weight = {0: weight_for_0, 1: weight_for_1}\n",
    "\n",
    "    print('Weight for class 0: {:.2f}'.format(weight_for_0))\n",
    "    print('Weight for class 1: {:.2f}'.format(weight_for_1))\n",
    "    return class_weight\n",
    "    "
   ]
  },
  {
   "cell_type": "code",
   "execution_count": 109,
   "id": "grave-baltimore",
   "metadata": {},
   "outputs": [
    {
     "name": "stdout",
     "output_type": "stream",
     "text": [
      "Weight for class 0: 0.52\n",
      "Weight for class 1: 10.92\n",
      "Custom weights: {0: 0.5239837398373983, 1: 10.923728813559322}\n",
      "Resultant weight: [ 0.52398374 10.92372881]\n"
     ]
    },
    {
     "name": "stderr",
     "output_type": "stream",
     "text": [
      "C:\\Users\\ketak\\anaconda3\\envs\\tensorflow\\lib\\site-packages\\sklearn\\utils\\validation.py:70: FutureWarning: Pass classes=[0 1], y=[0 0 0 ... 0 0 0] as keyword args. From version 1.0 (renaming of 0.25) passing these as positional arguments will result in an error\n",
      "  warnings.warn(f\"Pass {args_msg} as keyword args. From version \"\n"
     ]
    }
   ],
   "source": [
    "custom_class_weights = weighted_loss(y_train)\n",
    "print(\"Custom weights:\", custom_class_weights)\n",
    "#or use \n",
    "sklearn_weights= sklearn_weighted_loss(y_train)"
   ]
  },
  {
   "cell_type": "code",
   "execution_count": 110,
   "id": "spread-prototype",
   "metadata": {},
   "outputs": [],
   "source": [
    "from tensorflow.keras.layers import Embedding\n",
    "from tensorflow.keras.layers import Dense, Input, GlobalMaxPooling1D\n",
    "from tensorflow.keras.layers import Conv1D, MaxPooling1D, Embedding, LSTM\n",
    "from tensorflow.keras.models import Model, Sequential\n",
    "from tensorflow.keras.layers import Input, Dense, Embedding, Conv2D, MaxPooling2D, Dropout,concatenate\n",
    "from tensorflow.keras.layers import Reshape, Flatten\n",
    "from tensorflow.keras.callbacks import EarlyStopping\n",
    "from tensorflow.keras.optimizers import Adam,SGD\n",
    "from tensorflow.keras.models import Model\n",
    "from tensorflow.keras import regularizers\n",
    "from tensorflow.keras import backend \n",
    "EMBEDDING_DIM = 300\n"
   ]
  },
  {
   "cell_type": "markdown",
   "id": "interstate-french",
   "metadata": {},
   "source": [
    "# 2D CNN Model "
   ]
  },
  {
   "cell_type": "code",
   "execution_count": 111,
   "id": "prompt-boring",
   "metadata": {},
   "outputs": [],
   "source": [
    "#try window size of 1\n",
    "#(i am underfitting, try ways to improve)\n",
    "#3conv layer, 1.) add DENSE LAYERS before\n",
    "\n",
    "#2) repeat conv layers * 3, padding options to keep o/p size same\n",
    "#try to overfit first, train loss decreases, val loss increases\n",
    "\n",
    "#remove batch norm, drop and regu because those are for overfit. you are underfit so try complex model, more data, augment data\n",
    "'''Questions for DR. Yu:\n",
    "1. Should I add dense layers in b/w conv layers? \n",
    "2. How many units if neurons in dense layers is recommended? Also, ideally how many epochs to start and compare perf?\n",
    "3. Ideal values for loss look like? 0.1?\n",
    "4. Goal is to OVERFIT and then regularize, batch norm and increase F1.\n",
    "5. Match results with that of the paper and try on corrected data?\n",
    "5. What exactly did we do to correct this data?\n",
    "6. Applied DS course plan\n",
    "7. Run on RC?\n",
    "\n",
    "later\n",
    "maybe rnn is good eg\n",
    "'''\n",
    "\n",
    "\n",
    "\n",
    "'''Vinay notes:\n",
    "change filter sizes array to be [1*WordDim, 2*WordDim...] so output is 1*n\n",
    "and then number of filters * filtersizes[i]\n",
    "then do maxpool only on (filtersize,1)\n",
    "hgram matrix 163*300 put h gram matrix on this 162*300 aise 4 matrics 162*300*4 then put filter matrix 162*4\n",
    "hgram = [162, 163, 163]\n",
    "'''\n",
    "filter_sizes = [1,2,3,4,5]\n",
    "num_filters = 64\n",
    "drop = 0.1\n",
    "EMBEDDING_DIM = 300 \n",
    "\n",
    "deep_inputs = Input(shape=(length_long_sentence,))\n",
    "embedding = Embedding(vocab_size, 300, weights=[embedding_matrix], input_length=length_long_sentence, trainable=False)(deep_inputs)\n",
    "reshape = Reshape((length_long_sentence,EMBEDDING_DIM,1))(embedding)\n",
    "\n",
    "conv_0 = Conv2D(num_filters, (filter_sizes[0], EMBEDDING_DIM),activation='relu', kernel_regularizer = regularizers.l2(0.01))(reshape)\n",
    "conv_1 = Conv2D(num_filters, (filter_sizes[1], EMBEDDING_DIM),activation='relu', kernel_regularizer = regularizers.l2(0.01))(reshape)\n",
    "conv_2 = Conv2D(num_filters, (filter_sizes[2], EMBEDDING_DIM),activation='relu', kernel_regularizer = regularizers.l2(0.01))(reshape)\n",
    "conv_3 = Conv2D(num_filters, (filter_sizes[3], EMBEDDING_DIM),activation='relu', kernel_regularizer = regularizers.l2(0.01))(reshape)\n",
    "conv_4 = Conv2D(num_filters, (filter_sizes[4], EMBEDDING_DIM),activation='relu', kernel_regularizer = regularizers.l2(0.01))(reshape)\n",
    "maxpool_0 = MaxPooling2D((length_long_sentence - filter_sizes[0] + 1, 1), strides=(1,1))(conv_0)\n",
    "maxpool_1 = MaxPooling2D((length_long_sentence - filter_sizes[1] + 1, 1), strides=(1,1))(conv_1)\n",
    "maxpool_2 = MaxPooling2D((length_long_sentence - filter_sizes[2] + 1, 1), strides=(1,1))(conv_2)\n",
    "maxpool_3 = MaxPooling2D((length_long_sentence - filter_sizes[3] + 1, 1), strides=(1,1))(conv_3)\n",
    "maxpool_4 = MaxPooling2D((length_long_sentence - filter_sizes[4] + 1, 1), strides=(1,1))(conv_4)\n",
    "\n",
    "\n",
    "merged_tensor = concatenate([maxpool_0, maxpool_1,maxpool_2, maxpool_3, maxpool_4], axis=3)\n",
    "\n",
    "#batch_normalization = tf.keras.layers.BatchNormalization()(merged_tensor)\n",
    "flatten = Flatten()(merged_tensor)\n",
    "#reshape = Reshape((5*num_filters,))(flatten)\n",
    "#dropout = Dropout(drop)(flatten)\n",
    "\n",
    "#add dense layers here, RELU same i/p,  o/p size\n",
    "cov0_dense =  Dense(units=64, activation='relu', kernel_regularizer = regularizers.l2(0.01))(flatten)\n",
    "cov1_dense =  Dense(units=64, activation='relu', kernel_regularizer = regularizers.l2(0.01))(cov0_dense)\n",
    "cov2_dense =  Dense(units=64, activation='relu', kernel_regularizer = regularizers.l2(0.01))(cov1_dense)\n",
    "dense_1 =  Dense(units=64, activation='relu', kernel_regularizer = regularizers.l2(0.01))(cov2_dense)\n",
    "\n",
    "output = Dense(units=1, activation='sigmoid', kernel_regularizer = regularizers.l2(0.01))(dense_1)\n",
    "#p(c=1)+ p(c=0) = 1\n",
    "# this creates a model that includes\n",
    "cnn2d_model = Model(deep_inputs, output)"
   ]
  },
  {
   "cell_type": "code",
   "execution_count": 112,
   "id": "wanted-startup",
   "metadata": {},
   "outputs": [
    {
     "name": "stdout",
     "output_type": "stream",
     "text": [
      "Model: \"model_2\"\n",
      "__________________________________________________________________________________________________\n",
      "Layer (type)                    Output Shape         Param #     Connected to                     \n",
      "==================================================================================================\n",
      "input_3 (InputLayer)            [(None, 173)]        0                                            \n",
      "__________________________________________________________________________________________________\n",
      "embedding_2 (Embedding)         (None, 173, 300)     1028700     input_3[0][0]                    \n",
      "__________________________________________________________________________________________________\n",
      "reshape_2 (Reshape)             (None, 173, 300, 1)  0           embedding_2[0][0]                \n",
      "__________________________________________________________________________________________________\n",
      "conv2d_10 (Conv2D)              (None, 173, 1, 64)   19264       reshape_2[0][0]                  \n",
      "__________________________________________________________________________________________________\n",
      "conv2d_11 (Conv2D)              (None, 172, 1, 64)   38464       reshape_2[0][0]                  \n",
      "__________________________________________________________________________________________________\n",
      "conv2d_12 (Conv2D)              (None, 171, 1, 64)   57664       reshape_2[0][0]                  \n",
      "__________________________________________________________________________________________________\n",
      "conv2d_13 (Conv2D)              (None, 170, 1, 64)   76864       reshape_2[0][0]                  \n",
      "__________________________________________________________________________________________________\n",
      "conv2d_14 (Conv2D)              (None, 169, 1, 64)   96064       reshape_2[0][0]                  \n",
      "__________________________________________________________________________________________________\n",
      "max_pooling2d_10 (MaxPooling2D) (None, 1, 1, 64)     0           conv2d_10[0][0]                  \n",
      "__________________________________________________________________________________________________\n",
      "max_pooling2d_11 (MaxPooling2D) (None, 1, 1, 64)     0           conv2d_11[0][0]                  \n",
      "__________________________________________________________________________________________________\n",
      "max_pooling2d_12 (MaxPooling2D) (None, 1, 1, 64)     0           conv2d_12[0][0]                  \n",
      "__________________________________________________________________________________________________\n",
      "max_pooling2d_13 (MaxPooling2D) (None, 1, 1, 64)     0           conv2d_13[0][0]                  \n",
      "__________________________________________________________________________________________________\n",
      "max_pooling2d_14 (MaxPooling2D) (None, 1, 1, 64)     0           conv2d_14[0][0]                  \n",
      "__________________________________________________________________________________________________\n",
      "concatenate_2 (Concatenate)     (None, 1, 1, 320)    0           max_pooling2d_10[0][0]           \n",
      "                                                                 max_pooling2d_11[0][0]           \n",
      "                                                                 max_pooling2d_12[0][0]           \n",
      "                                                                 max_pooling2d_13[0][0]           \n",
      "                                                                 max_pooling2d_14[0][0]           \n",
      "__________________________________________________________________________________________________\n",
      "flatten_2 (Flatten)             (None, 320)          0           concatenate_2[0][0]              \n",
      "__________________________________________________________________________________________________\n",
      "dense_10 (Dense)                (None, 64)           20544       flatten_2[0][0]                  \n",
      "__________________________________________________________________________________________________\n",
      "dense_11 (Dense)                (None, 64)           4160        dense_10[0][0]                   \n",
      "__________________________________________________________________________________________________\n",
      "dense_12 (Dense)                (None, 64)           4160        dense_11[0][0]                   \n",
      "__________________________________________________________________________________________________\n",
      "dense_13 (Dense)                (None, 64)           4160        dense_12[0][0]                   \n",
      "__________________________________________________________________________________________________\n",
      "dense_14 (Dense)                (None, 1)            65          dense_13[0][0]                   \n",
      "==================================================================================================\n",
      "Total params: 1,350,109\n",
      "Trainable params: 321,409\n",
      "Non-trainable params: 1,028,700\n",
      "__________________________________________________________________________________________________\n",
      "None\n"
     ]
    }
   ],
   "source": [
    "#adam = Adam(lr=0.003)\n",
    "sgd = SGD(learning_rate=0.0095)\n",
    "cnn2d_model.compile(optimizer = sgd , loss='binary_crossentropy', metrics=['accuracy']) \n",
    "#use tf.keras.losses.BinaryCrossentropy(from_logits=True) in loss\n",
    "callbacks = [EarlyStopping(monitor='val_loss',  min_delta=0.000001)]\n",
    "print(cnn2d_model.summary())"
   ]
  },
  {
   "cell_type": "code",
   "execution_count": 113,
   "id": "exact-advocacy",
   "metadata": {},
   "outputs": [
    {
     "name": "stdout",
     "output_type": "stream",
     "text": [
      "Epoch 1/50\n",
      "86/86 [==============================] - 8s 91ms/step - loss: 3.5719 - accuracy: 0.9388 - val_loss: 3.3785 - val_accuracy: 0.9659\n",
      "Epoch 2/50\n",
      "86/86 [==============================] - 8s 87ms/step - loss: 3.2657 - accuracy: 0.9522 - val_loss: 3.1367 - val_accuracy: 0.9659\n",
      "Epoch 3/50\n",
      "86/86 [==============================] - 8s 89ms/step - loss: 3.0846 - accuracy: 0.9522 - val_loss: 2.9891 - val_accuracy: 0.9659\n",
      "Epoch 4/50\n",
      "86/86 [==============================] - 8s 91ms/step - loss: 2.9664 - accuracy: 0.9522 - val_loss: 2.8821 - val_accuracy: 0.9659\n",
      "Epoch 5/50\n",
      "86/86 [==============================] - 8s 92ms/step - loss: 2.8710 - accuracy: 0.9522 - val_loss: 2.7897 - val_accuracy: 0.9659\n",
      "Epoch 6/50\n",
      "86/86 [==============================] - 8s 91ms/step - loss: 2.7834 - accuracy: 0.9522 - val_loss: 2.7035 - val_accuracy: 0.9659\n",
      "Epoch 7/50\n",
      "86/86 [==============================] - 8s 89ms/step - loss: 2.6998 - accuracy: 0.9522 - val_loss: 2.6212 - val_accuracy: 0.9659\n",
      "Epoch 8/50\n",
      "86/86 [==============================] - 8s 92ms/step - loss: 2.6192 - accuracy: 0.9522 - val_loss: 2.5420 - val_accuracy: 0.9659\n",
      "Epoch 9/50\n",
      "86/86 [==============================] - 8s 90ms/step - loss: 2.5413 - accuracy: 0.9522 - val_loss: 2.4655 - val_accuracy: 0.9659\n",
      "Epoch 10/50\n",
      "86/86 [==============================] - 8s 90ms/step - loss: 2.4660 - accuracy: 0.9522 - val_loss: 2.3917 - val_accuracy: 0.9659\n",
      "Epoch 11/50\n",
      "86/86 [==============================] - 8s 90ms/step - loss: 2.3931 - accuracy: 0.9522 - val_loss: 2.3203 - val_accuracy: 0.9659\n",
      "Epoch 12/50\n",
      "86/86 [==============================] - 8s 92ms/step - loss: 2.3227 - accuracy: 0.9522 - val_loss: 2.2512 - val_accuracy: 0.9659\n",
      "Epoch 13/50\n",
      "86/86 [==============================] - 8s 95ms/step - loss: 2.2547 - accuracy: 0.9522 - val_loss: 2.1844 - val_accuracy: 0.9659\n",
      "Epoch 14/50\n",
      "86/86 [==============================] - 9s 100ms/step - loss: 2.1889 - accuracy: 0.9522 - val_loss: 2.1199 - val_accuracy: 0.9659\n",
      "Epoch 15/50\n",
      "86/86 [==============================] - 9s 100ms/step - loss: 2.1252 - accuracy: 0.9522 - val_loss: 2.0574 - val_accuracy: 0.9659\n",
      "Epoch 16/50\n",
      "86/86 [==============================] - 8s 96ms/step - loss: 2.0636 - accuracy: 0.9522 - val_loss: 1.9970 - val_accuracy: 0.9659\n",
      "Epoch 17/50\n",
      "86/86 [==============================] - 8s 94ms/step - loss: 2.0041 - accuracy: 0.9522 - val_loss: 1.9385 - val_accuracy: 0.9659\n",
      "Epoch 18/50\n",
      "86/86 [==============================] - 8s 95ms/step - loss: 1.9464 - accuracy: 0.9522 - val_loss: 1.8820 - val_accuracy: 0.9659\n",
      "Epoch 19/50\n",
      "86/86 [==============================] - 8s 89ms/step - loss: 1.8907 - accuracy: 0.9522 - val_loss: 1.8272 - val_accuracy: 0.9659\n",
      "Epoch 20/50\n",
      "86/86 [==============================] - 8s 91ms/step - loss: 1.8367 - accuracy: 0.9522 - val_loss: 1.7743 - val_accuracy: 0.9659\n",
      "Epoch 21/50\n",
      "86/86 [==============================] - 8s 93ms/step - loss: 1.7845 - accuracy: 0.9522 - val_loss: 1.7230 - val_accuracy: 0.9659\n",
      "Epoch 22/50\n",
      "86/86 [==============================] - 8s 99ms/step - loss: 1.7340 - accuracy: 0.9522 - val_loss: 1.6735 - val_accuracy: 0.9659\n",
      "Epoch 23/50\n",
      "86/86 [==============================] - 8s 93ms/step - loss: 1.6852 - accuracy: 0.9522 - val_loss: 1.6255 - val_accuracy: 0.9659\n",
      "Epoch 24/50\n",
      "86/86 [==============================] - 8s 91ms/step - loss: 1.6379 - accuracy: 0.9522 - val_loss: 1.5791 - val_accuracy: 0.9659\n",
      "Epoch 25/50\n",
      "86/86 [==============================] - 8s 98ms/step - loss: 1.5922 - accuracy: 0.9522 - val_loss: 1.5342 - val_accuracy: 0.9659\n",
      "Epoch 26/50\n",
      "86/86 [==============================] - 8s 92ms/step - loss: 1.5480 - accuracy: 0.9522 - val_loss: 1.4908 - val_accuracy: 0.9659\n",
      "Epoch 27/50\n",
      "86/86 [==============================] - 8s 92ms/step - loss: 1.5051 - accuracy: 0.9522 - val_loss: 1.4487 - val_accuracy: 0.9659\n",
      "Epoch 28/50\n",
      "86/86 [==============================] - 8s 95ms/step - loss: 1.4637 - accuracy: 0.9522 - val_loss: 1.4080 - val_accuracy: 0.9659\n",
      "Epoch 29/50\n",
      "86/86 [==============================] - 8s 91ms/step - loss: 1.4236 - accuracy: 0.9522 - val_loss: 1.3686 - val_accuracy: 0.9659\n",
      "Epoch 30/50\n",
      "86/86 [==============================] - 8s 94ms/step - loss: 1.3847 - accuracy: 0.9522 - val_loss: 1.3305 - val_accuracy: 0.9659\n",
      "Epoch 31/50\n",
      "86/86 [==============================] - 8s 92ms/step - loss: 1.3472 - accuracy: 0.9522 - val_loss: 1.2937 - val_accuracy: 0.9659\n",
      "Epoch 32/50\n",
      "86/86 [==============================] - 8s 90ms/step - loss: 1.3108 - accuracy: 0.9522 - val_loss: 1.2580 - val_accuracy: 0.9659\n",
      "Epoch 33/50\n",
      "86/86 [==============================] - 8s 89ms/step - loss: 1.2757 - accuracy: 0.9522 - val_loss: 1.2235 - val_accuracy: 0.9659\n",
      "Epoch 34/50\n",
      "86/86 [==============================] - 8s 89ms/step - loss: 1.2416 - accuracy: 0.9522 - val_loss: 1.1901 - val_accuracy: 0.9659\n",
      "Epoch 35/50\n",
      "86/86 [==============================] - 8s 90ms/step - loss: 1.2087 - accuracy: 0.9522 - val_loss: 1.1578 - val_accuracy: 0.9659\n",
      "Epoch 36/50\n",
      "86/86 [==============================] - 8s 89ms/step - loss: 1.1768 - accuracy: 0.9522 - val_loss: 1.1265 - val_accuracy: 0.9659\n",
      "Epoch 37/50\n",
      "86/86 [==============================] - 8s 89ms/step - loss: 1.1459 - accuracy: 0.9522 - val_loss: 1.0962 - val_accuracy: 0.9659\n",
      "Epoch 38/50\n",
      "86/86 [==============================] - 8s 93ms/step - loss: 1.1161 - accuracy: 0.9522 - val_loss: 1.0669 - val_accuracy: 0.9659\n",
      "Epoch 39/50\n",
      "86/86 [==============================] - 8s 93ms/step - loss: 1.0872 - accuracy: 0.9522 - val_loss: 1.0386 - val_accuracy: 0.9659\n",
      "Epoch 40/50\n",
      "86/86 [==============================] - 8s 94ms/step - loss: 1.0592 - accuracy: 0.9522 - val_loss: 1.0112 - val_accuracy: 0.9659\n",
      "Epoch 41/50\n",
      "86/86 [==============================] - 8s 96ms/step - loss: 1.0321 - accuracy: 0.9522 - val_loss: 0.9846 - val_accuracy: 0.9659\n",
      "Epoch 42/50\n",
      "86/86 [==============================] - 8s 96ms/step - loss: 1.0059 - accuracy: 0.9522 - val_loss: 0.9589 - val_accuracy: 0.9659\n",
      "Epoch 43/50\n",
      "86/86 [==============================] - 8s 98ms/step - loss: 0.9805 - accuracy: 0.9522 - val_loss: 0.9340 - val_accuracy: 0.9659\n",
      "Epoch 44/50\n",
      "86/86 [==============================] - 8s 96ms/step - loss: 0.9559 - accuracy: 0.9522 - val_loss: 0.9100 - val_accuracy: 0.9659\n",
      "Epoch 45/50\n",
      "86/86 [==============================] - 9s 102ms/step - loss: 0.9321 - accuracy: 0.9522 - val_loss: 0.8867 - val_accuracy: 0.9659\n",
      "Epoch 46/50\n",
      "86/86 [==============================] - 9s 99ms/step - loss: 0.9091 - accuracy: 0.9522 - val_loss: 0.8641 - val_accuracy: 0.9659\n",
      "Epoch 47/50\n",
      "86/86 [==============================] - 8s 96ms/step - loss: 0.8868 - accuracy: 0.9522 - val_loss: 0.8423 - val_accuracy: 0.9659\n",
      "Epoch 48/50\n",
      "86/86 [==============================] - 8s 93ms/step - loss: 0.8652 - accuracy: 0.9522 - val_loss: 0.8212 - val_accuracy: 0.9659\n",
      "Epoch 49/50\n",
      "86/86 [==============================] - 8s 93ms/step - loss: 0.8442 - accuracy: 0.9522 - val_loss: 0.8007 - val_accuracy: 0.9659\n",
      "Epoch 50/50\n",
      "86/86 [==============================] - 8s 93ms/step - loss: 0.8240 - accuracy: 0.9522 - val_loss: 0.7809 - val_accuracy: 0.9659\n"
     ]
    }
   ],
   "source": [
    "#try wihtout weighted loss\n",
    "cnn2d_history = cnn2d_model.fit(X_train_padded, y_train, batch_size=64, epochs=50, validation_split=0.15, \n",
    "                                shuffle = False )\n",
    "#rmsprop or zyada fast wala read"
   ]
  },
  {
   "cell_type": "code",
   "execution_count": 114,
   "id": "living-northeast",
   "metadata": {},
   "outputs": [
    {
     "name": "stdout",
     "output_type": "stream",
     "text": [
      "51/51 [==============================] - 1s 12ms/step - loss: 0.8204 - accuracy: 0.9510\n",
      "Test Loss: 0.8203842639923096\n",
      "Test Accuracy: 0.9509925842285156\n"
     ]
    }
   ],
   "source": [
    "score = cnn2d_model.evaluate(X_val_padded, y_val, verbose=1)\n",
    "print(\"Test Loss:\", score[0])\n",
    "print(\"Test Accuracy:\", score[1])"
   ]
  },
  {
   "cell_type": "code",
   "execution_count": 115,
   "id": "massive-dayton",
   "metadata": {},
   "outputs": [
    {
     "data": {
      "image/png": "[encoded data removed]",
      "text/plain": [
       "<Figure size 432x288 with 1 Axes>"
      ]
     },
     "metadata": {
      "needs_background": "light"
     },
     "output_type": "display_data"
    },
    {
     "data": {
      "image/png": "[encoded data removed]",
      "text/plain": [
       "<Figure size 432x288 with 1 Axes>"
      ]
     },
     "metadata": {
      "needs_background": "light"
     },
     "output_type": "display_data"
    },
    {
     "data": {
      "text/plain": [
       "<Figure size 432x288 with 0 Axes>"
      ]
     },
     "metadata": {},
     "output_type": "display_data"
    }
   ],
   "source": [
    "plt.plot(cnn2d_history.history['accuracy'])\n",
    "plt.plot(cnn2d_history.history['val_accuracy'])\n",
    "\n",
    "plt.title('model accuracy')\n",
    "plt.ylabel('accuracy')\n",
    "plt.xlabel('epoch')\n",
    "plt.legend(['train','test'], loc='upper left')\n",
    "plt.ylim([0,1.01])\n",
    "plt.show()\n",
    "plt.savefig('AccEpoch24_2.png')\n",
    "plt.plot(cnn2d_history.history['loss'])\n",
    "plt.plot(cnn2d_history.history['val_loss'])\n",
    "\n",
    "plt.title('model loss')\n",
    "plt.ylabel('loss')\n",
    "plt.xlabel('epoch')\n",
    "plt.legend(['train','test'], loc='upper left')\n",
    "plt.show()\n",
    "plt.savefig('LossEpoch24_2.png')"
   ]
  },
  {
   "cell_type": "code",
   "execution_count": 116,
   "id": "thermal-birthday",
   "metadata": {},
   "outputs": [
    {
     "data": {
      "text/plain": [
       "'print(\"Precision:\", round(precision_score(y_val, y_pred , average=\"macro\"),2))\\nprint(\"Recall:\", round(recall_score(y_val, y_pred, average=\"macro\"),2))\\nprint(\"F1 Score:\", round(f1_score(y_val, y_pred , average=\"macro\"),2))\\n'"
      ]
     },
     "execution_count": 116,
     "metadata": {},
     "output_type": "execute_result"
    }
   ],
   "source": [
    "from sklearn.metrics import f1_score, precision_score, recall_score, confusion_matrix\n",
    "y_pred1 = cnn2d_model.predict(X_val_padded)\n",
    "\n",
    "y_pred = np.argmax(y_pred1, axis=1) #this is if it was softmax\n",
    "\n",
    "#Sigmoid if > 0.5 eg. \n",
    "\n",
    "# Print f1, precision, and recall scores\n",
    "'''print(\"Precision:\", round(precision_score(y_val, y_pred , average=\"macro\"),2))\n",
    "print(\"Recall:\", round(recall_score(y_val, y_pred, average=\"macro\"),2))\n",
    "print(\"F1 Score:\", round(f1_score(y_val, y_pred , average=\"macro\"),2))\n",
    "'''"
   ]
  },
  {
   "cell_type": "markdown",
   "id": "flying-timer",
   "metadata": {},
   "source": [
    "# Sigmoid gives one ypred, if its val <0.5 class 0 else 1"
   ]
  },
  {
   "cell_type": "code",
   "execution_count": 119,
   "id": "focused-playback",
   "metadata": {},
   "outputs": [
    {
     "name": "stdout",
     "output_type": "stream",
     "text": [
      "F1 Score: 0.0\n"
     ]
    }
   ],
   "source": [
    "#we are basically take satd label f1 as pos labe for satd is 1\n",
    "ypred_ = [1 if pred[0]>0.5 else 0 for pred in y_pred1]\n",
    "print(\"F1 Score:\", round(f1_score(y_val, ypred_ , average=\"binary\", pos_label = 1),2)) #pos label is SATD Label"
   ]
  },
  {
   "cell_type": "code",
   "execution_count": 120,
   "id": "square-quantity",
   "metadata": {},
   "outputs": [
    {
     "name": "stdout",
     "output_type": "stream",
     "text": [
      "Precision: 0.0\n",
      "Recall: 0.0\n"
     ]
    },
    {
     "name": "stderr",
     "output_type": "stream",
     "text": [
      "C:\\Users\\ketak\\anaconda3\\envs\\tensorflow\\lib\\site-packages\\sklearn\\metrics\\_classification.py:1245: UndefinedMetricWarning: Precision is ill-defined and being set to 0.0 due to no predicted samples. Use `zero_division` parameter to control this behavior.\n",
      "  _warn_prf(average, modifier, msg_start, len(result))\n"
     ]
    }
   ],
   "source": [
    "print(\"Precision:\", round(precision_score(y_val, ypred_ , average=\"binary\", pos_label = 1),2))\n",
    "print(\"Recall:\", round(recall_score(y_val, ypred_, average=\"binary\", pos_label = 1),2))"
   ]
  },
  {
   "cell_type": "markdown",
   "id": "authentic-witch",
   "metadata": {},
   "source": [
    "* 1 Sentence => 1 Matrix of size : #words x wD\n",
    "- N sentences => N matrix of above size \n",
    "- every sentence has different words of differnt size\n",
    "- sort the sentences in increasing length of words and truncate the sentences above 95-percentile length"
   ]
  },
  {
   "cell_type": "code",
   "execution_count": 285,
   "id": "permanent-biology",
   "metadata": {},
   "outputs": [],
   "source": [
    "backend.clear_session()"
   ]
  },
  {
   "cell_type": "code",
   "execution_count": 284,
   "id": "decimal-ending",
   "metadata": {},
   "outputs": [
    {
     "data": {
      "text/plain": [
       "array([[0.00328594],\n",
       "       [0.00401548],\n",
       "       [0.03658935],\n",
       "       ...,\n",
       "       [0.03723111],\n",
       "       [0.01027035],\n",
       "       [0.00566216]], dtype=float32)"
      ]
     },
     "execution_count": 284,
     "metadata": {},
     "output_type": "execute_result"
    }
   ],
   "source": [
    "y_pred1"
   ]
  },
  {
   "cell_type": "code",
   "execution_count": null,
   "id": "recognized-couple",
   "metadata": {},
   "outputs": [],
   "source": []
  },
  {
   "cell_type": "code",
   "execution_count": null,
   "id": "stunning-flood",
   "metadata": {},
   "outputs": [],
   "source": []
  },
  {
   "cell_type": "code",
   "execution_count": null,
   "id": "fifty-project",
   "metadata": {},
   "outputs": [],
   "source": []
  },
  {
   "cell_type": "code",
   "execution_count": null,
   "id": "australian-convergence",
   "metadata": {},
   "outputs": [],
   "source": []
  },
  {
   "cell_type": "code",
   "execution_count": null,
   "id": "advisory-campaign",
   "metadata": {},
   "outputs": [],
   "source": []
  },
  {
   "cell_type": "code",
   "execution_count": null,
   "id": "valued-active",
   "metadata": {},
   "outputs": [],
   "source": []
  },
  {
   "cell_type": "code",
   "execution_count": null,
   "id": "dying-lawsuit",
   "metadata": {},
   "outputs": [],
   "source": []
  },
  {
   "cell_type": "code",
   "execution_count": null,
   "id": "improving-singapore",
   "metadata": {},
   "outputs": [],
   "source": []
  },
  {
   "cell_type": "code",
   "execution_count": null,
   "id": "australian-letter",
   "metadata": {},
   "outputs": [],
   "source": []
  },
  {
   "cell_type": "code",
   "execution_count": null,
   "id": "unknown-aspect",
   "metadata": {},
   "outputs": [],
   "source": []
  },
  {
   "cell_type": "code",
   "execution_count": null,
   "id": "indian-puzzle",
   "metadata": {},
   "outputs": [],
   "source": []
  },
  {
   "cell_type": "code",
   "execution_count": 22,
   "id": "raising-minute",
   "metadata": {},
   "outputs": [
    {
     "name": "stdout",
     "output_type": "stream",
     "text": [
      "[' Clear target multiple copies effect inefficiency '\n",
      " ' TODO This nd part method ' ' create new empty project' ... ' ok'\n",
      " ' TODO returns Collection single Object Is callers expect '\n",
      " ' see org argouml cognitive critics Critic toDoItem java lang Object org argouml cognitive Designer ']\n"
     ]
    }
   ],
   "source": [
    "print((X_train))"
   ]
  },
  {
   "cell_type": "code",
   "execution_count": 30,
   "id": "hollow-massachusetts",
   "metadata": {},
   "outputs": [
    {
     "data": {
      "text/plain": [
       "(7561,)"
      ]
     },
     "execution_count": 30,
     "metadata": {},
     "output_type": "execute_result"
    }
   ],
   "source": [
    "X_train.shape"
   ]
  },
  {
   "cell_type": "code",
   "execution_count": 23,
   "id": "optimum-seventh",
   "metadata": {},
   "outputs": [
    {
     "data": {
      "text/plain": [
       "[[265, 1167]]"
      ]
     },
     "execution_count": 23,
     "metadata": {},
     "output_type": "execute_result"
    }
   ],
   "source": [
    "sequences"
   ]
  },
  {
   "cell_type": "code",
   "execution_count": 25,
   "id": "white-cabin",
   "metadata": {},
   "outputs": [
    {
     "data": {
      "text/plain": [
       "(7561, 5351)"
      ]
     },
     "execution_count": 25,
     "metadata": {},
     "output_type": "execute_result"
    }
   ],
   "source": [
    "matrices.shape #not be 5351, should be median remove empty, 95\n",
    "#tokenizer hugging face wala use kar, has truncate keyword"
   ]
  },
  {
   "cell_type": "code",
   "execution_count": 26,
   "id": "together-evolution",
   "metadata": {},
   "outputs": [
    {
     "data": {
      "text/plain": [
       "50"
      ]
     },
     "execution_count": 26,
     "metadata": {},
     "output_type": "execute_result"
    }
   ],
   "source": [
    "len(X_train[0])"
   ]
  },
  {
   "cell_type": "code",
   "execution_count": 27,
   "id": "extraordinary-chaos",
   "metadata": {},
   "outputs": [
    {
     "data": {
      "text/plain": [
       "' '"
      ]
     },
     "execution_count": 27,
     "metadata": {},
     "output_type": "execute_result"
    }
   ],
   "source": [
    "sorted(X_train, key = lambda x : len(x))[0]"
   ]
  },
  {
   "cell_type": "code",
   "execution_count": 14,
   "id": "individual-trust",
   "metadata": {},
   "outputs": [],
   "source": [
    "tokenizer = Tokenizer(filters='!\"#$%&()*+,-./:;<=>?@[\\\\]^_`{|}~\\t\\n\\'',\n",
    "                          lower=True)\n",
    "\n",
    "tokenizer.fit_on_texts(X_train)"
   ]
  },
  {
   "cell_type": "code",
   "execution_count": 17,
   "id": "random-talent",
   "metadata": {},
   "outputs": [],
   "source": [
    "sequences = tokenizer.texts_to_sequences([\"this perhaps not really necessary\"])"
   ]
  },
  {
   "cell_type": "code",
   "execution_count": 18,
   "id": "photographic-cambodia",
   "metadata": {},
   "outputs": [
    {
     "data": {
      "text/plain": [
       "[[14, 918, 320, 152, 514]]"
      ]
     },
     "execution_count": 18,
     "metadata": {},
     "output_type": "execute_result"
    }
   ],
   "source": [
    "sequences"
   ]
  },
  {
   "cell_type": "code",
   "execution_count": 19,
   "id": "optional-transaction",
   "metadata": {},
   "outputs": [
    {
     "data": {
      "text/plain": [
       "(7561,)"
      ]
     },
     "execution_count": 19,
     "metadata": {},
     "output_type": "execute_result"
    }
   ],
   "source": [
    "X_train.shape"
   ]
  },
  {
   "cell_type": "code",
   "execution_count": 20,
   "id": "perceived-collins",
   "metadata": {},
   "outputs": [],
   "source": [
    "matrices = tokenizer.texts_to_matrix(X_train)"
   ]
  },
  {
   "cell_type": "code",
   "execution_count": 21,
   "id": "expanded-sterling",
   "metadata": {},
   "outputs": [
    {
     "data": {
      "text/plain": [
       "array([[0., 0., 0., ..., 0., 0., 0.],\n",
       "       [0., 0., 0., ..., 0., 0., 0.],\n",
       "       [0., 0., 0., ..., 0., 0., 0.],\n",
       "       ...,\n",
       "       [0., 0., 0., ..., 0., 0., 0.],\n",
       "       [0., 0., 0., ..., 0., 0., 0.],\n",
       "       [0., 1., 1., ..., 0., 0., 0.]])"
      ]
     },
     "execution_count": 21,
     "metadata": {},
     "output_type": "execute_result"
    }
   ],
   "source": [
    "matrices"
   ]
  },
  {
   "cell_type": "markdown",
   "id": "incorporate-serial",
   "metadata": {},
   "source": [
    "# Test your prep\n"
   ]
  },
  {
   "cell_type": "code",
   "execution_count": 34,
   "id": "catholic-sight",
   "metadata": {},
   "outputs": [],
   "source": [
    "corpus = [\n",
    "    # Positive Reviews\n",
    "\n",
    "    'This is an excellent movie',\n",
    "    'The move was fantastic I like it',\n",
    "    'You should watch it is brilliant',\n",
    "    'Exceptionally good',\n",
    "    'Wonderfully directed and executed I like it',\n",
    "    'Its a fantastic series',\n",
    "    'Never watched such a brillent movie',\n",
    "    'It is a Wonderful movie',\n",
    "\n",
    "    # Negtive Reviews\n",
    "\n",
    "    \"horrible acting\",\n",
    "    'waste of money',\n",
    "    'pathetic picture',\n",
    "    'It was very boring',\n",
    "    'I did not like the movie',\n",
    "    'The movie was horrible',\n",
    "    'I will not recommend',\n",
    "    'The acting is pathetic'\n",
    "]\n",
    "sentiments = np.array([1,1,1,1,1,1,1,1,0,0,0,0,0,0,0,0])"
   ]
  },
  {
   "cell_type": "code",
   "execution_count": 36,
   "id": "boolean-union",
   "metadata": {},
   "outputs": [],
   "source": [
    "sentiments = np.array([1,1,1,1,1,1,1,1,0,0,0,0,0,0,0,0])"
   ]
  },
  {
   "cell_type": "code",
   "execution_count": 45,
   "id": "dying-warrior",
   "metadata": {},
   "outputs": [
    {
     "name": "stdout",
     "output_type": "stream",
     "text": [
      "45\n"
     ]
    }
   ],
   "source": [
    "#Embedding Layer (wordVocab,wordDim,inputlen) -- transforms words as rows, dimesions as cols matrx\n",
    "from nltk.tokenize import word_tokenize\n",
    "\n",
    "all_words = []\n",
    "for sent in corpus:\n",
    "    tokenize_word = word_tokenize(sent)\n",
    "    #tokenize_word is a list of all words in a sentence\n",
    "    for word in tokenize_word:\n",
    "        all_words.append(word)\n",
    "#all_words\n",
    "#we only need unique words \n",
    "unique_words = set(all_words)\n",
    "print(len(unique_words))\n",
    "vocab_length = len(unique_words)"
   ]
  },
  {
   "cell_type": "code",
   "execution_count": 46,
   "id": "united-straight",
   "metadata": {},
   "outputs": [
    {
     "name": "stdout",
     "output_type": "stream",
     "text": [
      "[[33, 25, 1, 12, 13], [35, 19, 19, 4, 30, 14, 36], [37, 37, 31, 36, 25, 40], [27, 7], [25, 10, 10, 5, 30, 14, 36], [40, 30, 4, 36], [32, 12, 26, 30, 10, 13], [36, 25, 30, 3, 13], [44, 28], [6, 5, 1], [10, 6], [36, 19, 24, 6], [30, 31, 19, 14, 35, 13], [35, 13, 19, 44], [30, 13, 19, 30], [35, 28, 25, 10]]\n"
     ]
    }
   ],
   "source": [
    "from tensorflow.keras.preprocessing.text import one_hot\n",
    "embedded_sentences = [one_hot(sent, vocab_length) for sent in corpus]\n",
    "print(embedded_sentences)\n",
    "#but all these are different lengths so pad them equal to len if longest sentence"
   ]
  },
  {
   "cell_type": "code",
   "execution_count": 47,
   "id": "covered-sterling",
   "metadata": {},
   "outputs": [],
   "source": [
    "word_count = lambda sentence: len(word_tokenize(sentence))\n",
    "longest_sentence = max(corpus, key=word_count)\n",
    "length_long_sentence = len(word_tokenize(longest_sentence))"
   ]
  },
  {
   "cell_type": "code",
   "execution_count": 48,
   "id": "innovative-meeting",
   "metadata": {},
   "outputs": [
    {
     "name": "stdout",
     "output_type": "stream",
     "text": [
      "[[33 25  1 12 13  0  0]\n",
      " [35 19 19  4 30 14 36]\n",
      " [37 37 31 36 25 40  0]\n",
      " [27  7  0  0  0  0  0]\n",
      " [25 10 10  5 30 14 36]\n",
      " [40 30  4 36  0  0  0]\n",
      " [32 12 26 30 10 13  0]\n",
      " [36 25 30  3 13  0  0]\n",
      " [44 28  0  0  0  0  0]\n",
      " [ 6  5  1  0  0  0  0]\n",
      " [10  6  0  0  0  0  0]\n",
      " [36 19 24  6  0  0  0]\n",
      " [30 31 19 14 35 13  0]\n",
      " [35 13 19 44  0  0  0]\n",
      " [30 13 19 30  0  0  0]\n",
      " [35 28 25 10  0  0  0]]\n"
     ]
    }
   ],
   "source": [
    "padded_sentences = pad_sequences(embedded_sentences, length_long_sentence, padding='post')\n",
    "print(padded_sentences)"
   ]
  },
  {
   "cell_type": "code",
   "execution_count": 83,
   "id": "judicial-smooth",
   "metadata": {},
   "outputs": [
    {
     "data": {
      "text/plain": [
       "20"
      ]
     },
     "execution_count": 83,
     "metadata": {},
     "output_type": "execute_result"
    }
   ],
   "source": [
    "e = Embedding(vocab_length, 20, input_length=length_long_sentence)\n",
    "e.output_dim #16 * 7* 20"
   ]
  },
  {
   "cell_type": "code",
   "execution_count": 78,
   "id": "announced-greek",
   "metadata": {},
   "outputs": [],
   "source": [
    "from tensorflow.keras import Sequential\n",
    "model = Sequential()\n",
    "model.add(Embedding(vocab_length, 20, input_length=length_long_sentence))\n",
    "model.add(Flatten())\n",
    "model.add(Dense(1, activation='sigmoid'))"
   ]
  },
  {
   "cell_type": "code",
   "execution_count": 53,
   "id": "black-tuner",
   "metadata": {},
   "outputs": [
    {
     "name": "stdout",
     "output_type": "stream",
     "text": [
      "Model: \"sequential_1\"\n",
      "_________________________________________________________________\n",
      "Layer (type)                 Output Shape              Param #   \n",
      "=================================================================\n",
      "embedding (Embedding)        (None, 7, 20)             900       \n",
      "_________________________________________________________________\n",
      "flatten (Flatten)            (None, 140)               0         \n",
      "_________________________________________________________________\n",
      "dense (Dense)                (None, 1)                 141       \n",
      "=================================================================\n",
      "Total params: 1,041\n",
      "Trainable params: 1,041\n",
      "Non-trainable params: 0\n",
      "_________________________________________________________________\n",
      "None\n"
     ]
    }
   ],
   "source": [
    "model.compile(optimizer='adam', loss='binary_crossentropy', metrics=['acc'])\n",
    "print(model.summary())"
   ]
  },
  {
   "cell_type": "code",
   "execution_count": 54,
   "id": "increased-salmon",
   "metadata": {},
   "outputs": [
    {
     "name": "stdout",
     "output_type": "stream",
     "text": [
      "Epoch 1/100\n",
      "1/1 [==============================] - 0s 0s/step - loss: 0.6940 - acc: 0.4375\n",
      "Epoch 2/100\n",
      "1/1 [==============================] - 0s 0s/step - loss: 0.6906 - acc: 0.5000\n",
      "Epoch 3/100\n",
      "1/1 [==============================] - 0s 0s/step - loss: 0.6873 - acc: 0.6250\n",
      "Epoch 4/100\n",
      "1/1 [==============================] - 0s 0s/step - loss: 0.6839 - acc: 0.6875\n",
      "Epoch 5/100\n",
      "1/1 [==============================] - 0s 0s/step - loss: 0.6805 - acc: 0.7500\n",
      "Epoch 6/100\n",
      "1/1 [==============================] - 0s 0s/step - loss: 0.6771 - acc: 0.7500\n",
      "Epoch 7/100\n",
      "1/1 [==============================] - 0s 0s/step - loss: 0.6738 - acc: 0.8750\n",
      "Epoch 8/100\n",
      "1/1 [==============================] - 0s 0s/step - loss: 0.6704 - acc: 0.8750\n",
      "Epoch 9/100\n",
      "1/1 [==============================] - 0s 0s/step - loss: 0.6670 - acc: 0.8750\n",
      "Epoch 10/100\n",
      "1/1 [==============================] - 0s 0s/step - loss: 0.6637 - acc: 0.8750\n",
      "Epoch 11/100\n",
      "1/1 [==============================] - 0s 0s/step - loss: 0.6603 - acc: 0.8750\n",
      "Epoch 12/100\n",
      "1/1 [==============================] - 0s 0s/step - loss: 0.6569 - acc: 0.8750\n",
      "Epoch 13/100\n",
      "1/1 [==============================] - 0s 0s/step - loss: 0.6535 - acc: 0.9375\n",
      "Epoch 14/100\n",
      "1/1 [==============================] - 0s 8ms/step - loss: 0.6501 - acc: 0.9375\n",
      "Epoch 15/100\n",
      "1/1 [==============================] - 0s 0s/step - loss: 0.6467 - acc: 0.9375\n",
      "Epoch 16/100\n",
      "1/1 [==============================] - 0s 0s/step - loss: 0.6433 - acc: 0.9375\n",
      "Epoch 17/100\n",
      "1/1 [==============================] - 0s 0s/step - loss: 0.6398 - acc: 0.9375\n",
      "Epoch 18/100\n",
      "1/1 [==============================] - 0s 0s/step - loss: 0.6363 - acc: 0.9375\n",
      "Epoch 19/100\n",
      "1/1 [==============================] - 0s 0s/step - loss: 0.6328 - acc: 0.9375\n",
      "Epoch 20/100\n",
      "1/1 [==============================] - 0s 0s/step - loss: 0.6293 - acc: 0.9375\n",
      "Epoch 21/100\n",
      "1/1 [==============================] - 0s 0s/step - loss: 0.6258 - acc: 0.9375\n",
      "Epoch 22/100\n",
      "1/1 [==============================] - 0s 0s/step - loss: 0.6222 - acc: 0.9375\n",
      "Epoch 23/100\n",
      "1/1 [==============================] - 0s 8ms/step - loss: 0.6187 - acc: 0.9375\n",
      "Epoch 24/100\n",
      "1/1 [==============================] - 0s 0s/step - loss: 0.6150 - acc: 0.9375\n",
      "Epoch 25/100\n",
      "1/1 [==============================] - 0s 0s/step - loss: 0.6114 - acc: 0.9375\n",
      "Epoch 26/100\n",
      "1/1 [==============================] - 0s 8ms/step - loss: 0.6077 - acc: 0.9375\n",
      "Epoch 27/100\n",
      "1/1 [==============================] - 0s 0s/step - loss: 0.6041 - acc: 0.9375\n",
      "Epoch 28/100\n",
      "1/1 [==============================] - 0s 0s/step - loss: 0.6003 - acc: 0.9375\n",
      "Epoch 29/100\n",
      "1/1 [==============================] - 0s 0s/step - loss: 0.5966 - acc: 0.9375\n",
      "Epoch 30/100\n",
      "1/1 [==============================] - 0s 0s/step - loss: 0.5928 - acc: 0.9375\n",
      "Epoch 31/100\n",
      "1/1 [==============================] - 0s 8ms/step - loss: 0.5890 - acc: 0.9375\n",
      "Epoch 32/100\n",
      "1/1 [==============================] - 0s 0s/step - loss: 0.5851 - acc: 0.9375\n",
      "Epoch 33/100\n",
      "1/1 [==============================] - 0s 0s/step - loss: 0.5812 - acc: 0.9375\n",
      "Epoch 34/100\n",
      "1/1 [==============================] - 0s 0s/step - loss: 0.5773 - acc: 0.9375\n",
      "Epoch 35/100\n",
      "1/1 [==============================] - 0s 0s/step - loss: 0.5734 - acc: 0.9375\n",
      "Epoch 36/100\n",
      "1/1 [==============================] - 0s 0s/step - loss: 0.5694 - acc: 0.9375\n",
      "Epoch 37/100\n",
      "1/1 [==============================] - 0s 0s/step - loss: 0.5654 - acc: 0.9375\n",
      "Epoch 38/100\n",
      "1/1 [==============================] - 0s 0s/step - loss: 0.5614 - acc: 0.9375\n",
      "Epoch 39/100\n",
      "1/1 [==============================] - 0s 0s/step - loss: 0.5573 - acc: 0.9375\n",
      "Epoch 40/100\n",
      "1/1 [==============================] - 0s 8ms/step - loss: 0.5532 - acc: 0.9375\n",
      "Epoch 41/100\n",
      "1/1 [==============================] - 0s 0s/step - loss: 0.5491 - acc: 0.9375\n",
      "Epoch 42/100\n",
      "1/1 [==============================] - 0s 0s/step - loss: 0.5449 - acc: 0.9375\n",
      "Epoch 43/100\n",
      "1/1 [==============================] - 0s 0s/step - loss: 0.5407 - acc: 0.9375\n",
      "Epoch 44/100\n",
      "1/1 [==============================] - 0s 0s/step - loss: 0.5365 - acc: 0.9375\n",
      "Epoch 45/100\n",
      "1/1 [==============================] - 0s 0s/step - loss: 0.5322 - acc: 0.9375\n",
      "Epoch 46/100\n",
      "1/1 [==============================] - 0s 0s/step - loss: 0.5279 - acc: 0.9375\n",
      "Epoch 47/100\n",
      "1/1 [==============================] - 0s 8ms/step - loss: 0.5236 - acc: 0.9375\n",
      "Epoch 48/100\n",
      "1/1 [==============================] - 0s 0s/step - loss: 0.5193 - acc: 0.9375\n",
      "Epoch 49/100\n",
      "1/1 [==============================] - 0s 0s/step - loss: 0.5149 - acc: 0.9375\n",
      "Epoch 50/100\n",
      "1/1 [==============================] - 0s 0s/step - loss: 0.5106 - acc: 0.9375\n",
      "Epoch 51/100\n",
      "1/1 [==============================] - 0s 0s/step - loss: 0.5062 - acc: 0.9375\n",
      "Epoch 52/100\n",
      "1/1 [==============================] - 0s 0s/step - loss: 0.5017 - acc: 0.9375\n",
      "Epoch 53/100\n",
      "1/1 [==============================] - 0s 0s/step - loss: 0.4973 - acc: 0.9375\n",
      "Epoch 54/100\n",
      "1/1 [==============================] - 0s 0s/step - loss: 0.4928 - acc: 0.9375\n",
      "Epoch 55/100\n",
      "1/1 [==============================] - 0s 0s/step - loss: 0.4883 - acc: 0.9375\n",
      "Epoch 56/100\n",
      "1/1 [==============================] - 0s 0s/step - loss: 0.4838 - acc: 0.9375\n",
      "Epoch 57/100\n",
      "1/1 [==============================] - 0s 0s/step - loss: 0.4793 - acc: 0.9375\n",
      "Epoch 58/100\n",
      "1/1 [==============================] - 0s 0s/step - loss: 0.4748 - acc: 0.9375\n",
      "Epoch 59/100\n",
      "1/1 [==============================] - 0s 8ms/step - loss: 0.4702 - acc: 0.9375\n",
      "Epoch 60/100\n",
      "1/1 [==============================] - 0s 0s/step - loss: 0.4657 - acc: 0.9375\n",
      "Epoch 61/100\n",
      "1/1 [==============================] - 0s 0s/step - loss: 0.4611 - acc: 0.9375\n",
      "Epoch 62/100\n",
      "1/1 [==============================] - 0s 0s/step - loss: 0.4565 - acc: 0.9375\n",
      "Epoch 63/100\n",
      "1/1 [==============================] - 0s 0s/step - loss: 0.4519 - acc: 0.9375\n",
      "Epoch 64/100\n",
      "1/1 [==============================] - 0s 0s/step - loss: 0.4474 - acc: 0.9375\n",
      "Epoch 65/100\n",
      "1/1 [==============================] - 0s 0s/step - loss: 0.4428 - acc: 0.9375\n",
      "Epoch 66/100\n",
      "1/1 [==============================] - 0s 0s/step - loss: 0.4382 - acc: 0.9375\n",
      "Epoch 67/100\n",
      "1/1 [==============================] - 0s 0s/step - loss: 0.4336 - acc: 0.9375\n",
      "Epoch 68/100\n",
      "1/1 [==============================] - 0s 0s/step - loss: 0.4290 - acc: 0.9375\n",
      "Epoch 69/100\n",
      "1/1 [==============================] - 0s 0s/step - loss: 0.4244 - acc: 0.9375\n",
      "Epoch 70/100\n",
      "1/1 [==============================] - 0s 0s/step - loss: 0.4198 - acc: 0.9375\n",
      "Epoch 71/100\n",
      "1/1 [==============================] - 0s 0s/step - loss: 0.4152 - acc: 1.0000\n",
      "Epoch 72/100\n",
      "1/1 [==============================] - 0s 0s/step - loss: 0.4106 - acc: 1.0000\n",
      "Epoch 73/100\n",
      "1/1 [==============================] - 0s 0s/step - loss: 0.4060 - acc: 1.0000\n",
      "Epoch 74/100\n",
      "1/1 [==============================] - 0s 0s/step - loss: 0.4015 - acc: 1.0000\n",
      "Epoch 75/100\n",
      "1/1 [==============================] - 0s 0s/step - loss: 0.3969 - acc: 1.0000\n",
      "Epoch 76/100\n",
      "1/1 [==============================] - 0s 0s/step - loss: 0.3924 - acc: 1.0000\n",
      "Epoch 77/100\n",
      "1/1 [==============================] - 0s 0s/step - loss: 0.3878 - acc: 1.0000\n",
      "Epoch 78/100\n",
      "1/1 [==============================] - 0s 0s/step - loss: 0.3833 - acc: 1.0000\n",
      "Epoch 79/100\n",
      "1/1 [==============================] - 0s 0s/step - loss: 0.3788 - acc: 1.0000\n",
      "Epoch 80/100\n",
      "1/1 [==============================] - 0s 0s/step - loss: 0.3743 - acc: 1.0000\n",
      "Epoch 81/100\n",
      "1/1 [==============================] - 0s 0s/step - loss: 0.3699 - acc: 1.0000\n",
      "Epoch 82/100\n",
      "1/1 [==============================] - 0s 0s/step - loss: 0.3654 - acc: 1.0000\n",
      "Epoch 83/100\n",
      "1/1 [==============================] - 0s 0s/step - loss: 0.3610 - acc: 1.0000\n",
      "Epoch 84/100\n",
      "1/1 [==============================] - 0s 0s/step - loss: 0.3566 - acc: 1.0000\n",
      "Epoch 85/100\n",
      "1/1 [==============================] - 0s 0s/step - loss: 0.3522 - acc: 1.0000\n",
      "Epoch 86/100\n",
      "1/1 [==============================] - 0s 8ms/step - loss: 0.3478 - acc: 1.0000\n",
      "Epoch 87/100\n",
      "1/1 [==============================] - 0s 0s/step - loss: 0.3435 - acc: 1.0000\n",
      "Epoch 88/100\n",
      "1/1 [==============================] - 0s 8ms/step - loss: 0.3392 - acc: 1.0000\n",
      "Epoch 89/100\n",
      "1/1 [==============================] - 0s 0s/step - loss: 0.3349 - acc: 1.0000\n",
      "Epoch 90/100\n"
     ]
    },
    {
     "name": "stdout",
     "output_type": "stream",
     "text": [
      "1/1 [==============================] - 0s 8ms/step - loss: 0.3306 - acc: 1.0000\n",
      "Epoch 91/100\n",
      "1/1 [==============================] - 0s 0s/step - loss: 0.3264 - acc: 1.0000\n",
      "Epoch 92/100\n",
      "1/1 [==============================] - 0s 8ms/step - loss: 0.3222 - acc: 1.0000\n",
      "Epoch 93/100\n",
      "1/1 [==============================] - 0s 0s/step - loss: 0.3180 - acc: 1.0000\n",
      "Epoch 94/100\n",
      "1/1 [==============================] - 0s 8ms/step - loss: 0.3139 - acc: 1.0000\n",
      "Epoch 95/100\n",
      "1/1 [==============================] - 0s 0s/step - loss: 0.3098 - acc: 1.0000\n",
      "Epoch 96/100\n",
      "1/1 [==============================] - 0s 0s/step - loss: 0.3057 - acc: 1.0000\n",
      "Epoch 97/100\n",
      "1/1 [==============================] - 0s 0s/step - loss: 0.3017 - acc: 1.0000\n",
      "Epoch 98/100\n",
      "1/1 [==============================] - 0s 8ms/step - loss: 0.2977 - acc: 1.0000\n",
      "Epoch 99/100\n",
      "1/1 [==============================] - 0s 0s/step - loss: 0.2937 - acc: 1.0000\n",
      "Epoch 100/100\n",
      "1/1 [==============================] - 0s 0s/step - loss: 0.2897 - acc: 1.0000\n"
     ]
    },
    {
     "data": {
      "text/plain": [
       "<tensorflow.python.keras.callbacks.History at 0x18307e5dee0>"
      ]
     },
     "execution_count": 54,
     "metadata": {},
     "output_type": "execute_result"
    }
   ],
   "source": [
    "model.fit(padded_sentences, sentiments, epochs=100, verbose=1)"
   ]
  },
  {
   "cell_type": "code",
   "execution_count": 55,
   "id": "moved-extension",
   "metadata": {},
   "outputs": [
    {
     "name": "stdout",
     "output_type": "stream",
     "text": [
      "Accuracy: 100.000000\n"
     ]
    }
   ],
   "source": [
    "loss, accuracy = model.evaluate(padded_sentences, sentiments, verbose=0)\n",
    "print('Accuracy: %f' % (accuracy*100))\n"
   ]
  },
  {
   "cell_type": "code",
   "execution_count": null,
   "id": "addressed-evening",
   "metadata": {},
   "outputs": [],
   "source": []
  }
 ],
 "metadata": {
  "kernelspec": {
   "display_name": "Python 3",
   "language": "python",
   "name": "python3"
  },
  "language_info": {
   "codemirror_mode": {
    "name": "ipython",
    "version": 3
   },
   "file_extension": ".py",
   "mimetype": "text/x-python",
   "name": "python",
   "nbconvert_exporter": "python",
   "pygments_lexer": "ipython3",
   "version": "3.8.5"
  }
 },
 "nbformat": 4,
 "nbformat_minor": 5
}
