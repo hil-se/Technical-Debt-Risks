{
 "cells": [
  {
   "cell_type": "code",
   "execution_count": 52,
   "id": "distinguished-ballot",
   "metadata": {},
   "outputs": [
    {
     "data": {
      "text/plain": [
       "\"import nltk\\nnltk.download('stopwords')\""
      ]
     },
     "execution_count": 52,
     "metadata": {},
     "output_type": "execute_result"
    }
   ],
   "source": [
    "import tensorflow as tf\n",
    "import pandas as pd\n",
    "import numpy as np\n",
    "import seaborn as sns\n",
    "import matplotlib.pyplot as plt\n",
    "pd.set_option('display.max_colwidth', None)\n",
    "import glob\n",
    "import re\n",
    "from nltk.corpus import stopwords\n",
    "from sklearn.model_selection import train_test_split\n",
    "from tensorflow.keras.preprocessing.text import Tokenizer\n",
    "from tensorflow.keras.preprocessing.sequence import pad_sequences\n",
    "'''import nltk\n",
    "nltk.download('stopwords')'''\n",
    "\n"
   ]
  },
  {
   "cell_type": "code",
   "execution_count": 53,
   "id": "global-visiting",
   "metadata": {},
   "outputs": [
    {
     "data": {
      "application/javascript": [
       "IPython.OutputArea.prototype._should_scroll = function(lines) {\n",
       "    return false;\n",
       "}\n"
      ],
      "text/plain": [
       "<IPython.core.display.Javascript object>"
      ]
     },
     "metadata": {},
     "output_type": "display_data"
    }
   ],
   "source": [
    "%%javascript\n",
    "IPython.OutputArea.prototype._should_scroll = function(lines) {\n",
    "    return false;\n",
    "}"
   ]
  },
  {
   "cell_type": "code",
   "execution_count": 54,
   "id": "detected-source",
   "metadata": {},
   "outputs": [],
   "source": [
    "filenames = list(glob.glob(\"data/*\"))\n",
    "dataframes = [pd.read_csv(file) for file in filenames]"
   ]
  },
  {
   "cell_type": "code",
   "execution_count": 55,
   "id": "rural-substance",
   "metadata": {},
   "outputs": [
    {
     "data": {
      "text/html": [
       "<div>\n",
       "<style scoped>\n",
       "    .dataframe tbody tr th:only-of-type {\n",
       "        vertical-align: middle;\n",
       "    }\n",
       "\n",
       "    .dataframe tbody tr th {\n",
       "        vertical-align: top;\n",
       "    }\n",
       "\n",
       "    .dataframe thead th {\n",
       "        text-align: right;\n",
       "    }\n",
       "</style>\n",
       "<table border=\"1\" class=\"dataframe\">\n",
       "  <thead>\n",
       "    <tr style=\"text-align: right;\">\n",
       "      <th></th>\n",
       "      <th>projectname</th>\n",
       "      <th>classification</th>\n",
       "      <th>commenttext</th>\n",
       "    </tr>\n",
       "  </thead>\n",
       "  <tbody>\n",
       "    <tr>\n",
       "      <th>0</th>\n",
       "      <td>apache-ant-1.7.0</td>\n",
       "      <td>DEFECT</td>\n",
       "      <td>// FIXME formatters are not thread-safe</td>\n",
       "    </tr>\n",
       "    <tr>\n",
       "      <th>1</th>\n",
       "      <td>apache-ant-1.7.0</td>\n",
       "      <td>DEFECT</td>\n",
       "      <td>// XXX: (Jon Skeet) The comment \"if it hasn't been done already\" may // not be strictly true. wrapper.maybeConfigure() won't configure the same // attributes/text more than once, but it may well add the children again, // unless I've missed something.</td>\n",
       "    </tr>\n",
       "    <tr>\n",
       "      <th>2</th>\n",
       "      <td>apache-ant-1.7.0</td>\n",
       "      <td>DEFECT</td>\n",
       "      <td>// I hate to admit it, but we don't know what happened // here.  Throw the Exception.</td>\n",
       "    </tr>\n",
       "    <tr>\n",
       "      <th>3</th>\n",
       "      <td>apache-ant-1.7.0</td>\n",
       "      <td>DEFECT</td>\n",
       "      <td>// Just a note: StarTeam has a status for NEW which implies // that there is an item  on your local machine that is not // in the repository.  These are the items that show up as // NOT IN VIEW in the Starteam GUI. // One would think that we would want to perhaps checkin the // NEW items (not in all cases! - Steve Cohen 15 Dec 2001) // Unfortunately, the sdk doesn't really work, and we can't // actually see  anything with a status of NEW. That is why // we can just check out  everything here without worrying // about losing anything.</td>\n",
       "    </tr>\n",
       "    <tr>\n",
       "      <th>4</th>\n",
       "      <td>apache-ant-1.7.0</td>\n",
       "      <td>DEFECT</td>\n",
       "      <td>// the generated classes must not be added in the generic JAR! // is that buggy on old JOnAS (2.4) ??</td>\n",
       "    </tr>\n",
       "    <tr>\n",
       "      <th>5</th>\n",
       "      <td>apache-ant-1.7.0</td>\n",
       "      <td>DEFECT</td>\n",
       "      <td>// todo: is this comment still relevant ?? // FIXME: need to use a SAXSource as the source for the transform // so we can plug in our own entity resolver</td>\n",
       "    </tr>\n",
       "    <tr>\n",
       "      <th>6</th>\n",
       "      <td>apache-ant-1.7.0</td>\n",
       "      <td>DEFECT</td>\n",
       "      <td>// This is turned off temporarily. There appears to be a bug // in SelectorUtils.matchPattern() where it is recursive on // Windows even if no ** is in pattern. //assertEquals(\"FFFTFFFFFFFF\", results); // Unix // vs //assertEquals(\"FFFTFFFFTFFF\", results); // Windows</td>\n",
       "    </tr>\n",
       "    <tr>\n",
       "      <th>7</th>\n",
       "      <td>apache-ant-1.7.0</td>\n",
       "      <td>DEFECT</td>\n",
       "      <td>// pattern now holds ** while string is not exhausted // this will generate false positives but we can live with that.</td>\n",
       "    </tr>\n",
       "    <tr>\n",
       "      <th>8</th>\n",
       "      <td>apache-ant-1.7.0</td>\n",
       "      <td>DEFECT</td>\n",
       "      <td>// FIXME: Is \"No Namespace is Empty Namespace\" really OK?</td>\n",
       "    </tr>\n",
       "    <tr>\n",
       "      <th>9</th>\n",
       "      <td>apache-ant-1.7.0</td>\n",
       "      <td>DEFECT</td>\n",
       "      <td>// FIXME this is actually not very cpu cycles friendly as we are converting from // dos to java while the underlying Sun implementation will convert // from java to dos time for internal storage...</td>\n",
       "    </tr>\n",
       "  </tbody>\n",
       "</table>\n",
       "</div>"
      ],
      "text/plain": [
       "        projectname classification  \\\n",
       "0  apache-ant-1.7.0         DEFECT   \n",
       "1  apache-ant-1.7.0         DEFECT   \n",
       "2  apache-ant-1.7.0         DEFECT   \n",
       "3  apache-ant-1.7.0         DEFECT   \n",
       "4  apache-ant-1.7.0         DEFECT   \n",
       "5  apache-ant-1.7.0         DEFECT   \n",
       "6  apache-ant-1.7.0         DEFECT   \n",
       "7  apache-ant-1.7.0         DEFECT   \n",
       "8  apache-ant-1.7.0         DEFECT   \n",
       "9  apache-ant-1.7.0         DEFECT   \n",
       "\n",
       "                                                                                                                                                                                                                                                                                                                                                                                                                                                                                                                                                   commenttext  \n",
       "0                                                                                                                                                                                                                                                                                                                                                                                                                                                                                                                      // FIXME formatters are not thread-safe  \n",
       "1                                                                                                                                                                                                                                                                                                  // XXX: (Jon Skeet) The comment \"if it hasn't been done already\" may // not be strictly true. wrapper.maybeConfigure() won't configure the same // attributes/text more than once, but it may well add the children again, // unless I've missed something.  \n",
       "2                                                                                                                                                                                                                                                                                                                                                                                                                                                                        // I hate to admit it, but we don't know what happened // here.  Throw the Exception.  \n",
       "3  // Just a note: StarTeam has a status for NEW which implies // that there is an item  on your local machine that is not // in the repository.  These are the items that show up as // NOT IN VIEW in the Starteam GUI. // One would think that we would want to perhaps checkin the // NEW items (not in all cases! - Steve Cohen 15 Dec 2001) // Unfortunately, the sdk doesn't really work, and we can't // actually see  anything with a status of NEW. That is why // we can just check out  everything here without worrying // about losing anything.  \n",
       "4                                                                                                                                                                                                                                                                                                                                                                                                                                                        // the generated classes must not be added in the generic JAR! // is that buggy on old JOnAS (2.4) ??  \n",
       "5                                                                                                                                                                                                                                                                                                                                                                                                    // todo: is this comment still relevant ?? // FIXME: need to use a SAXSource as the source for the transform // so we can plug in our own entity resolver  \n",
       "6                                                                                                                                                                                                                                                                                  // This is turned off temporarily. There appears to be a bug // in SelectorUtils.matchPattern() where it is recursive on // Windows even if no ** is in pattern. //assertEquals(\"FFFTFFFFFFFF\", results); // Unix // vs //assertEquals(\"FFFTFFFFTFFF\", results); // Windows  \n",
       "7                                                                                                                                                                                                                                                                                                                                                                                                                                       // pattern now holds ** while string is not exhausted // this will generate false positives but we can live with that.  \n",
       "8                                                                                                                                                                                                                                                                                                                                                                                                                                                                                                    // FIXME: Is \"No Namespace is Empty Namespace\" really OK?  \n",
       "9                                                                                                                                                                                                                                                                                                                                                        // FIXME this is actually not very cpu cycles friendly as we are converting from // dos to java while the underlying Sun implementation will convert // from java to dos time for internal storage...  "
      ]
     },
     "execution_count": 55,
     "metadata": {},
     "output_type": "execute_result"
    }
   ],
   "source": [
    "metadata = pd.concat(dataframes)\n",
    "metadata.head(10)"
   ]
  },
  {
   "cell_type": "code",
   "execution_count": 56,
   "id": "weekly-journalism",
   "metadata": {},
   "outputs": [
    {
     "data": {
      "text/html": [
       "<div>\n",
       "<style scoped>\n",
       "    .dataframe tbody tr th:only-of-type {\n",
       "        vertical-align: middle;\n",
       "    }\n",
       "\n",
       "    .dataframe tbody tr th {\n",
       "        vertical-align: top;\n",
       "    }\n",
       "\n",
       "    .dataframe thead th {\n",
       "        text-align: right;\n",
       "    }\n",
       "</style>\n",
       "<table border=\"1\" class=\"dataframe\">\n",
       "  <thead>\n",
       "    <tr style=\"text-align: right;\">\n",
       "      <th></th>\n",
       "      <th>projectname</th>\n",
       "      <th>classification</th>\n",
       "      <th>commenttext</th>\n",
       "      <th>label</th>\n",
       "    </tr>\n",
       "  </thead>\n",
       "  <tbody>\n",
       "    <tr>\n",
       "      <th>0</th>\n",
       "      <td>apache-ant-1.7.0</td>\n",
       "      <td>DEFECT</td>\n",
       "      <td>// FIXME formatters are not thread-safe</td>\n",
       "      <td>1</td>\n",
       "    </tr>\n",
       "    <tr>\n",
       "      <th>1</th>\n",
       "      <td>apache-ant-1.7.0</td>\n",
       "      <td>DEFECT</td>\n",
       "      <td>// XXX: (Jon Skeet) The comment \"if it hasn't been done already\" may // not be strictly true. wrapper.maybeConfigure() won't configure the same // attributes/text more than once, but it may well add the children again, // unless I've missed something.</td>\n",
       "      <td>1</td>\n",
       "    </tr>\n",
       "    <tr>\n",
       "      <th>2</th>\n",
       "      <td>apache-ant-1.7.0</td>\n",
       "      <td>DEFECT</td>\n",
       "      <td>// I hate to admit it, but we don't know what happened // here.  Throw the Exception.</td>\n",
       "      <td>1</td>\n",
       "    </tr>\n",
       "    <tr>\n",
       "      <th>3</th>\n",
       "      <td>apache-ant-1.7.0</td>\n",
       "      <td>DEFECT</td>\n",
       "      <td>// Just a note: StarTeam has a status for NEW which implies // that there is an item  on your local machine that is not // in the repository.  These are the items that show up as // NOT IN VIEW in the Starteam GUI. // One would think that we would want to perhaps checkin the // NEW items (not in all cases! - Steve Cohen 15 Dec 2001) // Unfortunately, the sdk doesn't really work, and we can't // actually see  anything with a status of NEW. That is why // we can just check out  everything here without worrying // about losing anything.</td>\n",
       "      <td>1</td>\n",
       "    </tr>\n",
       "    <tr>\n",
       "      <th>4</th>\n",
       "      <td>apache-ant-1.7.0</td>\n",
       "      <td>DEFECT</td>\n",
       "      <td>// the generated classes must not be added in the generic JAR! // is that buggy on old JOnAS (2.4) ??</td>\n",
       "      <td>1</td>\n",
       "    </tr>\n",
       "  </tbody>\n",
       "</table>\n",
       "</div>"
      ],
      "text/plain": [
       "        projectname classification  \\\n",
       "0  apache-ant-1.7.0         DEFECT   \n",
       "1  apache-ant-1.7.0         DEFECT   \n",
       "2  apache-ant-1.7.0         DEFECT   \n",
       "3  apache-ant-1.7.0         DEFECT   \n",
       "4  apache-ant-1.7.0         DEFECT   \n",
       "\n",
       "                                                                                                                                                                                                                                                                                                                                                                                                                                                                                                                                                   commenttext  \\\n",
       "0                                                                                                                                                                                                                                                                                                                                                                                                                                                                                                                      // FIXME formatters are not thread-safe   \n",
       "1                                                                                                                                                                                                                                                                                                  // XXX: (Jon Skeet) The comment \"if it hasn't been done already\" may // not be strictly true. wrapper.maybeConfigure() won't configure the same // attributes/text more than once, but it may well add the children again, // unless I've missed something.   \n",
       "2                                                                                                                                                                                                                                                                                                                                                                                                                                                                        // I hate to admit it, but we don't know what happened // here.  Throw the Exception.   \n",
       "3  // Just a note: StarTeam has a status for NEW which implies // that there is an item  on your local machine that is not // in the repository.  These are the items that show up as // NOT IN VIEW in the Starteam GUI. // One would think that we would want to perhaps checkin the // NEW items (not in all cases! - Steve Cohen 15 Dec 2001) // Unfortunately, the sdk doesn't really work, and we can't // actually see  anything with a status of NEW. That is why // we can just check out  everything here without worrying // about losing anything.   \n",
       "4                                                                                                                                                                                                                                                                                                                                                                                                                                                        // the generated classes must not be added in the generic JAR! // is that buggy on old JOnAS (2.4) ??   \n",
       "\n",
       "   label  \n",
       "0      1  \n",
       "1      1  \n",
       "2      1  \n",
       "3      1  \n",
       "4      1  "
      ]
     },
     "execution_count": 56,
     "metadata": {},
     "output_type": "execute_result"
    }
   ],
   "source": [
    "#Form labels for SATD: 0 for non-satd and 1 for satd\n",
    "# Is important that text labels are converted into numeric for NN\n",
    "metadata['label'] = np.where(metadata.classification == 'WITHOUT_CLASSIFICATION', 0, 1)\n",
    "metadata.head()"
   ]
  },
  {
   "cell_type": "code",
   "execution_count": 57,
   "id": "marine-flush",
   "metadata": {},
   "outputs": [
    {
     "name": "stdout",
     "output_type": "stream",
     "text": [
      "0    58204\n",
      "1     4071\n",
      "Name: label, dtype: int64\n"
     ]
    }
   ],
   "source": [
    "print(metadata['label'].value_counts())"
   ]
  },
  {
   "cell_type": "code",
   "execution_count": 58,
   "id": "urban-layer",
   "metadata": {},
   "outputs": [
    {
     "name": "stdout",
     "output_type": "stream",
     "text": [
      "['apache-ant-1.7.0' 'apache-jmeter-2.10' 'argouml' 'columba-1.4-src'\n",
      " 'emf-2.4.1' 'hibernate-distribution-3.3.2.GA' 'jEdit-4.2'\n",
      " 'jfreechart-1.0.19' 'jruby-1.4.0' 'sql12']\n"
     ]
    }
   ],
   "source": [
    "print(metadata.projectname.unique())"
   ]
  },
  {
   "cell_type": "code",
   "execution_count": 59,
   "id": "vanilla-coast",
   "metadata": {},
   "outputs": [
    {
     "name": "stdout",
     "output_type": "stream",
     "text": [
      "projectname       0\n",
      "classification    0\n",
      "commenttext       0\n",
      "label             0\n",
      "dtype: int64\n",
      "<class 'pandas.core.frame.DataFrame'>\n",
      "Int64Index: 9452 entries, 0 to 9451\n",
      "Data columns (total 4 columns):\n",
      " #   Column          Non-Null Count  Dtype \n",
      "---  ------          --------------  ----- \n",
      " 0   projectname     9452 non-null   object\n",
      " 1   classification  9452 non-null   object\n",
      " 2   commenttext     9452 non-null   object\n",
      " 3   label           9452 non-null   int32 \n",
      "dtypes: int32(1), object(3)\n",
      "memory usage: 332.3+ KB\n"
     ]
    }
   ],
   "source": [
    "#Specify in project dataset name to test\n",
    "df = metadata[metadata.projectname == 'argouml']\n",
    "print(df.isnull().sum())\n",
    "df.info()"
   ]
  },
  {
   "cell_type": "code",
   "execution_count": 60,
   "id": "understanding-humanitarian",
   "metadata": {},
   "outputs": [
    {
     "data": {
      "text/html": [
       "<div>\n",
       "<style scoped>\n",
       "    .dataframe tbody tr th:only-of-type {\n",
       "        vertical-align: middle;\n",
       "    }\n",
       "\n",
       "    .dataframe tbody tr th {\n",
       "        vertical-align: top;\n",
       "    }\n",
       "\n",
       "    .dataframe thead th {\n",
       "        text-align: right;\n",
       "    }\n",
       "</style>\n",
       "<table border=\"1\" class=\"dataframe\">\n",
       "  <thead>\n",
       "    <tr style=\"text-align: right;\">\n",
       "      <th></th>\n",
       "      <th>projectname</th>\n",
       "      <th>classification</th>\n",
       "      <th>commenttext</th>\n",
       "      <th>label</th>\n",
       "    </tr>\n",
       "  </thead>\n",
       "  <tbody>\n",
       "    <tr>\n",
       "      <th>0</th>\n",
       "      <td>argouml</td>\n",
       "      <td>DEFECT</td>\n",
       "      <td>// TODO: This brute force approach of updating listeners on each // and every event, without checking the event type or any other // information is going to cause lots of InvalidElementExceptions // in subclasses implementations of updateListeners (and they // won't have the event information to make their own decisions)</td>\n",
       "      <td>1</td>\n",
       "    </tr>\n",
       "    <tr>\n",
       "      <th>1</th>\n",
       "      <td>argouml</td>\n",
       "      <td>DEFECT</td>\n",
       "      <td>/* TODO: The above statement also refreshes when \\r                         * we are not shown (to be verified) - hence \\r                         * not entirely correct. */</td>\n",
       "      <td>1</td>\n",
       "    </tr>\n",
       "    <tr>\n",
       "      <th>2</th>\n",
       "      <td>argouml</td>\n",
       "      <td>DEFECT</td>\n",
       "      <td>/**\\r * Class to display graphics for a UML SynchState in a diagram. &lt;p&gt;\\r * \\r * TODO: If the font increases, the circle should grow, too.\\r *\\r * @author pepargouml@yahoo.es\\r */</td>\n",
       "      <td>1</td>\n",
       "    </tr>\n",
       "    <tr>\n",
       "      <th>3</th>\n",
       "      <td>argouml</td>\n",
       "      <td>DEFECT</td>\n",
       "      <td>/* TODO: If this is an ordered list, then you have to\\r                        add in the right location! */</td>\n",
       "      <td>1</td>\n",
       "    </tr>\n",
       "    <tr>\n",
       "      <th>4</th>\n",
       "      <td>argouml</td>\n",
       "      <td>DEFECT</td>\n",
       "      <td>/**\\r     * Rank the nodes depending on their level (position in hierarchy) and set\\r     * their weight to achieve a proper node-sequence for the layout. Rows\\r     * exceeding the maximum row width are split, if standalone nodes are\\r     * available.\\r     * &lt;p&gt;\\r     * Weight the other nodes to determine their columns.\\r     * &lt;p&gt;\\r     * TODO: Weighting doesn't appear to be working as intended because multiple\\r     * groups of children/specializations get intermixed in name order rather\\r     * than being grouped by their parent/generalization. - tfm - 20070314\\r     */</td>\n",
       "      <td>1</td>\n",
       "    </tr>\n",
       "  </tbody>\n",
       "</table>\n",
       "</div>"
      ],
      "text/plain": [
       "  projectname classification  \\\n",
       "0     argouml         DEFECT   \n",
       "1     argouml         DEFECT   \n",
       "2     argouml         DEFECT   \n",
       "3     argouml         DEFECT   \n",
       "4     argouml         DEFECT   \n",
       "\n",
       "                                                                                                                                                                                                                                                                                                                                                                                                                                                                                                                                                                                              commenttext  \\\n",
       "0                                                                                                                                                                                                                                                                      // TODO: This brute force approach of updating listeners on each // and every event, without checking the event type or any other // information is going to cause lots of InvalidElementExceptions // in subclasses implementations of updateListeners (and they // won't have the event information to make their own decisions)   \n",
       "1                                                                                                                                                                                                                                                                                                                                                                                                                           /* TODO: The above statement also refreshes when \\r                         * we are not shown (to be verified) - hence \\r                         * not entirely correct. */   \n",
       "2                                                                                                                                                                                                                                                                                                                                                                                                                    /**\\r * Class to display graphics for a UML SynchState in a diagram. <p>\\r * \\r * TODO: If the font increases, the circle should grow, too.\\r *\\r * @author pepargouml@yahoo.es\\r */   \n",
       "3                                                                                                                                                                                                                                                                                                                                                                                                                                                                                            /* TODO: If this is an ordered list, then you have to\\r                        add in the right location! */   \n",
       "4  /**\\r     * Rank the nodes depending on their level (position in hierarchy) and set\\r     * their weight to achieve a proper node-sequence for the layout. Rows\\r     * exceeding the maximum row width are split, if standalone nodes are\\r     * available.\\r     * <p>\\r     * Weight the other nodes to determine their columns.\\r     * <p>\\r     * TODO: Weighting doesn't appear to be working as intended because multiple\\r     * groups of children/specializations get intermixed in name order rather\\r     * than being grouped by their parent/generalization. - tfm - 20070314\\r     */   \n",
       "\n",
       "   label  \n",
       "0      1  \n",
       "1      1  \n",
       "2      1  \n",
       "3      1  \n",
       "4      1  "
      ]
     },
     "execution_count": 60,
     "metadata": {},
     "output_type": "execute_result"
    }
   ],
   "source": [
    "df[0:5]"
   ]
  },
  {
   "cell_type": "code",
   "execution_count": 61,
   "id": "alternate-measurement",
   "metadata": {},
   "outputs": [],
   "source": [
    "'''\n",
    "1] Preprocessing:\n",
    "1. Remove tags, punctuations, stop words, special characters and return X_clean and y as np arrays\n",
    "2. Split data in train and test. Remember Xclean and y should reflect metadata used for training\n",
    "def remove_tags(text):\n",
    "\n",
    "'''\n",
    "def remove_tags(text):\n",
    "    TAG_RE = re.compile(r'<[^>]+>')\n",
    "\n",
    "    return TAG_RE.sub('', text)\n",
    "    \n",
    "def preprocess_text(sen):\n",
    "    # Removing html tags\n",
    "    sentence = remove_tags(sen)\n",
    "    \n",
    "    # Remove punctuations and numbers\n",
    "    sentence = re.sub('[^a-zA-Z]', ' ', sentence)\n",
    "    \n",
    "    # Single character removal\n",
    "    sentence = re.sub(r\"\\s+[a-zA-Z]\\s+\", ' ', sentence)\n",
    "    \n",
    "    # Removing multiple spaces\n",
    "    sentence = re.sub(r'\\s+', ' ', sentence)\n",
    "    \n",
    "    pattern = re.compile(r'\\b(' + r'|'.join(stopwords.words('english')) + r')\\b\\s*')\n",
    "    sentence = pattern.sub('', sentence)\n",
    "    #print(sentence)\n",
    "    return sentence\n",
    "\n",
    "def prepare_data(_df):\n",
    "    X_clean = []\n",
    "    sentences = list(_df['commenttext'])\n",
    "\n",
    "    for sen in sentences:\n",
    "        X_clean.append(preprocess_text(sen))\n",
    "\n",
    "    print(X_clean[:3], \"\\n\\n*************************\")\n",
    "    X_clean = np.array(X_clean)\n",
    "    y = np.array(_df.label)\n",
    "\n",
    "    print(\"Cleaned corpus shape:\", X_clean.shape, y.shape)\n",
    "    return X_clean, y\n",
    "\n",
    "def split_data(df):\n",
    "    X_clean, y = prepare_data(df)\n",
    "    print(X_clean[:3], \"\\n****kkk****\\n\")\n",
    "    \n",
    "    X_train, X_val, y_train, y_val = train_test_split(X_clean, y, test_size=0.20, random_state=42)\n",
    "    print(\"Train set:\",X_train.shape, y_train.shape)\n",
    "    print(\"Validation set:\", X_val.shape, X_val.shape)\n",
    "    return X_train, X_val, y_train, y_val"
   ]
  },
  {
   "cell_type": "code",
   "execution_count": 62,
   "id": "still-elizabeth",
   "metadata": {},
   "outputs": [
    {
     "name": "stdout",
     "output_type": "stream",
     "text": [
      "[' TODO This brute force approach updating listeners every event without checking event type information going cause lots InvalidElementExceptions subclasses implementations updateListeners event information make decisions ', ' TODO The statement also refreshes shown verified hence entirely correct ', ' Class display graphics UML SynchState diagram TODO If font increases circle grow author pepargouml yahoo es '] \n",
      "\n",
      "*************************\n",
      "Cleaned corpus shape: (9452,) (9452,)\n",
      "[' TODO This brute force approach updating listeners every event without checking event type information going cause lots InvalidElementExceptions subclasses implementations updateListeners event information make decisions '\n",
      " ' TODO The statement also refreshes shown verified hence entirely correct '\n",
      " ' Class display graphics UML SynchState diagram TODO If font increases circle grow author pepargouml yahoo es '] \n",
      "****kkk****\n",
      "\n",
      "Train set: (7561,) (7561,)\n",
      "Validation set: (1891,) (1891,)\n"
     ]
    }
   ],
   "source": [
    "#collect Xtrain and ytrain along with Xval and yval\n",
    "X_train, X_val, y_train, y_val = split_data(df)"
   ]
  },
  {
   "cell_type": "code",
   "execution_count": null,
   "id": "adolescent-pioneer",
   "metadata": {},
   "outputs": [],
   "source": [
    "print(\"\\n\\nTraining set head\\n\\n\")\n",
    "print((X_train))"
   ]
  },
  {
   "cell_type": "code",
   "execution_count": 13,
   "id": "trying-tsunami",
   "metadata": {},
   "outputs": [
    {
     "data": {
      "text/plain": [
       "(7561,)"
      ]
     },
     "execution_count": 13,
     "metadata": {},
     "output_type": "execute_result"
    }
   ],
   "source": [
    "X_train.shape"
   ]
  },
  {
   "cell_type": "code",
   "execution_count": 63,
   "id": "common-galaxy",
   "metadata": {},
   "outputs": [],
   "source": [
    "'''\n",
    "2] Tokenize the splitted data and convert them intp sequences and add post padding.\n",
    "Final output stored as X_train_padded, X-val_padded and y_train and y_val\n",
    "\n",
    "'''\n",
    "\n",
    "def create_features(X_train, X_val, y_train, y_val):\n",
    "    \n",
    "    #Step 2: Use keras to tokenize words and find word.index'length for getting number of unique words i.e vocab size\n",
    "\n",
    "    tokenizer = Tokenizer(filters='!\"#$%&()*+,-./:;<=>?@[\\\\]^_`{|}~\\t\\n\\'',\n",
    "                          lower=True)\n",
    "\n",
    "    tokenizer.fit_on_texts(X_train)\n",
    "\n",
    "    word_index = tokenizer.word_index\n",
    "    vocab_size = len(tokenizer.word_index) + 1\n",
    "    print('VOCAB SIZE: Found %s unique tokens.' % len(word_index))\n",
    "\n",
    "    # Step 3: Embed the sentences into numbers using text to sequences\n",
    "\n",
    "    sequences_train = tokenizer.texts_to_sequences(X_train)\n",
    "    sequences_valid = tokenizer.texts_to_sequences(X_val)\n",
    "\n",
    "    # Step 4: next step is to find the number of words in the longest sentence and then to apply \n",
    "    #padding to the sentences having shorter lengths than the length of the longest sentence\n",
    "\n",
    "    from nltk.tokenize import word_tokenize\n",
    "    word_count = lambda sentence: len(word_tokenize(sentence))\n",
    "    longest_sentence = max(X_train, key=word_count)\n",
    "    length_long_sentence = len(word_tokenize(longest_sentence))\n",
    "    print(\"Longest sentence length: \",  length_long_sentence)\n",
    "    \n",
    "    print(\"**********************\")\n",
    "    \n",
    "    #Step 5: Pad zeros at the end using the length of the longest word \n",
    "    X_train_padded = pad_sequences(sequences_train,length_long_sentence, padding='post')\n",
    "    X_val_padded = pad_sequences(sequences_valid,padding='post', maxlen = length_long_sentence)\n",
    "\n",
    "\n",
    "    print('Shape of X train and X validation tensor:', X_train_padded.shape,X_val_padded.shape)\n",
    "    print('Shape of label train and validation tensor:', y_train.shape,y_val.shape)\n",
    "    \n",
    "    return X_train_padded, X_val_padded, y_train, y_val, vocab_size, word_index, length_long_sentence"
   ]
  },
  {
   "cell_type": "code",
   "execution_count": 64,
   "id": "ethical-album",
   "metadata": {},
   "outputs": [
    {
     "name": "stdout",
     "output_type": "stream",
     "text": [
      "VOCAB SIZE: Found 5350 unique tokens.\n",
      "Longest sentence length:  163\n",
      "**********************\n",
      "Shape of X train and X validation tensor: (7561, 163) (1891, 163)\n",
      "Shape of label train and validation tensor: (7561,) (1891,)\n"
     ]
    }
   ],
   "source": [
    "X_train_padded, X_val_padded, y_train, y_val, vocab_size, word_index, length_long_sentence= create_features(X_train, X_val, y_train, y_val)"
   ]
  },
  {
   "cell_type": "code",
   "execution_count": 65,
   "id": "ignored-disabled",
   "metadata": {},
   "outputs": [
    {
     "name": "stdout",
     "output_type": "stream",
     "text": [
      "[[524  78 222 ...   0   0   0]\n",
      " [  5  14 774 ...   0   0   0]\n",
      " [ 40  26  77 ...   0   0   0]\n",
      " ...\n",
      " [303   0   0 ...   0   0   0]\n",
      " [  5 321 151 ...   0   0   0]\n",
      " [  1   2   3 ...   0   0   0]]\n"
     ]
    }
   ],
   "source": [
    "print(X_train_padded)"
   ]
  },
  {
   "cell_type": "code",
   "execution_count": 68,
   "id": "hydraulic-detective",
   "metadata": {},
   "outputs": [],
   "source": [
    "'''3] Build embedidng matrix : Word2vec and glove (needs fixes)'''\n",
    "def build_embedding_matrix_word2vec(vocab_size, word_index):\n",
    "    import gensim\n",
    "    from gensim.models import Word2Vec\n",
    "    from gensim.utils import simple_preprocess\n",
    "\n",
    "    from gensim.models.keyedvectors import KeyedVectors\n",
    "    path_to_word2vec = 'E:/RIT/GA-TECHNICAL DEBTS/cnn-satd-ketaki/pretrained-embeddings/fasttext/crawl-300d-2M-subword.vec'\n",
    "    word_vectors = KeyedVectors.load_word2vec_format(path_to_word2vec)\n",
    "    \n",
    "    # max unique words to keep\n",
    "    # define matrix dimensions\n",
    "    EMBEDDING_DIM= 300\n",
    "    vocab_size = vocab_size\n",
    "    \n",
    "    #Size of embed matrix must be = vocab sizeV * dimension of embeding\n",
    "    #Step 6: Generate an embedding matrix to get embeddings representaion of words in our corpus\n",
    "    #Our embedding_matrix now contains pretrained word embeddings for the words in our corpus.\n",
    "    embedding_matrix = np.zeros((vocab_size, EMBEDDING_DIM))\n",
    "\n",
    "    for word, i in word_index.items():\n",
    "        if i>=vocab_size:\n",
    "            continue\n",
    "        try:\n",
    "            embedding_vector = word_vectors[word]\n",
    "            embedding_matrix[i] = embedding_vector\n",
    "        except KeyError:\n",
    "            embedding_matrix[i]=np.random.normal(0,np.sqrt(0.25),EMBEDDING_DIM)\n",
    "    \n",
    "    return embedding_matrix, word_vectors"
   ]
  },
  {
   "cell_type": "code",
   "execution_count": 69,
   "id": "greenhouse-panel",
   "metadata": {},
   "outputs": [],
   "source": [
    "embedding_matrix, word_vectors =  build_embedding_matrix_word2vec(vocab_size, word_index)"
   ]
  },
  {
   "cell_type": "markdown",
   "id": "elegant-swing",
   "metadata": {},
   "source": [
    "# Embeddings analyze"
   ]
  },
  {
   "cell_type": "code",
   "execution_count": 70,
   "id": "split-identification",
   "metadata": {},
   "outputs": [
    {
     "name": "stdout",
     "output_type": "stream",
     "text": [
      "\n",
      "\n",
      "Embedding matrix shape: (5351, 300)\n"
     ]
    }
   ],
   "source": [
    "print(\"\\n\\nEmbedding matrix shape:\",embedding_matrix.shape)\n",
    "#embeddingMatrix[524] gives embedidngs i.e array of 300 vals\n",
    "#524 is index of word number 524 from our seq array "
   ]
  },
  {
   "cell_type": "code",
   "execution_count": 71,
   "id": "behind-thought",
   "metadata": {},
   "outputs": [
    {
     "data": {
      "text/plain": [
       "[('TODO', 0.7365497350692749),\n",
       " ('TODOs', 0.6493289470672607),\n",
       " ('ifdef', 0.6315240859985352),\n",
       " ('fixme', 0.6227824687957764),\n",
       " ('ifdefs', 0.6155142784118652),\n",
       " ('japhb', 0.6077137589454651),\n",
       " ('pmurias', 0.6055840253829956),\n",
       " ('kfree', 0.6007481217384338),\n",
       " ('hixie', 0.5931932926177979),\n",
       " ('PerlJam', 0.5903174877166748)]"
      ]
     },
     "execution_count": 71,
     "metadata": {},
     "output_type": "execute_result"
    }
   ],
   "source": [
    "word_vectors.similar_by_word(\"FIXME\")[0:10]"
   ]
  },
  {
   "cell_type": "code",
   "execution_count": 72,
   "id": "tested-central",
   "metadata": {},
   "outputs": [
    {
     "data": {
      "text/plain": [
       "[('TODO', 0.9392647743225098),\n",
       " ('FIXME', 0.9239456057548523),\n",
       " ('TODOs', 0.7614597082138062),\n",
       " ('VTODO', 0.6649309396743774),\n",
       " ('ifdef', 0.6403259038925171),\n",
       " ('fixme', 0.6384193301200867),\n",
       " ('ifdefs', 0.6251087188720703),\n",
       " ('README', 0.6194640398025513),\n",
       " ('ChangeLog', 0.6060833930969238),\n",
       " ('pmurias', 0.606055736541748)]"
      ]
     },
     "execution_count": 72,
     "metadata": {},
     "output_type": "execute_result"
    }
   ],
   "source": [
    "# get vectors for the words\n",
    "fixme = word_vectors.get_vector(\"TODO\")\n",
    "todo = word_vectors.get_vector(\"FIXME\")\n",
    "# calculate and get closest match for resulting vector\n",
    "word_vectors.similar_by_vector(fixme + todo)"
   ]
  },
  {
   "cell_type": "code",
   "execution_count": 73,
   "id": "aerial-samuel",
   "metadata": {},
   "outputs": [],
   "source": [
    "'''4] Weighted loss func to handle class imbalance'''\n",
    "def sklearn_weighted_loss(y_train):\n",
    "    # Calculate the weights for each class so that we can balance the data\n",
    "    #The minority class will have a higher class weight\n",
    "    from sklearn.utils import class_weight\n",
    "    weights = class_weight.compute_class_weight('balanced',\n",
    "                                                np.unique(y_train),\n",
    "                                                y_train)\n",
    "    print(\"Resultant weight:\", weights)\n",
    "    sklearn_weight = {0: weights[0], 1: weights[1]}\n",
    "    return sklearn_weight\n",
    "\n",
    "def weighted_loss(y_train):\n",
    "    '''Link: https://www.tensorflow.org/tutorials/structured_data/imbalanced_data'''\n",
    "\n",
    "    neg, pos = np.bincount(y_train)\n",
    "    total = neg + pos\n",
    "    # Scaling by total/2 helps keep the loss to a similar magnitude.\n",
    "    # The sum of the weights of all examples stays the same.\n",
    "    weight_for_0 = (1 / neg) * (total / 2.0)\n",
    "    weight_for_1 = (1 / pos) * (total / 2.0)\n",
    "\n",
    "    class_weight = {0: weight_for_0, 1: weight_for_1}\n",
    "\n",
    "    print('Weight for class 0: {:.2f}'.format(weight_for_0))\n",
    "    print('Weight for class 1: {:.2f}'.format(weight_for_1))\n",
    "    return class_weight\n",
    "    "
   ]
  },
  {
   "cell_type": "code",
   "execution_count": 74,
   "id": "cellular-billion",
   "metadata": {},
   "outputs": [
    {
     "name": "stdout",
     "output_type": "stream",
     "text": [
      "Weight for class 0: 0.59\n",
      "Weight for class 1: 3.33\n",
      "Custom weights: {0: 0.5882215652715108, 1: 3.333774250440917}\n",
      "Resultant weight: [0.58822157 3.33377425]\n"
     ]
    },
    {
     "name": "stderr",
     "output_type": "stream",
     "text": [
      "C:\\Users\\ketak\\anaconda3\\envs\\tensorflow\\lib\\site-packages\\sklearn\\utils\\validation.py:70: FutureWarning: Pass classes=[0 1], y=[0 0 0 ... 0 1 0] as keyword args. From version 1.0 (renaming of 0.25) passing these as positional arguments will result in an error\n",
      "  warnings.warn(f\"Pass {args_msg} as keyword args. From version \"\n"
     ]
    }
   ],
   "source": [
    "custom_class_weights = weighted_loss(y_train)\n",
    "print(\"Custom weights:\", custom_class_weights)\n",
    "#or use \n",
    "sklearn_weights= sklearn_weighted_loss(y_train)"
   ]
  },
  {
   "cell_type": "code",
   "execution_count": 75,
   "id": "lasting-queen",
   "metadata": {},
   "outputs": [],
   "source": [
    "from tensorflow.keras.layers import Embedding\n",
    "from tensorflow.keras.layers import Dense, Input, GlobalMaxPooling1D\n",
    "from tensorflow.keras.layers import Conv1D, MaxPooling1D, Embedding, LSTM\n",
    "from tensorflow.keras.models import Model, Sequential\n",
    "from tensorflow.keras.layers import Input, Dense, Embedding, Conv2D, MaxPooling2D, Dropout,concatenate\n",
    "from tensorflow.keras.layers import Reshape, Flatten\n",
    "from tensorflow.keras.callbacks import EarlyStopping\n",
    "from tensorflow.keras.optimizers import Adam,SGD\n",
    "from tensorflow.keras.models import Model\n",
    "from tensorflow.keras import regularizers\n",
    "from tensorflow.keras import backend \n",
    "EMBEDDING_DIM = 300\n"
   ]
  },
  {
   "cell_type": "markdown",
   "id": "female-panama",
   "metadata": {},
   "source": [
    "# 2D CNN Model "
   ]
  },
  {
   "cell_type": "code",
   "execution_count": 77,
   "id": "interesting-monitoring",
   "metadata": {},
   "outputs": [],
   "source": [
    "#try window size of 1\n",
    "#(i am underfitting, try ways to improve)\n",
    "#3conv layer, 1.) add DENSE LAYERS before\n",
    "\n",
    "#2) repeat conv layers * 3, padding options to keep o/p size same\n",
    "#try to overfit first, train loss decreases, val loss increases\n",
    "\n",
    "#remove batch norm, drop and regu because those are for overfit. you are underfit so try complex model, more data, augment data\n",
    "'''Questions for DR. Yu:\n",
    "1. Should I add dense layers in b/w conv layers? \n",
    "2. How many units if neurons in dense layers is recommended? Also, ideally how many epochs to start and compare perf?\n",
    "3. Ideal values for loss look like? 0.1?\n",
    "4. Goal is to OVERFIT and then regularize, batch norm and increase F1.\n",
    "5. Match results with that of the paper and try on corrected data?\n",
    "5. What exactly did we do to correct this data?\n",
    "6. Applied DS course plan\n",
    "7. Run on RC?\n",
    "\n",
    "later\n",
    "maybe rnn is good eg\n",
    "'''\n",
    "\n",
    "\n",
    "\n",
    "'''Vinay notes:\n",
    "change filter sizes array to be [1*WordDim, 2*WordDim...] so output is 1*n\n",
    "and then number of filters * filtersizes[i]\n",
    "then do maxpool only on (filtersize,1)\n",
    "hgram matrix 163*300 put h gram matrix on this 162*300 aise 4 matrics 162*300*4 then put filter matrix 162*4\n",
    "hgram = [162, 163, 163]\n",
    "'''\n",
    "filter_sizes = [2,3,4]\n",
    "num_filters = 32\n",
    "drop = 0.1\n",
    "EMBEDDING_DIM = 300 \n",
    "\n",
    "deep_inputs = Input(shape=(length_long_sentence,))\n",
    "embedding = Embedding(vocab_size, 300, weights=[embedding_matrix], input_length=length_long_sentence, trainable=False)(deep_inputs)\n",
    "reshape = Reshape((length_long_sentence,EMBEDDING_DIM,1))(embedding)\n",
    "\n",
    "conv_0 = Conv2D(num_filters, (filter_sizes[0], EMBEDDING_DIM),activation='relu', kernel_regularizer = regularizers.l2(0.01))(reshape)\n",
    "conv_1 = Conv2D(num_filters, (filter_sizes[1], EMBEDDING_DIM),activation='relu', kernel_regularizer = regularizers.l2(0.01))(reshape)\n",
    "conv_2 = Conv2D(num_filters, (filter_sizes[2], EMBEDDING_DIM),activation='relu', kernel_regularizer = regularizers.l2(0.01))(reshape)\n",
    "maxpool_0 = MaxPooling2D((length_long_sentence - filter_sizes[0] + 1, 1), strides=(1,1))(conv_0)\n",
    "maxpool_1 = MaxPooling2D((length_long_sentence - filter_sizes[1] + 1, 1), strides=(1,1))(conv_1)\n",
    "maxpool_2 = MaxPooling2D((length_long_sentence - filter_sizes[2] + 1, 1), strides=(1,1))(conv_2)\n",
    "\n",
    "\n",
    "merged_tensor = concatenate([maxpool_0,maxpool_1,maxpool_2], axis=3)\n",
    "\n",
    "#batch_normalization = tf.keras.layers.BatchNormalization()(merged_tensor)\n",
    "flatten = Flatten()(merged_tensor)\n",
    "reshape = Reshape((3*num_filters,))(flatten)\n",
    "#dropout = Dropout(drop)(flatten)\n",
    "\n",
    "#add dense layers here, RELU same i/p,  o/p size\n",
    "cov0_dense =  Dense(units=64, activation='relu', kernel_regularizer = regularizers.l2(0.01))(flatten)\n",
    "cov1_dense =  Dense(units=64, activation='relu', kernel_regularizer = regularizers.l2(0.01))(cov0_dense)\n",
    "cov2_dense =  Dense(units=64, activation='relu', kernel_regularizer = regularizers.l2(0.01))(cov1_dense)\n",
    "dense_1 =  Dense(units=64, activation='relu', kernel_regularizer = regularizers.l2(0.01))(cov2_dense)\n",
    "\n",
    "output = Dense(units=1, activation='sigmoid', kernel_regularizer = regularizers.l2(0.01))(dense_1)\n",
    "#p(c=1)+ p(c=0) = 1\n",
    "# this creates a model that includes\n",
    "cnn2d_model = Model(deep_inputs, output)"
   ]
  },
  {
   "cell_type": "code",
   "execution_count": 78,
   "id": "personal-facility",
   "metadata": {},
   "outputs": [
    {
     "name": "stdout",
     "output_type": "stream",
     "text": [
      "Model: \"model_4\"\n",
      "__________________________________________________________________________________________________\n",
      "Layer (type)                    Output Shape         Param #     Connected to                     \n",
      "==================================================================================================\n",
      "input_5 (InputLayer)            [(None, 163)]        0                                            \n",
      "__________________________________________________________________________________________________\n",
      "embedding_4 (Embedding)         (None, 163, 300)     1605300     input_5[0][0]                    \n",
      "__________________________________________________________________________________________________\n",
      "reshape_8 (Reshape)             (None, 163, 300, 1)  0           embedding_4[0][0]                \n",
      "__________________________________________________________________________________________________\n",
      "conv2d_12 (Conv2D)              (None, 162, 1, 32)   19232       reshape_8[0][0]                  \n",
      "__________________________________________________________________________________________________\n",
      "conv2d_13 (Conv2D)              (None, 161, 1, 32)   28832       reshape_8[0][0]                  \n",
      "__________________________________________________________________________________________________\n",
      "conv2d_14 (Conv2D)              (None, 160, 1, 32)   38432       reshape_8[0][0]                  \n",
      "__________________________________________________________________________________________________\n",
      "max_pooling2d_12 (MaxPooling2D) (None, 1, 1, 32)     0           conv2d_12[0][0]                  \n",
      "__________________________________________________________________________________________________\n",
      "max_pooling2d_13 (MaxPooling2D) (None, 1, 1, 32)     0           conv2d_13[0][0]                  \n",
      "__________________________________________________________________________________________________\n",
      "max_pooling2d_14 (MaxPooling2D) (None, 1, 1, 32)     0           conv2d_14[0][0]                  \n",
      "__________________________________________________________________________________________________\n",
      "concatenate_4 (Concatenate)     (None, 1, 1, 96)     0           max_pooling2d_12[0][0]           \n",
      "                                                                 max_pooling2d_13[0][0]           \n",
      "                                                                 max_pooling2d_14[0][0]           \n",
      "__________________________________________________________________________________________________\n",
      "flatten_4 (Flatten)             (None, 96)           0           concatenate_4[0][0]              \n",
      "__________________________________________________________________________________________________\n",
      "dense_20 (Dense)                (None, 64)           6208        flatten_4[0][0]                  \n",
      "__________________________________________________________________________________________________\n",
      "dense_21 (Dense)                (None, 64)           4160        dense_20[0][0]                   \n",
      "__________________________________________________________________________________________________\n",
      "dense_22 (Dense)                (None, 64)           4160        dense_21[0][0]                   \n",
      "__________________________________________________________________________________________________\n",
      "dense_23 (Dense)                (None, 64)           4160        dense_22[0][0]                   \n",
      "__________________________________________________________________________________________________\n",
      "dense_24 (Dense)                (None, 1)            65          dense_23[0][0]                   \n",
      "==================================================================================================\n",
      "Total params: 1,710,549\n",
      "Trainable params: 105,249\n",
      "Non-trainable params: 1,605,300\n",
      "__________________________________________________________________________________________________\n",
      "None\n"
     ]
    }
   ],
   "source": [
    "#adam = Adam(lr=0.003)\n",
    "sgd = SGD(learning_rate=0.008)\n",
    "cnn2d_model.compile(optimizer = sgd , loss='binary_crossentropy', metrics=['acc']) \n",
    "#use tf.keras.losses.BinaryCrossentropy(from_logits=True) in loss\n",
    "callbacks = [EarlyStopping(monitor='val_loss',  min_delta=0.0001)]\n",
    "print(cnn2d_model.summary())"
   ]
  },
  {
   "cell_type": "code",
   "execution_count": 83,
   "id": "binding-toner",
   "metadata": {},
   "outputs": [
    {
     "name": "stdout",
     "output_type": "stream",
     "text": [
      "Epoch 1/350\n",
      "101/101 [==============================] - 4s 37ms/step - loss: 3.1227 - acc: 0.6271 - val_loss: 3.0792 - val_acc: 0.5022\n",
      "Epoch 2/350\n",
      "101/101 [==============================] - 4s 38ms/step - loss: 3.0431 - acc: 0.5210 - val_loss: 3.0020 - val_acc: 0.4661\n",
      "Epoch 3/350\n",
      "101/101 [==============================] - 4s 38ms/step - loss: 2.9657 - acc: 0.4426 - val_loss: 2.9229 - val_acc: 0.6502\n",
      "Epoch 4/350\n",
      "101/101 [==============================] - 4s 40ms/step - loss: 2.8902 - acc: 0.6387 - val_loss: 2.8522 - val_acc: 0.4952\n",
      "Epoch 5/350\n",
      "101/101 [==============================] - 4s 38ms/step - loss: 2.8165 - acc: 0.6201 - val_loss: 2.7780 - val_acc: 0.6264\n",
      "Epoch 6/350\n",
      "101/101 [==============================] - 4s 37ms/step - loss: 2.7442 - acc: 0.6278 - val_loss: 2.7026 - val_acc: 0.8018\n",
      "Epoch 7/350\n",
      "101/101 [==============================] - 4s 38ms/step - loss: 2.6729 - acc: 0.7832 - val_loss: 2.6319 - val_acc: 0.8220\n",
      "Epoch 8/350\n",
      "101/101 [==============================] - 4s 38ms/step - loss: 2.6016 - acc: 0.8598 - val_loss: 2.5567 - val_acc: 0.8943\n",
      "Epoch 9/350\n",
      "101/101 [==============================] - 4s 39ms/step - loss: 2.5293 - acc: 0.9020 - val_loss: 2.4808 - val_acc: 0.9119\n",
      "Epoch 10/350\n",
      "101/101 [==============================] - 4s 39ms/step - loss: 2.4544 - acc: 0.9227 - val_loss: 2.3938 - val_acc: 0.9339\n",
      "Epoch 11/350\n",
      "101/101 [==============================] - 4s 39ms/step - loss: 2.3746 - acc: 0.9350 - val_loss: 2.3086 - val_acc: 0.9339\n",
      "Epoch 12/350\n",
      "101/101 [==============================] - 4s 39ms/step - loss: 2.2876 - acc: 0.9373 - val_loss: 2.2125 - val_acc: 0.9366\n",
      "Epoch 13/350\n",
      "101/101 [==============================] - 4s 39ms/step - loss: 2.1887 - acc: 0.9388 - val_loss: 2.1070 - val_acc: 0.9383\n",
      "Epoch 14/350\n",
      "101/101 [==============================] - 4s 39ms/step - loss: 2.0735 - acc: 0.9446 - val_loss: 1.9911 - val_acc: 0.9410\n",
      "Epoch 15/350\n",
      "101/101 [==============================] - 4s 39ms/step - loss: 1.9595 - acc: 0.9490 - val_loss: 1.8908 - val_acc: 0.9427\n",
      "Epoch 16/350\n",
      "101/101 [==============================] - 4s 39ms/step - loss: 1.8659 - acc: 0.9494 - val_loss: 1.8174 - val_acc: 0.9427\n",
      "Epoch 17/350\n",
      "101/101 [==============================] - 4s 39ms/step - loss: 1.7931 - acc: 0.9510 - val_loss: 1.7558 - val_acc: 0.9427\n",
      "Epoch 18/350\n",
      "101/101 [==============================] - 4s 39ms/step - loss: 1.7337 - acc: 0.9511 - val_loss: 1.6997 - val_acc: 0.9445\n",
      "Epoch 19/350\n",
      "101/101 [==============================] - 4s 40ms/step - loss: 1.6798 - acc: 0.9533 - val_loss: 1.6535 - val_acc: 0.9454\n",
      "Epoch 20/350\n",
      "101/101 [==============================] - 4s 40ms/step - loss: 1.6303 - acc: 0.9550 - val_loss: 1.6139 - val_acc: 0.9445\n",
      "Epoch 21/350\n",
      "101/101 [==============================] - 4s 40ms/step - loss: 1.5839 - acc: 0.9556 - val_loss: 1.5754 - val_acc: 0.9427\n",
      "Epoch 22/350\n",
      "101/101 [==============================] - 4s 40ms/step - loss: 1.5395 - acc: 0.9556 - val_loss: 1.5280 - val_acc: 0.9436\n",
      "Epoch 23/350\n",
      "101/101 [==============================] - 4s 40ms/step - loss: 1.4965 - acc: 0.9567 - val_loss: 1.4838 - val_acc: 0.9445\n",
      "Epoch 24/350\n",
      "101/101 [==============================] - 4s 42ms/step - loss: 1.4562 - acc: 0.9574 - val_loss: 1.4777 - val_acc: 0.9419\n",
      "Epoch 25/350\n",
      "101/101 [==============================] - ETA: 0s - loss: 1.4174 - acc: 0.957 - 4s 40ms/step - loss: 1.4168 - acc: 0.9577 - val_loss: 1.4163 - val_acc: 0.9436\n",
      "Epoch 26/350\n",
      "101/101 [==============================] - 4s 39ms/step - loss: 1.3782 - acc: 0.9583 - val_loss: 1.3748 - val_acc: 0.9445\n",
      "Epoch 27/350\n",
      "101/101 [==============================] - 4s 39ms/step - loss: 1.3418 - acc: 0.9589 - val_loss: 1.3450 - val_acc: 0.9436\n",
      "Epoch 28/350\n",
      "101/101 [==============================] - 4s 40ms/step - loss: 1.3060 - acc: 0.9592 - val_loss: 1.3300 - val_acc: 0.9427\n",
      "Epoch 29/350\n",
      "101/101 [==============================] - 4s 40ms/step - loss: 1.2721 - acc: 0.9592 - val_loss: 1.2786 - val_acc: 0.9427\n",
      "Epoch 30/350\n",
      "101/101 [==============================] - 4s 40ms/step - loss: 1.2387 - acc: 0.9613 - val_loss: 1.2506 - val_acc: 0.9427\n",
      "Epoch 31/350\n",
      "101/101 [==============================] - 4s 42ms/step - loss: 1.2068 - acc: 0.9625 - val_loss: 1.2228 - val_acc: 0.9427\n",
      "Epoch 32/350\n",
      "101/101 [==============================] - 4s 40ms/step - loss: 1.1765 - acc: 0.9651 - val_loss: 1.1907 - val_acc: 0.9533\n",
      "Epoch 33/350\n",
      "101/101 [==============================] - 4s 40ms/step - loss: 1.1465 - acc: 0.9681 - val_loss: 1.1623 - val_acc: 0.9542\n",
      "Epoch 34/350\n",
      "101/101 [==============================] - 4s 40ms/step - loss: 1.1180 - acc: 0.9697 - val_loss: 1.1464 - val_acc: 0.9524\n",
      "Epoch 35/350\n",
      "101/101 [==============================] - 4s 38ms/step - loss: 1.0902 - acc: 0.9693 - val_loss: 1.1107 - val_acc: 0.9568\n",
      "Epoch 36/350\n",
      "101/101 [==============================] - 4s 39ms/step - loss: 1.0635 - acc: 0.9700 - val_loss: 1.0952 - val_acc: 0.9542\n",
      "Epoch 37/350\n",
      "101/101 [==============================] - 4s 40ms/step - loss: 1.0383 - acc: 0.9700 - val_loss: 1.0636 - val_acc: 0.95590s - loss: 1.0411 - a\n",
      "Epoch 38/350\n",
      "101/101 [==============================] - 4s 39ms/step - loss: 1.0128 - acc: 0.9700 - val_loss: 1.0392 - val_acc: 0.9568\n",
      "Epoch 39/350\n",
      "101/101 [==============================] - 4s 40ms/step - loss: 0.9885 - acc: 0.9711 - val_loss: 1.0177 - val_acc: 0.9568\n",
      "Epoch 40/350\n",
      "101/101 [==============================] - 4s 40ms/step - loss: 0.9653 - acc: 0.9714 - val_loss: 0.9978 - val_acc: 0.9559\n",
      "Epoch 41/350\n",
      "101/101 [==============================] - 4s 40ms/step - loss: 0.9424 - acc: 0.9717 - val_loss: 0.9746 - val_acc: 0.9559\n",
      "Epoch 42/350\n",
      "101/101 [==============================] - 4s 40ms/step - loss: 0.9209 - acc: 0.9721 - val_loss: 0.9589 - val_acc: 0.9551\n",
      "Epoch 43/350\n",
      "101/101 [==============================] - 4s 40ms/step - loss: 0.9001 - acc: 0.9721 - val_loss: 0.9353 - val_acc: 0.9559\n",
      "Epoch 44/350\n",
      "101/101 [==============================] - 4s 40ms/step - loss: 0.8789 - acc: 0.9718 - val_loss: 0.9621 - val_acc: 0.9427\n",
      "Epoch 45/350\n",
      "101/101 [==============================] - 4s 39ms/step - loss: 0.8603 - acc: 0.9725 - val_loss: 0.9045 - val_acc: 0.9524\n",
      "Epoch 46/350\n",
      "101/101 [==============================] - 4s 40ms/step - loss: 0.8403 - acc: 0.9728 - val_loss: 0.8842 - val_acc: 0.9533\n",
      "Epoch 47/350\n",
      "101/101 [==============================] - 4s 41ms/step - loss: 0.8218 - acc: 0.9725 - val_loss: 0.8652 - val_acc: 0.9533\n",
      "Epoch 48/350\n",
      "101/101 [==============================] - 4s 41ms/step - loss: 0.8037 - acc: 0.9731 - val_loss: 0.8372 - val_acc: 0.9551\n",
      "Epoch 49/350\n",
      "101/101 [==============================] - 4s 44ms/step - loss: 0.7865 - acc: 0.9726 - val_loss: 0.8402 - val_acc: 0.9489\n",
      "Epoch 50/350\n",
      "101/101 [==============================] - 5s 48ms/step - loss: 0.7702 - acc: 0.9735 - val_loss: 0.8133 - val_acc: 0.9551\n",
      "Epoch 51/350\n",
      "101/101 [==============================] - 5s 45ms/step - loss: 0.7533 - acc: 0.9739 - val_loss: 0.7992 - val_acc: 0.9542\n",
      "Epoch 52/350\n",
      "101/101 [==============================] - 4s 44ms/step - loss: 0.7378 - acc: 0.9735 - val_loss: 0.7874 - val_acc: 0.9515\n",
      "Epoch 53/350\n",
      "101/101 [==============================] - 5s 45ms/step - loss: 0.7226 - acc: 0.9740 - val_loss: 0.7683 - val_acc: 0.9542\n",
      "Epoch 54/350\n",
      "101/101 [==============================] - 4s 40ms/step - loss: 0.7082 - acc: 0.9745 - val_loss: 0.7590 - val_acc: 0.9542\n",
      "Epoch 55/350\n",
      "101/101 [==============================] - 4s 39ms/step - loss: 0.6941 - acc: 0.9749 - val_loss: 0.7416 - val_acc: 0.9533\n",
      "Epoch 56/350\n",
      "101/101 [==============================] - 4s 37ms/step - loss: 0.6797 - acc: 0.9743 - val_loss: 0.7292 - val_acc: 0.9515\n",
      "Epoch 57/350\n",
      "101/101 [==============================] - 4s 37ms/step - loss: 0.6671 - acc: 0.9742 - val_loss: 0.7267 - val_acc: 0.9507\n",
      "Epoch 58/350\n",
      "101/101 [==============================] - 4s 37ms/step - loss: 0.6536 - acc: 0.9745 - val_loss: 0.7092 - val_acc: 0.9515\n",
      "Epoch 59/350\n",
      "101/101 [==============================] - 4s 38ms/step - loss: 0.6411 - acc: 0.9749 - val_loss: 0.6977 - val_acc: 0.9515\n",
      "Epoch 60/350\n",
      "101/101 [==============================] - 4s 38ms/step - loss: 0.6288 - acc: 0.9751 - val_loss: 0.6803 - val_acc: 0.9524\n",
      "Epoch 61/350\n"
     ]
    },
    {
     "name": "stdout",
     "output_type": "stream",
     "text": [
      "101/101 [==============================] - 5s 49ms/step - loss: 0.6172 - acc: 0.9746 - val_loss: 0.6801 - val_acc: 0.9498\n",
      "Epoch 62/350\n",
      "101/101 [==============================] - 4s 39ms/step - loss: 0.6063 - acc: 0.9751 - val_loss: 0.6636 - val_acc: 0.9507\n",
      "Epoch 63/350\n",
      "101/101 [==============================] - 5s 45ms/step - loss: 0.5951 - acc: 0.9756 - val_loss: 0.6515 - val_acc: 0.9515\n",
      "Epoch 64/350\n",
      "101/101 [==============================] - 4s 42ms/step - loss: 0.5849 - acc: 0.9754 - val_loss: 0.6464 - val_acc: 0.9507\n",
      "Epoch 65/350\n",
      "101/101 [==============================] - 4s 42ms/step - loss: 0.5740 - acc: 0.9753 - val_loss: 0.6551 - val_acc: 0.9480\n",
      "Epoch 66/350\n",
      "101/101 [==============================] - 4s 40ms/step - loss: 0.5646 - acc: 0.9757 - val_loss: 0.6192 - val_acc: 0.9515\n",
      "Epoch 67/350\n",
      "101/101 [==============================] - 4s 40ms/step - loss: 0.5545 - acc: 0.9757 - val_loss: 0.6138 - val_acc: 0.9507\n",
      "Epoch 68/350\n",
      "101/101 [==============================] - 5s 46ms/step - loss: 0.5450 - acc: 0.9760 - val_loss: 0.5959 - val_acc: 0.9568\n",
      "Epoch 69/350\n",
      "101/101 [==============================] - 4s 40ms/step - loss: 0.5368 - acc: 0.9757 - val_loss: 0.5972 - val_acc: 0.9515\n",
      "Epoch 70/350\n",
      "101/101 [==============================] - 4s 41ms/step - loss: 0.5276 - acc: 0.9760 - val_loss: 0.5915 - val_acc: 0.9507\n",
      "Epoch 71/350\n",
      "101/101 [==============================] - 4s 43ms/step - loss: 0.5187 - acc: 0.9763 - val_loss: 0.5900 - val_acc: 0.9489\n",
      "Epoch 72/350\n",
      "101/101 [==============================] - 5s 47ms/step - loss: 0.5108 - acc: 0.9760 - val_loss: 0.5802 - val_acc: 0.9498\n",
      "Epoch 73/350\n",
      "101/101 [==============================] - 5s 45ms/step - loss: 0.5030 - acc: 0.9763 - val_loss: 0.5636 - val_acc: 0.9524\n",
      "Epoch 74/350\n",
      "101/101 [==============================] - 5s 46ms/step - loss: 0.4951 - acc: 0.9765 - val_loss: 0.5684 - val_acc: 0.9489\n",
      "Epoch 75/350\n",
      "101/101 [==============================] - 4s 43ms/step - loss: 0.4878 - acc: 0.9765 - val_loss: 0.5450 - val_acc: 0.9542\n",
      "Epoch 76/350\n",
      "101/101 [==============================] - 4s 42ms/step - loss: 0.4809 - acc: 0.9768 - val_loss: 0.5544 - val_acc: 0.9507\n",
      "Epoch 77/350\n",
      "101/101 [==============================] - 4s 43ms/step - loss: 0.4735 - acc: 0.9770 - val_loss: 0.5481 - val_acc: 0.9471\n",
      "Epoch 78/350\n",
      "101/101 [==============================] - 4s 43ms/step - loss: 0.4674 - acc: 0.9771 - val_loss: 0.5352 - val_acc: 0.9507\n",
      "Epoch 79/350\n",
      "101/101 [==============================] - 4s 42ms/step - loss: 0.4599 - acc: 0.9773 - val_loss: 0.5507 - val_acc: 0.9463\n",
      "Epoch 80/350\n",
      "101/101 [==============================] - 4s 43ms/step - loss: 0.4544 - acc: 0.9770 - val_loss: 0.5191 - val_acc: 0.9507\n",
      "Epoch 81/350\n",
      "101/101 [==============================] - 4s 42ms/step - loss: 0.4473 - acc: 0.9779 - val_loss: 0.5058 - val_acc: 0.9559\n",
      "Epoch 82/350\n",
      "101/101 [==============================] - 4s 43ms/step - loss: 0.4420 - acc: 0.9768 - val_loss: 0.5165 - val_acc: 0.9498\n",
      "Epoch 83/350\n",
      "101/101 [==============================] - 4s 42ms/step - loss: 0.4359 - acc: 0.9773 - val_loss: 0.5124 - val_acc: 0.9489\n",
      "Epoch 84/350\n",
      "101/101 [==============================] - 4s 43ms/step - loss: 0.4305 - acc: 0.9770 - val_loss: 0.5005 - val_acc: 0.9524\n",
      "Epoch 85/350\n",
      "101/101 [==============================] - 4s 41ms/step - loss: 0.4249 - acc: 0.9777 - val_loss: 0.4944 - val_acc: 0.9507\n",
      "Epoch 86/350\n",
      "101/101 [==============================] - 4s 42ms/step - loss: 0.4194 - acc: 0.9779 - val_loss: 0.5350 - val_acc: 0.9374\n",
      "Epoch 87/350\n",
      "101/101 [==============================] - 4s 41ms/step - loss: 0.4150 - acc: 0.9776 - val_loss: 0.5016 - val_acc: 0.9454\n",
      "Epoch 88/350\n",
      "101/101 [==============================] - 4s 42ms/step - loss: 0.4098 - acc: 0.9774 - val_loss: 0.4723 - val_acc: 0.9551\n",
      "Epoch 89/350\n",
      "101/101 [==============================] - 4s 42ms/step - loss: 0.4050 - acc: 0.9776 - val_loss: 0.4819 - val_acc: 0.9524\n",
      "Epoch 90/350\n",
      "101/101 [==============================] - 4s 43ms/step - loss: 0.4000 - acc: 0.9781 - val_loss: 0.4703 - val_acc: 0.9551\n",
      "Epoch 91/350\n",
      "101/101 [==============================] - 4s 41ms/step - loss: 0.3958 - acc: 0.9776 - val_loss: 0.4605 - val_acc: 0.9559\n",
      "Epoch 92/350\n",
      "101/101 [==============================] - 4s 42ms/step - loss: 0.3911 - acc: 0.9785 - val_loss: 0.4622 - val_acc: 0.9524\n",
      "Epoch 93/350\n",
      "101/101 [==============================] - 4s 43ms/step - loss: 0.3868 - acc: 0.9785 - val_loss: 0.4908 - val_acc: 0.9401\n",
      "Epoch 94/350\n",
      "101/101 [==============================] - 4s 41ms/step - loss: 0.3826 - acc: 0.9781 - val_loss: 0.4550 - val_acc: 0.9533\n",
      "Epoch 95/350\n",
      "101/101 [==============================] - 4s 42ms/step - loss: 0.3789 - acc: 0.9776 - val_loss: 0.4851 - val_acc: 0.9401\n",
      "Epoch 96/350\n",
      "101/101 [==============================] - 4s 42ms/step - loss: 0.3747 - acc: 0.9785 - val_loss: 0.4495 - val_acc: 0.9524\n",
      "Epoch 97/350\n",
      "101/101 [==============================] - 4s 42ms/step - loss: 0.3718 - acc: 0.9787 - val_loss: 0.4522 - val_acc: 0.9515\n",
      "Epoch 98/350\n",
      "101/101 [==============================] - 4s 42ms/step - loss: 0.3680 - acc: 0.9788 - val_loss: 0.4514 - val_acc: 0.9515\n",
      "Epoch 99/350\n",
      "101/101 [==============================] - 4s 42ms/step - loss: 0.3642 - acc: 0.9790 - val_loss: 0.4495 - val_acc: 0.9507\n",
      "Epoch 100/350\n",
      "101/101 [==============================] - 4s 42ms/step - loss: 0.3609 - acc: 0.9787 - val_loss: 0.4466 - val_acc: 0.9507\n",
      "Epoch 101/350\n",
      "101/101 [==============================] - 4s 41ms/step - loss: 0.3575 - acc: 0.9796 - val_loss: 0.4292 - val_acc: 0.9559\n",
      "Epoch 102/350\n",
      "101/101 [==============================] - 4s 42ms/step - loss: 0.3545 - acc: 0.9788 - val_loss: 0.4296 - val_acc: 0.9559\n",
      "Epoch 103/350\n",
      "101/101 [==============================] - 4s 42ms/step - loss: 0.3514 - acc: 0.9788 - val_loss: 0.4243 - val_acc: 0.9559\n",
      "Epoch 104/350\n",
      "101/101 [==============================] - 4s 43ms/step - loss: 0.3482 - acc: 0.9793 - val_loss: 0.4381 - val_acc: 0.9489\n",
      "Epoch 105/350\n",
      "101/101 [==============================] - 4s 42ms/step - loss: 0.3448 - acc: 0.9790 - val_loss: 0.4318 - val_acc: 0.9515\n",
      "Epoch 106/350\n",
      "101/101 [==============================] - 4s 42ms/step - loss: 0.3423 - acc: 0.9790 - val_loss: 0.4357 - val_acc: 0.9471\n",
      "Epoch 107/350\n",
      "101/101 [==============================] - 4s 43ms/step - loss: 0.3400 - acc: 0.9796 - val_loss: 0.4242 - val_acc: 0.9533\n",
      "Epoch 108/350\n",
      "101/101 [==============================] - 4s 44ms/step - loss: 0.3369 - acc: 0.9793 - val_loss: 0.4423 - val_acc: 0.9436\n",
      "Epoch 109/350\n",
      "101/101 [==============================] - 4s 43ms/step - loss: 0.3347 - acc: 0.9790 - val_loss: 0.4271 - val_acc: 0.9480\n",
      "Epoch 110/350\n",
      "101/101 [==============================] - 4s 43ms/step - loss: 0.3322 - acc: 0.9802 - val_loss: 0.4228 - val_acc: 0.9498\n",
      "Epoch 111/350\n",
      "101/101 [==============================] - 4s 43ms/step - loss: 0.3297 - acc: 0.9793 - val_loss: 0.4031 - val_acc: 0.9559\n",
      "Epoch 112/350\n",
      "101/101 [==============================] - 4s 44ms/step - loss: 0.3273 - acc: 0.9801 - val_loss: 0.4053 - val_acc: 0.9551\n",
      "Epoch 113/350\n",
      "101/101 [==============================] - 4s 42ms/step - loss: 0.3254 - acc: 0.9799 - val_loss: 0.4047 - val_acc: 0.9542\n",
      "Epoch 114/350\n",
      "101/101 [==============================] - 4s 42ms/step - loss: 0.3229 - acc: 0.9798 - val_loss: 0.3978 - val_acc: 0.9559\n",
      "Epoch 115/350\n",
      "101/101 [==============================] - 4s 42ms/step - loss: 0.3207 - acc: 0.9799 - val_loss: 0.4120 - val_acc: 0.9515\n",
      "Epoch 116/350\n",
      "101/101 [==============================] - 4s 42ms/step - loss: 0.3186 - acc: 0.9801 - val_loss: 0.3906 - val_acc: 0.9559\n",
      "Epoch 117/350\n",
      "101/101 [==============================] - 5s 47ms/step - loss: 0.3164 - acc: 0.9798 - val_loss: 0.4078 - val_acc: 0.9524\n",
      "Epoch 118/350\n",
      "101/101 [==============================] - 4s 42ms/step - loss: 0.3145 - acc: 0.9802 - val_loss: 0.3977 - val_acc: 0.9524\n",
      "Epoch 119/350\n",
      "101/101 [==============================] - 4s 43ms/step - loss: 0.3130 - acc: 0.9798 - val_loss: 0.3966 - val_acc: 0.9524\n",
      "Epoch 120/350\n",
      "101/101 [==============================] - 4s 41ms/step - loss: 0.3110 - acc: 0.9796 - val_loss: 0.4057 - val_acc: 0.9498\n",
      "Epoch 121/350\n"
     ]
    },
    {
     "name": "stdout",
     "output_type": "stream",
     "text": [
      "101/101 [==============================] - 4s 41ms/step - loss: 0.3090 - acc: 0.9801 - val_loss: 0.3961 - val_acc: 0.9542\n",
      "Epoch 122/350\n",
      "101/101 [==============================] - 4s 43ms/step - loss: 0.3073 - acc: 0.9801 - val_loss: 0.3876 - val_acc: 0.9542\n",
      "Epoch 123/350\n",
      "101/101 [==============================] - 5s 49ms/step - loss: 0.3058 - acc: 0.9805 - val_loss: 0.3892 - val_acc: 0.9551\n",
      "Epoch 124/350\n",
      "101/101 [==============================] - 5s 54ms/step - loss: 0.3037 - acc: 0.9804 - val_loss: 0.3860 - val_acc: 0.9542\n",
      "Epoch 125/350\n",
      "101/101 [==============================] - 4s 42ms/step - loss: 0.3028 - acc: 0.9805 - val_loss: 0.4145 - val_acc: 0.9445\n",
      "Epoch 126/350\n",
      "101/101 [==============================] - 4s 43ms/step - loss: 0.3011 - acc: 0.9801 - val_loss: 0.3767 - val_acc: 0.9551\n",
      "Epoch 127/350\n",
      "101/101 [==============================] - 4s 42ms/step - loss: 0.2996 - acc: 0.9796 - val_loss: 0.3868 - val_acc: 0.9533\n",
      "Epoch 128/350\n",
      "101/101 [==============================] - 4s 44ms/step - loss: 0.2979 - acc: 0.9804 - val_loss: 0.3770 - val_acc: 0.9551\n",
      "Epoch 129/350\n",
      "101/101 [==============================] - 4s 43ms/step - loss: 0.2966 - acc: 0.9809 - val_loss: 0.3778 - val_acc: 0.9551\n",
      "Epoch 130/350\n",
      "101/101 [==============================] - 4s 42ms/step - loss: 0.2958 - acc: 0.9799 - val_loss: 0.3761 - val_acc: 0.9542\n",
      "Epoch 131/350\n",
      "101/101 [==============================] - 4s 42ms/step - loss: 0.2941 - acc: 0.9807 - val_loss: 0.3713 - val_acc: 0.9551\n",
      "Epoch 132/350\n",
      "101/101 [==============================] - 5s 51ms/step - loss: 0.2926 - acc: 0.9804 - val_loss: 0.3735 - val_acc: 0.9551\n",
      "Epoch 133/350\n",
      "101/101 [==============================] - 4s 42ms/step - loss: 0.2915 - acc: 0.9809 - val_loss: 0.3775 - val_acc: 0.9542\n",
      "Epoch 134/350\n",
      "101/101 [==============================] - 4s 42ms/step - loss: 0.2904 - acc: 0.9812 - val_loss: 0.3796 - val_acc: 0.9542\n",
      "Epoch 135/350\n",
      "101/101 [==============================] - 4s 43ms/step - loss: 0.2892 - acc: 0.9810 - val_loss: 0.3698 - val_acc: 0.9551\n",
      "Epoch 136/350\n",
      "101/101 [==============================] - 4s 43ms/step - loss: 0.2884 - acc: 0.9798 - val_loss: 0.3629 - val_acc: 0.9551\n",
      "Epoch 137/350\n",
      "101/101 [==============================] - 6s 56ms/step - loss: 0.2872 - acc: 0.9807 - val_loss: 0.3629 - val_acc: 0.9551\n",
      "Epoch 138/350\n",
      "101/101 [==============================] - 4s 45ms/step - loss: 0.2859 - acc: 0.9812 - val_loss: 0.3655 - val_acc: 0.9551\n",
      "Epoch 139/350\n",
      "101/101 [==============================] - 4s 43ms/step - loss: 0.2847 - acc: 0.9812 - val_loss: 0.3774 - val_acc: 0.9524\n",
      "Epoch 140/350\n",
      "101/101 [==============================] - 4s 42ms/step - loss: 0.2839 - acc: 0.9804 - val_loss: 0.3705 - val_acc: 0.9524\n",
      "Epoch 141/350\n",
      "101/101 [==============================] - 4s 42ms/step - loss: 0.2827 - acc: 0.9813 - val_loss: 0.3663 - val_acc: 0.9542\n",
      "Epoch 142/350\n",
      "101/101 [==============================] - 4s 41ms/step - loss: 0.2824 - acc: 0.9807 - val_loss: 0.3685 - val_acc: 0.9542\n",
      "Epoch 143/350\n",
      "101/101 [==============================] - 4s 42ms/step - loss: 0.2812 - acc: 0.9812 - val_loss: 0.3639 - val_acc: 0.9542\n",
      "Epoch 144/350\n",
      "101/101 [==============================] - 4s 43ms/step - loss: 0.2802 - acc: 0.9807 - val_loss: 0.3670 - val_acc: 0.9533\n",
      "Epoch 145/350\n",
      "101/101 [==============================] - 4s 43ms/step - loss: 0.2794 - acc: 0.9812 - val_loss: 0.3701 - val_acc: 0.9524\n",
      "Epoch 146/350\n",
      "101/101 [==============================] - 4s 42ms/step - loss: 0.2787 - acc: 0.9812 - val_loss: 0.3709 - val_acc: 0.9533\n",
      "Epoch 147/350\n",
      "101/101 [==============================] - 4s 42ms/step - loss: 0.2779 - acc: 0.9809 - val_loss: 0.3547 - val_acc: 0.9551\n",
      "Epoch 148/350\n",
      "101/101 [==============================] - 4s 42ms/step - loss: 0.2771 - acc: 0.9805 - val_loss: 0.3646 - val_acc: 0.9542\n",
      "Epoch 149/350\n",
      "101/101 [==============================] - 4s 42ms/step - loss: 0.2759 - acc: 0.9810 - val_loss: 0.3744 - val_acc: 0.9524\n",
      "Epoch 150/350\n",
      "101/101 [==============================] - 4s 42ms/step - loss: 0.2754 - acc: 0.9815 - val_loss: 0.3579 - val_acc: 0.9542\n",
      "Epoch 151/350\n",
      "101/101 [==============================] - 4s 42ms/step - loss: 0.2746 - acc: 0.9816 - val_loss: 0.3631 - val_acc: 0.9533\n",
      "Epoch 152/350\n",
      "101/101 [==============================] - 4s 42ms/step - loss: 0.2734 - acc: 0.9818 - val_loss: 0.3599 - val_acc: 0.9542\n",
      "Epoch 153/350\n",
      "101/101 [==============================] - 4s 42ms/step - loss: 0.2730 - acc: 0.9812 - val_loss: 0.3769 - val_acc: 0.9480\n",
      "Epoch 154/350\n",
      "101/101 [==============================] - 4s 42ms/step - loss: 0.2723 - acc: 0.9813 - val_loss: 0.3612 - val_acc: 0.9533\n",
      "Epoch 155/350\n",
      "101/101 [==============================] - 4s 42ms/step - loss: 0.2719 - acc: 0.9813 - val_loss: 0.3571 - val_acc: 0.9551\n",
      "Epoch 156/350\n",
      "101/101 [==============================] - 4s 42ms/step - loss: 0.2714 - acc: 0.9812 - val_loss: 0.3542 - val_acc: 0.9542\n",
      "Epoch 157/350\n",
      "101/101 [==============================] - 4s 42ms/step - loss: 0.2706 - acc: 0.9815 - val_loss: 0.3633 - val_acc: 0.9524\n",
      "Epoch 158/350\n",
      "101/101 [==============================] - 5s 45ms/step - loss: 0.2703 - acc: 0.9810 - val_loss: 0.3696 - val_acc: 0.9524\n",
      "Epoch 159/350\n",
      "101/101 [==============================] - 4s 43ms/step - loss: 0.2695 - acc: 0.9812 - val_loss: 0.3578 - val_acc: 0.9542\n",
      "Epoch 160/350\n",
      "101/101 [==============================] - 4s 43ms/step - loss: 0.2692 - acc: 0.9818 - val_loss: 0.3607 - val_acc: 0.9524\n",
      "Epoch 161/350\n",
      "101/101 [==============================] - 4s 43ms/step - loss: 0.2684 - acc: 0.9813 - val_loss: 0.3603 - val_acc: 0.9524\n",
      "Epoch 162/350\n",
      "101/101 [==============================] - 5s 50ms/step - loss: 0.2681 - acc: 0.9813 - val_loss: 0.3606 - val_acc: 0.9515\n",
      "Epoch 163/350\n",
      "101/101 [==============================] - 5s 46ms/step - loss: 0.2672 - acc: 0.9818 - val_loss: 0.3550 - val_acc: 0.9542\n",
      "Epoch 164/350\n",
      "101/101 [==============================] - 4s 44ms/step - loss: 0.2670 - acc: 0.9821 - val_loss: 0.3660 - val_acc: 0.9524\n",
      "Epoch 165/350\n",
      "101/101 [==============================] - 4s 43ms/step - loss: 0.2662 - acc: 0.9821 - val_loss: 0.3654 - val_acc: 0.9515\n",
      "Epoch 166/350\n",
      "101/101 [==============================] - 5s 51ms/step - loss: 0.2660 - acc: 0.9810 - val_loss: 0.3634 - val_acc: 0.9524\n",
      "Epoch 167/350\n",
      "101/101 [==============================] - 5s 46ms/step - loss: 0.2653 - acc: 0.9815 - val_loss: 0.3532 - val_acc: 0.9542\n",
      "Epoch 168/350\n",
      "101/101 [==============================] - 5s 51ms/step - loss: 0.2647 - acc: 0.9816 - val_loss: 0.3632 - val_acc: 0.9524\n",
      "Epoch 169/350\n",
      "101/101 [==============================] - 4s 42ms/step - loss: 0.2644 - acc: 0.9818 - val_loss: 0.3437 - val_acc: 0.9568\n",
      "Epoch 170/350\n",
      "101/101 [==============================] - 4s 42ms/step - loss: 0.2640 - acc: 0.9815 - val_loss: 0.3550 - val_acc: 0.9533\n",
      "Epoch 171/350\n",
      "101/101 [==============================] - 4s 42ms/step - loss: 0.2638 - acc: 0.9818 - val_loss: 0.3742 - val_acc: 0.9471\n",
      "Epoch 172/350\n",
      "101/101 [==============================] - 4s 43ms/step - loss: 0.2635 - acc: 0.9818 - val_loss: 0.3505 - val_acc: 0.9542\n",
      "Epoch 173/350\n",
      "101/101 [==============================] - 4s 42ms/step - loss: 0.2627 - acc: 0.9826 - val_loss: 0.3537 - val_acc: 0.9524\n",
      "Epoch 174/350\n",
      "101/101 [==============================] - 4s 42ms/step - loss: 0.2624 - acc: 0.9818 - val_loss: 0.3641 - val_acc: 0.9524\n",
      "Epoch 175/350\n",
      "101/101 [==============================] - 4s 43ms/step - loss: 0.2623 - acc: 0.9816 - val_loss: 0.3553 - val_acc: 0.9524\n",
      "Epoch 176/350\n",
      "101/101 [==============================] - 4s 42ms/step - loss: 0.2621 - acc: 0.9818 - val_loss: 0.3607 - val_acc: 0.9524\n",
      "Epoch 177/350\n",
      "101/101 [==============================] - 4s 43ms/step - loss: 0.2611 - acc: 0.9816 - val_loss: 0.3429 - val_acc: 0.9568\n",
      "Epoch 178/350\n",
      "101/101 [==============================] - 4s 43ms/step - loss: 0.2612 - acc: 0.9816 - val_loss: 0.3767 - val_acc: 0.9454\n",
      "Epoch 179/350\n",
      "101/101 [==============================] - 4s 44ms/step - loss: 0.2609 - acc: 0.9813 - val_loss: 0.3517 - val_acc: 0.9524\n",
      "Epoch 180/350\n",
      "101/101 [==============================] - 4s 43ms/step - loss: 0.2603 - acc: 0.9819 - val_loss: 0.3473 - val_acc: 0.9551\n",
      "Epoch 181/350\n"
     ]
    },
    {
     "name": "stdout",
     "output_type": "stream",
     "text": [
      "101/101 [==============================] - 4s 43ms/step - loss: 0.2602 - acc: 0.9818 - val_loss: 0.3475 - val_acc: 0.9551\n",
      "Epoch 182/350\n",
      "101/101 [==============================] - 4s 44ms/step - loss: 0.2599 - acc: 0.9818 - val_loss: 0.3445 - val_acc: 0.9559\n",
      "Epoch 183/350\n",
      "101/101 [==============================] - 4s 43ms/step - loss: 0.2595 - acc: 0.9823 - val_loss: 0.3487 - val_acc: 0.9542\n",
      "Epoch 184/350\n",
      "101/101 [==============================] - 4s 43ms/step - loss: 0.2588 - acc: 0.9821 - val_loss: 0.3630 - val_acc: 0.9498\n",
      "Epoch 185/350\n",
      "101/101 [==============================] - 4s 42ms/step - loss: 0.2590 - acc: 0.9815 - val_loss: 0.3520 - val_acc: 0.9542\n",
      "Epoch 186/350\n",
      "101/101 [==============================] - 4s 43ms/step - loss: 0.2586 - acc: 0.9816 - val_loss: 0.3515 - val_acc: 0.9524\n",
      "Epoch 187/350\n",
      "101/101 [==============================] - 4s 43ms/step - loss: 0.2580 - acc: 0.9824 - val_loss: 0.3523 - val_acc: 0.9507\n",
      "Epoch 188/350\n",
      "101/101 [==============================] - 4s 43ms/step - loss: 0.2584 - acc: 0.9818 - val_loss: 0.3509 - val_acc: 0.9533\n",
      "Epoch 189/350\n",
      "101/101 [==============================] - 4s 42ms/step - loss: 0.2575 - acc: 0.9824 - val_loss: 0.3511 - val_acc: 0.9524\n",
      "Epoch 190/350\n",
      "101/101 [==============================] - 4s 43ms/step - loss: 0.2577 - acc: 0.9818 - val_loss: 0.3467 - val_acc: 0.9542\n",
      "Epoch 191/350\n",
      "101/101 [==============================] - 4s 43ms/step - loss: 0.2577 - acc: 0.9816 - val_loss: 0.3574 - val_acc: 0.9515\n",
      "Epoch 192/350\n",
      "101/101 [==============================] - 4s 43ms/step - loss: 0.2569 - acc: 0.9823 - val_loss: 0.3581 - val_acc: 0.9515\n",
      "Epoch 193/350\n",
      "101/101 [==============================] - 4s 42ms/step - loss: 0.2568 - acc: 0.9832 - val_loss: 0.3601 - val_acc: 0.9507\n",
      "Epoch 194/350\n",
      "101/101 [==============================] - 4s 41ms/step - loss: 0.2566 - acc: 0.9823 - val_loss: 0.3443 - val_acc: 0.9559\n",
      "Epoch 195/350\n",
      "101/101 [==============================] - 4s 41ms/step - loss: 0.2564 - acc: 0.9833 - val_loss: 0.3464 - val_acc: 0.9542\n",
      "Epoch 196/350\n",
      "101/101 [==============================] - 4s 42ms/step - loss: 0.2559 - acc: 0.9829 - val_loss: 0.3424 - val_acc: 0.9559\n",
      "Epoch 197/350\n",
      "101/101 [==============================] - 4s 42ms/step - loss: 0.2559 - acc: 0.9821 - val_loss: 0.3470 - val_acc: 0.9533\n",
      "Epoch 198/350\n",
      "101/101 [==============================] - 4s 43ms/step - loss: 0.2558 - acc: 0.9821 - val_loss: 0.3432 - val_acc: 0.9559\n",
      "Epoch 199/350\n",
      "101/101 [==============================] - 4s 42ms/step - loss: 0.2553 - acc: 0.9826 - val_loss: 0.3398 - val_acc: 0.9559\n",
      "Epoch 200/350\n",
      "101/101 [==============================] - 4s 44ms/step - loss: 0.2555 - acc: 0.9829 - val_loss: 0.3464 - val_acc: 0.9533\n",
      "Epoch 201/350\n",
      "101/101 [==============================] - 4s 42ms/step - loss: 0.2549 - acc: 0.9819 - val_loss: 0.3480 - val_acc: 0.9533\n",
      "Epoch 202/350\n",
      "101/101 [==============================] - 4s 42ms/step - loss: 0.2551 - acc: 0.9829 - val_loss: 0.3623 - val_acc: 0.9489\n",
      "Epoch 203/350\n",
      "101/101 [==============================] - 4s 41ms/step - loss: 0.2549 - acc: 0.9819 - val_loss: 0.3419 - val_acc: 0.9551\n",
      "Epoch 204/350\n",
      "101/101 [==============================] - 4s 41ms/step - loss: 0.2549 - acc: 0.9827 - val_loss: 0.3444 - val_acc: 0.9533\n",
      "Epoch 205/350\n",
      "101/101 [==============================] - 4s 42ms/step - loss: 0.2545 - acc: 0.9824 - val_loss: 0.3481 - val_acc: 0.9533\n",
      "Epoch 206/350\n",
      "101/101 [==============================] - 4s 42ms/step - loss: 0.2543 - acc: 0.9827 - val_loss: 0.3538 - val_acc: 0.9533\n",
      "Epoch 207/350\n",
      "101/101 [==============================] - 4s 42ms/step - loss: 0.2543 - acc: 0.9826 - val_loss: 0.3469 - val_acc: 0.9533\n",
      "Epoch 208/350\n",
      "101/101 [==============================] - 4s 42ms/step - loss: 0.2541 - acc: 0.9821 - val_loss: 0.3528 - val_acc: 0.9533\n",
      "Epoch 209/350\n",
      "101/101 [==============================] - 4s 42ms/step - loss: 0.2539 - acc: 0.9829 - val_loss: 0.3475 - val_acc: 0.9533\n",
      "Epoch 210/350\n",
      "101/101 [==============================] - 4s 42ms/step - loss: 0.2533 - acc: 0.9827 - val_loss: 0.3383 - val_acc: 0.9559\n",
      "Epoch 211/350\n",
      "101/101 [==============================] - 4s 41ms/step - loss: 0.2536 - acc: 0.9816 - val_loss: 0.3375 - val_acc: 0.9559\n",
      "Epoch 212/350\n",
      "101/101 [==============================] - 4s 42ms/step - loss: 0.2533 - acc: 0.9826 - val_loss: 0.3533 - val_acc: 0.9533\n",
      "Epoch 213/350\n",
      "101/101 [==============================] - 4s 43ms/step - loss: 0.2535 - acc: 0.9818 - val_loss: 0.3570 - val_acc: 0.9498\n",
      "Epoch 214/350\n",
      "101/101 [==============================] - 4s 43ms/step - loss: 0.2530 - acc: 0.9824 - val_loss: 0.3599 - val_acc: 0.9480\n",
      "Epoch 215/350\n",
      "101/101 [==============================] - 5s 48ms/step - loss: 0.2530 - acc: 0.9826 - val_loss: 0.3471 - val_acc: 0.9542\n",
      "Epoch 216/350\n",
      "101/101 [==============================] - 5s 47ms/step - loss: 0.2525 - acc: 0.9829 - val_loss: 0.3730 - val_acc: 0.9445\n",
      "Epoch 217/350\n",
      "101/101 [==============================] - 4s 44ms/step - loss: 0.2531 - acc: 0.9824 - val_loss: 0.3431 - val_acc: 0.9551\n",
      "Epoch 218/350\n",
      "101/101 [==============================] - 4s 43ms/step - loss: 0.2526 - acc: 0.9824 - val_loss: 0.3433 - val_acc: 0.9551\n",
      "Epoch 219/350\n",
      "101/101 [==============================] - 4s 44ms/step - loss: 0.2523 - acc: 0.9827 - val_loss: 0.3475 - val_acc: 0.9542\n",
      "Epoch 220/350\n",
      "101/101 [==============================] - 4s 44ms/step - loss: 0.2522 - acc: 0.9823 - val_loss: 0.3544 - val_acc: 0.9515\n",
      "Epoch 221/350\n",
      "101/101 [==============================] - 4s 44ms/step - loss: 0.2523 - acc: 0.9827 - val_loss: 0.3388 - val_acc: 0.9568\n",
      "Epoch 222/350\n",
      "101/101 [==============================] - 4s 43ms/step - loss: 0.2521 - acc: 0.9827 - val_loss: 0.3384 - val_acc: 0.9559\n",
      "Epoch 223/350\n",
      "101/101 [==============================] - 4s 43ms/step - loss: 0.2518 - acc: 0.9835 - val_loss: 0.3475 - val_acc: 0.9542\n",
      "Epoch 224/350\n",
      "101/101 [==============================] - 4s 43ms/step - loss: 0.2519 - acc: 0.9824 - val_loss: 0.3451 - val_acc: 0.9542\n",
      "Epoch 225/350\n",
      "101/101 [==============================] - 4s 43ms/step - loss: 0.2523 - acc: 0.9821 - val_loss: 0.3403 - val_acc: 0.9551\n",
      "Epoch 226/350\n",
      "101/101 [==============================] - 4s 44ms/step - loss: 0.2519 - acc: 0.9821 - val_loss: 0.3413 - val_acc: 0.9551\n",
      "Epoch 227/350\n",
      "101/101 [==============================] - 4s 44ms/step - loss: 0.2514 - acc: 0.9833 - val_loss: 0.3508 - val_acc: 0.9533\n",
      "Epoch 228/350\n",
      "101/101 [==============================] - 4s 43ms/step - loss: 0.2513 - acc: 0.9823 - val_loss: 0.3417 - val_acc: 0.9551\n",
      "Epoch 229/350\n",
      "101/101 [==============================] - 4s 42ms/step - loss: 0.2512 - acc: 0.9838 - val_loss: 0.3505 - val_acc: 0.9542\n",
      "Epoch 230/350\n",
      "101/101 [==============================] - 4s 43ms/step - loss: 0.2513 - acc: 0.9829 - val_loss: 0.3405 - val_acc: 0.9551\n",
      "Epoch 231/350\n",
      "101/101 [==============================] - 4s 43ms/step - loss: 0.2508 - acc: 0.9819 - val_loss: 0.3443 - val_acc: 0.9542\n",
      "Epoch 232/350\n",
      "101/101 [==============================] - 4s 43ms/step - loss: 0.2510 - acc: 0.9823 - val_loss: 0.3409 - val_acc: 0.9551\n",
      "Epoch 233/350\n",
      "101/101 [==============================] - 4s 43ms/step - loss: 0.2511 - acc: 0.9819 - val_loss: 0.3484 - val_acc: 0.9542\n",
      "Epoch 234/350\n",
      "101/101 [==============================] - 4s 43ms/step - loss: 0.2506 - acc: 0.9824 - val_loss: 0.3317 - val_acc: 0.9577\n",
      "Epoch 235/350\n",
      "101/101 [==============================] - 4s 43ms/step - loss: 0.2507 - acc: 0.9832 - val_loss: 0.3491 - val_acc: 0.9542\n",
      "Epoch 236/350\n",
      "101/101 [==============================] - 4s 43ms/step - loss: 0.2507 - acc: 0.9823 - val_loss: 0.3373 - val_acc: 0.9551\n",
      "Epoch 237/350\n",
      "101/101 [==============================] - 4s 43ms/step - loss: 0.2506 - acc: 0.9832 - val_loss: 0.3443 - val_acc: 0.9542\n",
      "Epoch 238/350\n",
      "101/101 [==============================] - 4s 43ms/step - loss: 0.2503 - acc: 0.9823 - val_loss: 0.3537 - val_acc: 0.9507\n",
      "Epoch 239/350\n",
      "101/101 [==============================] - 4s 43ms/step - loss: 0.2507 - acc: 0.9821 - val_loss: 0.3448 - val_acc: 0.9551\n",
      "Epoch 240/350\n",
      "101/101 [==============================] - 4s 44ms/step - loss: 0.2505 - acc: 0.9829 - val_loss: 0.3481 - val_acc: 0.9542\n",
      "Epoch 241/350\n"
     ]
    },
    {
     "name": "stdout",
     "output_type": "stream",
     "text": [
      "101/101 [==============================] - 4s 42ms/step - loss: 0.2501 - acc: 0.9832 - val_loss: 0.3470 - val_acc: 0.9542\n",
      "Epoch 242/350\n",
      "101/101 [==============================] - 4s 42ms/step - loss: 0.2508 - acc: 0.9823 - val_loss: 0.3401 - val_acc: 0.9551\n",
      "Epoch 243/350\n",
      "101/101 [==============================] - 4s 43ms/step - loss: 0.2500 - acc: 0.9830 - val_loss: 0.3329 - val_acc: 0.9577\n",
      "Epoch 244/350\n",
      "101/101 [==============================] - 4s 42ms/step - loss: 0.2500 - acc: 0.9819 - val_loss: 0.3390 - val_acc: 0.9551\n",
      "Epoch 245/350\n",
      "101/101 [==============================] - 4s 43ms/step - loss: 0.2500 - acc: 0.9827 - val_loss: 0.3359 - val_acc: 0.9542\n",
      "Epoch 246/350\n",
      "101/101 [==============================] - 4s 43ms/step - loss: 0.2497 - acc: 0.9833 - val_loss: 0.3572 - val_acc: 0.9498\n",
      "Epoch 247/350\n",
      "101/101 [==============================] - 4s 43ms/step - loss: 0.2497 - acc: 0.9826 - val_loss: 0.3352 - val_acc: 0.9559\n",
      "Epoch 248/350\n",
      "101/101 [==============================] - 4s 43ms/step - loss: 0.2506 - acc: 0.9823 - val_loss: 0.3407 - val_acc: 0.9551\n",
      "Epoch 249/350\n",
      "101/101 [==============================] - 4s 41ms/step - loss: 0.2498 - acc: 0.9815 - val_loss: 0.3389 - val_acc: 0.9551\n",
      "Epoch 250/350\n",
      "101/101 [==============================] - 4s 41ms/step - loss: 0.2496 - acc: 0.9830 - val_loss: 0.3409 - val_acc: 0.9551\n",
      "Epoch 251/350\n",
      "101/101 [==============================] - 4s 41ms/step - loss: 0.2495 - acc: 0.9823 - val_loss: 0.3472 - val_acc: 0.9551\n",
      "Epoch 252/350\n",
      "101/101 [==============================] - 4s 42ms/step - loss: 0.2495 - acc: 0.9837 - val_loss: 0.3544 - val_acc: 0.9498\n",
      "Epoch 253/350\n",
      "101/101 [==============================] - 4s 41ms/step - loss: 0.2490 - acc: 0.9832 - val_loss: 0.3574 - val_acc: 0.9489\n",
      "Epoch 254/350\n",
      "101/101 [==============================] - 4s 43ms/step - loss: 0.2494 - acc: 0.9840 - val_loss: 0.3710 - val_acc: 0.9445\n",
      "Epoch 255/350\n",
      "101/101 [==============================] - 4s 41ms/step - loss: 0.2497 - acc: 0.9830 - val_loss: 0.3449 - val_acc: 0.9559\n",
      "Epoch 256/350\n",
      "101/101 [==============================] - 4s 41ms/step - loss: 0.2495 - acc: 0.9838 - val_loss: 0.3483 - val_acc: 0.9551\n",
      "Epoch 257/350\n",
      "101/101 [==============================] - 4s 41ms/step - loss: 0.2494 - acc: 0.9827 - val_loss: 0.3500 - val_acc: 0.9524\n",
      "Epoch 258/350\n",
      "101/101 [==============================] - 4s 42ms/step - loss: 0.2491 - acc: 0.9816 - val_loss: 0.3437 - val_acc: 0.9551\n",
      "Epoch 259/350\n",
      "101/101 [==============================] - 4s 41ms/step - loss: 0.2484 - acc: 0.9829 - val_loss: 0.3395 - val_acc: 0.9551\n",
      "Epoch 260/350\n",
      "101/101 [==============================] - 4s 41ms/step - loss: 0.2490 - acc: 0.9826 - val_loss: 0.3459 - val_acc: 0.9551\n",
      "Epoch 261/350\n",
      "101/101 [==============================] - 4s 40ms/step - loss: 0.2487 - acc: 0.9829 - val_loss: 0.3381 - val_acc: 0.9551\n",
      "Epoch 262/350\n",
      "101/101 [==============================] - 4s 38ms/step - loss: 0.2487 - acc: 0.9830 - val_loss: 0.3388 - val_acc: 0.9551\n",
      "Epoch 263/350\n",
      "101/101 [==============================] - 4s 38ms/step - loss: 0.2486 - acc: 0.9833 - val_loss: 0.3480 - val_acc: 0.9542\n",
      "Epoch 264/350\n",
      "101/101 [==============================] - 4s 39ms/step - loss: 0.2487 - acc: 0.9835 - val_loss: 0.3407 - val_acc: 0.9559\n",
      "Epoch 265/350\n",
      "101/101 [==============================] - 4s 43ms/step - loss: 0.2486 - acc: 0.9824 - val_loss: 0.3449 - val_acc: 0.9551\n",
      "Epoch 266/350\n",
      "101/101 [==============================] - 4s 38ms/step - loss: 0.2485 - acc: 0.9826 - val_loss: 0.3353 - val_acc: 0.9559\n",
      "Epoch 267/350\n",
      "101/101 [==============================] - 4s 39ms/step - loss: 0.2487 - acc: 0.9826 - val_loss: 0.3381 - val_acc: 0.9551\n",
      "Epoch 268/350\n",
      "101/101 [==============================] - 4s 38ms/step - loss: 0.2488 - acc: 0.9824 - val_loss: 0.3443 - val_acc: 0.9551\n",
      "Epoch 269/350\n",
      "101/101 [==============================] - 4s 40ms/step - loss: 0.2485 - acc: 0.9826 - val_loss: 0.3425 - val_acc: 0.9551\n",
      "Epoch 270/350\n",
      "101/101 [==============================] - 4s 40ms/step - loss: 0.2484 - acc: 0.9826 - val_loss: 0.3464 - val_acc: 0.9551\n",
      "Epoch 271/350\n",
      "101/101 [==============================] - 4s 40ms/step - loss: 0.2484 - acc: 0.9823 - val_loss: 0.3375 - val_acc: 0.9551\n",
      "Epoch 272/350\n",
      "101/101 [==============================] - 4s 41ms/step - loss: 0.2485 - acc: 0.9835 - val_loss: 0.3465 - val_acc: 0.9542\n",
      "Epoch 273/350\n",
      "101/101 [==============================] - 4s 43ms/step - loss: 0.2487 - acc: 0.9829 - val_loss: 0.3444 - val_acc: 0.9551\n",
      "Epoch 274/350\n",
      "101/101 [==============================] - 5s 48ms/step - loss: 0.2482 - acc: 0.9821 - val_loss: 0.3456 - val_acc: 0.9551\n",
      "Epoch 275/350\n",
      "101/101 [==============================] - 4s 42ms/step - loss: 0.2485 - acc: 0.9824 - val_loss: 0.3537 - val_acc: 0.9533\n",
      "Epoch 276/350\n",
      "101/101 [==============================] - 4s 41ms/step - loss: 0.2478 - acc: 0.9829 - val_loss: 0.3485 - val_acc: 0.9524\n",
      "Epoch 277/350\n",
      "101/101 [==============================] - 4s 39ms/step - loss: 0.2480 - acc: 0.9830 - val_loss: 0.3418 - val_acc: 0.9559\n",
      "Epoch 278/350\n",
      "101/101 [==============================] - 4s 40ms/step - loss: 0.2480 - acc: 0.9826 - val_loss: 0.3369 - val_acc: 0.9559\n",
      "Epoch 279/350\n",
      "101/101 [==============================] - 4s 38ms/step - loss: 0.2482 - acc: 0.9833 - val_loss: 0.3579 - val_acc: 0.9498\n",
      "Epoch 280/350\n",
      "101/101 [==============================] - 4s 38ms/step - loss: 0.2480 - acc: 0.9832 - val_loss: 0.3379 - val_acc: 0.9551\n",
      "Epoch 281/350\n",
      "101/101 [==============================] - 4s 39ms/step - loss: 0.2476 - acc: 0.9832 - val_loss: 0.3404 - val_acc: 0.9559\n",
      "Epoch 282/350\n",
      "101/101 [==============================] - 4s 39ms/step - loss: 0.2478 - acc: 0.9837 - val_loss: 0.3350 - val_acc: 0.9551\n",
      "Epoch 283/350\n",
      "101/101 [==============================] - 4s 40ms/step - loss: 0.2479 - acc: 0.9827 - val_loss: 0.3487 - val_acc: 0.9533\n",
      "Epoch 284/350\n",
      "101/101 [==============================] - 4s 42ms/step - loss: 0.2479 - acc: 0.9832 - val_loss: 0.3453 - val_acc: 0.9551\n",
      "Epoch 285/350\n",
      "101/101 [==============================] - 4s 40ms/step - loss: 0.2479 - acc: 0.9829 - val_loss: 0.3349 - val_acc: 0.9559\n",
      "Epoch 286/350\n",
      "101/101 [==============================] - 4s 39ms/step - loss: 0.2476 - acc: 0.9833 - val_loss: 0.3452 - val_acc: 0.9551\n",
      "Epoch 287/350\n",
      "101/101 [==============================] - 4s 42ms/step - loss: 0.2481 - acc: 0.9823 - val_loss: 0.3370 - val_acc: 0.9551\n",
      "Epoch 288/350\n",
      "101/101 [==============================] - 4s 40ms/step - loss: 0.2480 - acc: 0.9829 - val_loss: 0.3385 - val_acc: 0.9551\n",
      "Epoch 289/350\n",
      "101/101 [==============================] - 4s 42ms/step - loss: 0.2476 - acc: 0.9829 - val_loss: 0.3381 - val_acc: 0.9542\n",
      "Epoch 290/350\n",
      "101/101 [==============================] - 4s 44ms/step - loss: 0.2477 - acc: 0.9833 - val_loss: 0.3329 - val_acc: 0.9559\n",
      "Epoch 291/350\n",
      "101/101 [==============================] - 4s 43ms/step - loss: 0.2477 - acc: 0.9835 - val_loss: 0.3399 - val_acc: 0.9551\n",
      "Epoch 292/350\n",
      "101/101 [==============================] - 4s 44ms/step - loss: 0.2477 - acc: 0.9830 - val_loss: 0.3633 - val_acc: 0.9498\n",
      "Epoch 293/350\n",
      "101/101 [==============================] - 4s 43ms/step - loss: 0.2479 - acc: 0.9824 - val_loss: 0.3395 - val_acc: 0.9551\n",
      "Epoch 294/350\n",
      "101/101 [==============================] - 4s 43ms/step - loss: 0.2475 - acc: 0.9833 - val_loss: 0.3548 - val_acc: 0.9515\n",
      "Epoch 295/350\n",
      "101/101 [==============================] - 4s 44ms/step - loss: 0.2472 - acc: 0.9829 - val_loss: 0.3337 - val_acc: 0.9559\n",
      "Epoch 296/350\n",
      "101/101 [==============================] - 4s 42ms/step - loss: 0.2476 - acc: 0.9824 - val_loss: 0.3339 - val_acc: 0.9559\n",
      "Epoch 297/350\n",
      "101/101 [==============================] - 4s 43ms/step - loss: 0.2473 - acc: 0.9835 - val_loss: 0.3382 - val_acc: 0.9559\n",
      "Epoch 298/350\n",
      "101/101 [==============================] - 4s 43ms/step - loss: 0.2470 - acc: 0.9827 - val_loss: 0.3439 - val_acc: 0.9551\n",
      "Epoch 299/350\n",
      "101/101 [==============================] - 4s 42ms/step - loss: 0.2471 - acc: 0.9838 - val_loss: 0.3388 - val_acc: 0.9551\n",
      "Epoch 300/350\n",
      "101/101 [==============================] - 4s 41ms/step - loss: 0.2471 - acc: 0.9837 - val_loss: 0.3593 - val_acc: 0.9498\n",
      "Epoch 301/350\n"
     ]
    },
    {
     "name": "stdout",
     "output_type": "stream",
     "text": [
      "101/101 [==============================] - 4s 39ms/step - loss: 0.2474 - acc: 0.9826 - val_loss: 0.3400 - val_acc: 0.9551\n",
      "Epoch 302/350\n",
      "101/101 [==============================] - 4s 39ms/step - loss: 0.2470 - acc: 0.9832 - val_loss: 0.3440 - val_acc: 0.9542\n",
      "Epoch 303/350\n",
      "101/101 [==============================] - 4s 40ms/step - loss: 0.2469 - acc: 0.9837 - val_loss: 0.3433 - val_acc: 0.9551\n",
      "Epoch 304/350\n",
      "101/101 [==============================] - 4s 40ms/step - loss: 0.2473 - acc: 0.9830 - val_loss: 0.3395 - val_acc: 0.9551\n",
      "Epoch 305/350\n",
      "101/101 [==============================] - 4s 39ms/step - loss: 0.2464 - acc: 0.9833 - val_loss: 0.3529 - val_acc: 0.9533\n",
      "Epoch 306/350\n",
      "101/101 [==============================] - 4s 40ms/step - loss: 0.2470 - acc: 0.9824 - val_loss: 0.3376 - val_acc: 0.9551\n",
      "Epoch 307/350\n",
      "101/101 [==============================] - 4s 38ms/step - loss: 0.2469 - acc: 0.9832 - val_loss: 0.3479 - val_acc: 0.9524\n",
      "Epoch 308/350\n",
      "101/101 [==============================] - 4s 39ms/step - loss: 0.2471 - acc: 0.9832 - val_loss: 0.3466 - val_acc: 0.9542\n",
      "Epoch 309/350\n",
      "101/101 [==============================] - 4s 39ms/step - loss: 0.2467 - acc: 0.9830 - val_loss: 0.3508 - val_acc: 0.9524\n",
      "Epoch 310/350\n",
      "101/101 [==============================] - 4s 40ms/step - loss: 0.2471 - acc: 0.9835 - val_loss: 0.3518 - val_acc: 0.9507\n",
      "Epoch 311/350\n",
      "101/101 [==============================] - 4s 40ms/step - loss: 0.2470 - acc: 0.9832 - val_loss: 0.3561 - val_acc: 0.9498\n",
      "Epoch 312/350\n",
      "101/101 [==============================] - 5s 45ms/step - loss: 0.2466 - acc: 0.9841 - val_loss: 0.3597 - val_acc: 0.9498\n",
      "Epoch 313/350\n",
      "101/101 [==============================] - 5s 45ms/step - loss: 0.2469 - acc: 0.9833 - val_loss: 0.3385 - val_acc: 0.9551\n",
      "Epoch 314/350\n",
      "101/101 [==============================] - 4s 39ms/step - loss: 0.2469 - acc: 0.9832 - val_loss: 0.3471 - val_acc: 0.9533\n",
      "Epoch 315/350\n",
      "101/101 [==============================] - 4s 38ms/step - loss: 0.2463 - acc: 0.9835 - val_loss: 0.3361 - val_acc: 0.9559\n",
      "Epoch 316/350\n",
      "101/101 [==============================] - 4s 37ms/step - loss: 0.2468 - acc: 0.9841 - val_loss: 0.3444 - val_acc: 0.9551\n",
      "Epoch 317/350\n",
      "101/101 [==============================] - 4s 37ms/step - loss: 0.2467 - acc: 0.9829 - val_loss: 0.3435 - val_acc: 0.9551\n",
      "Epoch 318/350\n",
      "101/101 [==============================] - 4s 38ms/step - loss: 0.2468 - acc: 0.9835 - val_loss: 0.3384 - val_acc: 0.9551\n",
      "Epoch 319/350\n",
      "101/101 [==============================] - 4s 39ms/step - loss: 0.2466 - acc: 0.9830 - val_loss: 0.3391 - val_acc: 0.9559\n",
      "Epoch 320/350\n",
      "101/101 [==============================] - 4s 41ms/step - loss: 0.2465 - acc: 0.9832 - val_loss: 0.3474 - val_acc: 0.9542\n",
      "Epoch 321/350\n",
      "101/101 [==============================] - 4s 40ms/step - loss: 0.2465 - acc: 0.9826 - val_loss: 0.3406 - val_acc: 0.9551\n",
      "Epoch 322/350\n",
      "101/101 [==============================] - 4s 42ms/step - loss: 0.2466 - acc: 0.9833 - val_loss: 0.3487 - val_acc: 0.9533\n",
      "Epoch 323/350\n",
      "101/101 [==============================] - 4s 42ms/step - loss: 0.2459 - acc: 0.9837 - val_loss: 0.3410 - val_acc: 0.9542\n",
      "Epoch 324/350\n",
      "101/101 [==============================] - 4s 41ms/step - loss: 0.2464 - acc: 0.9830 - val_loss: 0.3451 - val_acc: 0.9551\n",
      "Epoch 325/350\n",
      "101/101 [==============================] - 4s 42ms/step - loss: 0.2461 - acc: 0.9840 - val_loss: 0.3417 - val_acc: 0.9551\n",
      "Epoch 326/350\n",
      "101/101 [==============================] - 4s 41ms/step - loss: 0.2463 - acc: 0.9832 - val_loss: 0.3505 - val_acc: 0.9542\n",
      "Epoch 327/350\n",
      "101/101 [==============================] - 4s 42ms/step - loss: 0.2462 - acc: 0.9830 - val_loss: 0.3361 - val_acc: 0.9551\n",
      "Epoch 328/350\n",
      "101/101 [==============================] - 5s 45ms/step - loss: 0.2463 - acc: 0.9832 - val_loss: 0.3419 - val_acc: 0.9551\n",
      "Epoch 329/350\n",
      "101/101 [==============================] - 5s 49ms/step - loss: 0.2460 - acc: 0.9835 - val_loss: 0.3473 - val_acc: 0.9524\n",
      "Epoch 330/350\n",
      "101/101 [==============================] - 5s 45ms/step - loss: 0.2463 - acc: 0.9833 - val_loss: 0.3313 - val_acc: 0.9559\n",
      "Epoch 331/350\n",
      "101/101 [==============================] - 4s 44ms/step - loss: 0.2465 - acc: 0.9840 - val_loss: 0.3469 - val_acc: 0.9533\n",
      "Epoch 332/350\n",
      "101/101 [==============================] - 4s 40ms/step - loss: 0.2462 - acc: 0.9833 - val_loss: 0.3392 - val_acc: 0.9551\n",
      "Epoch 333/350\n",
      "101/101 [==============================] - 5s 50ms/step - loss: 0.2461 - acc: 0.9837 - val_loss: 0.3480 - val_acc: 0.9533\n",
      "Epoch 334/350\n",
      "101/101 [==============================] - 5s 48ms/step - loss: 0.2460 - acc: 0.9832 - val_loss: 0.3591 - val_acc: 0.9507\n",
      "Epoch 335/350\n",
      "101/101 [==============================] - 4s 39ms/step - loss: 0.2462 - acc: 0.9829 - val_loss: 0.3355 - val_acc: 0.9559\n",
      "Epoch 336/350\n",
      "101/101 [==============================] - 4s 39ms/step - loss: 0.2456 - acc: 0.9841 - val_loss: 0.3293 - val_acc: 0.9577\n",
      "Epoch 337/350\n",
      "101/101 [==============================] - 4s 40ms/step - loss: 0.2461 - acc: 0.9837 - val_loss: 0.3475 - val_acc: 0.9533\n",
      "Epoch 338/350\n",
      "101/101 [==============================] - 4s 40ms/step - loss: 0.2461 - acc: 0.9833 - val_loss: 0.3453 - val_acc: 0.9533\n",
      "Epoch 339/350\n",
      "101/101 [==============================] - 4s 39ms/step - loss: 0.2462 - acc: 0.9826 - val_loss: 0.3391 - val_acc: 0.9551\n",
      "Epoch 340/350\n",
      "101/101 [==============================] - 4s 40ms/step - loss: 0.2461 - acc: 0.9837 - val_loss: 0.3367 - val_acc: 0.9559\n",
      "Epoch 341/350\n",
      "101/101 [==============================] - 4s 41ms/step - loss: 0.2465 - acc: 0.9826 - val_loss: 0.3335 - val_acc: 0.9559\n",
      "Epoch 342/350\n",
      "101/101 [==============================] - 4s 40ms/step - loss: 0.2459 - acc: 0.9838 - val_loss: 0.3349 - val_acc: 0.9559\n",
      "Epoch 343/350\n",
      "101/101 [==============================] - 4s 41ms/step - loss: 0.2460 - acc: 0.9835 - val_loss: 0.3401 - val_acc: 0.9551\n",
      "Epoch 344/350\n",
      "101/101 [==============================] - 4s 42ms/step - loss: 0.2457 - acc: 0.9832 - val_loss: 0.3410 - val_acc: 0.9559\n",
      "Epoch 345/350\n",
      "101/101 [==============================] - 4s 39ms/step - loss: 0.2459 - acc: 0.9830 - val_loss: 0.3422 - val_acc: 0.9559\n",
      "Epoch 346/350\n",
      "101/101 [==============================] - 4s 40ms/step - loss: 0.2457 - acc: 0.9832 - val_loss: 0.3429 - val_acc: 0.9559\n",
      "Epoch 347/350\n",
      "101/101 [==============================] - 4s 40ms/step - loss: 0.2457 - acc: 0.9835 - val_loss: 0.3338 - val_acc: 0.9559\n",
      "Epoch 348/350\n",
      "101/101 [==============================] - 4s 40ms/step - loss: 0.2459 - acc: 0.9837 - val_loss: 0.3488 - val_acc: 0.9533\n",
      "Epoch 349/350\n",
      "101/101 [==============================] - 4s 40ms/step - loss: 0.2457 - acc: 0.9829 - val_loss: 0.3440 - val_acc: 0.9551\n",
      "Epoch 350/350\n",
      "101/101 [==============================] - 4s 40ms/step - loss: 0.2458 - acc: 0.9830 - val_loss: 0.3370 - val_acc: 0.9551\n"
     ]
    }
   ],
   "source": [
    "cnn2d_history = cnn2d_model.fit(X_train_padded, y_train, batch_size=64, epochs=350, validation_split=0.15, \n",
    "                                class_weight = sklearn_weights,shuffle = True )\n",
    "#rmsprop or zyada fast wala read"
   ]
  },
  {
   "cell_type": "code",
   "execution_count": 84,
   "id": "interior-vision",
   "metadata": {},
   "outputs": [
    {
     "name": "stdout",
     "output_type": "stream",
     "text": [
      "60/60 [==============================] - 0s 4ms/step - loss: 0.3136 - acc: 0.9635\n",
      "Test Loss: 0.31360453367233276\n",
      "Test Accuracy: 0.9635113477706909\n"
     ]
    }
   ],
   "source": [
    "score = cnn2d_model.evaluate(X_val_padded, y_val, verbose=1)\n",
    "print(\"Test Loss:\", score[0])\n",
    "print(\"Test Accuracy:\", score[1])"
   ]
  },
  {
   "cell_type": "code",
   "execution_count": 87,
   "id": "motivated-machine",
   "metadata": {},
   "outputs": [
    {
     "data": {
      "image/png": "[encoded data removed]",
      "text/plain": [
       "<Figure size 432x288 with 1 Axes>"
      ]
     },
     "metadata": {
      "needs_background": "light"
     },
     "output_type": "display_data"
    },
    {
     "data": {
      "image/png": "[encoded data removed]",
      "text/plain": [
       "<Figure size 432x288 with 1 Axes>"
      ]
     },
     "metadata": {
      "needs_background": "light"
     },
     "output_type": "display_data"
    },
    {
     "data": {
      "text/plain": [
       "<Figure size 432x288 with 0 Axes>"
      ]
     },
     "metadata": {},
     "output_type": "display_data"
    }
   ],
   "source": [
    "plt.plot(cnn2d_history.history['acc'])\n",
    "plt.plot(cnn2d_history.history['val_acc'])\n",
    "\n",
    "plt.title('model accuracy')\n",
    "plt.ylabel('accuracy')\n",
    "plt.xlabel('epoch')\n",
    "plt.legend(['train','test'], loc='upper left')\n",
    "plt.ylim([0,1.01])\n",
    "plt.show()\n",
    "plt.savefig('AccEpoch24_2.png')\n",
    "plt.plot(cnn2d_history.history['loss'])\n",
    "plt.plot(cnn2d_history.history['val_loss'])\n",
    "\n",
    "plt.title('model loss')\n",
    "plt.ylabel('loss')\n",
    "plt.xlabel('epoch')\n",
    "plt.legend(['train','test'], loc='upper left')\n",
    "plt.show()\n",
    "plt.savefig('LossEpoch24_2.png')"
   ]
  },
  {
   "cell_type": "code",
   "execution_count": 88,
   "id": "classified-store",
   "metadata": {},
   "outputs": [
    {
     "name": "stdout",
     "output_type": "stream",
     "text": [
      "Precision: 0.43\n",
      "Recall: 0.5\n",
      "F1 Score: 0.46\n"
     ]
    },
    {
     "name": "stderr",
     "output_type": "stream",
     "text": [
      "C:\\Users\\ketak\\anaconda3\\envs\\tensorflow\\lib\\site-packages\\sklearn\\metrics\\_classification.py:1245: UndefinedMetricWarning: Precision is ill-defined and being set to 0.0 in labels with no predicted samples. Use `zero_division` parameter to control this behavior.\n",
      "  _warn_prf(average, modifier, msg_start, len(result))\n"
     ]
    }
   ],
   "source": [
    "from sklearn.metrics import f1_score, precision_score, recall_score, confusion_matrix\n",
    "y_pred1 = cnn2d_model.predict(X_val_padded)\n",
    "y_pred = np.argmax(y_pred1, axis=1)\n",
    "\n",
    "# Print f1, precision, and recall scores\n",
    "print(\"Precision:\", round(precision_score(y_val, y_pred , average=\"macro\"),2))\n",
    "print(\"Recall:\", round(recall_score(y_val, y_pred, average=\"macro\"),2))\n",
    "print(\"F1 Score:\", round(f1_score(y_val, y_pred , average=\"macro\"),2))\n"
   ]
  },
  {
   "cell_type": "markdown",
   "id": "faced-prison",
   "metadata": {},
   "source": [
    "* 1 Sentence => 1 Matrix of size : #words x wD\n",
    "- N sentences => N matrix of above size \n",
    "- every sentence has different words of differnt size\n",
    "- sort the sentences in increasing length of words and truncate the sentences above 95-percentile length"
   ]
  },
  {
   "cell_type": "code",
   "execution_count": 156,
   "id": "neither-homework",
   "metadata": {},
   "outputs": [],
   "source": [
    "backend.clear_session()"
   ]
  },
  {
   "cell_type": "code",
   "execution_count": null,
   "id": "apparent-sense",
   "metadata": {},
   "outputs": [],
   "source": []
  },
  {
   "cell_type": "code",
   "execution_count": null,
   "id": "narrow-feedback",
   "metadata": {},
   "outputs": [],
   "source": []
  },
  {
   "cell_type": "code",
   "execution_count": null,
   "id": "needed-might",
   "metadata": {},
   "outputs": [],
   "source": []
  },
  {
   "cell_type": "code",
   "execution_count": 22,
   "id": "further-joshua",
   "metadata": {},
   "outputs": [
    {
     "name": "stdout",
     "output_type": "stream",
     "text": [
      "[' Clear target multiple copies effect inefficiency '\n",
      " ' TODO This nd part method ' ' create new empty project' ... ' ok'\n",
      " ' TODO returns Collection single Object Is callers expect '\n",
      " ' see org argouml cognitive critics Critic toDoItem java lang Object org argouml cognitive Designer ']\n"
     ]
    }
   ],
   "source": [
    "print((X_train))"
   ]
  },
  {
   "cell_type": "code",
   "execution_count": 30,
   "id": "current-commander",
   "metadata": {},
   "outputs": [
    {
     "data": {
      "text/plain": [
       "(7561,)"
      ]
     },
     "execution_count": 30,
     "metadata": {},
     "output_type": "execute_result"
    }
   ],
   "source": [
    "X_train.shape"
   ]
  },
  {
   "cell_type": "code",
   "execution_count": 23,
   "id": "appointed-factor",
   "metadata": {},
   "outputs": [
    {
     "data": {
      "text/plain": [
       "[[265, 1167]]"
      ]
     },
     "execution_count": 23,
     "metadata": {},
     "output_type": "execute_result"
    }
   ],
   "source": [
    "sequences"
   ]
  },
  {
   "cell_type": "code",
   "execution_count": 25,
   "id": "interested-lawyer",
   "metadata": {},
   "outputs": [
    {
     "data": {
      "text/plain": [
       "(7561, 5351)"
      ]
     },
     "execution_count": 25,
     "metadata": {},
     "output_type": "execute_result"
    }
   ],
   "source": [
    "matrices.shape #not be 5351, should be median remove empty, 95\n",
    "#tokenizer hugging face wala use kar, has truncate keyword"
   ]
  },
  {
   "cell_type": "code",
   "execution_count": 26,
   "id": "vertical-debate",
   "metadata": {},
   "outputs": [
    {
     "data": {
      "text/plain": [
       "50"
      ]
     },
     "execution_count": 26,
     "metadata": {},
     "output_type": "execute_result"
    }
   ],
   "source": [
    "len(X_train[0])"
   ]
  },
  {
   "cell_type": "code",
   "execution_count": 27,
   "id": "adequate-burning",
   "metadata": {},
   "outputs": [
    {
     "data": {
      "text/plain": [
       "' '"
      ]
     },
     "execution_count": 27,
     "metadata": {},
     "output_type": "execute_result"
    }
   ],
   "source": [
    "sorted(X_train, key = lambda x : len(x))[0]"
   ]
  },
  {
   "cell_type": "code",
   "execution_count": 14,
   "id": "frank-contents",
   "metadata": {},
   "outputs": [],
   "source": [
    "tokenizer = Tokenizer(filters='!\"#$%&()*+,-./:;<=>?@[\\\\]^_`{|}~\\t\\n\\'',\n",
    "                          lower=True)\n",
    "\n",
    "tokenizer.fit_on_texts(X_train)"
   ]
  },
  {
   "cell_type": "code",
   "execution_count": 17,
   "id": "initial-advancement",
   "metadata": {},
   "outputs": [],
   "source": [
    "sequences = tokenizer.texts_to_sequences([\"this perhaps not really necessary\"])"
   ]
  },
  {
   "cell_type": "code",
   "execution_count": 18,
   "id": "liberal-shift",
   "metadata": {},
   "outputs": [
    {
     "data": {
      "text/plain": [
       "[[14, 918, 320, 152, 514]]"
      ]
     },
     "execution_count": 18,
     "metadata": {},
     "output_type": "execute_result"
    }
   ],
   "source": [
    "sequences"
   ]
  },
  {
   "cell_type": "code",
   "execution_count": 19,
   "id": "outer-former",
   "metadata": {},
   "outputs": [
    {
     "data": {
      "text/plain": [
       "(7561,)"
      ]
     },
     "execution_count": 19,
     "metadata": {},
     "output_type": "execute_result"
    }
   ],
   "source": [
    "X_train.shape"
   ]
  },
  {
   "cell_type": "code",
   "execution_count": 20,
   "id": "collectible-journey",
   "metadata": {},
   "outputs": [],
   "source": [
    "matrices = tokenizer.texts_to_matrix(X_train)"
   ]
  },
  {
   "cell_type": "code",
   "execution_count": 21,
   "id": "whole-ordering",
   "metadata": {},
   "outputs": [
    {
     "data": {
      "text/plain": [
       "array([[0., 0., 0., ..., 0., 0., 0.],\n",
       "       [0., 0., 0., ..., 0., 0., 0.],\n",
       "       [0., 0., 0., ..., 0., 0., 0.],\n",
       "       ...,\n",
       "       [0., 0., 0., ..., 0., 0., 0.],\n",
       "       [0., 0., 0., ..., 0., 0., 0.],\n",
       "       [0., 1., 1., ..., 0., 0., 0.]])"
      ]
     },
     "execution_count": 21,
     "metadata": {},
     "output_type": "execute_result"
    }
   ],
   "source": [
    "matrices"
   ]
  },
  {
   "cell_type": "markdown",
   "id": "referenced-railway",
   "metadata": {},
   "source": [
    "# Test your prep\n"
   ]
  },
  {
   "cell_type": "code",
   "execution_count": 34,
   "id": "respected-piece",
   "metadata": {},
   "outputs": [],
   "source": [
    "corpus = [\n",
    "    # Positive Reviews\n",
    "\n",
    "    'This is an excellent movie',\n",
    "    'The move was fantastic I like it',\n",
    "    'You should watch it is brilliant',\n",
    "    'Exceptionally good',\n",
    "    'Wonderfully directed and executed I like it',\n",
    "    'Its a fantastic series',\n",
    "    'Never watched such a brillent movie',\n",
    "    'It is a Wonderful movie',\n",
    "\n",
    "    # Negtive Reviews\n",
    "\n",
    "    \"horrible acting\",\n",
    "    'waste of money',\n",
    "    'pathetic picture',\n",
    "    'It was very boring',\n",
    "    'I did not like the movie',\n",
    "    'The movie was horrible',\n",
    "    'I will not recommend',\n",
    "    'The acting is pathetic'\n",
    "]\n",
    "sentiments = np.array([1,1,1,1,1,1,1,1,0,0,0,0,0,0,0,0])"
   ]
  },
  {
   "cell_type": "code",
   "execution_count": 36,
   "id": "upper-rocket",
   "metadata": {},
   "outputs": [],
   "source": [
    "sentiments = np.array([1,1,1,1,1,1,1,1,0,0,0,0,0,0,0,0])"
   ]
  },
  {
   "cell_type": "code",
   "execution_count": 45,
   "id": "regional-christopher",
   "metadata": {},
   "outputs": [
    {
     "name": "stdout",
     "output_type": "stream",
     "text": [
      "45\n"
     ]
    }
   ],
   "source": [
    "#Embedding Layer (wordVocab,wordDim,inputlen) -- transforms words as rows, dimesions as cols matrx\n",
    "from nltk.tokenize import word_tokenize\n",
    "\n",
    "all_words = []\n",
    "for sent in corpus:\n",
    "    tokenize_word = word_tokenize(sent)\n",
    "    #tokenize_word is a list of all words in a sentence\n",
    "    for word in tokenize_word:\n",
    "        all_words.append(word)\n",
    "#all_words\n",
    "#we only need unique words \n",
    "unique_words = set(all_words)\n",
    "print(len(unique_words))\n",
    "vocab_length = len(unique_words)"
   ]
  },
  {
   "cell_type": "code",
   "execution_count": 46,
   "id": "welcome-aurora",
   "metadata": {},
   "outputs": [
    {
     "name": "stdout",
     "output_type": "stream",
     "text": [
      "[[33, 25, 1, 12, 13], [35, 19, 19, 4, 30, 14, 36], [37, 37, 31, 36, 25, 40], [27, 7], [25, 10, 10, 5, 30, 14, 36], [40, 30, 4, 36], [32, 12, 26, 30, 10, 13], [36, 25, 30, 3, 13], [44, 28], [6, 5, 1], [10, 6], [36, 19, 24, 6], [30, 31, 19, 14, 35, 13], [35, 13, 19, 44], [30, 13, 19, 30], [35, 28, 25, 10]]\n"
     ]
    }
   ],
   "source": [
    "from tensorflow.keras.preprocessing.text import one_hot\n",
    "embedded_sentences = [one_hot(sent, vocab_length) for sent in corpus]\n",
    "print(embedded_sentences)\n",
    "#but all these are different lengths so pad them equal to len if longest sentence"
   ]
  },
  {
   "cell_type": "code",
   "execution_count": 47,
   "id": "musical-accessory",
   "metadata": {},
   "outputs": [],
   "source": [
    "word_count = lambda sentence: len(word_tokenize(sentence))\n",
    "longest_sentence = max(corpus, key=word_count)\n",
    "length_long_sentence = len(word_tokenize(longest_sentence))"
   ]
  },
  {
   "cell_type": "code",
   "execution_count": 48,
   "id": "architectural-agriculture",
   "metadata": {},
   "outputs": [
    {
     "name": "stdout",
     "output_type": "stream",
     "text": [
      "[[33 25  1 12 13  0  0]\n",
      " [35 19 19  4 30 14 36]\n",
      " [37 37 31 36 25 40  0]\n",
      " [27  7  0  0  0  0  0]\n",
      " [25 10 10  5 30 14 36]\n",
      " [40 30  4 36  0  0  0]\n",
      " [32 12 26 30 10 13  0]\n",
      " [36 25 30  3 13  0  0]\n",
      " [44 28  0  0  0  0  0]\n",
      " [ 6  5  1  0  0  0  0]\n",
      " [10  6  0  0  0  0  0]\n",
      " [36 19 24  6  0  0  0]\n",
      " [30 31 19 14 35 13  0]\n",
      " [35 13 19 44  0  0  0]\n",
      " [30 13 19 30  0  0  0]\n",
      " [35 28 25 10  0  0  0]]\n"
     ]
    }
   ],
   "source": [
    "padded_sentences = pad_sequences(embedded_sentences, length_long_sentence, padding='post')\n",
    "print(padded_sentences)"
   ]
  },
  {
   "cell_type": "code",
   "execution_count": 83,
   "id": "three-registration",
   "metadata": {},
   "outputs": [
    {
     "data": {
      "text/plain": [
       "20"
      ]
     },
     "execution_count": 83,
     "metadata": {},
     "output_type": "execute_result"
    }
   ],
   "source": [
    "e = Embedding(vocab_length, 20, input_length=length_long_sentence)\n",
    "e.output_dim #16 * 7* 20"
   ]
  },
  {
   "cell_type": "code",
   "execution_count": 78,
   "id": "abstract-brazilian",
   "metadata": {},
   "outputs": [],
   "source": [
    "from tensorflow.keras import Sequential\n",
    "model = Sequential()\n",
    "model.add(Embedding(vocab_length, 20, input_length=length_long_sentence))\n",
    "model.add(Flatten())\n",
    "model.add(Dense(1, activation='sigmoid'))"
   ]
  },
  {
   "cell_type": "code",
   "execution_count": 53,
   "id": "quantitative-module",
   "metadata": {},
   "outputs": [
    {
     "name": "stdout",
     "output_type": "stream",
     "text": [
      "Model: \"sequential_1\"\n",
      "_________________________________________________________________\n",
      "Layer (type)                 Output Shape              Param #   \n",
      "=================================================================\n",
      "embedding (Embedding)        (None, 7, 20)             900       \n",
      "_________________________________________________________________\n",
      "flatten (Flatten)            (None, 140)               0         \n",
      "_________________________________________________________________\n",
      "dense (Dense)                (None, 1)                 141       \n",
      "=================================================================\n",
      "Total params: 1,041\n",
      "Trainable params: 1,041\n",
      "Non-trainable params: 0\n",
      "_________________________________________________________________\n",
      "None\n"
     ]
    }
   ],
   "source": [
    "model.compile(optimizer='adam', loss='binary_crossentropy', metrics=['acc'])\n",
    "print(model.summary())"
   ]
  },
  {
   "cell_type": "code",
   "execution_count": 54,
   "id": "nuclear-daughter",
   "metadata": {},
   "outputs": [
    {
     "name": "stdout",
     "output_type": "stream",
     "text": [
      "Epoch 1/100\n",
      "1/1 [==============================] - 0s 0s/step - loss: 0.6940 - acc: 0.4375\n",
      "Epoch 2/100\n",
      "1/1 [==============================] - 0s 0s/step - loss: 0.6906 - acc: 0.5000\n",
      "Epoch 3/100\n",
      "1/1 [==============================] - 0s 0s/step - loss: 0.6873 - acc: 0.6250\n",
      "Epoch 4/100\n",
      "1/1 [==============================] - 0s 0s/step - loss: 0.6839 - acc: 0.6875\n",
      "Epoch 5/100\n",
      "1/1 [==============================] - 0s 0s/step - loss: 0.6805 - acc: 0.7500\n",
      "Epoch 6/100\n",
      "1/1 [==============================] - 0s 0s/step - loss: 0.6771 - acc: 0.7500\n",
      "Epoch 7/100\n",
      "1/1 [==============================] - 0s 0s/step - loss: 0.6738 - acc: 0.8750\n",
      "Epoch 8/100\n",
      "1/1 [==============================] - 0s 0s/step - loss: 0.6704 - acc: 0.8750\n",
      "Epoch 9/100\n",
      "1/1 [==============================] - 0s 0s/step - loss: 0.6670 - acc: 0.8750\n",
      "Epoch 10/100\n",
      "1/1 [==============================] - 0s 0s/step - loss: 0.6637 - acc: 0.8750\n",
      "Epoch 11/100\n",
      "1/1 [==============================] - 0s 0s/step - loss: 0.6603 - acc: 0.8750\n",
      "Epoch 12/100\n",
      "1/1 [==============================] - 0s 0s/step - loss: 0.6569 - acc: 0.8750\n",
      "Epoch 13/100\n",
      "1/1 [==============================] - 0s 0s/step - loss: 0.6535 - acc: 0.9375\n",
      "Epoch 14/100\n",
      "1/1 [==============================] - 0s 8ms/step - loss: 0.6501 - acc: 0.9375\n",
      "Epoch 15/100\n",
      "1/1 [==============================] - 0s 0s/step - loss: 0.6467 - acc: 0.9375\n",
      "Epoch 16/100\n",
      "1/1 [==============================] - 0s 0s/step - loss: 0.6433 - acc: 0.9375\n",
      "Epoch 17/100\n",
      "1/1 [==============================] - 0s 0s/step - loss: 0.6398 - acc: 0.9375\n",
      "Epoch 18/100\n",
      "1/1 [==============================] - 0s 0s/step - loss: 0.6363 - acc: 0.9375\n",
      "Epoch 19/100\n",
      "1/1 [==============================] - 0s 0s/step - loss: 0.6328 - acc: 0.9375\n",
      "Epoch 20/100\n",
      "1/1 [==============================] - 0s 0s/step - loss: 0.6293 - acc: 0.9375\n",
      "Epoch 21/100\n",
      "1/1 [==============================] - 0s 0s/step - loss: 0.6258 - acc: 0.9375\n",
      "Epoch 22/100\n",
      "1/1 [==============================] - 0s 0s/step - loss: 0.6222 - acc: 0.9375\n",
      "Epoch 23/100\n",
      "1/1 [==============================] - 0s 8ms/step - loss: 0.6187 - acc: 0.9375\n",
      "Epoch 24/100\n",
      "1/1 [==============================] - 0s 0s/step - loss: 0.6150 - acc: 0.9375\n",
      "Epoch 25/100\n",
      "1/1 [==============================] - 0s 0s/step - loss: 0.6114 - acc: 0.9375\n",
      "Epoch 26/100\n",
      "1/1 [==============================] - 0s 8ms/step - loss: 0.6077 - acc: 0.9375\n",
      "Epoch 27/100\n",
      "1/1 [==============================] - 0s 0s/step - loss: 0.6041 - acc: 0.9375\n",
      "Epoch 28/100\n",
      "1/1 [==============================] - 0s 0s/step - loss: 0.6003 - acc: 0.9375\n",
      "Epoch 29/100\n",
      "1/1 [==============================] - 0s 0s/step - loss: 0.5966 - acc: 0.9375\n",
      "Epoch 30/100\n",
      "1/1 [==============================] - 0s 0s/step - loss: 0.5928 - acc: 0.9375\n",
      "Epoch 31/100\n",
      "1/1 [==============================] - 0s 8ms/step - loss: 0.5890 - acc: 0.9375\n",
      "Epoch 32/100\n",
      "1/1 [==============================] - 0s 0s/step - loss: 0.5851 - acc: 0.9375\n",
      "Epoch 33/100\n",
      "1/1 [==============================] - 0s 0s/step - loss: 0.5812 - acc: 0.9375\n",
      "Epoch 34/100\n",
      "1/1 [==============================] - 0s 0s/step - loss: 0.5773 - acc: 0.9375\n",
      "Epoch 35/100\n",
      "1/1 [==============================] - 0s 0s/step - loss: 0.5734 - acc: 0.9375\n",
      "Epoch 36/100\n",
      "1/1 [==============================] - 0s 0s/step - loss: 0.5694 - acc: 0.9375\n",
      "Epoch 37/100\n",
      "1/1 [==============================] - 0s 0s/step - loss: 0.5654 - acc: 0.9375\n",
      "Epoch 38/100\n",
      "1/1 [==============================] - 0s 0s/step - loss: 0.5614 - acc: 0.9375\n",
      "Epoch 39/100\n",
      "1/1 [==============================] - 0s 0s/step - loss: 0.5573 - acc: 0.9375\n",
      "Epoch 40/100\n",
      "1/1 [==============================] - 0s 8ms/step - loss: 0.5532 - acc: 0.9375\n",
      "Epoch 41/100\n",
      "1/1 [==============================] - 0s 0s/step - loss: 0.5491 - acc: 0.9375\n",
      "Epoch 42/100\n",
      "1/1 [==============================] - 0s 0s/step - loss: 0.5449 - acc: 0.9375\n",
      "Epoch 43/100\n",
      "1/1 [==============================] - 0s 0s/step - loss: 0.5407 - acc: 0.9375\n",
      "Epoch 44/100\n",
      "1/1 [==============================] - 0s 0s/step - loss: 0.5365 - acc: 0.9375\n",
      "Epoch 45/100\n",
      "1/1 [==============================] - 0s 0s/step - loss: 0.5322 - acc: 0.9375\n",
      "Epoch 46/100\n",
      "1/1 [==============================] - 0s 0s/step - loss: 0.5279 - acc: 0.9375\n",
      "Epoch 47/100\n",
      "1/1 [==============================] - 0s 8ms/step - loss: 0.5236 - acc: 0.9375\n",
      "Epoch 48/100\n",
      "1/1 [==============================] - 0s 0s/step - loss: 0.5193 - acc: 0.9375\n",
      "Epoch 49/100\n",
      "1/1 [==============================] - 0s 0s/step - loss: 0.5149 - acc: 0.9375\n",
      "Epoch 50/100\n",
      "1/1 [==============================] - 0s 0s/step - loss: 0.5106 - acc: 0.9375\n",
      "Epoch 51/100\n",
      "1/1 [==============================] - 0s 0s/step - loss: 0.5062 - acc: 0.9375\n",
      "Epoch 52/100\n",
      "1/1 [==============================] - 0s 0s/step - loss: 0.5017 - acc: 0.9375\n",
      "Epoch 53/100\n",
      "1/1 [==============================] - 0s 0s/step - loss: 0.4973 - acc: 0.9375\n",
      "Epoch 54/100\n",
      "1/1 [==============================] - 0s 0s/step - loss: 0.4928 - acc: 0.9375\n",
      "Epoch 55/100\n",
      "1/1 [==============================] - 0s 0s/step - loss: 0.4883 - acc: 0.9375\n",
      "Epoch 56/100\n",
      "1/1 [==============================] - 0s 0s/step - loss: 0.4838 - acc: 0.9375\n",
      "Epoch 57/100\n",
      "1/1 [==============================] - 0s 0s/step - loss: 0.4793 - acc: 0.9375\n",
      "Epoch 58/100\n",
      "1/1 [==============================] - 0s 0s/step - loss: 0.4748 - acc: 0.9375\n",
      "Epoch 59/100\n",
      "1/1 [==============================] - 0s 8ms/step - loss: 0.4702 - acc: 0.9375\n",
      "Epoch 60/100\n",
      "1/1 [==============================] - 0s 0s/step - loss: 0.4657 - acc: 0.9375\n",
      "Epoch 61/100\n",
      "1/1 [==============================] - 0s 0s/step - loss: 0.4611 - acc: 0.9375\n",
      "Epoch 62/100\n",
      "1/1 [==============================] - 0s 0s/step - loss: 0.4565 - acc: 0.9375\n",
      "Epoch 63/100\n",
      "1/1 [==============================] - 0s 0s/step - loss: 0.4519 - acc: 0.9375\n",
      "Epoch 64/100\n",
      "1/1 [==============================] - 0s 0s/step - loss: 0.4474 - acc: 0.9375\n",
      "Epoch 65/100\n",
      "1/1 [==============================] - 0s 0s/step - loss: 0.4428 - acc: 0.9375\n",
      "Epoch 66/100\n",
      "1/1 [==============================] - 0s 0s/step - loss: 0.4382 - acc: 0.9375\n",
      "Epoch 67/100\n",
      "1/1 [==============================] - 0s 0s/step - loss: 0.4336 - acc: 0.9375\n",
      "Epoch 68/100\n",
      "1/1 [==============================] - 0s 0s/step - loss: 0.4290 - acc: 0.9375\n",
      "Epoch 69/100\n",
      "1/1 [==============================] - 0s 0s/step - loss: 0.4244 - acc: 0.9375\n",
      "Epoch 70/100\n",
      "1/1 [==============================] - 0s 0s/step - loss: 0.4198 - acc: 0.9375\n",
      "Epoch 71/100\n",
      "1/1 [==============================] - 0s 0s/step - loss: 0.4152 - acc: 1.0000\n",
      "Epoch 72/100\n",
      "1/1 [==============================] - 0s 0s/step - loss: 0.4106 - acc: 1.0000\n",
      "Epoch 73/100\n",
      "1/1 [==============================] - 0s 0s/step - loss: 0.4060 - acc: 1.0000\n",
      "Epoch 74/100\n",
      "1/1 [==============================] - 0s 0s/step - loss: 0.4015 - acc: 1.0000\n",
      "Epoch 75/100\n",
      "1/1 [==============================] - 0s 0s/step - loss: 0.3969 - acc: 1.0000\n",
      "Epoch 76/100\n",
      "1/1 [==============================] - 0s 0s/step - loss: 0.3924 - acc: 1.0000\n",
      "Epoch 77/100\n",
      "1/1 [==============================] - 0s 0s/step - loss: 0.3878 - acc: 1.0000\n",
      "Epoch 78/100\n",
      "1/1 [==============================] - 0s 0s/step - loss: 0.3833 - acc: 1.0000\n",
      "Epoch 79/100\n",
      "1/1 [==============================] - 0s 0s/step - loss: 0.3788 - acc: 1.0000\n",
      "Epoch 80/100\n",
      "1/1 [==============================] - 0s 0s/step - loss: 0.3743 - acc: 1.0000\n",
      "Epoch 81/100\n",
      "1/1 [==============================] - 0s 0s/step - loss: 0.3699 - acc: 1.0000\n",
      "Epoch 82/100\n",
      "1/1 [==============================] - 0s 0s/step - loss: 0.3654 - acc: 1.0000\n",
      "Epoch 83/100\n",
      "1/1 [==============================] - 0s 0s/step - loss: 0.3610 - acc: 1.0000\n",
      "Epoch 84/100\n",
      "1/1 [==============================] - 0s 0s/step - loss: 0.3566 - acc: 1.0000\n",
      "Epoch 85/100\n",
      "1/1 [==============================] - 0s 0s/step - loss: 0.3522 - acc: 1.0000\n",
      "Epoch 86/100\n",
      "1/1 [==============================] - 0s 8ms/step - loss: 0.3478 - acc: 1.0000\n",
      "Epoch 87/100\n",
      "1/1 [==============================] - 0s 0s/step - loss: 0.3435 - acc: 1.0000\n",
      "Epoch 88/100\n",
      "1/1 [==============================] - 0s 8ms/step - loss: 0.3392 - acc: 1.0000\n",
      "Epoch 89/100\n",
      "1/1 [==============================] - 0s 0s/step - loss: 0.3349 - acc: 1.0000\n",
      "Epoch 90/100\n"
     ]
    },
    {
     "name": "stdout",
     "output_type": "stream",
     "text": [
      "1/1 [==============================] - 0s 8ms/step - loss: 0.3306 - acc: 1.0000\n",
      "Epoch 91/100\n",
      "1/1 [==============================] - 0s 0s/step - loss: 0.3264 - acc: 1.0000\n",
      "Epoch 92/100\n",
      "1/1 [==============================] - 0s 8ms/step - loss: 0.3222 - acc: 1.0000\n",
      "Epoch 93/100\n",
      "1/1 [==============================] - 0s 0s/step - loss: 0.3180 - acc: 1.0000\n",
      "Epoch 94/100\n",
      "1/1 [==============================] - 0s 8ms/step - loss: 0.3139 - acc: 1.0000\n",
      "Epoch 95/100\n",
      "1/1 [==============================] - 0s 0s/step - loss: 0.3098 - acc: 1.0000\n",
      "Epoch 96/100\n",
      "1/1 [==============================] - 0s 0s/step - loss: 0.3057 - acc: 1.0000\n",
      "Epoch 97/100\n",
      "1/1 [==============================] - 0s 0s/step - loss: 0.3017 - acc: 1.0000\n",
      "Epoch 98/100\n",
      "1/1 [==============================] - 0s 8ms/step - loss: 0.2977 - acc: 1.0000\n",
      "Epoch 99/100\n",
      "1/1 [==============================] - 0s 0s/step - loss: 0.2937 - acc: 1.0000\n",
      "Epoch 100/100\n",
      "1/1 [==============================] - 0s 0s/step - loss: 0.2897 - acc: 1.0000\n"
     ]
    },
    {
     "data": {
      "text/plain": [
       "<tensorflow.python.keras.callbacks.History at 0x18307e5dee0>"
      ]
     },
     "execution_count": 54,
     "metadata": {},
     "output_type": "execute_result"
    }
   ],
   "source": [
    "model.fit(padded_sentences, sentiments, epochs=100, verbose=1)"
   ]
  },
  {
   "cell_type": "code",
   "execution_count": 55,
   "id": "nuclear-laser",
   "metadata": {},
   "outputs": [
    {
     "name": "stdout",
     "output_type": "stream",
     "text": [
      "Accuracy: 100.000000\n"
     ]
    }
   ],
   "source": [
    "loss, accuracy = model.evaluate(padded_sentences, sentiments, verbose=0)\n",
    "print('Accuracy: %f' % (accuracy*100))\n"
   ]
  },
  {
   "cell_type": "code",
   "execution_count": null,
   "id": "available-explanation",
   "metadata": {},
   "outputs": [],
   "source": []
  }
 ],
 "metadata": {
  "kernelspec": {
   "display_name": "Python 3",
   "language": "python",
   "name": "python3"
  },
  "language_info": {
   "codemirror_mode": {
    "name": "ipython",
    "version": 3
   },
   "file_extension": ".py",
   "mimetype": "text/x-python",
   "name": "python",
   "nbconvert_exporter": "python",
   "pygments_lexer": "ipython3",
   "version": "3.8.5"
  }
 },
 "nbformat": 4,
 "nbformat_minor": 5
}
