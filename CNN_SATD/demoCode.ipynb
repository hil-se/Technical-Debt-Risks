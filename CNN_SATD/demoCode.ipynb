{
 "cells": [
  {
   "cell_type": "code",
   "execution_count": 7,
   "id": "furnished-smile",
   "metadata": {},
   "outputs": [],
   "source": [
    "import tensorflow as tf\n",
    "import pandas as pd\n",
    "import numpy as np\n",
    "import seaborn as sns\n",
    "import matplotlib.pyplot as plt\n",
    "pd.set_option('display.max_colwidth', None)\n",
    "import glob\n",
    "import re\n",
    "from nltk.corpus import stopwords\n",
    "from sklearn.model_selection import train_test_split\n",
    "from tensorflow.keras.preprocessing.text import Tokenizer\n",
    "from tensorflow.keras.preprocessing.sequence import pad_sequences\n",
    "\n",
    "from tensorflow.keras.layers import Embedding\n",
    "from tensorflow.keras.layers import Dense, Input, GlobalMaxPooling1D\n",
    "from tensorflow.keras.layers import Conv1D, MaxPooling1D, Embedding, LSTM\n",
    "from tensorflow.keras.models import Model, Sequential\n",
    "from tensorflow.keras.layers import Input, Dense, Embedding, Conv2D, MaxPooling2D, Dropout,concatenate\n",
    "from tensorflow.keras.layers import Reshape, Flatten\n",
    "from tensorflow.keras.callbacks import EarlyStopping\n",
    "from tensorflow.keras.optimizers import Adam,SGD\n",
    "from tensorflow.keras.models import Model\n",
    "from tensorflow.keras import regularizers\n",
    "from tensorflow.keras import backend \n"
   ]
  },
  {
   "cell_type": "code",
   "execution_count": 8,
   "id": "maritime-rescue",
   "metadata": {},
   "outputs": [],
   "source": [
    "corpus = [\n",
    "    # Positive Reviews\n",
    "\n",
    "    'This is an excellent movie',\n",
    "    'The move was fantastic I like it',\n",
    "    'You should watch it is brilliant',\n",
    "    'Exceptionally good',\n",
    "    'Wonderfully directed and executed I like it',\n",
    "    'Its a fantastic series',\n",
    "    'Never watched such a brillent movie',\n",
    "    'It is a Wonderful movie',\n",
    "\n",
    "    # Negtive Reviews\n",
    "\n",
    "    \"horrible acting\",\n",
    "    'waste of money',\n",
    "    'pathetic picture',\n",
    "    'It was very boring',\n",
    "    'I did not like the movie',\n",
    "    'The movie was horrible',\n",
    "    'I will not recommend',\n",
    "    'The acting is pathetic'\n",
    "]\n",
    "sentiments = np.array([1,1,1,1,1,1,1,1,0,0,0,0,0,0,0,0])"
   ]
  },
  {
   "cell_type": "code",
   "execution_count": 9,
   "id": "selective-single",
   "metadata": {},
   "outputs": [
    {
     "name": "stdout",
     "output_type": "stream",
     "text": [
      "45\n"
     ]
    }
   ],
   "source": [
    "#Embedding Layer (wordVocab,wordDim,inputlen) -- transforms words as rows, dimesions as cols matrx\n",
    "from nltk.tokenize import word_tokenize\n",
    "\n",
    "all_words = []\n",
    "for sent in corpus:\n",
    "    tokenize_word = word_tokenize(sent)\n",
    "    #tokenize_word is a list of all words in a sentence\n",
    "    for word in tokenize_word:\n",
    "        all_words.append(word)\n",
    "#all_words\n",
    "#we only need unique words \n",
    "unique_words = set(all_words)\n",
    "print(len(unique_words))\n",
    "vocab_length = len(unique_words)"
   ]
  },
  {
   "cell_type": "code",
   "execution_count": 10,
   "id": "moderate-syndicate",
   "metadata": {},
   "outputs": [
    {
     "name": "stdout",
     "output_type": "stream",
     "text": [
      "[[20, 17, 7, 43, 6], [9, 8, 14, 2, 32, 14, 6], [21, 39, 12, 6, 17, 20], [20, 21], [13, 18, 44, 10, 32, 14, 6], [24, 3, 2, 1], [24, 21, 34, 3, 33, 6], [6, 17, 3, 34, 6], [17, 33], [5, 40, 34], [34, 31], [6, 14, 38, 12], [32, 39, 20, 14, 9, 6], [9, 6, 14, 17], [32, 12, 20, 18], [9, 33, 17, 34]]\n"
     ]
    }
   ],
   "source": [
    "from tensorflow.keras.preprocessing.text import one_hot\n",
    "embedded_sentences = [one_hot(sent, vocab_length) for sent in corpus]\n",
    "print(embedded_sentences)\n",
    "#but all these are different lengths so pad them equal to len if longest sentence"
   ]
  },
  {
   "cell_type": "code",
   "execution_count": 16,
   "id": "stopped-edward",
   "metadata": {},
   "outputs": [],
   "source": [
    "word_count = lambda sentence: len(word_tokenize(sentence))\n",
    "longest_sentence = max(corpus, key=word_count)\n",
    "length_long_sentence = len(word_tokenize(longest_sentence))"
   ]
  },
  {
   "cell_type": "code",
   "execution_count": 23,
   "id": "postal-start",
   "metadata": {},
   "outputs": [
    {
     "name": "stdout",
     "output_type": "stream",
     "text": [
      "[[20 17  7 43  6  0  0]\n",
      " [ 9  8 14  2 32 14  6]\n",
      " [21 39 12  6 17 20  0]\n",
      " [20 21  0  0  0  0  0]\n",
      " [13 18 44 10 32 14  6]\n",
      " [24  3  2  1  0  0  0]\n",
      " [24 21 34  3 33  6  0]\n",
      " [ 6 17  3 34  6  0  0]\n",
      " [17 33  0  0  0  0  0]\n",
      " [ 5 40 34  0  0  0  0]\n",
      " [34 31  0  0  0  0  0]\n",
      " [ 6 14 38 12  0  0  0]\n",
      " [32 39 20 14  9  6  0]\n",
      " [ 9  6 14 17  0  0  0]\n",
      " [32 12 20 18  0  0  0]\n",
      " [ 9 33 17 34  0  0  0]]\n"
     ]
    }
   ],
   "source": [
    "padded_sentences = pad_sequences(embedded_sentences, length_long_sentence, padding='post')\n",
    "print(padded_sentences)"
   ]
  },
  {
   "cell_type": "code",
   "execution_count": 24,
   "id": "immune-rough",
   "metadata": {},
   "outputs": [
    {
     "data": {
      "text/plain": [
       "20"
      ]
     },
     "execution_count": 24,
     "metadata": {},
     "output_type": "execute_result"
    }
   ],
   "source": [
    "#takes the input sentences and transforms to a higher dim, 20 is dim in this case\n",
    "e = Embedding(vocab_length, 20, input_length=length_long_sentence)\n",
    "e.output_dim #16 * 7* 20"
   ]
  },
  {
   "cell_type": "code",
   "execution_count": 25,
   "id": "hidden-africa",
   "metadata": {},
   "outputs": [],
   "source": [
    "from tensorflow.keras import Sequential\n",
    "model = Sequential()\n",
    "model.add(Embedding(vocab_length, 20, input_length=length_long_sentence))\n",
    "model.add(Flatten())\n",
    "model.add(Dense(1, activation='sigmoid'))"
   ]
  },
  {
   "cell_type": "code",
   "execution_count": 26,
   "id": "manual-indication",
   "metadata": {},
   "outputs": [
    {
     "name": "stdout",
     "output_type": "stream",
     "text": [
      "Model: \"sequential_2\"\n",
      "_________________________________________________________________\n",
      "Layer (type)                 Output Shape              Param #   \n",
      "=================================================================\n",
      "embedding_6 (Embedding)      (None, 7, 20)             900       \n",
      "_________________________________________________________________\n",
      "flatten_2 (Flatten)          (None, 140)               0         \n",
      "_________________________________________________________________\n",
      "dense_2 (Dense)              (None, 1)                 141       \n",
      "=================================================================\n",
      "Total params: 1,041\n",
      "Trainable params: 1,041\n",
      "Non-trainable params: 0\n",
      "_________________________________________________________________\n",
      "None\n"
     ]
    }
   ],
   "source": [
    "model.compile(optimizer='adam', loss='binary_crossentropy', metrics=['acc'])\n",
    "print(model.summary())"
   ]
  },
  {
   "cell_type": "code",
   "execution_count": 27,
   "id": "continent-disabled",
   "metadata": {},
   "outputs": [
    {
     "name": "stdout",
     "output_type": "stream",
     "text": [
      "Epoch 1/100\n",
      "1/1 [==============================] - 0s 1ms/step - loss: 0.7020 - acc: 0.3125\n",
      "Epoch 2/100\n",
      "1/1 [==============================] - 0s 0s/step - loss: 0.6985 - acc: 0.4375\n",
      "Epoch 3/100\n",
      "1/1 [==============================] - 0s 0s/step - loss: 0.6951 - acc: 0.5000\n",
      "Epoch 4/100\n",
      "1/1 [==============================] - 0s 997us/step - loss: 0.6917 - acc: 0.5625\n",
      "Epoch 5/100\n",
      "1/1 [==============================] - 0s 998us/step - loss: 0.6883 - acc: 0.5625\n",
      "Epoch 6/100\n",
      "1/1 [==============================] - 0s 0s/step - loss: 0.6850 - acc: 0.6875\n",
      "Epoch 7/100\n",
      "1/1 [==============================] - 0s 998us/step - loss: 0.6816 - acc: 0.6875\n",
      "Epoch 8/100\n",
      "1/1 [==============================] - 0s 998us/step - loss: 0.6783 - acc: 0.7500\n",
      "Epoch 9/100\n",
      "1/1 [==============================] - 0s 0s/step - loss: 0.6749 - acc: 0.7500\n",
      "Epoch 10/100\n",
      "1/1 [==============================] - 0s 998us/step - loss: 0.6715 - acc: 0.7500\n",
      "Epoch 11/100\n",
      "1/1 [==============================] - 0s 0s/step - loss: 0.6682 - acc: 0.7500\n",
      "Epoch 12/100\n",
      "1/1 [==============================] - 0s 1ms/step - loss: 0.6648 - acc: 0.8125\n",
      "Epoch 13/100\n",
      "1/1 [==============================] - 0s 996us/step - loss: 0.6614 - acc: 0.8125\n",
      "Epoch 14/100\n",
      "1/1 [==============================] - 0s 998us/step - loss: 0.6580 - acc: 0.8750\n",
      "Epoch 15/100\n",
      "1/1 [==============================] - 0s 998us/step - loss: 0.6546 - acc: 0.8750\n",
      "Epoch 16/100\n",
      "1/1 [==============================] - 0s 999us/step - loss: 0.6512 - acc: 0.8750\n",
      "Epoch 17/100\n",
      "1/1 [==============================] - 0s 997us/step - loss: 0.6478 - acc: 0.8750\n",
      "Epoch 18/100\n",
      "1/1 [==============================] - 0s 998us/step - loss: 0.6443 - acc: 0.9375\n",
      "Epoch 19/100\n",
      "1/1 [==============================] - 0s 999us/step - loss: 0.6408 - acc: 0.9375\n",
      "Epoch 20/100\n",
      "1/1 [==============================] - 0s 996us/step - loss: 0.6373 - acc: 0.9375\n",
      "Epoch 21/100\n",
      "1/1 [==============================] - 0s 0s/step - loss: 0.6338 - acc: 0.9375\n",
      "Epoch 22/100\n",
      "1/1 [==============================] - 0s 0s/step - loss: 0.6302 - acc: 0.9375\n",
      "Epoch 23/100\n",
      "1/1 [==============================] - 0s 997us/step - loss: 0.6266 - acc: 0.9375\n",
      "Epoch 24/100\n",
      "1/1 [==============================] - 0s 0s/step - loss: 0.6229 - acc: 0.9375\n",
      "Epoch 25/100\n",
      "1/1 [==============================] - 0s 0s/step - loss: 0.6192 - acc: 0.9375\n",
      "Epoch 26/100\n",
      "1/1 [==============================] - 0s 997us/step - loss: 0.6155 - acc: 0.9375\n",
      "Epoch 27/100\n",
      "1/1 [==============================] - 0s 998us/step - loss: 0.6118 - acc: 0.9375\n",
      "Epoch 28/100\n",
      "1/1 [==============================] - 0s 997us/step - loss: 0.6080 - acc: 0.9375\n",
      "Epoch 29/100\n",
      "1/1 [==============================] - 0s 0s/step - loss: 0.6042 - acc: 0.9375\n",
      "Epoch 30/100\n",
      "1/1 [==============================] - 0s 995us/step - loss: 0.6003 - acc: 0.9375\n",
      "Epoch 31/100\n",
      "1/1 [==============================] - 0s 998us/step - loss: 0.5964 - acc: 0.9375\n",
      "Epoch 32/100\n",
      "1/1 [==============================] - 0s 996us/step - loss: 0.5925 - acc: 0.9375\n",
      "Epoch 33/100\n",
      "1/1 [==============================] - 0s 0s/step - loss: 0.5885 - acc: 0.9375\n",
      "Epoch 34/100\n",
      "1/1 [==============================] - 0s 0s/step - loss: 0.5845 - acc: 0.9375\n",
      "Epoch 35/100\n",
      "1/1 [==============================] - 0s 0s/step - loss: 0.5804 - acc: 0.9375\n",
      "Epoch 36/100\n",
      "1/1 [==============================] - 0s 0s/step - loss: 0.5763 - acc: 0.9375\n",
      "Epoch 37/100\n",
      "1/1 [==============================] - 0s 998us/step - loss: 0.5722 - acc: 0.9375\n",
      "Epoch 38/100\n",
      "1/1 [==============================] - 0s 996us/step - loss: 0.5680 - acc: 0.9375\n",
      "Epoch 39/100\n",
      "1/1 [==============================] - 0s 997us/step - loss: 0.5638 - acc: 0.9375\n",
      "Epoch 40/100\n",
      "1/1 [==============================] - 0s 996us/step - loss: 0.5596 - acc: 0.9375\n",
      "Epoch 41/100\n",
      "1/1 [==============================] - 0s 998us/step - loss: 0.5553 - acc: 0.9375\n",
      "Epoch 42/100\n",
      "1/1 [==============================] - 0s 0s/step - loss: 0.5510 - acc: 0.9375\n",
      "Epoch 43/100\n",
      "1/1 [==============================] - 0s 0s/step - loss: 0.5466 - acc: 0.9375\n",
      "Epoch 44/100\n",
      "1/1 [==============================] - 0s 1ms/step - loss: 0.5422 - acc: 0.9375\n",
      "Epoch 45/100\n",
      "1/1 [==============================] - 0s 996us/step - loss: 0.5378 - acc: 0.9375\n",
      "Epoch 46/100\n",
      "1/1 [==============================] - 0s 2ms/step - loss: 0.5334 - acc: 0.9375\n",
      "Epoch 47/100\n",
      "1/1 [==============================] - 0s 998us/step - loss: 0.5289 - acc: 0.9375\n",
      "Epoch 48/100\n",
      "1/1 [==============================] - 0s 998us/step - loss: 0.5244 - acc: 0.9375\n",
      "Epoch 49/100\n",
      "1/1 [==============================] - 0s 972us/step - loss: 0.5199 - acc: 0.9375\n",
      "Epoch 50/100\n",
      "1/1 [==============================] - 0s 0s/step - loss: 0.5153 - acc: 0.9375\n",
      "Epoch 51/100\n",
      "1/1 [==============================] - 0s 998us/step - loss: 0.5107 - acc: 0.9375\n",
      "Epoch 52/100\n",
      "1/1 [==============================] - 0s 997us/step - loss: 0.5062 - acc: 0.9375\n",
      "Epoch 53/100\n",
      "1/1 [==============================] - 0s 997us/step - loss: 0.5015 - acc: 0.9375\n",
      "Epoch 54/100\n",
      "1/1 [==============================] - 0s 0s/step - loss: 0.4969 - acc: 0.9375\n",
      "Epoch 55/100\n",
      "1/1 [==============================] - 0s 0s/step - loss: 0.4923 - acc: 0.9375\n",
      "Epoch 56/100\n",
      "1/1 [==============================] - 0s 6ms/step - loss: 0.4876 - acc: 0.9375\n",
      "Epoch 57/100\n",
      "1/1 [==============================] - 0s 0s/step - loss: 0.4829 - acc: 0.9375\n",
      "Epoch 58/100\n",
      "1/1 [==============================] - 0s 996us/step - loss: 0.4782 - acc: 0.9375\n",
      "Epoch 59/100\n",
      "1/1 [==============================] - 0s 998us/step - loss: 0.4735 - acc: 0.9375\n",
      "Epoch 60/100\n",
      "1/1 [==============================] - 0s 996us/step - loss: 0.4688 - acc: 0.9375\n",
      "Epoch 61/100\n",
      "1/1 [==============================] - 0s 998us/step - loss: 0.4641 - acc: 0.9375\n",
      "Epoch 62/100\n",
      "1/1 [==============================] - 0s 0s/step - loss: 0.4594 - acc: 0.9375\n",
      "Epoch 63/100\n",
      "1/1 [==============================] - 0s 998us/step - loss: 0.4547 - acc: 0.9375\n",
      "Epoch 64/100\n",
      "1/1 [==============================] - 0s 1ms/step - loss: 0.4500 - acc: 0.9375\n",
      "Epoch 65/100\n",
      "1/1 [==============================] - 0s 998us/step - loss: 0.4453 - acc: 0.9375\n",
      "Epoch 66/100\n",
      "1/1 [==============================] - 0s 998us/step - loss: 0.4406 - acc: 0.9375\n",
      "Epoch 67/100\n",
      "1/1 [==============================] - 0s 0s/step - loss: 0.4359 - acc: 0.9375\n",
      "Epoch 68/100\n",
      "1/1 [==============================] - 0s 997us/step - loss: 0.4312 - acc: 0.9375\n",
      "Epoch 69/100\n",
      "1/1 [==============================] - 0s 0s/step - loss: 0.4265 - acc: 0.9375\n",
      "Epoch 70/100\n",
      "1/1 [==============================] - 0s 997us/step - loss: 0.4218 - acc: 0.9375\n",
      "Epoch 71/100\n",
      "1/1 [==============================] - 0s 995us/step - loss: 0.4172 - acc: 0.9375\n",
      "Epoch 72/100\n",
      "1/1 [==============================] - 0s 0s/step - loss: 0.4125 - acc: 0.9375\n",
      "Epoch 73/100\n",
      "1/1 [==============================] - 0s 998us/step - loss: 0.4079 - acc: 0.9375\n",
      "Epoch 74/100\n",
      "1/1 [==============================] - 0s 998us/step - loss: 0.4033 - acc: 0.9375\n",
      "Epoch 75/100\n",
      "1/1 [==============================] - 0s 998us/step - loss: 0.3987 - acc: 0.9375\n",
      "Epoch 76/100\n",
      "1/1 [==============================] - 0s 997us/step - loss: 0.3941 - acc: 0.9375\n",
      "Epoch 77/100\n",
      "1/1 [==============================] - 0s 0s/step - loss: 0.3895 - acc: 0.9375\n",
      "Epoch 78/100\n",
      "1/1 [==============================] - 0s 998us/step - loss: 0.3850 - acc: 0.9375\n",
      "Epoch 79/100\n",
      "1/1 [==============================] - 0s 997us/step - loss: 0.3805 - acc: 0.9375\n",
      "Epoch 80/100\n",
      "1/1 [==============================] - 0s 0s/step - loss: 0.3760 - acc: 0.9375\n",
      "Epoch 81/100\n",
      "1/1 [==============================] - 0s 997us/step - loss: 0.3716 - acc: 0.9375\n",
      "Epoch 82/100\n",
      "1/1 [==============================] - 0s 998us/step - loss: 0.3671 - acc: 0.9375\n",
      "Epoch 83/100\n",
      "1/1 [==============================] - 0s 0s/step - loss: 0.3627 - acc: 0.9375\n",
      "Epoch 84/100\n",
      "1/1 [==============================] - 0s 998us/step - loss: 0.3584 - acc: 0.9375\n",
      "Epoch 85/100\n",
      "1/1 [==============================] - 0s 0s/step - loss: 0.3540 - acc: 0.9375\n",
      "Epoch 86/100\n",
      "1/1 [==============================] - 0s 998us/step - loss: 0.3497 - acc: 0.9375\n",
      "Epoch 87/100\n",
      "1/1 [==============================] - 0s 998us/step - loss: 0.3455 - acc: 0.9375\n",
      "Epoch 88/100\n"
     ]
    },
    {
     "name": "stdout",
     "output_type": "stream",
     "text": [
      "1/1 [==============================] - 0s 0s/step - loss: 0.3412 - acc: 0.9375\n",
      "Epoch 89/100\n",
      "1/1 [==============================] - 0s 0s/step - loss: 0.3370 - acc: 0.9375\n",
      "Epoch 90/100\n",
      "1/1 [==============================] - 0s 1000us/step - loss: 0.3328 - acc: 0.9375\n",
      "Epoch 91/100\n",
      "1/1 [==============================] - 0s 998us/step - loss: 0.3287 - acc: 0.9375\n",
      "Epoch 92/100\n",
      "1/1 [==============================] - 0s 995us/step - loss: 0.3246 - acc: 0.9375\n",
      "Epoch 93/100\n",
      "1/1 [==============================] - 0s 996us/step - loss: 0.3205 - acc: 0.9375\n",
      "Epoch 94/100\n",
      "1/1 [==============================] - 0s 0s/step - loss: 0.3165 - acc: 0.9375\n",
      "Epoch 95/100\n",
      "1/1 [==============================] - 0s 0s/step - loss: 0.3125 - acc: 0.9375\n",
      "Epoch 96/100\n",
      "1/1 [==============================] - 0s 998us/step - loss: 0.3085 - acc: 0.9375\n",
      "Epoch 97/100\n",
      "1/1 [==============================] - 0s 998us/step - loss: 0.3046 - acc: 0.9375\n",
      "Epoch 98/100\n",
      "1/1 [==============================] - 0s 997us/step - loss: 0.3007 - acc: 0.9375\n",
      "Epoch 99/100\n",
      "1/1 [==============================] - 0s 0s/step - loss: 0.2969 - acc: 0.9375\n",
      "Epoch 100/100\n",
      "1/1 [==============================] - 0s 998us/step - loss: 0.2931 - acc: 0.9375\n"
     ]
    },
    {
     "data": {
      "text/plain": [
       "<tensorflow.python.keras.callbacks.History at 0x2b08657b8b0>"
      ]
     },
     "execution_count": 27,
     "metadata": {},
     "output_type": "execute_result"
    }
   ],
   "source": [
    "model.fit(padded_sentences, sentiments, epochs=100, verbose=1)"
   ]
  },
  {
   "cell_type": "code",
   "execution_count": 28,
   "id": "impossible-emphasis",
   "metadata": {},
   "outputs": [
    {
     "name": "stdout",
     "output_type": "stream",
     "text": [
      "Accuracy: 93.750000\n"
     ]
    }
   ],
   "source": [
    "loss, accuracy = model.evaluate(padded_sentences, sentiments, verbose=0)\n",
    "print('Accuracy: %f' % (accuracy*100))"
   ]
  },
  {
   "cell_type": "code",
   "execution_count": null,
   "id": "narrow-founder",
   "metadata": {},
   "outputs": [],
   "source": []
  },
  {
   "cell_type": "code",
   "execution_count": null,
   "id": "cutting-sarah",
   "metadata": {},
   "outputs": [],
   "source": []
  },
  {
   "cell_type": "code",
   "execution_count": null,
   "id": "romantic-consideration",
   "metadata": {},
   "outputs": [],
   "source": []
  }
 ],
 "metadata": {
  "kernelspec": {
   "display_name": "Python 3",
   "language": "python",
   "name": "python3"
  },
  "language_info": {
   "codemirror_mode": {
    "name": "ipython",
    "version": 3
   },
   "file_extension": ".py",
   "mimetype": "text/x-python",
   "name": "python",
   "nbconvert_exporter": "python",
   "pygments_lexer": "ipython3",
   "version": "3.8.5"
  }
 },
 "nbformat": 4,
 "nbformat_minor": 5
}
