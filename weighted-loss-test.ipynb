{
 "cells": [
  {
   "cell_type": "code",
   "execution_count": 1,
   "metadata": {},
   "outputs": [],
   "source": [
    "import pandas as pd\n",
    "import numpy as np\n",
    "import tensorflow as tf"
   ]
  },
  {
   "cell_type": "code",
   "execution_count": 2,
   "metadata": {},
   "outputs": [],
   "source": [
    "d1=pd.read_csv(\"sql12.csv\")\n",
    "d2=pd.read_csv(\"apache-ant-1.7.0.csv\")\n",
    "d3=pd.read_csv(\"apache-jmeter-2.10.csv\")\n",
    "d4=pd.read_csv(\"argouml.csv\")\n",
    "d5=pd.read_csv(\"columba-1.4-src.csv\")\n",
    "d6=pd.read_csv(\"emf-2.4.1.csv\")\n",
    "d7=pd.read_csv(\"hibernate-distribution-3.3.2.GA.csv\")\n",
    "d8=pd.read_csv(\"jEdit-4.2.csv\")\n",
    "d9=pd.read_csv(\"jruby-1.4.0.csv\")"
   ]
  },
  {
   "cell_type": "code",
   "execution_count": 3,
   "metadata": {},
   "outputs": [
    {
     "data": {
      "text/html": [
       "<div>\n",
       "<style scoped>\n",
       "    .dataframe tbody tr th:only-of-type {\n",
       "        vertical-align: middle;\n",
       "    }\n",
       "\n",
       "    .dataframe tbody tr th {\n",
       "        vertical-align: top;\n",
       "    }\n",
       "\n",
       "    .dataframe thead th {\n",
       "        text-align: right;\n",
       "    }\n",
       "</style>\n",
       "<table border=\"1\" class=\"dataframe\">\n",
       "  <thead>\n",
       "    <tr style=\"text-align: right;\">\n",
       "      <th></th>\n",
       "      <th>projectname</th>\n",
       "      <th>classification</th>\n",
       "      <th>commenttext</th>\n",
       "    </tr>\n",
       "  </thead>\n",
       "  <tbody>\n",
       "    <tr>\n",
       "      <th>0</th>\n",
       "      <td>sql12</td>\n",
       "      <td>DEFECT</td>\n",
       "      <td>/**\\r\\t * TODO: this is a bug in the code at t...</td>\n",
       "    </tr>\n",
       "    <tr>\n",
       "      <th>1</th>\n",
       "      <td>sql12</td>\n",
       "      <td>DEFECT</td>\n",
       "      <td>// Cast to int required as Dimension::setSize(...</td>\n",
       "    </tr>\n",
       "    <tr>\n",
       "      <th>2</th>\n",
       "      <td>sql12</td>\n",
       "      <td>DEFECT</td>\n",
       "      <td>/*\\r       * This won't work on Derby where no...</td>\n",
       "    </tr>\n",
       "  </tbody>\n",
       "</table>\n",
       "</div>"
      ],
      "text/plain": [
       "  projectname classification  \\\n",
       "0       sql12         DEFECT   \n",
       "1       sql12         DEFECT   \n",
       "2       sql12         DEFECT   \n",
       "\n",
       "                                         commenttext  \n",
       "0  /**\\r\\t * TODO: this is a bug in the code at t...  \n",
       "1  // Cast to int required as Dimension::setSize(...  \n",
       "2  /*\\r       * This won't work on Derby where no...  "
      ]
     },
     "execution_count": 3,
     "metadata": {},
     "output_type": "execute_result"
    }
   ],
   "source": [
    "frames=[d1,d2,d3,d4,d5,d6,d7,d8,d9]\n",
    "data=pd.concat(frames)\n",
    "data.head(3)"
   ]
  },
  {
   "cell_type": "code",
   "execution_count": 4,
   "metadata": {},
   "outputs": [
    {
     "name": "stdout",
     "output_type": "stream",
     "text": [
      "projectname       54005\n",
      "classification    54005\n",
      "commenttext       54005\n",
      "dtype: int64\n"
     ]
    }
   ],
   "source": [
    "found = data[data['classification'].str.contains('WITHOUT_CLASSIFICATION')]\n",
    "print(found.count())"
   ]
  },
  {
   "cell_type": "code",
   "execution_count": 5,
   "metadata": {},
   "outputs": [
    {
     "data": {
      "text/plain": [
       "0       yes\n",
       "1       yes\n",
       "2       yes\n",
       "3       yes\n",
       "4       yes\n",
       "       ... \n",
       "4892     no\n",
       "4893     no\n",
       "4894     no\n",
       "4895     no\n",
       "4896     no\n",
       "Length: 57867, dtype: object"
      ]
     },
     "execution_count": 5,
     "metadata": {},
     "output_type": "execute_result"
    }
   ],
   "source": [
    "def form_label(row):\n",
    "    if row['classification'] == 'WITHOUT_CLASSIFICATION':\n",
    "        return 'no'\n",
    "    else: return 'yes'\n",
    "data.apply (lambda row: form_label(row), axis=1)"
   ]
  },
  {
   "cell_type": "code",
   "execution_count": 6,
   "metadata": {},
   "outputs": [
    {
     "data": {
      "text/plain": [
       "(57867, 4)"
      ]
     },
     "execution_count": 6,
     "metadata": {},
     "output_type": "execute_result"
    }
   ],
   "source": [
    "data['label'] = data.apply (lambda row: form_label(row), axis=1)\n",
    "data.shape"
   ]
  },
  {
   "cell_type": "code",
   "execution_count": 7,
   "metadata": {},
   "outputs": [
    {
     "name": "stdout",
     "output_type": "stream",
     "text": [
      "<class 'pandas.core.frame.DataFrame'>\n",
      "Int64Index: 57867 entries, 0 to 4896\n",
      "Data columns (total 4 columns):\n",
      " #   Column          Non-Null Count  Dtype \n",
      "---  ------          --------------  ----- \n",
      " 0   projectname     57867 non-null  object\n",
      " 1   classification  57867 non-null  object\n",
      " 2   commenttext     57867 non-null  object\n",
      " 3   label           57867 non-null  object\n",
      "dtypes: object(4)\n",
      "memory usage: 2.2+ MB\n"
     ]
    }
   ],
   "source": [
    "data.info()"
   ]
  },
  {
   "cell_type": "code",
   "execution_count": 8,
   "metadata": {},
   "outputs": [
    {
     "data": {
      "text/html": [
       "<div>\n",
       "<style scoped>\n",
       "    .dataframe tbody tr th:only-of-type {\n",
       "        vertical-align: middle;\n",
       "    }\n",
       "\n",
       "    .dataframe tbody tr th {\n",
       "        vertical-align: top;\n",
       "    }\n",
       "\n",
       "    .dataframe thead th {\n",
       "        text-align: right;\n",
       "    }\n",
       "</style>\n",
       "<table border=\"1\" class=\"dataframe\">\n",
       "  <thead>\n",
       "    <tr style=\"text-align: right;\">\n",
       "      <th></th>\n",
       "      <th>projectname</th>\n",
       "      <th>classification</th>\n",
       "      <th>commenttext</th>\n",
       "      <th>label</th>\n",
       "    </tr>\n",
       "  </thead>\n",
       "  <tbody>\n",
       "    <tr>\n",
       "      <th>0</th>\n",
       "      <td>sql12</td>\n",
       "      <td>DEFECT</td>\n",
       "      <td>/**\\r\\t * TODO: this is a bug in the code at t...</td>\n",
       "      <td>yes</td>\n",
       "    </tr>\n",
       "    <tr>\n",
       "      <th>1</th>\n",
       "      <td>sql12</td>\n",
       "      <td>DEFECT</td>\n",
       "      <td>// Cast to int required as Dimension::setSize(...</td>\n",
       "      <td>yes</td>\n",
       "    </tr>\n",
       "    <tr>\n",
       "      <th>2</th>\n",
       "      <td>sql12</td>\n",
       "      <td>DEFECT</td>\n",
       "      <td>/*\\r       * This won't work on Derby where no...</td>\n",
       "      <td>yes</td>\n",
       "    </tr>\n",
       "  </tbody>\n",
       "</table>\n",
       "</div>"
      ],
      "text/plain": [
       "  projectname classification  \\\n",
       "0       sql12         DEFECT   \n",
       "1       sql12         DEFECT   \n",
       "2       sql12         DEFECT   \n",
       "\n",
       "                                         commenttext label  \n",
       "0  /**\\r\\t * TODO: this is a bug in the code at t...   yes  \n",
       "1  // Cast to int required as Dimension::setSize(...   yes  \n",
       "2  /*\\r       * This won't work on Derby where no...   yes  "
      ]
     },
     "execution_count": 8,
     "metadata": {},
     "output_type": "execute_result"
    }
   ],
   "source": [
    "data.head(3)"
   ]
  },
  {
   "cell_type": "code",
   "execution_count": 57,
   "metadata": {},
   "outputs": [
    {
     "name": "stdout",
     "output_type": "stream",
     "text": [
      "[('yes', 0.06673924689373908), ('no', 0.9332607531062609)]\n",
      "[0.9332607531062609, 0.06673924689373908]\n"
     ]
    }
   ],
   "source": [
    "from collections import Counter\n",
    "\n",
    "def get_class_weights(y):\n",
    "    counter = Counter(y)\n",
    "    #majority = max(counter.values())\n",
    "    #return  {cls: round(float(majority)/float(count), 2) for cls, count in counter.items()}\n",
    "    cw= [(i, counter[i] / len(y)) for i in counter]\n",
    "    \n",
    "    classweight =[cw[1][1]]\n",
    "    classweight.append(cw[0][1])\n",
    "    print(cw)\n",
    "    print(classweight)\n",
    "    return classweight\n",
    "\n",
    "class_weights= get_class_weights(data.label.values) #returns minority class weight\n",
    "#print(class_weights)\n"
   ]
  },
  {
   "cell_type": "code",
   "execution_count": 102,
   "metadata": {},
   "outputs": [
    {
     "data": {
      "text/plain": [
       "\"\\n\\nfrom math import log\\nfrom numpy import mean\\n \\n# calculate cross entropy\\ndef cross_entropy(y_true, y_pred):\\n    return -sum([y_true[i]*log(y_pred[i]) for i in range(len(y_true))])\\n \\n# define classification data\\nytrue = [1, 1, 0, 0, 0, 0, 0, 0, 0, 0]\\nypred = [0.8, 0.9, 0.5, 0.4, 0.8, 0.1, 0.4, 0.2, 0.1, 0.3]\\n# calculate cross entropy for each example\\nresults = list()\\nfor i in range(len(ytrue)):\\n    # create the distribution for each event {0, 1}\\n    expected = [1.0 - ytrue[i], ypred[i]]\\n    predicted = [1.0 - ypred[i], ypred[i]]\\n    print(expected)\\n    # calculate cross entropy for the two events\\n    ce = cross_entropy(expected, predicted)\\n    print('>[y=%.1f, yhat=%.1f] ce: %.3f nats' % (ytrue[i], ypred[i], ce))\\n    results.append(ce)\\n \""
      ]
     },
     "execution_count": 102,
     "metadata": {},
     "output_type": "execute_result"
    }
   ],
   "source": [
    "#Binary Cross-Entropy: y * log(p) + (1-y) * log(1-p)\n",
    "'''\n",
    "\n",
    "from math import log\n",
    "from numpy import mean\n",
    " \n",
    "# calculate cross entropy\n",
    "def cross_entropy(y_true, y_pred):\n",
    "    return -sum([y_true[i]*log(y_pred[i]) for i in range(len(y_true))])\n",
    " \n",
    "# define classification data\n",
    "ytrue = [1, 1, 0, 0, 0, 0, 0, 0, 0, 0]\n",
    "ypred = [0.8, 0.9, 0.5, 0.4, 0.8, 0.1, 0.4, 0.2, 0.1, 0.3]\n",
    "# calculate cross entropy for each example\n",
    "results = list()\n",
    "for i in range(len(ytrue)):\n",
    "    # create the distribution for each event {0, 1}\n",
    "    expected = [1.0 - ytrue[i], ypred[i]]\n",
    "    predicted = [1.0 - ypred[i], ypred[i]]\n",
    "    print(expected)\n",
    "    # calculate cross entropy for the two events\n",
    "    ce = cross_entropy(expected, predicted)\n",
    "    print('>[y=%.1f, yhat=%.1f] ce: %.3f nats' % (ytrue[i], ypred[i], ce))\n",
    "    results.append(ce)\n",
    " '''\n",
    "\n"
   ]
  },
  {
   "cell_type": "code",
   "execution_count": 59,
   "metadata": {},
   "outputs": [
    {
     "name": "stdout",
     "output_type": "stream",
     "text": [
      "Average Cross Entropy: 0.679 nats\n"
     ]
    }
   ],
   "source": [
    "mean_ce = mean(results)\n",
    "print('Average Cross Entropy: %.3f nats' % mean_ce)"
   ]
  },
  {
   "cell_type": "code",
   "execution_count": 89,
   "metadata": {},
   "outputs": [],
   "source": [
    "from tensorflow.keras import backend as K\n",
    "def cus_loss(y_true, y_pred):\n",
    "    eps= K.epsilon()\n",
    "    loss = -(y_true*tf.math.log(y_pred + eps) + (1-y_true)*tf.math.log(y_pred + eps))\n",
    "    return mean(loss)"
   ]
  },
  {
   "cell_type": "code",
   "execution_count": 90,
   "metadata": {},
   "outputs": [
    {
     "data": {
      "text/plain": [
       "0.781135452782582"
      ]
     },
     "execution_count": 90,
     "metadata": {},
     "output_type": "execute_result"
    }
   ],
   "source": [
    "y_true = np.array([[0, 1], [0, 0], [0,1]])\n",
    "y_pred =np.array([[0.6, 0.4], [0.4, 0.6], [0.8, 0.2]])\n",
    "l=cus_loss(y_true, y_pred)\n",
    "l"
   ]
  },
  {
   "cell_type": "code",
   "execution_count": 56,
   "metadata": {},
   "outputs": [
    {
     "data": {
      "text/plain": [
       "<tf.Tensor: shape=(3,), dtype=float64, numpy=array([0.91629048, 0.71355797, 1.60943741])>"
      ]
     },
     "execution_count": 56,
     "metadata": {},
     "output_type": "execute_result"
    }
   ],
   "source": [
    "tf.keras.losses.binary_crossentropy(y_true, y_pred)"
   ]
  },
  {
   "cell_type": "code",
   "execution_count": 99,
   "metadata": {},
   "outputs": [
    {
     "data": {
      "text/plain": [
       "0.81492424"
      ]
     },
     "execution_count": 99,
     "metadata": {},
     "output_type": "execute_result"
    }
   ],
   "source": [
    "#Using in built\n",
    "y_true = [[0., 1.], [0., 0.]]\n",
    "y_pred = [[0.6, 0.4], [0.4, 0.6]]\n",
    "# Using 'auto'/'sum_over_batch_size' reduction type.\n",
    "bce = tf.keras.losses.BinaryCrossentropy()\n",
    "bce(y_true, y_pred).numpy()\n"
   ]
  },
  {
   "cell_type": "code",
   "execution_count": 101,
   "metadata": {},
   "outputs": [
    {
     "name": "stdout",
     "output_type": "stream",
     "text": [
      "[('yes', 0.06673924689373908), ('no', 0.9332607531062609)]\n",
      "[0.9332607531062609, 0.06673924689373908]\n"
     ]
    },
    {
     "data": {
      "text/plain": [
       "0.45138013"
      ]
     },
     "execution_count": 101,
     "metadata": {},
     "output_type": "execute_result"
    }
   ],
   "source": [
    "loss= bce(y_true, y_pred, sample_weight=get_class_weights(data.label.values)).numpy()\n",
    "loss"
   ]
  },
  {
   "cell_type": "code",
   "execution_count": null,
   "metadata": {},
   "outputs": [],
   "source": []
  }
 ],
 "metadata": {
  "kernelspec": {
   "display_name": "Python 3",
   "language": "python",
   "name": "python3"
  },
  "language_info": {
   "codemirror_mode": {
    "name": "ipython",
    "version": 3
   },
   "file_extension": ".py",
   "mimetype": "text/x-python",
   "name": "python",
   "nbconvert_exporter": "python",
   "pygments_lexer": "ipython3",
   "version": "3.6.10"
  }
 },
 "nbformat": 4,
 "nbformat_minor": 2
}
