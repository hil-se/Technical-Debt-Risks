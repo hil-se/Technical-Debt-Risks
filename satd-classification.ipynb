{
 "cells": [
  {
   "cell_type": "markdown",
   "id": "crazy-cosmetic",
   "metadata": {},
   "source": [
    "## import modules for data prep"
   ]
  },
  {
   "cell_type": "code",
   "execution_count": 1,
   "id": "greatest-affiliation",
   "metadata": {},
   "outputs": [],
   "source": [
    "import tensorflow as tf\n",
    "import pandas as pd\n",
    "import numpy as np\n",
    "import seaborn as sns\n",
    "import matplotlib.pyplot as plt\n",
    "pd.set_option('display.max_colwidth', None)\n",
    "import glob\n",
    "import re\n",
    "from nltk.corpus import stopwords\n",
    "from sklearn.model_selection import train_test_split\n",
    "from tensorflow.keras.preprocessing.text import Tokenizer\n",
    "from tensorflow.keras.preprocessing.sequence import pad_sequences"
   ]
  },
  {
   "cell_type": "code",
   "execution_count": 2,
   "id": "racial-developer",
   "metadata": {},
   "outputs": [
    {
     "data": {
      "text/plain": [
       "\"import nltk\\nnltk.download('stopwords')\""
      ]
     },
     "execution_count": 2,
     "metadata": {},
     "output_type": "execute_result"
    }
   ],
   "source": [
    "'''import nltk\n",
    "nltk.download('stopwords')'''"
   ]
  },
  {
   "cell_type": "code",
   "execution_count": 48,
   "id": "optimum-spiritual",
   "metadata": {},
   "outputs": [
    {
     "data": {
      "application/javascript": [
       "IPython.OutputArea.prototype._should_scroll = function(lines) {\n",
       "    return false;\n",
       "}\n"
      ],
      "text/plain": [
       "<IPython.core.display.Javascript object>"
      ]
     },
     "metadata": {},
     "output_type": "display_data"
    }
   ],
   "source": [
    "%%javascript\n",
    "IPython.OutputArea.prototype._should_scroll = function(lines) {\n",
    "    return false;\n",
    "}"
   ]
  },
  {
   "cell_type": "code",
   "execution_count": 3,
   "id": "fitted-slovakia",
   "metadata": {},
   "outputs": [],
   "source": [
    "filenames = list(glob.glob(\"data/*\"))\n",
    "dataframes = [pd.read_csv(file) for file in filenames]"
   ]
  },
  {
   "cell_type": "code",
   "execution_count": 4,
   "id": "common-display",
   "metadata": {},
   "outputs": [
    {
     "data": {
      "text/html": [
       "<div>\n",
       "<style scoped>\n",
       "    .dataframe tbody tr th:only-of-type {\n",
       "        vertical-align: middle;\n",
       "    }\n",
       "\n",
       "    .dataframe tbody tr th {\n",
       "        vertical-align: top;\n",
       "    }\n",
       "\n",
       "    .dataframe thead th {\n",
       "        text-align: right;\n",
       "    }\n",
       "</style>\n",
       "<table border=\"1\" class=\"dataframe\">\n",
       "  <thead>\n",
       "    <tr style=\"text-align: right;\">\n",
       "      <th></th>\n",
       "      <th>projectname</th>\n",
       "      <th>classification</th>\n",
       "      <th>commenttext</th>\n",
       "    </tr>\n",
       "  </thead>\n",
       "  <tbody>\n",
       "    <tr>\n",
       "      <th>0</th>\n",
       "      <td>apache-ant-1.7.0</td>\n",
       "      <td>DEFECT</td>\n",
       "      <td>// FIXME formatters are not thread-safe</td>\n",
       "    </tr>\n",
       "    <tr>\n",
       "      <th>1</th>\n",
       "      <td>apache-ant-1.7.0</td>\n",
       "      <td>DEFECT</td>\n",
       "      <td>// XXX: (Jon Skeet) The comment \"if it hasn't been done already\" may // not be strictly true. wrapper.maybeConfigure() won't configure the same // attributes/text more than once, but it may well add the children again, // unless I've missed something.</td>\n",
       "    </tr>\n",
       "    <tr>\n",
       "      <th>2</th>\n",
       "      <td>apache-ant-1.7.0</td>\n",
       "      <td>DEFECT</td>\n",
       "      <td>// I hate to admit it, but we don't know what happened // here.  Throw the Exception.</td>\n",
       "    </tr>\n",
       "    <tr>\n",
       "      <th>3</th>\n",
       "      <td>apache-ant-1.7.0</td>\n",
       "      <td>DEFECT</td>\n",
       "      <td>// Just a note: StarTeam has a status for NEW which implies // that there is an item  on your local machine that is not // in the repository.  These are the items that show up as // NOT IN VIEW in the Starteam GUI. // One would think that we would want to perhaps checkin the // NEW items (not in all cases! - Steve Cohen 15 Dec 2001) // Unfortunately, the sdk doesn't really work, and we can't // actually see  anything with a status of NEW. That is why // we can just check out  everything here without worrying // about losing anything.</td>\n",
       "    </tr>\n",
       "    <tr>\n",
       "      <th>4</th>\n",
       "      <td>apache-ant-1.7.0</td>\n",
       "      <td>DEFECT</td>\n",
       "      <td>// the generated classes must not be added in the generic JAR! // is that buggy on old JOnAS (2.4) ??</td>\n",
       "    </tr>\n",
       "    <tr>\n",
       "      <th>5</th>\n",
       "      <td>apache-ant-1.7.0</td>\n",
       "      <td>DEFECT</td>\n",
       "      <td>// todo: is this comment still relevant ?? // FIXME: need to use a SAXSource as the source for the transform // so we can plug in our own entity resolver</td>\n",
       "    </tr>\n",
       "    <tr>\n",
       "      <th>6</th>\n",
       "      <td>apache-ant-1.7.0</td>\n",
       "      <td>DEFECT</td>\n",
       "      <td>// This is turned off temporarily. There appears to be a bug // in SelectorUtils.matchPattern() where it is recursive on // Windows even if no ** is in pattern. //assertEquals(\"FFFTFFFFFFFF\", results); // Unix // vs //assertEquals(\"FFFTFFFFTFFF\", results); // Windows</td>\n",
       "    </tr>\n",
       "    <tr>\n",
       "      <th>7</th>\n",
       "      <td>apache-ant-1.7.0</td>\n",
       "      <td>DEFECT</td>\n",
       "      <td>// pattern now holds ** while string is not exhausted // this will generate false positives but we can live with that.</td>\n",
       "    </tr>\n",
       "    <tr>\n",
       "      <th>8</th>\n",
       "      <td>apache-ant-1.7.0</td>\n",
       "      <td>DEFECT</td>\n",
       "      <td>// FIXME: Is \"No Namespace is Empty Namespace\" really OK?</td>\n",
       "    </tr>\n",
       "    <tr>\n",
       "      <th>9</th>\n",
       "      <td>apache-ant-1.7.0</td>\n",
       "      <td>DEFECT</td>\n",
       "      <td>// FIXME this is actually not very cpu cycles friendly as we are converting from // dos to java while the underlying Sun implementation will convert // from java to dos time for internal storage...</td>\n",
       "    </tr>\n",
       "  </tbody>\n",
       "</table>\n",
       "</div>"
      ],
      "text/plain": [
       "        projectname classification  \\\n",
       "0  apache-ant-1.7.0         DEFECT   \n",
       "1  apache-ant-1.7.0         DEFECT   \n",
       "2  apache-ant-1.7.0         DEFECT   \n",
       "3  apache-ant-1.7.0         DEFECT   \n",
       "4  apache-ant-1.7.0         DEFECT   \n",
       "5  apache-ant-1.7.0         DEFECT   \n",
       "6  apache-ant-1.7.0         DEFECT   \n",
       "7  apache-ant-1.7.0         DEFECT   \n",
       "8  apache-ant-1.7.0         DEFECT   \n",
       "9  apache-ant-1.7.0         DEFECT   \n",
       "\n",
       "                                                                                                                                                                                                                                                                                                                                                                                                                                                                                                                                                   commenttext  \n",
       "0                                                                                                                                                                                                                                                                                                                                                                                                                                                                                                                      // FIXME formatters are not thread-safe  \n",
       "1                                                                                                                                                                                                                                                                                                  // XXX: (Jon Skeet) The comment \"if it hasn't been done already\" may // not be strictly true. wrapper.maybeConfigure() won't configure the same // attributes/text more than once, but it may well add the children again, // unless I've missed something.  \n",
       "2                                                                                                                                                                                                                                                                                                                                                                                                                                                                        // I hate to admit it, but we don't know what happened // here.  Throw the Exception.  \n",
       "3  // Just a note: StarTeam has a status for NEW which implies // that there is an item  on your local machine that is not // in the repository.  These are the items that show up as // NOT IN VIEW in the Starteam GUI. // One would think that we would want to perhaps checkin the // NEW items (not in all cases! - Steve Cohen 15 Dec 2001) // Unfortunately, the sdk doesn't really work, and we can't // actually see  anything with a status of NEW. That is why // we can just check out  everything here without worrying // about losing anything.  \n",
       "4                                                                                                                                                                                                                                                                                                                                                                                                                                                        // the generated classes must not be added in the generic JAR! // is that buggy on old JOnAS (2.4) ??  \n",
       "5                                                                                                                                                                                                                                                                                                                                                                                                    // todo: is this comment still relevant ?? // FIXME: need to use a SAXSource as the source for the transform // so we can plug in our own entity resolver  \n",
       "6                                                                                                                                                                                                                                                                                  // This is turned off temporarily. There appears to be a bug // in SelectorUtils.matchPattern() where it is recursive on // Windows even if no ** is in pattern. //assertEquals(\"FFFTFFFFFFFF\", results); // Unix // vs //assertEquals(\"FFFTFFFFTFFF\", results); // Windows  \n",
       "7                                                                                                                                                                                                                                                                                                                                                                                                                                       // pattern now holds ** while string is not exhausted // this will generate false positives but we can live with that.  \n",
       "8                                                                                                                                                                                                                                                                                                                                                                                                                                                                                                    // FIXME: Is \"No Namespace is Empty Namespace\" really OK?  \n",
       "9                                                                                                                                                                                                                                                                                                                                                        // FIXME this is actually not very cpu cycles friendly as we are converting from // dos to java while the underlying Sun implementation will convert // from java to dos time for internal storage...  "
      ]
     },
     "execution_count": 4,
     "metadata": {},
     "output_type": "execute_result"
    }
   ],
   "source": [
    "metadata = pd.concat(dataframes)\n",
    "metadata.head(10)"
   ]
  },
  {
   "cell_type": "markdown",
   "id": "normal-maintenance",
   "metadata": {},
   "source": [
    "## Form Labels for SATD"
   ]
  },
  {
   "cell_type": "code",
   "execution_count": 5,
   "id": "valuable-feeling",
   "metadata": {},
   "outputs": [
    {
     "data": {
      "text/html": [
       "<div>\n",
       "<style scoped>\n",
       "    .dataframe tbody tr th:only-of-type {\n",
       "        vertical-align: middle;\n",
       "    }\n",
       "\n",
       "    .dataframe tbody tr th {\n",
       "        vertical-align: top;\n",
       "    }\n",
       "\n",
       "    .dataframe thead th {\n",
       "        text-align: right;\n",
       "    }\n",
       "</style>\n",
       "<table border=\"1\" class=\"dataframe\">\n",
       "  <thead>\n",
       "    <tr style=\"text-align: right;\">\n",
       "      <th></th>\n",
       "      <th>projectname</th>\n",
       "      <th>classification</th>\n",
       "      <th>commenttext</th>\n",
       "      <th>label</th>\n",
       "    </tr>\n",
       "  </thead>\n",
       "  <tbody>\n",
       "    <tr>\n",
       "      <th>0</th>\n",
       "      <td>apache-ant-1.7.0</td>\n",
       "      <td>DEFECT</td>\n",
       "      <td>// FIXME formatters are not thread-safe</td>\n",
       "      <td>1</td>\n",
       "    </tr>\n",
       "    <tr>\n",
       "      <th>1</th>\n",
       "      <td>apache-ant-1.7.0</td>\n",
       "      <td>DEFECT</td>\n",
       "      <td>// XXX: (Jon Skeet) The comment \"if it hasn't been done already\" may // not be strictly true. wrapper.maybeConfigure() won't configure the same // attributes/text more than once, but it may well add the children again, // unless I've missed something.</td>\n",
       "      <td>1</td>\n",
       "    </tr>\n",
       "    <tr>\n",
       "      <th>2</th>\n",
       "      <td>apache-ant-1.7.0</td>\n",
       "      <td>DEFECT</td>\n",
       "      <td>// I hate to admit it, but we don't know what happened // here.  Throw the Exception.</td>\n",
       "      <td>1</td>\n",
       "    </tr>\n",
       "    <tr>\n",
       "      <th>3</th>\n",
       "      <td>apache-ant-1.7.0</td>\n",
       "      <td>DEFECT</td>\n",
       "      <td>// Just a note: StarTeam has a status for NEW which implies // that there is an item  on your local machine that is not // in the repository.  These are the items that show up as // NOT IN VIEW in the Starteam GUI. // One would think that we would want to perhaps checkin the // NEW items (not in all cases! - Steve Cohen 15 Dec 2001) // Unfortunately, the sdk doesn't really work, and we can't // actually see  anything with a status of NEW. That is why // we can just check out  everything here without worrying // about losing anything.</td>\n",
       "      <td>1</td>\n",
       "    </tr>\n",
       "    <tr>\n",
       "      <th>4</th>\n",
       "      <td>apache-ant-1.7.0</td>\n",
       "      <td>DEFECT</td>\n",
       "      <td>// the generated classes must not be added in the generic JAR! // is that buggy on old JOnAS (2.4) ??</td>\n",
       "      <td>1</td>\n",
       "    </tr>\n",
       "  </tbody>\n",
       "</table>\n",
       "</div>"
      ],
      "text/plain": [
       "        projectname classification  \\\n",
       "0  apache-ant-1.7.0         DEFECT   \n",
       "1  apache-ant-1.7.0         DEFECT   \n",
       "2  apache-ant-1.7.0         DEFECT   \n",
       "3  apache-ant-1.7.0         DEFECT   \n",
       "4  apache-ant-1.7.0         DEFECT   \n",
       "\n",
       "                                                                                                                                                                                                                                                                                                                                                                                                                                                                                                                                                   commenttext  \\\n",
       "0                                                                                                                                                                                                                                                                                                                                                                                                                                                                                                                      // FIXME formatters are not thread-safe   \n",
       "1                                                                                                                                                                                                                                                                                                  // XXX: (Jon Skeet) The comment \"if it hasn't been done already\" may // not be strictly true. wrapper.maybeConfigure() won't configure the same // attributes/text more than once, but it may well add the children again, // unless I've missed something.   \n",
       "2                                                                                                                                                                                                                                                                                                                                                                                                                                                                        // I hate to admit it, but we don't know what happened // here.  Throw the Exception.   \n",
       "3  // Just a note: StarTeam has a status for NEW which implies // that there is an item  on your local machine that is not // in the repository.  These are the items that show up as // NOT IN VIEW in the Starteam GUI. // One would think that we would want to perhaps checkin the // NEW items (not in all cases! - Steve Cohen 15 Dec 2001) // Unfortunately, the sdk doesn't really work, and we can't // actually see  anything with a status of NEW. That is why // we can just check out  everything here without worrying // about losing anything.   \n",
       "4                                                                                                                                                                                                                                                                                                                                                                                                                                                        // the generated classes must not be added in the generic JAR! // is that buggy on old JOnAS (2.4) ??   \n",
       "\n",
       "   label  \n",
       "0      1  \n",
       "1      1  \n",
       "2      1  \n",
       "3      1  \n",
       "4      1  "
      ]
     },
     "execution_count": 5,
     "metadata": {},
     "output_type": "execute_result"
    }
   ],
   "source": [
    "# Is important that text labels are converted into numeric for NN\n",
    "metadata['label'] = np.where(metadata.classification == 'WITHOUT_CLASSIFICATION', 0, 1)\n",
    "metadata.head()"
   ]
  },
  {
   "cell_type": "code",
   "execution_count": 6,
   "id": "collect-teaching",
   "metadata": {},
   "outputs": [
    {
     "data": {
      "text/plain": [
       "0    58204\n",
       "1     4071\n",
       "Name: label, dtype: int64"
      ]
     },
     "execution_count": 6,
     "metadata": {},
     "output_type": "execute_result"
    }
   ],
   "source": [
    "metadata['label'].value_counts()"
   ]
  },
  {
   "cell_type": "code",
   "execution_count": 7,
   "id": "announced-conservative",
   "metadata": {},
   "outputs": [
    {
     "data": {
      "text/plain": [
       "array(['apache-ant-1.7.0', 'apache-jmeter-2.10', 'argouml',\n",
       "       'columba-1.4-src', 'emf-2.4.1', 'hibernate-distribution-3.3.2.GA',\n",
       "       'jEdit-4.2', 'jfreechart-1.0.19', 'jruby-1.4.0', 'sql12'],\n",
       "      dtype=object)"
      ]
     },
     "execution_count": 7,
     "metadata": {},
     "output_type": "execute_result"
    }
   ],
   "source": [
    "metadata.projectname.unique()"
   ]
  },
  {
   "cell_type": "markdown",
   "id": "utility-depression",
   "metadata": {},
   "source": [
    " # Test only on apache ant "
   ]
  },
  {
   "cell_type": "code",
   "execution_count": 8,
   "id": "prime-anchor",
   "metadata": {},
   "outputs": [
    {
     "name": "stdout",
     "output_type": "stream",
     "text": [
      "projectname       0\n",
      "classification    0\n",
      "commenttext       0\n",
      "label             0\n",
      "dtype: int64\n",
      "<class 'pandas.core.frame.DataFrame'>\n",
      "Int64Index: 9452 entries, 0 to 9451\n",
      "Data columns (total 4 columns):\n",
      " #   Column          Non-Null Count  Dtype \n",
      "---  ------          --------------  ----- \n",
      " 0   projectname     9452 non-null   object\n",
      " 1   classification  9452 non-null   object\n",
      " 2   commenttext     9452 non-null   object\n",
      " 3   label           9452 non-null   int32 \n",
      "dtypes: int32(1), object(3)\n",
      "memory usage: 332.3+ KB\n"
     ]
    }
   ],
   "source": [
    "df = metadata[metadata.projectname == 'argouml']\n",
    "print(df.isnull().sum())\n",
    "df.info()"
   ]
  },
  {
   "cell_type": "markdown",
   "id": "quantitative-diamond",
   "metadata": {},
   "source": [
    "## 1] Preprocessing:\n",
    "\n",
    "#### 1. Remove tags, punctuations, stop words, special characters and return X_clean and y as np arrays\n",
    "#### 2. Split data in train and test. Remember Xclean and y should reflect metadata used for training "
   ]
  },
  {
   "cell_type": "code",
   "execution_count": 9,
   "id": "serial-punch",
   "metadata": {},
   "outputs": [],
   "source": [
    "def remove_tags(text):\n",
    "    TAG_RE = re.compile(r'<[^>]+>')\n",
    "\n",
    "    return TAG_RE.sub('', text)\n",
    "    \n",
    "def preprocess_text(sen):\n",
    "    # Removing html tags\n",
    "    sentence = remove_tags(sen)\n",
    "    \n",
    "    # Remove punctuations and numbers\n",
    "    sentence = re.sub('[^a-zA-Z]', ' ', sentence)\n",
    "    \n",
    "    # Single character removal\n",
    "    sentence = re.sub(r\"\\s+[a-zA-Z]\\s+\", ' ', sentence)\n",
    "    \n",
    "    # Removing multiple spaces\n",
    "    sentence = re.sub(r'\\s+', ' ', sentence)\n",
    "    \n",
    "    pattern = re.compile(r'\\b(' + r'|'.join(stopwords.words('english')) + r')\\b\\s*')\n",
    "    sentence = pattern.sub('', sentence)\n",
    "    #print(sentence)\n",
    "    return sentence\n",
    "\n",
    "def prepare_data(apache_ant_df):\n",
    "    X_clean = []\n",
    "    sentences = list(apache_ant_df['commenttext'])\n",
    "\n",
    "    for sen in sentences:\n",
    "        X_clean.append(preprocess_text(sen))\n",
    "\n",
    "    print(X_clean[:3], \"\\n\\n*************************\")\n",
    "    X_clean = np.array(X_clean)\n",
    "    y = np.array(apache_ant_df.label)\n",
    "\n",
    "    print(\"Cleaned corpus shape:\", X_clean.shape, y.shape)\n",
    "    return X_clean, y\n",
    "\n",
    "def split_data(df):\n",
    "    X_clean, y = prepare_data(df)\n",
    "    X_train, X_val, y_train, y_val = train_test_split(X_clean, y, test_size=0.20, random_state=42)\n",
    "    print(\"Train set:\",X_train.shape, y_train.shape)\n",
    "    print(\"Validation set:\", X_val.shape, X_val.shape)\n",
    "    return X_train, X_val, y_train, y_val\n"
   ]
  },
  {
   "cell_type": "code",
   "execution_count": 10,
   "id": "surgical-defendant",
   "metadata": {},
   "outputs": [
    {
     "name": "stdout",
     "output_type": "stream",
     "text": [
      "[' TODO This brute force approach updating listeners every event without checking event type information going cause lots InvalidElementExceptions subclasses implementations updateListeners event information make decisions ', ' TODO The statement also refreshes shown verified hence entirely correct ', ' Class display graphics UML SynchState diagram TODO If font increases circle grow author pepargouml yahoo es '] \n",
      "\n",
      "*************************\n",
      "Cleaned corpus shape: (9452,) (9452,)\n",
      "Train set: (7561,) (7561,)\n",
      "Validation set: (1891,) (1891,)\n"
     ]
    }
   ],
   "source": [
    "X_train, X_val, y_train, y_val = split_data(df)"
   ]
  },
  {
   "cell_type": "code",
   "execution_count": 11,
   "id": "editorial-funeral",
   "metadata": {},
   "outputs": [
    {
     "data": {
      "text/plain": [
       "array([' Clear target multiple copies effect inefficiency ',\n",
       "       ' TODO This nd part method ', ' create new empty project', ...,\n",
       "       ' ok', ' TODO returns Collection single Object Is callers expect ',\n",
       "       ' see org argouml cognitive critics Critic toDoItem java lang Object org argouml cognitive Designer '],\n",
       "      dtype='<U1207')"
      ]
     },
     "execution_count": 11,
     "metadata": {},
     "output_type": "execute_result"
    }
   ],
   "source": [
    "(X_train)"
   ]
  },
  {
   "cell_type": "markdown",
   "id": "anticipated-engagement",
   "metadata": {},
   "source": [
    "## 2] Tokenize the splitted data and convert them intp sequences and add post padding.\n",
    "- Final output stored as X_train_padded, X-val_padded and y_train and y_val"
   ]
  },
  {
   "cell_type": "code",
   "execution_count": 12,
   "id": "apart-airline",
   "metadata": {},
   "outputs": [],
   "source": [
    "def prepare_data(X_train, X_val, y_train, y_val):\n",
    "    \n",
    "    #Step 2: Use keras to tokenize words and find word.index'length for getting number of unique words i.e vocab size\n",
    "\n",
    "    tokenizer = Tokenizer(filters='!\"#$%&()*+,-./:;<=>?@[\\\\]^_`{|}~\\t\\n\\'',\n",
    "                          lower=True)\n",
    "\n",
    "    tokenizer.fit_on_texts(X_train)\n",
    "\n",
    "    word_index = tokenizer.word_index\n",
    "    vocab_size = len(tokenizer.word_index) + 1\n",
    "    print('VOCAB SIZE: Found %s unique tokens.' % len(word_index))\n",
    "\n",
    "    # Step 3: Embed the sentences into numbers using text to sequences\n",
    "\n",
    "    sequences_train = tokenizer.texts_to_sequences(X_train)\n",
    "    sequences_valid = tokenizer.texts_to_sequences(X_val)\n",
    "\n",
    "    # Step 4: next step is to find the number of words in the longest sentence and then to apply \n",
    "    #padding to the sentences having shorter lengths than the length of the longest sentence\n",
    "\n",
    "    from nltk.tokenize import word_tokenize\n",
    "    word_count = lambda sentence: len(word_tokenize(sentence))\n",
    "    longest_sentence = max(X_train, key=word_count)\n",
    "    length_long_sentence = len(word_tokenize(longest_sentence))\n",
    "    print(\"Longest sentence length: \",  length_long_sentence)\n",
    "    \n",
    "    print(\"**********************\")\n",
    "    \n",
    "    #Step 5: Pad zeros at the end using the length of the longest word \n",
    "    X_train_padded = pad_sequences(sequences_train,length_long_sentence, padding='post')\n",
    "    X_val_padded = pad_sequences(sequences_valid,padding='post', maxlen = length_long_sentence)\n",
    "\n",
    "\n",
    "    print('Shape of X train and X validation tensor:', X_train_padded.shape,X_val_padded.shape)\n",
    "    print('Shape of label train and validation tensor:', y_train.shape,y_val.shape)\n",
    "    \n",
    "    return X_train_padded, X_val_padded, y_train, y_val, vocab_size, word_index, length_long_sentence\n"
   ]
  },
  {
   "cell_type": "code",
   "execution_count": 13,
   "id": "contrary-serve",
   "metadata": {},
   "outputs": [
    {
     "name": "stdout",
     "output_type": "stream",
     "text": [
      "VOCAB SIZE: Found 5350 unique tokens.\n",
      "Longest sentence length:  163\n",
      "**********************\n",
      "Shape of X train and X validation tensor: (7561, 163) (1891, 163)\n",
      "Shape of label train and validation tensor: (7561,) (1891,)\n"
     ]
    }
   ],
   "source": [
    "X_train_padded, X_val_padded, y_train, y_val, vocab_size, word_index, length_long_sentence= prepare_data(X_train, X_val, y_train, y_val)"
   ]
  },
  {
   "cell_type": "code",
   "execution_count": 14,
   "id": "convertible-sheet",
   "metadata": {},
   "outputs": [
    {
     "name": "stdout",
     "output_type": "stream",
     "text": [
      "[[524  78 222 ...   0   0   0]\n",
      " [  5  14 774 ...   0   0   0]\n",
      " [ 40  26  77 ...   0   0   0]\n",
      " ...\n",
      " [303   0   0 ...   0   0   0]\n",
      " [  5 321 151 ...   0   0   0]\n",
      " [  1   2   3 ...   0   0   0]]\n"
     ]
    }
   ],
   "source": [
    "print(X_train_padded)"
   ]
  },
  {
   "cell_type": "code",
   "execution_count": 15,
   "id": "periodic-signal",
   "metadata": {},
   "outputs": [],
   "source": [
    "def build_embedding_matrix_word2vec(vocab_size, word_index):\n",
    "    import gensim\n",
    "    from gensim.models import Word2Vec\n",
    "    from gensim.utils import simple_preprocess\n",
    "\n",
    "    from gensim.models.keyedvectors import KeyedVectors\n",
    "    path_to_word2vec = 'E:/RIT/GA-TECHNICAL DEBTS/rudimentary-stages/cnn-word2vec/GoogleNews-vectors-negative300.bin'\n",
    "    word_vectors = KeyedVectors.load_word2vec_format(path_to_word2vec, binary=True)\n",
    "    \n",
    "    \n",
    "    EMBEDDING_DIM= 300\n",
    "    vocab_size = vocab_size\n",
    "    \n",
    "    #Size of embed matrix must be = vocab sizeV * dimension of embeding\n",
    "    #Step 6: Generate an embedding matrix to get embeddings representaion of words in our corpus\n",
    "    #Our embedding_matrix now contains pretrained word embeddings for the words in our corpus.\n",
    "    embedding_matrix = np.zeros((vocab_size, EMBEDDING_DIM))\n",
    "\n",
    "    for word, i in word_index.items():\n",
    "        if i>=vocab_size:\n",
    "            continue\n",
    "        try:\n",
    "            embedding_vector = word_vectors[word]\n",
    "            embedding_matrix[i] = embedding_vector\n",
    "        except KeyError:\n",
    "            embedding_matrix[i]=np.random.normal(0,np.sqrt(0.25),EMBEDDING_DIM)\n",
    "    \n",
    "    return embedding_matrix\n"
   ]
  },
  {
   "cell_type": "code",
   "execution_count": 16,
   "id": "sophisticated-control",
   "metadata": {},
   "outputs": [],
   "source": [
    "embedding_matrix =  build_embedding_matrix_word2vec(vocab_size, word_index)"
   ]
  },
  {
   "cell_type": "code",
   "execution_count": 17,
   "id": "infrared-generation",
   "metadata": {},
   "outputs": [],
   "source": [
    "def sklearn_weighted_loss(y_train):\n",
    "    # Calculate the weights for each class so that we can balance the data\n",
    "    #The minority class will have a higher class weight\n",
    "    from sklearn.utils import class_weight\n",
    "    weights = class_weight.compute_class_weight('balanced',\n",
    "                                                np.unique(y_train),\n",
    "                                                y_train)\n",
    "    print(\"Resultant weight:\", weights)\n",
    "    sklearn_weight = {0: weights[0], 1: weights[1]}\n",
    "    return sklearn_weight\n",
    "\n",
    "def weighted_loss(y_train):\n",
    "    '''Link: https://www.tensorflow.org/tutorials/structured_data/imbalanced_data'''\n",
    "\n",
    "    neg, pos = np.bincount(y_train)\n",
    "    total = neg + pos\n",
    "    # Scaling by total/2 helps keep the loss to a similar magnitude.\n",
    "    # The sum of the weights of all examples stays the same.\n",
    "    weight_for_0 = (1 / neg) * (total / 2.0)\n",
    "    weight_for_1 = (1 / pos) * (total / 2.0)\n",
    "\n",
    "    class_weight = {0: weight_for_0, 1: weight_for_1}\n",
    "\n",
    "    print('Weight for class 0: {:.2f}'.format(weight_for_0))\n",
    "    print('Weight for class 1: {:.2f}'.format(weight_for_1))\n",
    "    return class_weight\n",
    "    "
   ]
  },
  {
   "cell_type": "markdown",
   "id": "strategic-rebate",
   "metadata": {},
   "source": [
    "## Create Embedding layer on Keras model"
   ]
  },
  {
   "cell_type": "code",
   "execution_count": 18,
   "id": "assumed-import",
   "metadata": {},
   "outputs": [
    {
     "data": {
      "text/plain": [
       "(5351, 300)"
      ]
     },
     "execution_count": 18,
     "metadata": {},
     "output_type": "execute_result"
    }
   ],
   "source": [
    "embedding_matrix.shape"
   ]
  },
  {
   "cell_type": "code",
   "execution_count": 19,
   "id": "three-permit",
   "metadata": {},
   "outputs": [],
   "source": [
    "from tensorflow.keras.layers import Embedding"
   ]
  },
  {
   "cell_type": "code",
   "execution_count": 20,
   "id": "endangered-baking",
   "metadata": {},
   "outputs": [],
   "source": [
    "from tensorflow.keras.layers import Dense, Input, GlobalMaxPooling1D\n",
    "from tensorflow.keras.layers import Conv1D, MaxPooling1D, Embedding, LSTM\n",
    "from tensorflow.keras.models import Model, Sequential\n",
    "from tensorflow.keras.layers import Input, Dense, Embedding, Conv2D, MaxPooling2D, Dropout,concatenate\n",
    "from tensorflow.keras.layers import Reshape, Flatten\n",
    "from tensorflow.keras.callbacks import EarlyStopping\n",
    "from tensorflow.keras.optimizers import Adam\n",
    "from tensorflow.keras.models import Model\n",
    "from tensorflow.keras import regularizers"
   ]
  },
  {
   "cell_type": "code",
   "execution_count": 39,
   "id": "concrete-islam",
   "metadata": {},
   "outputs": [],
   "source": [
    "EMBEDDING_DIM = 300\n",
    "model = Sequential()\n",
    "embedding_layer = Embedding(vocab_size, EMBEDDING_DIM, weights=[embedding_matrix], input_length=length_long_sentence, trainable=False)\n",
    "model.add(embedding_layer)\n",
    "model.add(Flatten())\n",
    "model.add(Dense(1, activation='sigmoid'))"
   ]
  },
  {
   "cell_type": "code",
   "execution_count": 40,
   "id": "nasty-secretary",
   "metadata": {},
   "outputs": [
    {
     "name": "stdout",
     "output_type": "stream",
     "text": [
      "Model: \"sequential_2\"\n",
      "_________________________________________________________________\n",
      "Layer (type)                 Output Shape              Param #   \n",
      "=================================================================\n",
      "embedding_1 (Embedding)      (None, 163, 300)          1605300   \n",
      "_________________________________________________________________\n",
      "flatten_1 (Flatten)          (None, 48900)             0         \n",
      "_________________________________________________________________\n",
      "dense_1 (Dense)              (None, 1)                 48901     \n",
      "=================================================================\n",
      "Total params: 1,654,201\n",
      "Trainable params: 48,901\n",
      "Non-trainable params: 1,605,300\n",
      "_________________________________________________________________\n"
     ]
    }
   ],
   "source": [
    "model.compile(optimizer='adam', loss='binary_crossentropy', metrics=['acc'])\n",
    "model.summary()\n",
    "# Since my vocab size is 3302 and dimen is 300, Param = 3302*300\n",
    "# O/P of embedding layer will be 2d matrix with 3302 rows(1 for each word) and 300 cols\n",
    "# This O/P of embed layer must be flattenned to be used as dense layer for making predictions"
   ]
  },
  {
   "cell_type": "code",
   "execution_count": 41,
   "id": "canadian-patrol",
   "metadata": {},
   "outputs": [
    {
     "name": "stdout",
     "output_type": "stream",
     "text": [
      "Weight for class 0: 0.59\n",
      "Weight for class 1: 3.33\n",
      "Resultant weight: [0.58822157 3.33377425]\n"
     ]
    },
    {
     "name": "stderr",
     "output_type": "stream",
     "text": [
      "C:\\Users\\ketak\\anaconda3\\envs\\tensorflow\\lib\\site-packages\\sklearn\\utils\\validation.py:70: FutureWarning: Pass classes=[0 1], y=[0 0 0 ... 0 1 0] as keyword args. From version 1.0 (renaming of 0.25) passing these as positional arguments will result in an error\n",
      "  warnings.warn(f\"Pass {args_msg} as keyword args. From version \"\n"
     ]
    }
   ],
   "source": [
    "custom_class_weights = weighted_loss(y_train)\n",
    "custom_class_weights\n",
    "#or use \n",
    "sklearn_weights= sklearn_weighted_loss(y_train)"
   ]
  },
  {
   "cell_type": "code",
   "execution_count": 139,
   "id": "eastern-princess",
   "metadata": {
    "scrolled": true
   },
   "outputs": [
    {
     "name": "stdout",
     "output_type": "stream",
     "text": [
      "Epoch 1/20\n",
      "201/201 [==============================] - 1s 3ms/step - loss: 0.0105 - acc: 0.9964 - val_loss: 0.3944 - val_acc: 0.9286\n",
      "Epoch 2/20\n",
      "201/201 [==============================] - 1s 3ms/step - loss: 0.0101 - acc: 0.9966 - val_loss: 0.3966 - val_acc: 0.9286\n",
      "Epoch 3/20\n",
      "201/201 [==============================] - 1s 3ms/step - loss: 0.0102 - acc: 0.9966 - val_loss: 0.3994 - val_acc: 0.9286\n",
      "Epoch 4/20\n",
      "201/201 [==============================] - 1s 3ms/step - loss: 0.0101 - acc: 0.9964 - val_loss: 0.4001 - val_acc: 0.9295\n",
      "Epoch 5/20\n",
      "201/201 [==============================] - 1s 3ms/step - loss: 0.0097 - acc: 0.9966 - val_loss: 0.4035 - val_acc: 0.9304\n",
      "Epoch 6/20\n",
      "201/201 [==============================] - 1s 3ms/step - loss: 0.0101 - acc: 0.9966 - val_loss: 0.4067 - val_acc: 0.9304\n",
      "Epoch 7/20\n",
      "201/201 [==============================] - 1s 3ms/step - loss: 0.0096 - acc: 0.9966 - val_loss: 0.4094 - val_acc: 0.9304\n",
      "Epoch 8/20\n",
      "201/201 [==============================] - 1s 3ms/step - loss: 0.0105 - acc: 0.9964 - val_loss: 0.4102 - val_acc: 0.9295\n",
      "Epoch 9/20\n",
      "201/201 [==============================] - 1s 3ms/step - loss: 0.0095 - acc: 0.9966 - val_loss: 0.4130 - val_acc: 0.9304\n",
      "Epoch 10/20\n",
      "201/201 [==============================] - 1s 3ms/step - loss: 0.0094 - acc: 0.9966 - val_loss: 0.4160 - val_acc: 0.9304\n",
      "Epoch 11/20\n",
      "201/201 [==============================] - 1s 3ms/step - loss: 0.0092 - acc: 0.9966 - val_loss: 0.4174 - val_acc: 0.9304\n",
      "Epoch 12/20\n",
      "201/201 [==============================] - 1s 3ms/step - loss: 0.0095 - acc: 0.9966 - val_loss: 0.4192 - val_acc: 0.9304\n",
      "Epoch 13/20\n",
      "201/201 [==============================] - 1s 3ms/step - loss: 0.0091 - acc: 0.9967 - val_loss: 0.4217 - val_acc: 0.9295\n",
      "Epoch 14/20\n",
      "201/201 [==============================] - 1s 3ms/step - loss: 0.0097 - acc: 0.9964 - val_loss: 0.4257 - val_acc: 0.9278\n",
      "Epoch 15/20\n",
      "201/201 [==============================] - 1s 3ms/step - loss: 0.0097 - acc: 0.9964 - val_loss: 0.4259 - val_acc: 0.9304\n",
      "Epoch 16/20\n",
      "201/201 [==============================] - 1s 3ms/step - loss: 0.0091 - acc: 0.9969 - val_loss: 0.4281 - val_acc: 0.9286\n",
      "Epoch 17/20\n",
      "201/201 [==============================] - 1s 3ms/step - loss: 0.0090 - acc: 0.9966 - val_loss: 0.4298 - val_acc: 0.9304\n",
      "Epoch 18/20\n",
      "201/201 [==============================] - 1s 3ms/step - loss: 0.0088 - acc: 0.9966 - val_loss: 0.4333 - val_acc: 0.9304\n",
      "Epoch 19/20\n",
      "201/201 [==============================] - 1s 3ms/step - loss: 0.0088 - acc: 0.9967 - val_loss: 0.4354 - val_acc: 0.9295\n",
      "Epoch 20/20\n",
      "201/201 [==============================] - 1s 3ms/step - loss: 0.0087 - acc: 0.9966 - val_loss: 0.4366 - val_acc: 0.9286\n"
     ]
    }
   ],
   "source": [
    "history = model.fit(X_train_padded, y_train, batch_size=32, epochs=20, validation_split=0.15, \n",
    "                    class_weight=custom_class_weights, shuffle = True)"
   ]
  },
  {
   "cell_type": "code",
   "execution_count": 140,
   "id": "sorted-browser",
   "metadata": {},
   "outputs": [
    {
     "name": "stdout",
     "output_type": "stream",
     "text": [
      "Test Loss: 0.3426128327846527\n",
      "Test Accuracy: 0.9370703101158142\n"
     ]
    }
   ],
   "source": [
    "score  = model.evaluate(X_val_padded, y_val, verbose=0)\n",
    "print(\"Test Loss:\", score[0])\n",
    "print(\"Test Accuracy:\", score[1])"
   ]
  },
  {
   "cell_type": "code",
   "execution_count": 142,
   "id": "arctic-hostel",
   "metadata": {},
   "outputs": [
    {
     "data": {
      "image/png": "[encoded data removed]",
      "text/plain": [
       "<Figure size 432x288 with 1 Axes>"
      ]
     },
     "metadata": {
      "needs_background": "light"
     },
     "output_type": "display_data"
    },
    {
     "data": {
      "image/png": "[encoded data removed]",
      "text/plain": [
       "<Figure size 432x288 with 1 Axes>"
      ]
     },
     "metadata": {
      "needs_background": "light"
     },
     "output_type": "display_data"
    }
   ],
   "source": [
    "plt.plot(history.history['acc'])\n",
    "plt.plot(history.history['val_acc'])\n",
    "\n",
    "plt.title('model accuracy')\n",
    "plt.ylabel('accuracy')\n",
    "plt.xlabel('epoch')\n",
    "plt.legend(['train','test'], loc='upper left')\n",
    "plt.ylim([0,1.01])\n",
    "plt.show()\n",
    "\n",
    "plt.plot(history.history['loss'])\n",
    "plt.plot(history.history['val_loss'])\n",
    "\n",
    "plt.title('model loss')\n",
    "plt.ylabel('loss')\n",
    "plt.xlabel('epoch')\n",
    "plt.legend(['train','test'], loc='upper left')\n",
    "plt.show()"
   ]
  },
  {
   "cell_type": "code",
   "execution_count": 143,
   "id": "amino-vampire",
   "metadata": {},
   "outputs": [
    {
     "name": "stdout",
     "output_type": "stream",
     "text": [
      "Precision: 0.43\n",
      "Recall: 0.5\n",
      "F1 Score: 0.46\n"
     ]
    },
    {
     "name": "stderr",
     "output_type": "stream",
     "text": [
      "C:\\Users\\ketak\\anaconda3\\envs\\tensorflow\\lib\\site-packages\\sklearn\\metrics\\_classification.py:1245: UndefinedMetricWarning: Precision is ill-defined and being set to 0.0 in labels with no predicted samples. Use `zero_division` parameter to control this behavior.\n",
      "  _warn_prf(average, modifier, msg_start, len(result))\n"
     ]
    }
   ],
   "source": [
    "from sklearn.metrics import f1_score, precision_score, recall_score, confusion_matrix\n",
    "y_pred1 = model.predict(X_val_padded)\n",
    "y_pred = np.argmax(y_pred1, axis=1)\n",
    "\n",
    "# Print f1, precision, and recall scores\n",
    "print(\"Precision:\", round(precision_score(y_val, y_pred , average=\"macro\"),2))\n",
    "print(\"Recall:\", round(recall_score(y_val, y_pred , average=\"macro\"),2))\n",
    "print(\"F1 Score:\", round(f1_score(y_val, y_pred , average=\"macro\"),2))"
   ]
  },
  {
   "cell_type": "markdown",
   "id": "clear-concentration",
   "metadata": {},
   "source": [
    "# Try simple 1D CNN:"
   ]
  },
  {
   "cell_type": "code",
   "execution_count": 211,
   "id": "prospective-skating",
   "metadata": {},
   "outputs": [
    {
     "name": "stdout",
     "output_type": "stream",
     "text": [
      "Model: \"sequential_41\"\n",
      "_________________________________________________________________\n",
      "Layer (type)                 Output Shape              Param #   \n",
      "=================================================================\n",
      "embedding_48 (Embedding)     (None, 163, 300)          1605300   \n",
      "_________________________________________________________________\n",
      "conv1d_44 (Conv1D)           (None, 81, 4)             2404      \n",
      "_________________________________________________________________\n",
      "global_max_pooling1d_31 (Glo (None, 4)                 0         \n",
      "_________________________________________________________________\n",
      "batch_normalization_19 (Batc (None, 4)                 16        \n",
      "_________________________________________________________________\n",
      "dense_36 (Dense)             (None, 2)                 10        \n",
      "=================================================================\n",
      "Total params: 1,607,730\n",
      "Trainable params: 2,422\n",
      "Non-trainable params: 1,605,308\n",
      "_________________________________________________________________\n"
     ]
    }
   ],
   "source": [
    "model2_1d_cnn = Sequential()\n",
    "EMBEDDING_DIM=300 \n",
    "numfilters = 4\n",
    "embedding_layer = Embedding(vocab_size, EMBEDDING_DIM, weights=[embedding_matrix], input_length=length_long_sentence, trainable=False)\n",
    "model2_1d_cnn.add(embedding_layer)\n",
    "\n",
    "model2_1d_cnn.add(Conv1D(filters= numfilters, kernel_size = 2, activation='relu', strides=2, kernel_regularizer = regularizers.l2(0.01)))\n",
    "model2_1d_cnn.add(GlobalMaxPooling1D())\n",
    "\n",
    "model2_1d_cnn.add(tf.keras.layers.BatchNormalization())\n",
    "\n",
    "model2_1d_cnn.add(Dense(2, activation='softmax', kernel_regularizer = regularizers.l2(0.01)))\n",
    "model2_1d_cnn.compile(optimizer='adam', loss='binary_crossentropy', metrics=['acc'])\n",
    "model2_1d_cnn.summary()"
   ]
  },
  {
   "cell_type": "code",
   "execution_count": 212,
   "id": "precise-premiere",
   "metadata": {},
   "outputs": [
    {
     "name": "stdout",
     "output_type": "stream",
     "text": [
      "Epoch 1/15\n",
      "213/213 [==============================] - 1s 4ms/step - loss: 0.7884 - acc: 0.4999 - val_loss: 0.7427 - val_acc: 0.5376\n",
      "Epoch 2/15\n",
      "213/213 [==============================] - 1s 4ms/step - loss: 0.7311 - acc: 0.5087 - val_loss: 0.7181 - val_acc: 0.5429\n",
      "Epoch 3/15\n",
      "213/213 [==============================] - 1s 4ms/step - loss: 0.7136 - acc: 0.5016 - val_loss: 0.7057 - val_acc: 0.4373\n",
      "Epoch 4/15\n",
      "213/213 [==============================] - 1s 4ms/step - loss: 0.7044 - acc: 0.5079 - val_loss: 0.6995 - val_acc: 0.4267\n",
      "Epoch 5/15\n",
      "213/213 [==============================] - 1s 4ms/step - loss: 0.6998 - acc: 0.4859 - val_loss: 0.6961 - val_acc: 0.5429\n",
      "Epoch 6/15\n",
      "213/213 [==============================] - 1s 5ms/step - loss: 0.6974 - acc: 0.5003 - val_loss: 0.6946 - val_acc: 0.6803\n",
      "Epoch 7/15\n",
      "213/213 [==============================] - 1s 5ms/step - loss: 0.6963 - acc: 0.4951 - val_loss: 0.6939 - val_acc: 0.4769\n",
      "Epoch 8/15\n",
      "213/213 [==============================] - 1s 4ms/step - loss: 0.6958 - acc: 0.5159 - val_loss: 0.6935 - val_acc: 0.2946\n",
      "Epoch 9/15\n",
      "213/213 [==============================] - 1s 4ms/step - loss: 0.6955 - acc: 0.4750 - val_loss: 0.6933 - val_acc: 0.2761\n",
      "Epoch 10/15\n",
      "213/213 [==============================] - 1s 5ms/step - loss: 0.6954 - acc: 0.4860 - val_loss: 0.6932 - val_acc: 0.2483\n",
      "Epoch 11/15\n",
      "213/213 [==============================] - 1s 4ms/step - loss: 0.6953 - acc: 0.4352 - val_loss: 0.6932 - val_acc: 0.1559\n",
      "Epoch 12/15\n",
      "213/213 [==============================] - 1s 5ms/step - loss: 0.6953 - acc: 0.4461 - val_loss: 0.6932 - val_acc: 0.1546\n",
      "Epoch 13/15\n",
      "213/213 [==============================] - 1s 4ms/step - loss: 0.6953 - acc: 0.4181 - val_loss: 0.6932 - val_acc: 0.1546\n",
      "Epoch 14/15\n",
      "213/213 [==============================] - 1s 4ms/step - loss: 0.6953 - acc: 0.3956 - val_loss: 0.6931 - val_acc: 0.1493\n",
      "Epoch 15/15\n",
      "213/213 [==============================] - 1s 4ms/step - loss: 0.6953 - acc: 0.3066 - val_loss: 0.6931 - val_acc: 0.1493\n"
     ]
    },
    {
     "data": {
      "text/plain": [
       "<tensorflow.python.keras.callbacks.History at 0x1efc76d0520>"
      ]
     },
     "execution_count": 212,
     "metadata": {},
     "output_type": "execute_result"
    }
   ],
   "source": [
    "model2_1d_cnn.fit(X_train_padded, y_train, batch_size=32, epochs=15, validation_split=0.1,\n",
    "                    class_weight=custom_class_weights, shuffle = True)"
   ]
  },
  {
   "cell_type": "code",
   "execution_count": 213,
   "id": "recreational-executive",
   "metadata": {},
   "outputs": [
    {
     "name": "stdout",
     "output_type": "stream",
     "text": [
      "Test Loss: 0.6931472420692444\n",
      "Test Accuracy: 0.14806979894638062\n"
     ]
    }
   ],
   "source": [
    "score = model2_1d_cnn.evaluate(X_val_padded, y_val, verbose=0)\n",
    "print(\"Test Loss:\", score[0])\n",
    "print(\"Test Accuracy:\", score[1])\n"
   ]
  },
  {
   "cell_type": "code",
   "execution_count": 214,
   "id": "adjusted-defendant",
   "metadata": {},
   "outputs": [
    {
     "name": "stdout",
     "output_type": "stream",
     "text": [
      "Precision: 0.36\n",
      "Recall: 0.5\n",
      "F1 Score: 0.13\n"
     ]
    }
   ],
   "source": [
    "\n",
    "from sklearn.metrics import f1_score, precision_score, recall_score, confusion_matrix\n",
    "y_pred1 = model2_1d_cnn.predict(X_val_padded)\n",
    "y_pred = np.argmax(y_pred1, axis=1)\n",
    "\n",
    "# Print f1, precision, and recall scores\n",
    "print(\"Precision:\", round(precision_score(y_val, y_pred , average=\"macro\"),2))\n",
    "print(\"Recall:\", round(recall_score(y_val, y_pred, average=\"macro\"),2))\n",
    "print(\"F1 Score:\", round(f1_score(y_val, y_pred , average=\"macro\"),2))"
   ]
  },
  {
   "cell_type": "markdown",
   "id": "knowing-funds",
   "metadata": {},
   "source": [
    "## Slightly better CNN - try 2D way like the paper"
   ]
  },
  {
   "cell_type": "code",
   "execution_count": 215,
   "id": "imported-absolute",
   "metadata": {},
   "outputs": [],
   "source": [
    "#try window size of 1\n",
    "filter_sizes = [1,2]\n",
    "num_filters = 8\n",
    "drop = 0.2\n",
    "EMBEDDING_DIM = 300 \n",
    "\n",
    "deep_inputs = Input(shape=(length_long_sentence,))\n",
    "embedding = Embedding(vocab_size, 300, weights=[embedding_matrix], input_length=length_long_sentence, trainable=False)(deep_inputs)\n",
    "reshape = Reshape((length_long_sentence,EMBEDDING_DIM,1))(embedding)\n",
    "\n",
    "conv_0 = Conv2D(num_filters, (filter_sizes[0], 1),activation='relu', kernel_regularizer = regularizers.l2(0.01))(reshape)\n",
    "conv_1 = Conv2D(num_filters, (filter_sizes[1], 1),activation='relu', kernel_regularizer = regularizers.l2(0.01))(reshape)\n",
    "#conv_2 = Conv2D(num_filters, (filter_sizes[2], 1),activation='relu', kernel_regularizer = regularizers.l2(0.01))(reshape)\n",
    "maxpool_0 = MaxPooling2D((length_long_sentence - filter_sizes[0] + 1, 1), strides=(2,1))(conv_0)\n",
    "maxpool_1 = MaxPooling2D((length_long_sentence - filter_sizes[1] + 1, 1), strides=(2,1))(conv_1)\n",
    "#maxpool_2 = MaxPooling2D((length_long_sentence - filter_sizes[2] + 1, 1), strides=(1,1))(conv_2)\n",
    "\n",
    "merged_tensor = concatenate([maxpool_0,maxpool_1 ], axis=1)\n",
    "batch_normalization = tf.keras.layers.BatchNormalization()(merged_tensor)\n",
    "flatten = Flatten()(batch_normalization)\n",
    "reshape = Reshape((2*num_filters,))(flatten)\n",
    "#dropout = Dropout(drop)(flatten)\n",
    "output = Dense(units=2, activation='softmax', kernel_regularizer = regularizers.l2(0.01))(flatten)\n",
    "\n",
    "# this creates a model that includes\n",
    "cnn2d_model = Model(deep_inputs, output)"
   ]
  },
  {
   "cell_type": "code",
   "execution_count": 216,
   "id": "large-james",
   "metadata": {},
   "outputs": [
    {
     "name": "stdout",
     "output_type": "stream",
     "text": [
      "Model: \"model_6\"\n",
      "__________________________________________________________________________________________________\n",
      "Layer (type)                    Output Shape         Param #     Connected to                     \n",
      "==================================================================================================\n",
      "input_9 (InputLayer)            [(None, 163)]        0                                            \n",
      "__________________________________________________________________________________________________\n",
      "embedding_49 (Embedding)        (None, 163, 300)     1605300     input_9[0][0]                    \n",
      "__________________________________________________________________________________________________\n",
      "reshape_14 (Reshape)            (None, 163, 300, 1)  0           embedding_49[0][0]               \n",
      "__________________________________________________________________________________________________\n",
      "conv2d_16 (Conv2D)              (None, 163, 300, 8)  16          reshape_14[0][0]                 \n",
      "__________________________________________________________________________________________________\n",
      "conv2d_17 (Conv2D)              (None, 162, 300, 8)  24          reshape_14[0][0]                 \n",
      "__________________________________________________________________________________________________\n",
      "max_pooling2d_15 (MaxPooling2D) (None, 1, 300, 8)    0           conv2d_16[0][0]                  \n",
      "__________________________________________________________________________________________________\n",
      "max_pooling2d_16 (MaxPooling2D) (None, 1, 300, 8)    0           conv2d_17[0][0]                  \n",
      "__________________________________________________________________________________________________\n",
      "concatenate_6 (Concatenate)     (None, 2, 300, 8)    0           max_pooling2d_15[0][0]           \n",
      "                                                                 max_pooling2d_16[0][0]           \n",
      "__________________________________________________________________________________________________\n",
      "batch_normalization_20 (BatchNo (None, 2, 300, 8)    32          concatenate_6[0][0]              \n",
      "__________________________________________________________________________________________________\n",
      "flatten_8 (Flatten)             (None, 4800)         0           batch_normalization_20[0][0]     \n",
      "__________________________________________________________________________________________________\n",
      "dense_37 (Dense)                (None, 2)            9602        flatten_8[0][0]                  \n",
      "==================================================================================================\n",
      "Total params: 1,614,974\n",
      "Trainable params: 9,658\n",
      "Non-trainable params: 1,605,316\n",
      "__________________________________________________________________________________________________\n"
     ]
    }
   ],
   "source": [
    "cnn2d_model.compile(optimizer = 'adam', loss='binary_crossentropy', metrics=['acc'])\n",
    "callbacks = [EarlyStopping(monitor='val_loss',  min_delta=0.0001)]\n",
    "cnn2d_model.summary()"
   ]
  },
  {
   "cell_type": "code",
   "execution_count": 217,
   "id": "amateur-commission",
   "metadata": {},
   "outputs": [
    {
     "name": "stdout",
     "output_type": "stream",
     "text": [
      "Epoch 1/20\n",
      "201/201 [==============================] - 19s 94ms/step - loss: 0.8771 - acc: 0.5026 - val_loss: 0.7608 - val_acc: 0.4934\n",
      "Epoch 2/20\n",
      "201/201 [==============================] - 19s 96ms/step - loss: 0.7866 - acc: 0.5033 - val_loss: 0.7504 - val_acc: 0.3612\n",
      "Epoch 3/20\n",
      "201/201 [==============================] - 19s 96ms/step - loss: 0.7591 - acc: 0.4997 - val_loss: 0.8297 - val_acc: 0.4608\n",
      "Epoch 4/20\n",
      "201/201 [==============================] - 19s 95ms/step - loss: 0.7616 - acc: 0.5109 - val_loss: 0.7348 - val_acc: 0.7674\n",
      "Epoch 5/20\n",
      "201/201 [==============================] - 19s 94ms/step - loss: 0.7366 - acc: 0.5072 - val_loss: 0.7186 - val_acc: 0.4546\n",
      "Epoch 6/20\n",
      "201/201 [==============================] - 20s 97ms/step - loss: 0.7195 - acc: 0.5022 - val_loss: 0.7116 - val_acc: 0.3841\n",
      "Epoch 7/20\n",
      "201/201 [==============================] - 20s 98ms/step - loss: 0.7126 - acc: 0.4894 - val_loss: 0.7067 - val_acc: 0.3463\n",
      "Epoch 8/20\n",
      "201/201 [==============================] - 19s 94ms/step - loss: 0.7079 - acc: 0.4988 - val_loss: 0.7029 - val_acc: 0.2678\n",
      "Epoch 9/20\n",
      "201/201 [==============================] - 20s 98ms/step - loss: 0.7046 - acc: 0.5036 - val_loss: 0.7000 - val_acc: 0.4705\n",
      "Epoch 10/20\n",
      "201/201 [==============================] - 20s 99ms/step - loss: 0.7022 - acc: 0.5008 - val_loss: 0.6979 - val_acc: 0.2300\n",
      "Epoch 11/20\n",
      "201/201 [==============================] - 21s 102ms/step - loss: 0.7004 - acc: 0.5026 - val_loss: 0.6964 - val_acc: 0.6802\n",
      "Epoch 12/20\n",
      "201/201 [==============================] - 20s 97ms/step - loss: 0.6991 - acc: 0.5036 - val_loss: 0.6953 - val_acc: 0.1965\n",
      "Epoch 13/20\n",
      "201/201 [==============================] - 19s 96ms/step - loss: 0.6982 - acc: 0.4774 - val_loss: 0.6945 - val_acc: 0.7322\n",
      "Epoch 14/20\n",
      "201/201 [==============================] - 19s 95ms/step - loss: 0.6975 - acc: 0.4925 - val_loss: 0.6940 - val_acc: 0.3348\n",
      "Epoch 15/20\n",
      "201/201 [==============================] - 21s 104ms/step - loss: 0.6971 - acc: 0.4883 - val_loss: 0.6936 - val_acc: 0.2696\n",
      "Epoch 16/20\n",
      "201/201 [==============================] - 20s 100ms/step - loss: 0.6969 - acc: 0.4826 - val_loss: 0.6934 - val_acc: 0.2185\n",
      "Epoch 17/20\n",
      "201/201 [==============================] - 19s 93ms/step - loss: 0.6967 - acc: 0.4791 - val_loss: 0.6933 - val_acc: 0.6308\n",
      "Epoch 18/20\n",
      "201/201 [==============================] - 19s 93ms/step - loss: 0.6966 - acc: 0.4847 - val_loss: 0.6932 - val_acc: 0.6934\n",
      "Epoch 19/20\n",
      "201/201 [==============================] - 19s 93ms/step - loss: 0.6965 - acc: 0.4872 - val_loss: 0.6932 - val_acc: 0.1674\n",
      "Epoch 20/20\n",
      "201/201 [==============================] - 19s 93ms/step - loss: 0.6965 - acc: 0.4888 - val_loss: 0.6932 - val_acc: 0.8573\n"
     ]
    }
   ],
   "source": [
    "cnn2d_history = cnn2d_model.fit(X_train_padded, y_train, batch_size=32, epochs=20, validation_split=0.15, \n",
    "                                class_weight = sklearn_weights,shuffle = True )"
   ]
  },
  {
   "cell_type": "code",
   "execution_count": 167,
   "id": "palestinian-bench",
   "metadata": {},
   "outputs": [
    {
     "name": "stdout",
     "output_type": "stream",
     "text": [
      "60/60 [==============================] - 2s 31ms/step - loss: 0.6931 - acc: 0.1475\n",
      "Test Loss: 0.6931469440460205\n",
      "Test Accuracy: 0.14754098653793335\n"
     ]
    }
   ],
   "source": [
    "score = cnn2d_model.evaluate(X_val_padded, y_val, verbose=1)\n",
    "print(\"Test Loss:\", score[0])\n",
    "print(\"Test Accuracy:\", score[1])\n"
   ]
  },
  {
   "cell_type": "code",
   "execution_count": 168,
   "id": "portable-delaware",
   "metadata": {},
   "outputs": [
    {
     "data": {
      "image/png": "[encoded data removed]",
      "text/plain": [
       "<Figure size 432x288 with 1 Axes>"
      ]
     },
     "metadata": {
      "needs_background": "light"
     },
     "output_type": "display_data"
    },
    {
     "data": {
      "image/png": "[encoded data removed]",
      "text/plain": [
       "<Figure size 432x288 with 1 Axes>"
      ]
     },
     "metadata": {
      "needs_background": "light"
     },
     "output_type": "display_data"
    }
   ],
   "source": [
    "plt.plot(cnn2d_history.history['acc'])\n",
    "plt.plot(cnn2d_history.history['val_acc'])\n",
    "\n",
    "plt.title('model accuracy')\n",
    "plt.ylabel('accuracy')\n",
    "plt.xlabel('epoch')\n",
    "plt.legend(['train','test'], loc='upper left')\n",
    "plt.ylim([0,1.01])\n",
    "plt.show()\n",
    "\n",
    "plt.plot(cnn2d_history.history['loss'])\n",
    "plt.plot(cnn2d_history.history['val_loss'])\n",
    "\n",
    "plt.title('model loss')\n",
    "plt.ylabel('loss')\n",
    "plt.xlabel('epoch')\n",
    "plt.legend(['train','test'], loc='upper left')\n",
    "plt.show()"
   ]
  },
  {
   "cell_type": "code",
   "execution_count": 169,
   "id": "rural-preview",
   "metadata": {},
   "outputs": [
    {
     "name": "stdout",
     "output_type": "stream",
     "text": [
      "Precision: 0.07\n",
      "Recall: 0.5\n",
      "F1 Score: 0.13\n"
     ]
    },
    {
     "name": "stderr",
     "output_type": "stream",
     "text": [
      "C:\\Users\\ketak\\anaconda3\\envs\\tensorflow\\lib\\site-packages\\sklearn\\metrics\\_classification.py:1245: UndefinedMetricWarning: Precision is ill-defined and being set to 0.0 in labels with no predicted samples. Use `zero_division` parameter to control this behavior.\n",
      "  _warn_prf(average, modifier, msg_start, len(result))\n"
     ]
    }
   ],
   "source": [
    "from sklearn.metrics import f1_score, precision_score, recall_score, confusion_matrix\n",
    "y_pred1 = cnn2d_model.predict(X_val_padded)\n",
    "y_pred = np.argmax(y_pred1, axis=1)\n",
    "\n",
    "# Print f1, precision, and recall scores\n",
    "print(\"Precision:\", round(precision_score(y_val, y_pred , average=\"macro\"),2))\n",
    "print(\"Recall:\", round(recall_score(y_val, y_pred, average=\"macro\"),2))\n",
    "print(\"F1 Score:\", round(f1_score(y_val, y_pred , average=\"macro\"),2))"
   ]
  },
  {
   "cell_type": "code",
   "execution_count": null,
   "id": "departmental-entity",
   "metadata": {},
   "outputs": [],
   "source": [
    "def create_model(num_filters, filter_sizes):\n",
    "    \n",
    "    EMBEDDING_DIM = 300\n",
    "    deep_inputs = Input(shape=(length_long_sentence,))\n",
    "    embedding = Embedding(vocab_size, 300, weights=[embedding_matrix], input_length=length_long_sentence, trainable=False)(deep_inputs)\n",
    "    reshape = Reshape((length_long_sentence,EMBEDDING_DIM,1))(embedding)\n",
    "\n",
    "    conv_0 = Conv2D(num_filters, (filter_sizes[0], EMBEDDING_DIM),activation='relu',kernel_regularizer=regularizers.l2(0.01))(reshape)\n",
    "    #conv_1 = Conv2D(num_filters, (filter_sizes[1], EMBEDDING_DIM),activation='relu',kernel_regularizer=regularizers.l2(0.01))(reshape)\n",
    "    #conv_2 = Conv2D(num_filters, (filter_sizes[2], EMBEDDING_DIM),activation='relu',kernel_regularizer=regularizers.l2(0.01))(reshape)\n",
    "    maxpool_0 = MaxPooling2D((length_long_sentence - filter_sizes[0] + 1, 1), strides=(1,1))(conv_0)\n",
    "    #maxpool_1 = MaxPooling2D((length_long_sentence - filter_sizes[1] + 1, 1), strides=(1,1))(conv_1)\n",
    "    #maxpool_2 = MaxPooling2D((length_long_sentence - filter_sizes[2] + 1, 1), strides=(1,1))(conv_2)\n",
    "\n",
    "    #merged_tensor = concatenate([maxpool_0, maxpool_1, maxpool_2], axis=1)\n",
    "    flatten = Flatten()(maxpool_0)\n",
    "    reshape = Reshape((3*num_filters,))(flatten)\n",
    "    dropout = Dropout(drop)(flatten)\n",
    "    output = Dense(units=3, activation='softmax',kernel_regularizer=regularizers.l2(0.01))(dropout)\n",
    "\n",
    "    # this creates a model that includes\n",
    "    cnn2d_model = Model(deep_inputs, output)\n",
    "    cnn2d_model.compile(optimizer='adam', loss='binary_crossentropy', metrics=['acc'])\n",
    "    callbacks = [EarlyStopping(monitor='val_loss',  min_delta=0.01)]\n",
    "    cnn2d_model.summary()\n",
    "    \n",
    "    return cnn2d_model"
   ]
  },
  {
   "cell_type": "code",
   "execution_count": null,
   "id": "junior-chair",
   "metadata": {},
   "outputs": [],
   "source": [
    "create_model(4, [2,3,4])"
   ]
  },
  {
   "cell_type": "code",
   "execution_count": null,
   "id": "voluntary-knight",
   "metadata": {},
   "outputs": [],
   "source": [
    "param_grid = dict(num_filters=[32, 64, 128],\n",
    "                  filter_sizes=[[3, 5, 6]],\n",
    "                  )"
   ]
  },
  {
   "cell_type": "code",
   "execution_count": null,
   "id": "unavailable-sharing",
   "metadata": {},
   "outputs": [],
   "source": [
    "from tensorflow.keras.wrappers.scikit_learn import KerasClassifier\n",
    "from sklearn.model_selection import RandomizedSearchCV\n"
   ]
  },
  {
   "cell_type": "code",
   "execution_count": null,
   "id": "signal-liechtenstein",
   "metadata": {},
   "outputs": [],
   "source": [
    "tunedmodel = KerasClassifier(build_fn=create_model,\n",
    "                            epochs=50, batch_size=10,\n",
    "                            verbose=False)\n",
    "grid = RandomizedSearchCV(estimator=tunedmodel, param_distributions=param_grid,\n",
    "                              cv=4, verbose=1, n_iter=5)\n",
    "grid_result = grid.fit(X_train_padded, y_train, validation_split=0.2, class_weight=sklearn_weights, callbacks=callbacks)"
   ]
  },
  {
   "cell_type": "code",
   "execution_count": null,
   "id": "tough-registrar",
   "metadata": {},
   "outputs": [],
   "source": [
    "print(grid.evaulate(X_val_padded, y_val, verbose=1))"
   ]
  },
  {
   "cell_type": "code",
   "execution_count": null,
   "id": "prostate-geography",
   "metadata": {},
   "outputs": [],
   "source": [
    "print(grid_result.best_score_,grid_result.best_params_)"
   ]
  },
  {
   "cell_type": "code",
   "execution_count": null,
   "id": "forced-lingerie",
   "metadata": {},
   "outputs": [],
   "source": []
  },
  {
   "cell_type": "code",
   "execution_count": null,
   "id": "assured-baking",
   "metadata": {},
   "outputs": [],
   "source": []
  },
  {
   "cell_type": "code",
   "execution_count": null,
   "id": "genetic-denmark",
   "metadata": {},
   "outputs": [],
   "source": []
  },
  {
   "cell_type": "markdown",
   "id": "characteristic-participation",
   "metadata": {},
   "source": [
    "### Notes:\n",
    "- The above way of implementaion is called sequential API, but most advanced deep learning models use functional API\n",
    "- the code below uses Functional API of keras to implement same Fully Connected NN\n",
    "- In the Keras Functional API, you have to define the input layer separately before the embedding layer. In the input, layer you have to simply pass the length of input vector. To specify that previous layer as input to the next layer, the previous layer is passed as a parameter inside the parenthesis, at the end of the next layer."
   ]
  },
  {
   "cell_type": "code",
   "execution_count": 72,
   "id": "undefined-hamilton",
   "metadata": {},
   "outputs": [
    {
     "name": "stdout",
     "output_type": "stream",
     "text": [
      "Model: \"model\"\n",
      "_________________________________________________________________\n",
      "Layer (type)                 Output Shape              Param #   \n",
      "=================================================================\n",
      "input_1 (InputLayer)         [(None, 120)]             0         \n",
      "_________________________________________________________________\n",
      "embedding_3 (Embedding)      (None, 120, 300)          910800    \n",
      "_________________________________________________________________\n",
      "flatten_3 (Flatten)          (None, 36000)             0         \n",
      "_________________________________________________________________\n",
      "dense_3 (Dense)              (None, 1)                 36001     \n",
      "=================================================================\n",
      "Total params: 946,801\n",
      "Trainable params: 36,001\n",
      "Non-trainable params: 910,800\n",
      "_________________________________________________________________\n"
     ]
    }
   ],
   "source": [
    "from tensorflow.keras.models import Model\n",
    "from tensorflow.keras.layers import Input\n",
    "\n",
    "deep_inputs = Input(shape=(length_long_sentence,))\n",
    "embedding = Embedding(vocab_size, 300, weights=[embedding_matrix], input_length=length_long_sentence, trainable=False)(deep_inputs) # line A\n",
    "flatten = Flatten()(embedding)\n",
    "hidden = Dense(1, activation='sigmoid')(flatten)\n",
    "model = Model(inputs=deep_inputs, outputs=hidden)\n",
    "model.compile(optimizer='adam', loss='binary_crossentropy', metrics=['acc'])\n",
    "model.summary()"
   ]
  },
  {
   "cell_type": "code",
   "execution_count": 166,
   "id": "developmental-minimum",
   "metadata": {},
   "outputs": [],
   "source": [
    "#In the model summary, you can see the input layer as a separate layer before the embedding layer. \n",
    "#tHe rest of the model remains the same.\n",
    "\n",
    "#Finally, the process to fit and evaluate the model is same as the one used in Sequential API:"
   ]
  },
  {
   "cell_type": "code",
   "execution_count": 74,
   "id": "continued-archive",
   "metadata": {},
   "outputs": [
    {
     "name": "stdout",
     "output_type": "stream",
     "text": [
      "Epoch 1/10\n",
      "103/103 [==============================] - 0s 3ms/step - loss: 0.2014 - acc: 0.9674 - val_loss: 0.2057 - val_acc: 0.9573\n",
      "Epoch 2/10\n",
      "103/103 [==============================] - 0s 2ms/step - loss: 0.1560 - acc: 0.9713 - val_loss: 0.1845 - val_acc: 0.9585\n",
      "Epoch 3/10\n",
      "103/103 [==============================] - 0s 2ms/step - loss: 0.1305 - acc: 0.9747 - val_loss: 0.1720 - val_acc: 0.9598\n",
      "Epoch 4/10\n",
      "103/103 [==============================] - 0s 2ms/step - loss: 0.1133 - acc: 0.9774 - val_loss: 0.1634 - val_acc: 0.9610\n",
      "Epoch 5/10\n",
      "103/103 [==============================] - 0s 3ms/step - loss: 0.1005 - acc: 0.9790 - val_loss: 0.1565 - val_acc: 0.9610\n",
      "Epoch 6/10\n",
      "103/103 [==============================] - 0s 2ms/step - loss: 0.0905 - acc: 0.9808 - val_loss: 0.1515 - val_acc: 0.9610\n",
      "Epoch 7/10\n",
      "103/103 [==============================] - 0s 2ms/step - loss: 0.0823 - acc: 0.9814 - val_loss: 0.1476 - val_acc: 0.9610\n",
      "Epoch 8/10\n",
      "103/103 [==============================] - 0s 2ms/step - loss: 0.0752 - acc: 0.9835 - val_loss: 0.1448 - val_acc: 0.9622\n",
      "Epoch 9/10\n",
      "103/103 [==============================] - 0s 3ms/step - loss: 0.0693 - acc: 0.9854 - val_loss: 0.1432 - val_acc: 0.9634\n",
      "Epoch 10/10\n",
      "103/103 [==============================] - 0s 2ms/step - loss: 0.0641 - acc: 0.9866 - val_loss: 0.1404 - val_acc: 0.9646\n"
     ]
    },
    {
     "data": {
      "text/plain": [
       "<tensorflow.python.keras.callbacks.History at 0x24c380b2f70>"
      ]
     },
     "execution_count": 74,
     "metadata": {},
     "output_type": "execute_result"
    }
   ],
   "source": [
    "model.fit(X_train_padded, y_train, epochs=10,validation_data =(X_val_padded, y_val), verbose=1)"
   ]
  },
  {
   "cell_type": "markdown",
   "id": "sixth-macintosh",
   "metadata": {},
   "source": [
    "## Simple LSTM"
   ]
  },
  {
   "cell_type": "code",
   "execution_count": 181,
   "id": "given-split",
   "metadata": {},
   "outputs": [
    {
     "name": "stdout",
     "output_type": "stream",
     "text": [
      "Model: \"sequential_18\"\n",
      "_________________________________________________________________\n",
      "Layer (type)                 Output Shape              Param #   \n",
      "=================================================================\n",
      "embedding_4 (Embedding)      (None, 120, 300)          910800    \n",
      "_________________________________________________________________\n",
      "lstm (LSTM)                  (None, 128)               219648    \n",
      "_________________________________________________________________\n",
      "dense_18 (Dense)             (None, 1)                 129       \n",
      "=================================================================\n",
      "Total params: 1,130,577\n",
      "Trainable params: 219,777\n",
      "Non-trainable params: 910,800\n",
      "_________________________________________________________________\n"
     ]
    }
   ],
   "source": [
    "rnnmodel = Sequential()\n",
    "rnnmodel.add(embedding_layer)\n",
    "rnnmodel.add(LSTM(128))\n",
    "\n",
    "rnnmodel.add(Dense(1, activation='sigmoid'))\n",
    "rnnmodel.compile(optimizer='adam', loss='binary_crossentropy', metrics=['acc'])\n",
    "rnnmodel.summary()"
   ]
  },
  {
   "cell_type": "code",
   "execution_count": 182,
   "id": "signed-halifax",
   "metadata": {},
   "outputs": [
    {
     "name": "stdout",
     "output_type": "stream",
     "text": [
      "Epoch 1/10\n",
      "82/82 [==============================] - 5s 55ms/step - loss: 0.7005 - acc: 0.1945 - val_loss: 0.6935 - val_acc: 0.0259\n",
      "Epoch 2/10\n",
      "82/82 [==============================] - 4s 52ms/step - loss: 0.7003 - acc: 0.3349 - val_loss: 0.6959 - val_acc: 0.0259\n",
      "Epoch 3/10\n",
      "82/82 [==============================] - 5s 56ms/step - loss: 0.7003 - acc: 0.0305 - val_loss: 0.6978 - val_acc: 0.0259\n",
      "Epoch 4/10\n",
      "82/82 [==============================] - 4s 54ms/step - loss: 0.7005 - acc: 0.1533 - val_loss: 0.6955 - val_acc: 0.0259\n",
      "Epoch 5/10\n",
      "82/82 [==============================] - 4s 54ms/step - loss: 0.7003 - acc: 0.0305 - val_loss: 0.6981 - val_acc: 0.0259\n",
      "Epoch 6/10\n",
      "82/82 [==============================] - 4s 55ms/step - loss: 0.7003 - acc: 0.0305 - val_loss: 0.7013 - val_acc: 0.0259\n",
      "Epoch 7/10\n",
      "82/82 [==============================] - 4s 55ms/step - loss: 0.7002 - acc: 0.0305 - val_loss: 0.6968 - val_acc: 0.0259\n",
      "Epoch 8/10\n",
      "82/82 [==============================] - 5s 56ms/step - loss: 0.7003 - acc: 0.0305 - val_loss: 0.6996 - val_acc: 0.0259\n",
      "Epoch 9/10\n",
      "82/82 [==============================] - 5s 56ms/step - loss: 0.7001 - acc: 0.0305 - val_loss: 0.7002 - val_acc: 0.0259\n",
      "Epoch 10/10\n",
      "82/82 [==============================] - 5s 58ms/step - loss: 0.7003 - acc: 0.0305 - val_loss: 0.6990 - val_acc: 0.0259\n"
     ]
    }
   ],
   "source": [
    "rnn_history = rnnmodel.fit(X_train_padded, y_train, batch_size=32, epochs=10, validation_split=0.2, class_weight=sklearn_weights)"
   ]
  },
  {
   "cell_type": "code",
   "execution_count": 183,
   "id": "hollow-typing",
   "metadata": {},
   "outputs": [
    {
     "name": "stdout",
     "output_type": "stream",
     "text": [
      "Test Loss: 0.6987847089767456\n",
      "Test Accuracy: 0.04024390131235123\n"
     ]
    }
   ],
   "source": [
    "score = rnnmodel.evaluate(X_val_padded, y_val, verbose=0)\n",
    "print(\"Test Loss:\", score[0])\n",
    "print(\"Test Accuracy:\", score[1])\n"
   ]
  },
  {
   "cell_type": "code",
   "execution_count": null,
   "id": "pediatric-luxembourg",
   "metadata": {},
   "outputs": [],
   "source": []
  }
 ],
 "metadata": {
  "kernelspec": {
   "display_name": "Python 3",
   "language": "python",
   "name": "python3"
  },
  "language_info": {
   "codemirror_mode": {
    "name": "ipython",
    "version": 3
   },
   "file_extension": ".py",
   "mimetype": "text/x-python",
   "name": "python",
   "nbconvert_exporter": "python",
   "pygments_lexer": "ipython3",
   "version": "3.8.5"
  }
 },
 "nbformat": 4,
 "nbformat_minor": 5
}
