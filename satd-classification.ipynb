{
 "cells": [
  {
   "cell_type": "markdown",
   "id": "funny-lithuania",
   "metadata": {},
   "source": [
    "## import modules for data prep"
   ]
  },
  {
   "cell_type": "code",
   "execution_count": 1,
   "id": "requested-phoenix",
   "metadata": {},
   "outputs": [],
   "source": [
    "import tensorflow as tf\n",
    "import pandas as pd\n",
    "import numpy as np\n",
    "import seaborn as sns\n",
    "import matplotlib.pyplot as plt\n",
    "pd.set_option('display.max_colwidth', None)\n",
    "import glob\n",
    "import re\n",
    "from nltk.corpus import stopwords\n",
    "from sklearn.model_selection import train_test_split\n",
    "from tensorflow.keras.preprocessing.text import Tokenizer\n",
    "from tensorflow.keras.preprocessing.sequence import pad_sequences"
   ]
  },
  {
   "cell_type": "code",
   "execution_count": 2,
   "id": "above-chrome",
   "metadata": {},
   "outputs": [
    {
     "data": {
      "text/plain": [
       "\"import nltk\\nnltk.download('stopwords')\""
      ]
     },
     "execution_count": 2,
     "metadata": {},
     "output_type": "execute_result"
    }
   ],
   "source": [
    "'''import nltk\n",
    "nltk.download('stopwords')'''"
   ]
  },
  {
   "cell_type": "code",
   "execution_count": 3,
   "id": "authorized-college",
   "metadata": {},
   "outputs": [],
   "source": [
    "filenames = list(glob.glob(\"data/*\"))\n",
    "dataframes = [pd.read_csv(file) for file in filenames]"
   ]
  },
  {
   "cell_type": "code",
   "execution_count": 4,
   "id": "associate-bicycle",
   "metadata": {},
   "outputs": [
    {
     "data": {
      "text/html": [
       "<div>\n",
       "<style scoped>\n",
       "    .dataframe tbody tr th:only-of-type {\n",
       "        vertical-align: middle;\n",
       "    }\n",
       "\n",
       "    .dataframe tbody tr th {\n",
       "        vertical-align: top;\n",
       "    }\n",
       "\n",
       "    .dataframe thead th {\n",
       "        text-align: right;\n",
       "    }\n",
       "</style>\n",
       "<table border=\"1\" class=\"dataframe\">\n",
       "  <thead>\n",
       "    <tr style=\"text-align: right;\">\n",
       "      <th></th>\n",
       "      <th>projectname</th>\n",
       "      <th>classification</th>\n",
       "      <th>commenttext</th>\n",
       "    </tr>\n",
       "  </thead>\n",
       "  <tbody>\n",
       "    <tr>\n",
       "      <th>0</th>\n",
       "      <td>apache-ant-1.7.0</td>\n",
       "      <td>DEFECT</td>\n",
       "      <td>// FIXME formatters are not thread-safe</td>\n",
       "    </tr>\n",
       "    <tr>\n",
       "      <th>1</th>\n",
       "      <td>apache-ant-1.7.0</td>\n",
       "      <td>DEFECT</td>\n",
       "      <td>// XXX: (Jon Skeet) The comment \"if it hasn't been done already\" may // not be strictly true. wrapper.maybeConfigure() won't configure the same // attributes/text more than once, but it may well add the children again, // unless I've missed something.</td>\n",
       "    </tr>\n",
       "    <tr>\n",
       "      <th>2</th>\n",
       "      <td>apache-ant-1.7.0</td>\n",
       "      <td>DEFECT</td>\n",
       "      <td>// I hate to admit it, but we don't know what happened // here.  Throw the Exception.</td>\n",
       "    </tr>\n",
       "    <tr>\n",
       "      <th>3</th>\n",
       "      <td>apache-ant-1.7.0</td>\n",
       "      <td>DEFECT</td>\n",
       "      <td>// Just a note: StarTeam has a status for NEW which implies // that there is an item  on your local machine that is not // in the repository.  These are the items that show up as // NOT IN VIEW in the Starteam GUI. // One would think that we would want to perhaps checkin the // NEW items (not in all cases! - Steve Cohen 15 Dec 2001) // Unfortunately, the sdk doesn't really work, and we can't // actually see  anything with a status of NEW. That is why // we can just check out  everything here without worrying // about losing anything.</td>\n",
       "    </tr>\n",
       "    <tr>\n",
       "      <th>4</th>\n",
       "      <td>apache-ant-1.7.0</td>\n",
       "      <td>DEFECT</td>\n",
       "      <td>// the generated classes must not be added in the generic JAR! // is that buggy on old JOnAS (2.4) ??</td>\n",
       "    </tr>\n",
       "    <tr>\n",
       "      <th>5</th>\n",
       "      <td>apache-ant-1.7.0</td>\n",
       "      <td>DEFECT</td>\n",
       "      <td>// todo: is this comment still relevant ?? // FIXME: need to use a SAXSource as the source for the transform // so we can plug in our own entity resolver</td>\n",
       "    </tr>\n",
       "    <tr>\n",
       "      <th>6</th>\n",
       "      <td>apache-ant-1.7.0</td>\n",
       "      <td>DEFECT</td>\n",
       "      <td>// This is turned off temporarily. There appears to be a bug // in SelectorUtils.matchPattern() where it is recursive on // Windows even if no ** is in pattern. //assertEquals(\"FFFTFFFFFFFF\", results); // Unix // vs //assertEquals(\"FFFTFFFFTFFF\", results); // Windows</td>\n",
       "    </tr>\n",
       "    <tr>\n",
       "      <th>7</th>\n",
       "      <td>apache-ant-1.7.0</td>\n",
       "      <td>DEFECT</td>\n",
       "      <td>// pattern now holds ** while string is not exhausted // this will generate false positives but we can live with that.</td>\n",
       "    </tr>\n",
       "    <tr>\n",
       "      <th>8</th>\n",
       "      <td>apache-ant-1.7.0</td>\n",
       "      <td>DEFECT</td>\n",
       "      <td>// FIXME: Is \"No Namespace is Empty Namespace\" really OK?</td>\n",
       "    </tr>\n",
       "    <tr>\n",
       "      <th>9</th>\n",
       "      <td>apache-ant-1.7.0</td>\n",
       "      <td>DEFECT</td>\n",
       "      <td>// FIXME this is actually not very cpu cycles friendly as we are converting from // dos to java while the underlying Sun implementation will convert // from java to dos time for internal storage...</td>\n",
       "    </tr>\n",
       "  </tbody>\n",
       "</table>\n",
       "</div>"
      ],
      "text/plain": [
       "        projectname classification  \\\n",
       "0  apache-ant-1.7.0         DEFECT   \n",
       "1  apache-ant-1.7.0         DEFECT   \n",
       "2  apache-ant-1.7.0         DEFECT   \n",
       "3  apache-ant-1.7.0         DEFECT   \n",
       "4  apache-ant-1.7.0         DEFECT   \n",
       "5  apache-ant-1.7.0         DEFECT   \n",
       "6  apache-ant-1.7.0         DEFECT   \n",
       "7  apache-ant-1.7.0         DEFECT   \n",
       "8  apache-ant-1.7.0         DEFECT   \n",
       "9  apache-ant-1.7.0         DEFECT   \n",
       "\n",
       "                                                                                                                                                                                                                                                                                                                                                                                                                                                                                                                                                   commenttext  \n",
       "0                                                                                                                                                                                                                                                                                                                                                                                                                                                                                                                      // FIXME formatters are not thread-safe  \n",
       "1                                                                                                                                                                                                                                                                                                  // XXX: (Jon Skeet) The comment \"if it hasn't been done already\" may // not be strictly true. wrapper.maybeConfigure() won't configure the same // attributes/text more than once, but it may well add the children again, // unless I've missed something.  \n",
       "2                                                                                                                                                                                                                                                                                                                                                                                                                                                                        // I hate to admit it, but we don't know what happened // here.  Throw the Exception.  \n",
       "3  // Just a note: StarTeam has a status for NEW which implies // that there is an item  on your local machine that is not // in the repository.  These are the items that show up as // NOT IN VIEW in the Starteam GUI. // One would think that we would want to perhaps checkin the // NEW items (not in all cases! - Steve Cohen 15 Dec 2001) // Unfortunately, the sdk doesn't really work, and we can't // actually see  anything with a status of NEW. That is why // we can just check out  everything here without worrying // about losing anything.  \n",
       "4                                                                                                                                                                                                                                                                                                                                                                                                                                                        // the generated classes must not be added in the generic JAR! // is that buggy on old JOnAS (2.4) ??  \n",
       "5                                                                                                                                                                                                                                                                                                                                                                                                    // todo: is this comment still relevant ?? // FIXME: need to use a SAXSource as the source for the transform // so we can plug in our own entity resolver  \n",
       "6                                                                                                                                                                                                                                                                                  // This is turned off temporarily. There appears to be a bug // in SelectorUtils.matchPattern() where it is recursive on // Windows even if no ** is in pattern. //assertEquals(\"FFFTFFFFFFFF\", results); // Unix // vs //assertEquals(\"FFFTFFFFTFFF\", results); // Windows  \n",
       "7                                                                                                                                                                                                                                                                                                                                                                                                                                       // pattern now holds ** while string is not exhausted // this will generate false positives but we can live with that.  \n",
       "8                                                                                                                                                                                                                                                                                                                                                                                                                                                                                                    // FIXME: Is \"No Namespace is Empty Namespace\" really OK?  \n",
       "9                                                                                                                                                                                                                                                                                                                                                        // FIXME this is actually not very cpu cycles friendly as we are converting from // dos to java while the underlying Sun implementation will convert // from java to dos time for internal storage...  "
      ]
     },
     "execution_count": 4,
     "metadata": {},
     "output_type": "execute_result"
    }
   ],
   "source": [
    "metadata = pd.concat(dataframes)\n",
    "metadata.head(10)"
   ]
  },
  {
   "cell_type": "markdown",
   "id": "foster-conference",
   "metadata": {},
   "source": [
    "## Form Labels for SATD"
   ]
  },
  {
   "cell_type": "code",
   "execution_count": 5,
   "id": "selective-oxford",
   "metadata": {},
   "outputs": [
    {
     "data": {
      "text/html": [
       "<div>\n",
       "<style scoped>\n",
       "    .dataframe tbody tr th:only-of-type {\n",
       "        vertical-align: middle;\n",
       "    }\n",
       "\n",
       "    .dataframe tbody tr th {\n",
       "        vertical-align: top;\n",
       "    }\n",
       "\n",
       "    .dataframe thead th {\n",
       "        text-align: right;\n",
       "    }\n",
       "</style>\n",
       "<table border=\"1\" class=\"dataframe\">\n",
       "  <thead>\n",
       "    <tr style=\"text-align: right;\">\n",
       "      <th></th>\n",
       "      <th>projectname</th>\n",
       "      <th>classification</th>\n",
       "      <th>commenttext</th>\n",
       "      <th>label</th>\n",
       "    </tr>\n",
       "  </thead>\n",
       "  <tbody>\n",
       "    <tr>\n",
       "      <th>0</th>\n",
       "      <td>apache-ant-1.7.0</td>\n",
       "      <td>DEFECT</td>\n",
       "      <td>// FIXME formatters are not thread-safe</td>\n",
       "      <td>1</td>\n",
       "    </tr>\n",
       "    <tr>\n",
       "      <th>1</th>\n",
       "      <td>apache-ant-1.7.0</td>\n",
       "      <td>DEFECT</td>\n",
       "      <td>// XXX: (Jon Skeet) The comment \"if it hasn't been done already\" may // not be strictly true. wrapper.maybeConfigure() won't configure the same // attributes/text more than once, but it may well add the children again, // unless I've missed something.</td>\n",
       "      <td>1</td>\n",
       "    </tr>\n",
       "    <tr>\n",
       "      <th>2</th>\n",
       "      <td>apache-ant-1.7.0</td>\n",
       "      <td>DEFECT</td>\n",
       "      <td>// I hate to admit it, but we don't know what happened // here.  Throw the Exception.</td>\n",
       "      <td>1</td>\n",
       "    </tr>\n",
       "    <tr>\n",
       "      <th>3</th>\n",
       "      <td>apache-ant-1.7.0</td>\n",
       "      <td>DEFECT</td>\n",
       "      <td>// Just a note: StarTeam has a status for NEW which implies // that there is an item  on your local machine that is not // in the repository.  These are the items that show up as // NOT IN VIEW in the Starteam GUI. // One would think that we would want to perhaps checkin the // NEW items (not in all cases! - Steve Cohen 15 Dec 2001) // Unfortunately, the sdk doesn't really work, and we can't // actually see  anything with a status of NEW. That is why // we can just check out  everything here without worrying // about losing anything.</td>\n",
       "      <td>1</td>\n",
       "    </tr>\n",
       "    <tr>\n",
       "      <th>4</th>\n",
       "      <td>apache-ant-1.7.0</td>\n",
       "      <td>DEFECT</td>\n",
       "      <td>// the generated classes must not be added in the generic JAR! // is that buggy on old JOnAS (2.4) ??</td>\n",
       "      <td>1</td>\n",
       "    </tr>\n",
       "  </tbody>\n",
       "</table>\n",
       "</div>"
      ],
      "text/plain": [
       "        projectname classification  \\\n",
       "0  apache-ant-1.7.0         DEFECT   \n",
       "1  apache-ant-1.7.0         DEFECT   \n",
       "2  apache-ant-1.7.0         DEFECT   \n",
       "3  apache-ant-1.7.0         DEFECT   \n",
       "4  apache-ant-1.7.0         DEFECT   \n",
       "\n",
       "                                                                                                                                                                                                                                                                                                                                                                                                                                                                                                                                                   commenttext  \\\n",
       "0                                                                                                                                                                                                                                                                                                                                                                                                                                                                                                                      // FIXME formatters are not thread-safe   \n",
       "1                                                                                                                                                                                                                                                                                                  // XXX: (Jon Skeet) The comment \"if it hasn't been done already\" may // not be strictly true. wrapper.maybeConfigure() won't configure the same // attributes/text more than once, but it may well add the children again, // unless I've missed something.   \n",
       "2                                                                                                                                                                                                                                                                                                                                                                                                                                                                        // I hate to admit it, but we don't know what happened // here.  Throw the Exception.   \n",
       "3  // Just a note: StarTeam has a status for NEW which implies // that there is an item  on your local machine that is not // in the repository.  These are the items that show up as // NOT IN VIEW in the Starteam GUI. // One would think that we would want to perhaps checkin the // NEW items (not in all cases! - Steve Cohen 15 Dec 2001) // Unfortunately, the sdk doesn't really work, and we can't // actually see  anything with a status of NEW. That is why // we can just check out  everything here without worrying // about losing anything.   \n",
       "4                                                                                                                                                                                                                                                                                                                                                                                                                                                        // the generated classes must not be added in the generic JAR! // is that buggy on old JOnAS (2.4) ??   \n",
       "\n",
       "   label  \n",
       "0      1  \n",
       "1      1  \n",
       "2      1  \n",
       "3      1  \n",
       "4      1  "
      ]
     },
     "execution_count": 5,
     "metadata": {},
     "output_type": "execute_result"
    }
   ],
   "source": [
    "# Is important that text labels are converted into numeric for NN\n",
    "metadata['label'] = np.where(metadata.classification == 'WITHOUT_CLASSIFICATION', 0, 1)\n",
    "metadata.head()"
   ]
  },
  {
   "cell_type": "code",
   "execution_count": 6,
   "id": "cubic-insurance",
   "metadata": {},
   "outputs": [
    {
     "data": {
      "text/plain": [
       "0    58204\n",
       "1     4071\n",
       "Name: label, dtype: int64"
      ]
     },
     "execution_count": 6,
     "metadata": {},
     "output_type": "execute_result"
    }
   ],
   "source": [
    "metadata['label'].value_counts()"
   ]
  },
  {
   "cell_type": "markdown",
   "id": "comprehensive-solomon",
   "metadata": {},
   "source": [
    " # Test only on apache ant "
   ]
  },
  {
   "cell_type": "code",
   "execution_count": 7,
   "id": "special-connecticut",
   "metadata": {},
   "outputs": [
    {
     "data": {
      "text/plain": [
       "projectname       0\n",
       "classification    0\n",
       "commenttext       0\n",
       "label             0\n",
       "dtype: int64"
      ]
     },
     "execution_count": 7,
     "metadata": {},
     "output_type": "execute_result"
    }
   ],
   "source": [
    "apache_ant_df = metadata[metadata.projectname == 'apache-ant-1.7.0']\n",
    "apache_ant_df.isnull().sum()"
   ]
  },
  {
   "cell_type": "markdown",
   "id": "cultural-asset",
   "metadata": {},
   "source": [
    "## 1] Preprocessing:\n",
    "\n",
    "#### 1. Remove tags, punctuations, stop words, special characters and return X_clean and y as np arrays\n",
    "#### 2. Split data in train and test. Remember Xclean and y should reflect metadata used for training "
   ]
  },
  {
   "cell_type": "code",
   "execution_count": 8,
   "id": "smaller-celebrity",
   "metadata": {},
   "outputs": [],
   "source": [
    "def remove_tags(text):\n",
    "    TAG_RE = re.compile(r'<[^>]+>')\n",
    "\n",
    "    return TAG_RE.sub('', text)\n",
    "    \n",
    "def preprocess_text(sen):\n",
    "    # Removing html tags\n",
    "    sentence = remove_tags(sen)\n",
    "    \n",
    "    # Remove punctuations and numbers\n",
    "    sentence = re.sub('[^a-zA-Z]', ' ', sentence)\n",
    "    \n",
    "    # Single character removal\n",
    "    sentence = re.sub(r\"\\s+[a-zA-Z]\\s+\", ' ', sentence)\n",
    "    \n",
    "    # Removing multiple spaces\n",
    "    sentence = re.sub(r'\\s+', ' ', sentence)\n",
    "    \n",
    "    pattern = re.compile(r'\\b(' + r'|'.join(stopwords.words('english')) + r')\\b\\s*')\n",
    "    sentence = pattern.sub('', sentence)\n",
    "    #print(sentence)\n",
    "    return sentence\n",
    "\n",
    "def prepare_data(apache_ant_df):\n",
    "    X_clean = []\n",
    "    sentences = list(apache_ant_df['commenttext'])\n",
    "\n",
    "    for sen in sentences:\n",
    "        X_clean.append(preprocess_text(sen))\n",
    "\n",
    "    print(X_clean[:3], \"\\n\\n*************************\")\n",
    "    X_clean = np.array(X_clean)\n",
    "    y = np.array(apache_ant_df.label)\n",
    "\n",
    "    print(\"Cleaned corpus shape:\", X_clean.shape, y.shape)\n",
    "    return X_clean, y\n",
    "\n",
    "def split_data(df):\n",
    "    X_clean, y = prepare_data(df)\n",
    "    X_train, X_val, y_train, y_val = train_test_split(X_clean, y, test_size=0.20, random_state=42)\n",
    "    print(\"Train set:\",X_train.shape, y_train.shape)\n",
    "    print(\"Validation set:\", X_val.shape, X_val.shape)\n",
    "    return X_train, X_val, y_train, y_val\n"
   ]
  },
  {
   "cell_type": "code",
   "execution_count": 9,
   "id": "dominant-tsunami",
   "metadata": {},
   "outputs": [
    {
     "name": "stdout",
     "output_type": "stream",
     "text": [
      "[' FIXME formatters thread safe', ' XXX Jon Skeet The comment done already may strictly true wrapper maybeConfigure configure attributes text may well add children unless missed something ', ' hate admit know happened Throw Exception '] \n",
      "\n",
      "*************************\n",
      "Cleaned corpus shape: (4098,) (4098,)\n",
      "Train set: (3278,) (3278,)\n",
      "Validation set: (820,) (820,)\n"
     ]
    }
   ],
   "source": [
    "X_train, X_val, y_train, y_val = split_data(apache_ant_df)"
   ]
  },
  {
   "cell_type": "code",
   "execution_count": 10,
   "id": "afraid-prefix",
   "metadata": {},
   "outputs": [
    {
     "data": {
      "text/plain": [
       "array([' developer knows ', ' File different see object interface',\n",
       "       ' promised eliminate consecutive slashes drive letter ', ...,\n",
       "       ' dont progress unless asked', ' Build command',\n",
       "       ' error empty set'], dtype='<U838')"
      ]
     },
     "execution_count": 10,
     "metadata": {},
     "output_type": "execute_result"
    }
   ],
   "source": [
    "(X_train)"
   ]
  },
  {
   "cell_type": "markdown",
   "id": "streaming-witch",
   "metadata": {},
   "source": [
    "## 2] Tokenize the splitted data and convert them intp sequences and add post padding.\n",
    "- Final output stored as X_train_padded, X-val_padded and y_train and y_val"
   ]
  },
  {
   "cell_type": "code",
   "execution_count": 23,
   "id": "vertical-dietary",
   "metadata": {},
   "outputs": [],
   "source": [
    "def prepare_data(X_train, X_val, y_train, y_val):\n",
    "    \n",
    "    #Step 2: Use keras to tokenize words and find word.index'length for getting number of unique words i.e vocab size\n",
    "\n",
    "    tokenizer = Tokenizer(filters='!\"#$%&()*+,-./:;<=>?@[\\\\]^_`{|}~\\t\\n\\'',\n",
    "                          lower=True)\n",
    "\n",
    "    tokenizer.fit_on_texts(X_train)\n",
    "\n",
    "    word_index = tokenizer.word_index\n",
    "    vocab_size = len(tokenizer.word_index) + 1\n",
    "    print('VOCAB SIZE: Found %s unique tokens.' % len(word_index))\n",
    "\n",
    "    # Step 3: Embed the sentences into numbers using text to sequences\n",
    "\n",
    "    sequences_train = tokenizer.texts_to_sequences(X_train)\n",
    "    sequences_valid = tokenizer.texts_to_sequences(X_val)\n",
    "\n",
    "    # Step 4: next step is to find the number of words in the longest sentence and then to apply \n",
    "    #padding to the sentences having shorter lengths than the length of the longest sentence\n",
    "\n",
    "    from nltk.tokenize import word_tokenize\n",
    "    word_count = lambda sentence: len(word_tokenize(sentence))\n",
    "    longest_sentence = max(X_train, key=word_count)\n",
    "    length_long_sentence = len(word_tokenize(longest_sentence))\n",
    "    print(\"Longest sentence length: \",  length_long_sentence)\n",
    "    \n",
    "    print(\"**********************\")\n",
    "    \n",
    "    #Step 5: Pad zeros at the end using the length of the longest word \n",
    "    X_train_padded = pad_sequences(sequences_train,length_long_sentence, padding='post')\n",
    "    X_val_padded = pad_sequences(sequences_valid,padding='post', maxlen = length_long_sentence)\n",
    "\n",
    "\n",
    "    print('Shape of X train and X validation tensor:', X_train_padded.shape,X_val_padded.shape)\n",
    "    print('Shape of label train and validation tensor:', y_train.shape,y_val.shape)\n",
    "    \n",
    "    return X_train_padded, X_val_padded, y_train, y_val, vocab_size, word_index, length_long_sentence\n"
   ]
  },
  {
   "cell_type": "code",
   "execution_count": 24,
   "id": "subject-worcester",
   "metadata": {},
   "outputs": [
    {
     "name": "stdout",
     "output_type": "stream",
     "text": [
      "VOCAB SIZE: Found 3035 unique tokens.\n",
      "Longest sentence length:  120\n",
      "**********************\n",
      "Shape of X train and X validation tensor: (3278, 120) (820, 120)\n",
      "Shape of label train and validation tensor: (3278,) (820,)\n"
     ]
    }
   ],
   "source": [
    "X_train_padded, X_val_padded, y_train, y_val, vocab_size, word_index, length_long_sentence= prepare_data(X_train, X_val, y_train, y_val)"
   ]
  },
  {
   "cell_type": "code",
   "execution_count": 25,
   "id": "yellow-arthritis",
   "metadata": {},
   "outputs": [
    {
     "name": "stdout",
     "output_type": "stream",
     "text": [
      "[[1205  943    0 ...    0    0    0]\n",
      " [   1  108   74 ...    0    0    0]\n",
      " [ 944  674  572 ...    0    0    0]\n",
      " ...\n",
      " [1178  742  312 ...    0    0    0]\n",
      " [  20   23    0 ...    0    0    0]\n",
      " [  37   70    4 ...    0    0    0]]\n"
     ]
    }
   ],
   "source": [
    "print(X_train_padded)"
   ]
  },
  {
   "cell_type": "code",
   "execution_count": 14,
   "id": "wrong-pathology",
   "metadata": {},
   "outputs": [],
   "source": [
    "def build_embedding_matrix_word2vec(vocab_size, word_index):\n",
    "    import gensim\n",
    "    from gensim.models import Word2Vec\n",
    "    from gensim.utils import simple_preprocess\n",
    "\n",
    "    from gensim.models.keyedvectors import KeyedVectors\n",
    "    path_to_word2vec = 'E:/RIT/GA-TECHNICAL DEBTS/rudimentary-stages/cnn-word2vec/GoogleNews-vectors-negative300.bin'\n",
    "    word_vectors = KeyedVectors.load_word2vec_format(path_to_word2vec, binary=True)\n",
    "    \n",
    "    \n",
    "    EMBEDDING_DIM= 300\n",
    "    vocab_size = vocab_size\n",
    "    \n",
    "    #Size of embed matrix must be = vocab sizeV * dimension of embeding\n",
    "    #Step 6: Generate an embedding matrix to get embeddings representaion of words in our corpus\n",
    "    #Our embedding_matrix now contains pretrained word embeddings for the words in our corpus.\n",
    "    embedding_matrix = np.zeros((vocab_size, EMBEDDING_DIM))\n",
    "\n",
    "    for word, i in word_index.items():\n",
    "        if i>=vocab_size:\n",
    "            continue\n",
    "        try:\n",
    "            embedding_vector = word_vectors[word]\n",
    "            embedding_matrix[i] = embedding_vector\n",
    "        except KeyError:\n",
    "            embedding_matrix[i]=np.random.normal(0,np.sqrt(0.25),EMBEDDING_DIM)\n",
    "    \n",
    "    return embedding_matrix\n"
   ]
  },
  {
   "cell_type": "code",
   "execution_count": 15,
   "id": "fancy-transcript",
   "metadata": {},
   "outputs": [],
   "source": [
    "embedding_matrix =  build_embedding_matrix_word2vec(vocab_size, word_index)"
   ]
  },
  {
   "cell_type": "code",
   "execution_count": 26,
   "id": "descending-gravity",
   "metadata": {},
   "outputs": [],
   "source": [
    "def sklearn_weighted_loss(y_train):\n",
    "    # Calculate the weights for each class so that we can balance the data\n",
    "    #The minority class will have a higher class weight\n",
    "    from sklearn.utils import class_weight\n",
    "    weights = class_weight.compute_class_weight('balanced',\n",
    "                                                np.unique(y_train),\n",
    "                                                y_train)\n",
    "    print(\"Resultant weight:\", weights)\n",
    "    sklearn_weight = {0: weights[0], 1: weights[1]}\n",
    "    return sklearn_weight\n",
    "\n",
    "def weighted_loss(y_train):\n",
    "    '''Link: https://www.tensorflow.org/tutorials/structured_data/imbalanced_data'''\n",
    "\n",
    "    neg, pos = np.bincount(y_train)\n",
    "    total = neg + pos\n",
    "    # Scaling by total/2 helps keep the loss to a similar magnitude.\n",
    "    # The sum of the weights of all examples stays the same.\n",
    "    weight_for_0 = (1 / neg) * (total / 2.0)\n",
    "    weight_for_1 = (1 / pos) * (total / 2.0)\n",
    "\n",
    "    class_weight = {0: weight_for_0, 1: weight_for_1}\n",
    "\n",
    "    print('Weight for class 0: {:.2f}'.format(weight_for_0))\n",
    "    print('Weight for class 1: {:.2f}'.format(weight_for_1))\n",
    "    return class_weight\n",
    "    "
   ]
  },
  {
   "cell_type": "markdown",
   "id": "informative-clock",
   "metadata": {},
   "source": [
    "## Create Embedding layer on Keras model"
   ]
  },
  {
   "cell_type": "code",
   "execution_count": 27,
   "id": "antique-wesley",
   "metadata": {},
   "outputs": [
    {
     "data": {
      "text/plain": [
       "(3036, 300)"
      ]
     },
     "execution_count": 27,
     "metadata": {},
     "output_type": "execute_result"
    }
   ],
   "source": [
    "embedding_matrix.shape"
   ]
  },
  {
   "cell_type": "code",
   "execution_count": 28,
   "id": "incorporate-strategy",
   "metadata": {},
   "outputs": [],
   "source": [
    "from tensorflow.keras.layers import Embedding"
   ]
  },
  {
   "cell_type": "code",
   "execution_count": 29,
   "id": "million-principal",
   "metadata": {},
   "outputs": [],
   "source": [
    "from tensorflow.keras.layers import Dense, Input, GlobalMaxPooling1D\n",
    "from tensorflow.keras.layers import Conv1D, MaxPooling1D, Embedding, LSTM\n",
    "from tensorflow.keras.models import Model, Sequential\n",
    "from tensorflow.keras.layers import Input, Dense, Embedding, Conv2D, MaxPooling2D, Dropout,concatenate\n",
    "from tensorflow.keras.layers import Reshape, Flatten\n",
    "from tensorflow.keras.callbacks import EarlyStopping\n",
    "from tensorflow.keras.optimizers import Adam\n",
    "from tensorflow.keras.models import Model\n",
    "from tensorflow.keras import regularizers"
   ]
  },
  {
   "cell_type": "code",
   "execution_count": 30,
   "id": "documentary-gnome",
   "metadata": {},
   "outputs": [],
   "source": [
    "EMBEDDING_DIM = 300\n",
    "model = Sequential()\n",
    "embedding_layer = Embedding(vocab_size, EMBEDDING_DIM, weights=[embedding_matrix], input_length=length_long_sentence, trainable=False)\n",
    "model.add(embedding_layer)\n",
    "model.add(Flatten())\n",
    "model.add(Dense(1, activation='sigmoid'))"
   ]
  },
  {
   "cell_type": "code",
   "execution_count": 31,
   "id": "worldwide-performer",
   "metadata": {},
   "outputs": [
    {
     "name": "stdout",
     "output_type": "stream",
     "text": [
      "Model: \"sequential_2\"\n",
      "_________________________________________________________________\n",
      "Layer (type)                 Output Shape              Param #   \n",
      "=================================================================\n",
      "embedding (Embedding)        (None, 120, 300)          910800    \n",
      "_________________________________________________________________\n",
      "flatten (Flatten)            (None, 36000)             0         \n",
      "_________________________________________________________________\n",
      "dense (Dense)                (None, 1)                 36001     \n",
      "=================================================================\n",
      "Total params: 946,801\n",
      "Trainable params: 36,001\n",
      "Non-trainable params: 910,800\n",
      "_________________________________________________________________\n"
     ]
    }
   ],
   "source": [
    "model.compile(optimizer='adam', loss='binary_crossentropy', metrics=['acc'])\n",
    "model.summary()\n",
    "# Since my vocab size is 3302 and dimen is 300, Param = 3302*300\n",
    "# O/P of embedding layer will be 2d matrix with 3302 rows(1 for each word) and 300 cols\n",
    "# This O/P of embed layer must be flattenned to be used as dense layer for making predictions"
   ]
  },
  {
   "cell_type": "code",
   "execution_count": 32,
   "id": "proof-specialist",
   "metadata": {},
   "outputs": [
    {
     "name": "stdout",
     "output_type": "stream",
     "text": [
      "Weight for class 0: 0.52\n",
      "Weight for class 1: 16.72\n",
      "Resultant weight: [ 0.51540881 16.7244898 ]\n"
     ]
    },
    {
     "name": "stderr",
     "output_type": "stream",
     "text": [
      "C:\\Users\\ketak\\anaconda3\\envs\\tensorflow\\lib\\site-packages\\sklearn\\utils\\validation.py:70: FutureWarning: Pass classes=[0 1], y=[1 0 0 ... 0 0 0] as keyword args. From version 1.0 (renaming of 0.25) passing these as positional arguments will result in an error\n",
      "  warnings.warn(f\"Pass {args_msg} as keyword args. From version \"\n"
     ]
    }
   ],
   "source": [
    "custom_class_weights = weighted_loss(y_train)\n",
    "custom_class_weights\n",
    "#or use \n",
    "sklearn_weights= sklearn_weighted_loss(y_train)"
   ]
  },
  {
   "cell_type": "code",
   "execution_count": 33,
   "id": "indirect-southeast",
   "metadata": {},
   "outputs": [
    {
     "name": "stdout",
     "output_type": "stream",
     "text": [
      "Epoch 1/10\n",
      "82/82 [==============================] - 0s 5ms/step - loss: 0.6177 - acc: 0.4336 - val_loss: 0.7033 - val_acc: 0.5381\n",
      "Epoch 2/10\n",
      "82/82 [==============================] - 0s 2ms/step - loss: 0.4505 - acc: 0.7216 - val_loss: 0.5478 - val_acc: 0.8323\n",
      "Epoch 3/10\n",
      "82/82 [==============================] - 0s 2ms/step - loss: 0.3716 - acc: 0.8982 - val_loss: 0.4657 - val_acc: 0.8780\n",
      "Epoch 4/10\n",
      "82/82 [==============================] - 0s 2ms/step - loss: 0.3130 - acc: 0.9283 - val_loss: 0.3972 - val_acc: 0.9131\n",
      "Epoch 5/10\n",
      "82/82 [==============================] - 0s 2ms/step - loss: 0.2725 - acc: 0.9573 - val_loss: 0.3622 - val_acc: 0.9146\n",
      "Epoch 6/10\n",
      "82/82 [==============================] - 0s 2ms/step - loss: 0.2393 - acc: 0.9641 - val_loss: 0.3293 - val_acc: 0.9238\n",
      "Epoch 7/10\n",
      "82/82 [==============================] - 0s 2ms/step - loss: 0.2144 - acc: 0.9718 - val_loss: 0.3013 - val_acc: 0.9299\n",
      "Epoch 8/10\n",
      "82/82 [==============================] - 0s 3ms/step - loss: 0.1934 - acc: 0.9756 - val_loss: 0.2838 - val_acc: 0.9284\n",
      "Epoch 9/10\n",
      "82/82 [==============================] - 0s 3ms/step - loss: 0.1761 - acc: 0.9756 - val_loss: 0.2664 - val_acc: 0.9329\n",
      "Epoch 10/10\n",
      "82/82 [==============================] - 0s 2ms/step - loss: 0.1615 - acc: 0.9775 - val_loss: 0.2560 - val_acc: 0.9360\n"
     ]
    }
   ],
   "source": [
    "history = model.fit(X_train_padded, y_train, batch_size=32, epochs=10, validation_split=0.2, class_weight=custom_class_weights)"
   ]
  },
  {
   "cell_type": "code",
   "execution_count": 36,
   "id": "based-passing",
   "metadata": {},
   "outputs": [
    {
     "name": "stdout",
     "output_type": "stream",
     "text": [
      "Test Loss: 0.23014990985393524\n",
      "Test Accuracy: 0.962195098400116\n"
     ]
    }
   ],
   "source": [
    "score  = model.evaluate(X_val_padded, y_val, verbose=0)\n",
    "print(\"Test Loss:\", score[0])\n",
    "print(\"Test Accuracy:\", score[1])"
   ]
  },
  {
   "cell_type": "code",
   "execution_count": 39,
   "id": "republican-peace",
   "metadata": {},
   "outputs": [
    {
     "data": {
      "image/png": "[encoded data removed]",
      "text/plain": [
       "<Figure size 432x288 with 1 Axes>"
      ]
     },
     "metadata": {
      "needs_background": "light"
     },
     "output_type": "display_data"
    },
    {
     "data": {
      "image/png": "[encoded data removed]",
      "text/plain": [
       "<Figure size 432x288 with 1 Axes>"
      ]
     },
     "metadata": {
      "needs_background": "light"
     },
     "output_type": "display_data"
    }
   ],
   "source": [
    "plt.plot(history.history['acc'])\n",
    "plt.plot(history.history['val_acc'])\n",
    "\n",
    "plt.title('model accuracy')\n",
    "plt.ylabel('accuracy')\n",
    "plt.xlabel('epoch')\n",
    "plt.legend(['train','test'], loc='upper left')\n",
    "plt.ylim([0,1.01])\n",
    "plt.show()\n",
    "\n",
    "plt.plot(history.history['loss'])\n",
    "plt.plot(history.history['val_loss'])\n",
    "\n",
    "plt.title('model loss')\n",
    "plt.ylabel('loss')\n",
    "plt.xlabel('epoch')\n",
    "plt.legend(['train','test'], loc='upper left')\n",
    "plt.show()"
   ]
  },
  {
   "cell_type": "markdown",
   "id": "useful-artist",
   "metadata": {},
   "source": [
    "# Try simplest CNN:"
   ]
  },
  {
   "cell_type": "code",
   "execution_count": 55,
   "id": "absent-toronto",
   "metadata": {},
   "outputs": [
    {
     "data": {
      "text/plain": [
       "\"emb_model = Sequential()\\nemb_model.add(embedding_layer)\\nemb_model.add(Conv1D(32,1,activation='relu'))\\nemb_model.add(GlobalMaxPooling1D())\\nemb_model.add(Conv1D(32,1,activation='relu'))\\nemb_model.add(GlobalMaxPooling1D())\\nemb_model.add(Flatten())\\nemb_model.add(Dense(10, activation='relu'))\\nemb_model.add(Dense(1, activation='softmax'))\""
      ]
     },
     "execution_count": 55,
     "metadata": {},
     "output_type": "execute_result"
    }
   ],
   "source": [
    "'''emb_model = Sequential()\n",
    "emb_model.add(embedding_layer)\n",
    "emb_model.add(Conv1D(32,1,activation='relu'))\n",
    "emb_model.add(GlobalMaxPooling1D())\n",
    "emb_model.add(Conv1D(32,1,activation='relu'))\n",
    "emb_model.add(GlobalMaxPooling1D())\n",
    "emb_model.add(Flatten())\n",
    "emb_model.add(Dense(10, activation='relu'))\n",
    "emb_model.add(Dense(1, activation='softmax'))'''\n"
   ]
  },
  {
   "cell_type": "code",
   "execution_count": 176,
   "id": "equipped-april",
   "metadata": {},
   "outputs": [
    {
     "name": "stdout",
     "output_type": "stream",
     "text": [
      "Model: \"sequential_16\"\n",
      "_________________________________________________________________\n",
      "Layer (type)                 Output Shape              Param #   \n",
      "=================================================================\n",
      "embedding_4 (Embedding)      (None, 120, 300)          910800    \n",
      "_________________________________________________________________\n",
      "conv1d_18 (Conv1D)           (None, 117, 128)          153728    \n",
      "_________________________________________________________________\n",
      "max_pooling1d_11 (MaxPooling (None, 58, 128)           0         \n",
      "_________________________________________________________________\n",
      "conv1d_19 (Conv1D)           (None, 55, 32)            16416     \n",
      "_________________________________________________________________\n",
      "global_max_pooling1d_7 (Glob (None, 32)                0         \n",
      "_________________________________________________________________\n",
      "flatten_13 (Flatten)         (None, 32)                0         \n",
      "_________________________________________________________________\n",
      "dense_16 (Dense)             (None, 10)                330       \n",
      "_________________________________________________________________\n",
      "dense_17 (Dense)             (None, 1)                 11        \n",
      "=================================================================\n",
      "Total params: 1,081,285\n",
      "Trainable params: 170,485\n",
      "Non-trainable params: 910,800\n",
      "_________________________________________________________________\n"
     ]
    }
   ],
   "source": [
    "emb_model.compile(optimizer='adam', loss='binary_crossentropy', metrics=['acc'])\n",
    "emb_model.summary()"
   ]
  },
  {
   "cell_type": "code",
   "execution_count": 177,
   "id": "confused-hayes",
   "metadata": {},
   "outputs": [
    {
     "name": "stdout",
     "output_type": "stream",
     "text": [
      "Epoch 1/50\n",
      "82/82 [==============================] - 1s 16ms/step - loss: 7.6198 - acc: 0.0305 - val_loss: 14.8308 - val_acc: 0.0274\n",
      "Epoch 2/50\n",
      "82/82 [==============================] - 1s 14ms/step - loss: 7.6198 - acc: 0.0305 - val_loss: 14.8308 - val_acc: 0.0274\n",
      "Epoch 3/50\n",
      "82/82 [==============================] - 1s 14ms/step - loss: 7.6198 - acc: 0.0305 - val_loss: 14.8308 - val_acc: 0.0274\n",
      "Epoch 4/50\n",
      "82/82 [==============================] - 1s 15ms/step - loss: 7.6198 - acc: 0.0305 - val_loss: 14.8308 - val_acc: 0.0274\n",
      "Epoch 5/50\n",
      "82/82 [==============================] - 1s 15ms/step - loss: 7.6198 - acc: 0.0305 - val_loss: 14.8308 - val_acc: 0.0274\n",
      "Epoch 6/50\n",
      "82/82 [==============================] - 1s 16ms/step - loss: 7.6198 - acc: 0.0305 - val_loss: 14.8308 - val_acc: 0.0274\n",
      "Epoch 7/50\n",
      "82/82 [==============================] - 1s 16ms/step - loss: 7.6198 - acc: 0.0305 - val_loss: 14.8308 - val_acc: 0.0274\n",
      "Epoch 8/50\n",
      "82/82 [==============================] - 1s 18ms/step - loss: 7.6198 - acc: 0.0305 - val_loss: 14.8308 - val_acc: 0.0274\n",
      "Epoch 9/50\n",
      "82/82 [==============================] - 1s 16ms/step - loss: 7.6198 - acc: 0.0305 - val_loss: 14.8308 - val_acc: 0.0274\n",
      "Epoch 10/50\n",
      "82/82 [==============================] - 1s 14ms/step - loss: 7.6198 - acc: 0.0305 - val_loss: 14.8308 - val_acc: 0.0274\n",
      "Epoch 11/50\n",
      "82/82 [==============================] - 1s 15ms/step - loss: 7.6198 - acc: 0.0305 - val_loss: 14.8308 - val_acc: 0.0274\n",
      "Epoch 12/50\n",
      "82/82 [==============================] - 1s 16ms/step - loss: 7.6198 - acc: 0.0305 - val_loss: 14.8308 - val_acc: 0.0274\n",
      "Epoch 13/50\n",
      "82/82 [==============================] - 1s 15ms/step - loss: 7.6198 - acc: 0.0305 - val_loss: 14.8308 - val_acc: 0.0274\n",
      "Epoch 14/50\n",
      "82/82 [==============================] - 1s 16ms/step - loss: 7.6198 - acc: 0.0305 - val_loss: 14.8308 - val_acc: 0.0274\n",
      "Epoch 15/50\n",
      "82/82 [==============================] - 1s 16ms/step - loss: 7.6198 - acc: 0.0305 - val_loss: 14.8308 - val_acc: 0.0274\n",
      "Epoch 16/50\n",
      "82/82 [==============================] - 1s 16ms/step - loss: 7.6198 - acc: 0.0305 - val_loss: 14.8308 - val_acc: 0.0274\n",
      "Epoch 17/50\n",
      "82/82 [==============================] - 1s 16ms/step - loss: 7.6198 - acc: 0.0305 - val_loss: 14.8308 - val_acc: 0.0274\n",
      "Epoch 18/50\n",
      "82/82 [==============================] - 1s 16ms/step - loss: 7.6198 - acc: 0.0305 - val_loss: 14.8308 - val_acc: 0.0274\n",
      "Epoch 19/50\n",
      "82/82 [==============================] - 1s 18ms/step - loss: 7.6198 - acc: 0.0305 - val_loss: 14.8308 - val_acc: 0.0274\n",
      "Epoch 20/50\n",
      "82/82 [==============================] - 1s 18ms/step - loss: 7.6198 - acc: 0.0305 - val_loss: 14.8308 - val_acc: 0.0274\n",
      "Epoch 21/50\n",
      "82/82 [==============================] - 1s 17ms/step - loss: 7.6198 - acc: 0.0305 - val_loss: 14.8308 - val_acc: 0.0274\n",
      "Epoch 22/50\n",
      "82/82 [==============================] - 1s 16ms/step - loss: 7.6198 - acc: 0.0305 - val_loss: 14.8308 - val_acc: 0.0274\n",
      "Epoch 23/50\n",
      "82/82 [==============================] - 1s 18ms/step - loss: 7.6198 - acc: 0.0305 - val_loss: 14.8308 - val_acc: 0.0274\n",
      "Epoch 24/50\n",
      "82/82 [==============================] - 1s 17ms/step - loss: 7.6198 - acc: 0.0305 - val_loss: 14.8308 - val_acc: 0.0274\n",
      "Epoch 25/50\n",
      "82/82 [==============================] - 1s 17ms/step - loss: 7.6198 - acc: 0.0305 - val_loss: 14.8308 - val_acc: 0.0274\n",
      "Epoch 26/50\n",
      "82/82 [==============================] - 1s 16ms/step - loss: 7.6198 - acc: 0.0305 - val_loss: 14.8308 - val_acc: 0.0274\n",
      "Epoch 27/50\n",
      "82/82 [==============================] - 1s 16ms/step - loss: 7.6198 - acc: 0.0305 - val_loss: 14.8308 - val_acc: 0.0274\n",
      "Epoch 28/50\n",
      "82/82 [==============================] - 1s 16ms/step - loss: 7.6198 - acc: 0.0305 - val_loss: 14.8308 - val_acc: 0.0274\n",
      "Epoch 29/50\n",
      "82/82 [==============================] - 1s 15ms/step - loss: 7.6198 - acc: 0.0305 - val_loss: 14.8308 - val_acc: 0.0274\n",
      "Epoch 30/50\n",
      "82/82 [==============================] - 1s 15ms/step - loss: 7.6198 - acc: 0.0305 - val_loss: 14.8308 - val_acc: 0.0274\n",
      "Epoch 31/50\n",
      "82/82 [==============================] - 1s 16ms/step - loss: 7.6198 - acc: 0.0305 - val_loss: 14.8308 - val_acc: 0.0274\n",
      "Epoch 32/50\n",
      "82/82 [==============================] - 1s 18ms/step - loss: 7.6198 - acc: 0.0305 - val_loss: 14.8308 - val_acc: 0.0274\n",
      "Epoch 33/50\n",
      "82/82 [==============================] - 1s 17ms/step - loss: 7.6198 - acc: 0.0305 - val_loss: 14.8308 - val_acc: 0.0274\n",
      "Epoch 34/50\n",
      "82/82 [==============================] - 1s 16ms/step - loss: 7.6198 - acc: 0.0305 - val_loss: 14.8308 - val_acc: 0.0274\n",
      "Epoch 35/50\n",
      "82/82 [==============================] - 1s 18ms/step - loss: 7.6198 - acc: 0.0305 - val_loss: 14.8308 - val_acc: 0.0274\n",
      "Epoch 36/50\n",
      "82/82 [==============================] - 1s 16ms/step - loss: 7.6198 - acc: 0.0305 - val_loss: 14.8308 - val_acc: 0.0274\n",
      "Epoch 37/50\n",
      "82/82 [==============================] - 1s 16ms/step - loss: 7.6198 - acc: 0.0305 - val_loss: 14.8308 - val_acc: 0.0274\n",
      "Epoch 38/50\n",
      "82/82 [==============================] - 1s 15ms/step - loss: 7.6198 - acc: 0.0305 - val_loss: 14.8308 - val_acc: 0.0274\n",
      "Epoch 39/50\n",
      "82/82 [==============================] - 1s 16ms/step - loss: 7.6198 - acc: 0.0305 - val_loss: 14.8308 - val_acc: 0.0274\n",
      "Epoch 40/50\n",
      "82/82 [==============================] - 1s 16ms/step - loss: 7.6198 - acc: 0.0305 - val_loss: 14.8308 - val_acc: 0.0274\n",
      "Epoch 41/50\n",
      "82/82 [==============================] - 1s 17ms/step - loss: 7.6198 - acc: 0.0305 - val_loss: 14.8308 - val_acc: 0.0274\n",
      "Epoch 42/50\n",
      "82/82 [==============================] - 1s 17ms/step - loss: 7.6198 - acc: 0.0305 - val_loss: 14.8308 - val_acc: 0.0274\n",
      "Epoch 43/50\n",
      "82/82 [==============================] - 1s 16ms/step - loss: 7.6198 - acc: 0.0305 - val_loss: 14.8308 - val_acc: 0.0274\n",
      "Epoch 44/50\n",
      "82/82 [==============================] - 1s 16ms/step - loss: 7.6198 - acc: 0.0305 - val_loss: 14.8308 - val_acc: 0.0274\n",
      "Epoch 45/50\n",
      "82/82 [==============================] - 1s 16ms/step - loss: 7.6198 - acc: 0.0305 - val_loss: 14.8308 - val_acc: 0.0274\n",
      "Epoch 46/50\n",
      "82/82 [==============================] - 1s 15ms/step - loss: 7.6198 - acc: 0.0305 - val_loss: 14.8308 - val_acc: 0.0274\n",
      "Epoch 47/50\n",
      "82/82 [==============================] - 1s 17ms/step - loss: 7.6198 - acc: 0.0305 - val_loss: 14.8308 - val_acc: 0.0274\n",
      "Epoch 48/50\n",
      "82/82 [==============================] - 1s 17ms/step - loss: 7.6198 - acc: 0.0305 - val_loss: 14.8308 - val_acc: 0.0274\n",
      "Epoch 49/50\n",
      "82/82 [==============================] - 1s 17ms/step - loss: 7.6198 - acc: 0.0305 - val_loss: 14.8308 - val_acc: 0.0274\n",
      "Epoch 50/50\n",
      "82/82 [==============================] - 1s 17ms/step - loss: 7.6198 - acc: 0.0305 - val_loss: 14.8308 - val_acc: 0.0274\n"
     ]
    }
   ],
   "source": [
    "emb_history = emb_model.fit(X_train_padded, y_train, batch_size=32, epochs=50, validation_split=0.2, class_weight=sklearn_weights)"
   ]
  },
  {
   "cell_type": "code",
   "execution_count": 178,
   "id": "elegant-watershed",
   "metadata": {},
   "outputs": [
    {
     "name": "stdout",
     "output_type": "stream",
     "text": [
      "Test Loss: 14.635550498962402\n",
      "Test Accuracy: 0.04024390131235123\n"
     ]
    }
   ],
   "source": [
    "score = emb_model.evaluate(X_val_padded, y_val, verbose=0)\n",
    "print(\"Test Loss:\", score[0])\n",
    "print(\"Test Accuracy:\", score[1])\n"
   ]
  },
  {
   "cell_type": "markdown",
   "id": "careful-efficiency",
   "metadata": {},
   "source": [
    "## Slightly better CNN - try 2D way like the paper"
   ]
  },
  {
   "cell_type": "code",
   "execution_count": 41,
   "id": "entire-argument",
   "metadata": {},
   "outputs": [],
   "source": [
    "filter_sizes = [3,4,5]\n",
    "num_filters = 32\n",
    "drop = 0.5\n",
    "\n",
    "deep_inputs = Input(shape=(length_long_sentence,))\n",
    "embedding = Embedding(vocab_size, 300, weights=[embedding_matrix], input_length=length_long_sentence, trainable=False)(deep_inputs)\n",
    "reshape = Reshape((length_long_sentence,EMBEDDING_DIM,1))(embedding)\n",
    "conv_0 = Conv2D(num_filters, (filter_sizes[0], EMBEDDING_DIM),activation='relu',kernel_regularizer=regularizers.l2(0.01))(reshape)\n",
    "conv_1 = Conv2D(num_filters, (filter_sizes[1], EMBEDDING_DIM),activation='relu',kernel_regularizer=regularizers.l2(0.01))(reshape)\n",
    "conv_2 = Conv2D(num_filters, (filter_sizes[2], EMBEDDING_DIM),activation='relu',kernel_regularizer=regularizers.l2(0.01))(reshape)\n",
    "maxpool_0 = MaxPooling2D((length_long_sentence - filter_sizes[0] + 1, 1), strides=(1,1))(conv_0)\n",
    "maxpool_1 = MaxPooling2D((length_long_sentence - filter_sizes[1] + 1, 1), strides=(1,1))(conv_1)\n",
    "maxpool_2 = MaxPooling2D((length_long_sentence - filter_sizes[2] + 1, 1), strides=(1,1))(conv_2)\n",
    "\n",
    "merged_tensor = concatenate([maxpool_0, maxpool_1, maxpool_2], axis=1)\n",
    "flatten = Flatten()(merged_tensor)\n",
    "reshape = Reshape((3*num_filters,))(flatten)\n",
    "dropout = Dropout(drop)(flatten)\n",
    "output = Dense(units=3, activation='softmax',kernel_regularizer=regularizers.l2(0.01))(dropout)\n",
    "\n",
    "# this creates a model that includes\n",
    "cnn2d_model = Model(deep_inputs, output)"
   ]
  },
  {
   "cell_type": "code",
   "execution_count": 42,
   "id": "mobile-ratio",
   "metadata": {},
   "outputs": [
    {
     "name": "stdout",
     "output_type": "stream",
     "text": [
      "Model: \"model\"\n",
      "__________________________________________________________________________________________________\n",
      "Layer (type)                    Output Shape         Param #     Connected to                     \n",
      "==================================================================================================\n",
      "input_1 (InputLayer)            [(None, 120)]        0                                            \n",
      "__________________________________________________________________________________________________\n",
      "embedding_1 (Embedding)         (None, 120, 300)     910800      input_1[0][0]                    \n",
      "__________________________________________________________________________________________________\n",
      "reshape (Reshape)               (None, 120, 300, 1)  0           embedding_1[0][0]                \n",
      "__________________________________________________________________________________________________\n",
      "conv2d (Conv2D)                 (None, 118, 1, 32)   28832       reshape[0][0]                    \n",
      "__________________________________________________________________________________________________\n",
      "conv2d_1 (Conv2D)               (None, 117, 1, 32)   38432       reshape[0][0]                    \n",
      "__________________________________________________________________________________________________\n",
      "conv2d_2 (Conv2D)               (None, 116, 1, 32)   48032       reshape[0][0]                    \n",
      "__________________________________________________________________________________________________\n",
      "max_pooling2d (MaxPooling2D)    (None, 1, 1, 32)     0           conv2d[0][0]                     \n",
      "__________________________________________________________________________________________________\n",
      "max_pooling2d_1 (MaxPooling2D)  (None, 1, 1, 32)     0           conv2d_1[0][0]                   \n",
      "__________________________________________________________________________________________________\n",
      "max_pooling2d_2 (MaxPooling2D)  (None, 1, 1, 32)     0           conv2d_2[0][0]                   \n",
      "__________________________________________________________________________________________________\n",
      "concatenate (Concatenate)       (None, 3, 1, 32)     0           max_pooling2d[0][0]              \n",
      "                                                                 max_pooling2d_1[0][0]            \n",
      "                                                                 max_pooling2d_2[0][0]            \n",
      "__________________________________________________________________________________________________\n",
      "flatten_1 (Flatten)             (None, 96)           0           concatenate[0][0]                \n",
      "__________________________________________________________________________________________________\n",
      "dropout (Dropout)               (None, 96)           0           flatten_1[0][0]                  \n",
      "__________________________________________________________________________________________________\n",
      "dense_1 (Dense)                 (None, 3)            291         dropout[0][0]                    \n",
      "==================================================================================================\n",
      "Total params: 1,026,387\n",
      "Trainable params: 115,587\n",
      "Non-trainable params: 910,800\n",
      "__________________________________________________________________________________________________\n"
     ]
    }
   ],
   "source": [
    "cnn2d_model.compile(optimizer='adam', loss='binary_crossentropy', metrics=['acc'])\n",
    "callbacks = [EarlyStopping(monitor='val_loss')]\n",
    "cnn2d_model.summary()"
   ]
  },
  {
   "cell_type": "code",
   "execution_count": 48,
   "id": "extensive-drilling",
   "metadata": {},
   "outputs": [
    {
     "name": "stdout",
     "output_type": "stream",
     "text": [
      "Epoch 1/50\n",
      "41/41 [==============================] - 1s 32ms/step - loss: 0.7632 - acc: 0.5297 - val_loss: 0.4245 - val_acc: 0.9726\n",
      "Epoch 2/50\n",
      "41/41 [==============================] - 1s 33ms/step - loss: 0.7632 - acc: 0.7407 - val_loss: 0.4245 - val_acc: 0.9726\n",
      "Epoch 3/50\n",
      "41/41 [==============================] - 1s 33ms/step - loss: 0.7632 - acc: 0.8345 - val_loss: 0.4245 - val_acc: 0.9726\n",
      "Epoch 4/50\n",
      "41/41 [==============================] - 2s 38ms/step - loss: 0.7632 - acc: 0.9695 - val_loss: 0.4245 - val_acc: 0.9726\n"
     ]
    }
   ],
   "source": [
    "cnn2d_history = cnn2d_model.fit(X_train_padded, y_train, batch_size=64, epochs=50, validation_split=0.2, class_weight=sklearn_weights, callbacks=callbacks)"
   ]
  },
  {
   "cell_type": "code",
   "execution_count": 49,
   "id": "objective-cambridge",
   "metadata": {},
   "outputs": [
    {
     "name": "stdout",
     "output_type": "stream",
     "text": [
      "Test Loss: 0.4333600401878357\n",
      "Test Accuracy: 0.959756076335907\n"
     ]
    }
   ],
   "source": [
    "score = cnn2d_model.evaluate(X_val_padded, y_val, verbose=0)\n",
    "print(\"Test Loss:\", score[0])\n",
    "print(\"Test Accuracy:\", score[1])\n"
   ]
  },
  {
   "cell_type": "code",
   "execution_count": 50,
   "id": "upper-wednesday",
   "metadata": {},
   "outputs": [
    {
     "data": {
      "image/png": "[encoded data removed]",
      "text/plain": [
       "<Figure size 432x288 with 1 Axes>"
      ]
     },
     "metadata": {
      "needs_background": "light"
     },
     "output_type": "display_data"
    },
    {
     "data": {
      "image/png": "[encoded data removed]",
      "text/plain": [
       "<Figure size 432x288 with 1 Axes>"
      ]
     },
     "metadata": {
      "needs_background": "light"
     },
     "output_type": "display_data"
    }
   ],
   "source": [
    "plt.plot(history.history['acc'])\n",
    "plt.plot(history.history['val_acc'])\n",
    "\n",
    "plt.title('model accuracy')\n",
    "plt.ylabel('accuracy')\n",
    "plt.xlabel('epoch')\n",
    "plt.legend(['train','test'], loc='upper left')\n",
    "plt.ylim([0,1.01])\n",
    "plt.show()\n",
    "\n",
    "plt.plot(history.history['loss'])\n",
    "plt.plot(history.history['val_loss'])\n",
    "\n",
    "plt.title('model loss')\n",
    "plt.ylabel('loss')\n",
    "plt.xlabel('epoch')\n",
    "plt.legend(['train','test'], loc='upper left')\n",
    "plt.show()"
   ]
  },
  {
   "cell_type": "code",
   "execution_count": 51,
   "id": "biological-nicholas",
   "metadata": {},
   "outputs": [
    {
     "name": "stdout",
     "output_type": "stream",
     "text": [
      "Precision: 0.48\n",
      "Recall: 0.5\n",
      "F1 Score: 0.49\n"
     ]
    },
    {
     "name": "stderr",
     "output_type": "stream",
     "text": [
      "C:\\Users\\ketak\\anaconda3\\envs\\tensorflow\\lib\\site-packages\\sklearn\\metrics\\_classification.py:1245: UndefinedMetricWarning: Precision is ill-defined and being set to 0.0 in labels with no predicted samples. Use `zero_division` parameter to control this behavior.\n",
      "  _warn_prf(average, modifier, msg_start, len(result))\n"
     ]
    }
   ],
   "source": [
    "from sklearn.metrics import f1_score, precision_score, recall_score, confusion_matrix\n",
    "y_pred1 = cnn2d_model.predict(X_val_padded)\n",
    "y_pred = np.argmax(y_pred1, axis=1)\n",
    "\n",
    "# Print f1, precision, and recall scores\n",
    "print(\"Precision:\", round(precision_score(y_val, y_pred , average=\"macro\"),2))\n",
    "print(\"Recall:\", round(recall_score(y_val, y_pred , average=\"macro\"),2))\n",
    "print(\"F1 Score:\", round(f1_score(y_val, y_pred , average=\"macro\"),2))"
   ]
  },
  {
   "cell_type": "code",
   "execution_count": null,
   "id": "rapid-drinking",
   "metadata": {},
   "outputs": [],
   "source": []
  },
  {
   "cell_type": "code",
   "execution_count": null,
   "id": "original-shipping",
   "metadata": {},
   "outputs": [],
   "source": []
  },
  {
   "cell_type": "markdown",
   "id": "capital-gravity",
   "metadata": {},
   "source": [
    "### Notes:\n",
    "- The above way of implementaion is called sequential API, but most advanced deep learning models use functional API\n",
    "- the code below uses Functional API of keras to implement same Fully Connected NN\n",
    "- In the Keras Functional API, you have to define the input layer separately before the embedding layer. In the input, layer you have to simply pass the length of input vector. To specify that previous layer as input to the next layer, the previous layer is passed as a parameter inside the parenthesis, at the end of the next layer."
   ]
  },
  {
   "cell_type": "code",
   "execution_count": 72,
   "id": "final-melissa",
   "metadata": {},
   "outputs": [
    {
     "name": "stdout",
     "output_type": "stream",
     "text": [
      "Model: \"model\"\n",
      "_________________________________________________________________\n",
      "Layer (type)                 Output Shape              Param #   \n",
      "=================================================================\n",
      "input_1 (InputLayer)         [(None, 120)]             0         \n",
      "_________________________________________________________________\n",
      "embedding_3 (Embedding)      (None, 120, 300)          910800    \n",
      "_________________________________________________________________\n",
      "flatten_3 (Flatten)          (None, 36000)             0         \n",
      "_________________________________________________________________\n",
      "dense_3 (Dense)              (None, 1)                 36001     \n",
      "=================================================================\n",
      "Total params: 946,801\n",
      "Trainable params: 36,001\n",
      "Non-trainable params: 910,800\n",
      "_________________________________________________________________\n"
     ]
    }
   ],
   "source": [
    "from tensorflow.keras.models import Model\n",
    "from tensorflow.keras.layers import Input\n",
    "\n",
    "deep_inputs = Input(shape=(length_long_sentence,))\n",
    "embedding = Embedding(vocab_size, 300, weights=[embedding_matrix], input_length=length_long_sentence, trainable=False)(deep_inputs) # line A\n",
    "flatten = Flatten()(embedding)\n",
    "hidden = Dense(1, activation='sigmoid')(flatten)\n",
    "model = Model(inputs=deep_inputs, outputs=hidden)\n",
    "model.compile(optimizer='adam', loss='binary_crossentropy', metrics=['acc'])\n",
    "model.summary()"
   ]
  },
  {
   "cell_type": "code",
   "execution_count": 166,
   "id": "egyptian-george",
   "metadata": {},
   "outputs": [],
   "source": [
    "#In the model summary, you can see the input layer as a separate layer before the embedding layer. \n",
    "#tHe rest of the model remains the same.\n",
    "\n",
    "#Finally, the process to fit and evaluate the model is same as the one used in Sequential API:"
   ]
  },
  {
   "cell_type": "code",
   "execution_count": 74,
   "id": "fewer-thomson",
   "metadata": {},
   "outputs": [
    {
     "name": "stdout",
     "output_type": "stream",
     "text": [
      "Epoch 1/10\n",
      "103/103 [==============================] - 0s 3ms/step - loss: 0.2014 - acc: 0.9674 - val_loss: 0.2057 - val_acc: 0.9573\n",
      "Epoch 2/10\n",
      "103/103 [==============================] - 0s 2ms/step - loss: 0.1560 - acc: 0.9713 - val_loss: 0.1845 - val_acc: 0.9585\n",
      "Epoch 3/10\n",
      "103/103 [==============================] - 0s 2ms/step - loss: 0.1305 - acc: 0.9747 - val_loss: 0.1720 - val_acc: 0.9598\n",
      "Epoch 4/10\n",
      "103/103 [==============================] - 0s 2ms/step - loss: 0.1133 - acc: 0.9774 - val_loss: 0.1634 - val_acc: 0.9610\n",
      "Epoch 5/10\n",
      "103/103 [==============================] - 0s 3ms/step - loss: 0.1005 - acc: 0.9790 - val_loss: 0.1565 - val_acc: 0.9610\n",
      "Epoch 6/10\n",
      "103/103 [==============================] - 0s 2ms/step - loss: 0.0905 - acc: 0.9808 - val_loss: 0.1515 - val_acc: 0.9610\n",
      "Epoch 7/10\n",
      "103/103 [==============================] - 0s 2ms/step - loss: 0.0823 - acc: 0.9814 - val_loss: 0.1476 - val_acc: 0.9610\n",
      "Epoch 8/10\n",
      "103/103 [==============================] - 0s 2ms/step - loss: 0.0752 - acc: 0.9835 - val_loss: 0.1448 - val_acc: 0.9622\n",
      "Epoch 9/10\n",
      "103/103 [==============================] - 0s 3ms/step - loss: 0.0693 - acc: 0.9854 - val_loss: 0.1432 - val_acc: 0.9634\n",
      "Epoch 10/10\n",
      "103/103 [==============================] - 0s 2ms/step - loss: 0.0641 - acc: 0.9866 - val_loss: 0.1404 - val_acc: 0.9646\n"
     ]
    },
    {
     "data": {
      "text/plain": [
       "<tensorflow.python.keras.callbacks.History at 0x24c380b2f70>"
      ]
     },
     "execution_count": 74,
     "metadata": {},
     "output_type": "execute_result"
    }
   ],
   "source": [
    "model.fit(X_train_padded, y_train, epochs=10,validation_data =(X_val_padded, y_val), verbose=1)"
   ]
  },
  {
   "cell_type": "markdown",
   "id": "military-powder",
   "metadata": {},
   "source": [
    "## Simple LSTM"
   ]
  },
  {
   "cell_type": "code",
   "execution_count": 181,
   "id": "swedish-proposition",
   "metadata": {},
   "outputs": [
    {
     "name": "stdout",
     "output_type": "stream",
     "text": [
      "Model: \"sequential_18\"\n",
      "_________________________________________________________________\n",
      "Layer (type)                 Output Shape              Param #   \n",
      "=================================================================\n",
      "embedding_4 (Embedding)      (None, 120, 300)          910800    \n",
      "_________________________________________________________________\n",
      "lstm (LSTM)                  (None, 128)               219648    \n",
      "_________________________________________________________________\n",
      "dense_18 (Dense)             (None, 1)                 129       \n",
      "=================================================================\n",
      "Total params: 1,130,577\n",
      "Trainable params: 219,777\n",
      "Non-trainable params: 910,800\n",
      "_________________________________________________________________\n"
     ]
    }
   ],
   "source": [
    "rnnmodel = Sequential()\n",
    "rnnmodel.add(embedding_layer)\n",
    "rnnmodel.add(LSTM(128))\n",
    "\n",
    "rnnmodel.add(Dense(1, activation='sigmoid'))\n",
    "rnnmodel.compile(optimizer='adam', loss='binary_crossentropy', metrics=['acc'])\n",
    "rnnmodel.summary()"
   ]
  },
  {
   "cell_type": "code",
   "execution_count": 182,
   "id": "documented-spanking",
   "metadata": {},
   "outputs": [
    {
     "name": "stdout",
     "output_type": "stream",
     "text": [
      "Epoch 1/10\n",
      "82/82 [==============================] - 5s 55ms/step - loss: 0.7005 - acc: 0.1945 - val_loss: 0.6935 - val_acc: 0.0259\n",
      "Epoch 2/10\n",
      "82/82 [==============================] - 4s 52ms/step - loss: 0.7003 - acc: 0.3349 - val_loss: 0.6959 - val_acc: 0.0259\n",
      "Epoch 3/10\n",
      "82/82 [==============================] - 5s 56ms/step - loss: 0.7003 - acc: 0.0305 - val_loss: 0.6978 - val_acc: 0.0259\n",
      "Epoch 4/10\n",
      "82/82 [==============================] - 4s 54ms/step - loss: 0.7005 - acc: 0.1533 - val_loss: 0.6955 - val_acc: 0.0259\n",
      "Epoch 5/10\n",
      "82/82 [==============================] - 4s 54ms/step - loss: 0.7003 - acc: 0.0305 - val_loss: 0.6981 - val_acc: 0.0259\n",
      "Epoch 6/10\n",
      "82/82 [==============================] - 4s 55ms/step - loss: 0.7003 - acc: 0.0305 - val_loss: 0.7013 - val_acc: 0.0259\n",
      "Epoch 7/10\n",
      "82/82 [==============================] - 4s 55ms/step - loss: 0.7002 - acc: 0.0305 - val_loss: 0.6968 - val_acc: 0.0259\n",
      "Epoch 8/10\n",
      "82/82 [==============================] - 5s 56ms/step - loss: 0.7003 - acc: 0.0305 - val_loss: 0.6996 - val_acc: 0.0259\n",
      "Epoch 9/10\n",
      "82/82 [==============================] - 5s 56ms/step - loss: 0.7001 - acc: 0.0305 - val_loss: 0.7002 - val_acc: 0.0259\n",
      "Epoch 10/10\n",
      "82/82 [==============================] - 5s 58ms/step - loss: 0.7003 - acc: 0.0305 - val_loss: 0.6990 - val_acc: 0.0259\n"
     ]
    }
   ],
   "source": [
    "rnn_history = rnnmodel.fit(X_train_padded, y_train, batch_size=32, epochs=10, validation_split=0.2, class_weight=sklearn_weights)"
   ]
  },
  {
   "cell_type": "code",
   "execution_count": 183,
   "id": "distant-thing",
   "metadata": {},
   "outputs": [
    {
     "name": "stdout",
     "output_type": "stream",
     "text": [
      "Test Loss: 0.6987847089767456\n",
      "Test Accuracy: 0.04024390131235123\n"
     ]
    }
   ],
   "source": [
    "score = rnnmodel.evaluate(X_val_padded, y_val, verbose=0)\n",
    "print(\"Test Loss:\", score[0])\n",
    "print(\"Test Accuracy:\", score[1])\n"
   ]
  },
  {
   "cell_type": "code",
   "execution_count": null,
   "id": "manual-fiber",
   "metadata": {},
   "outputs": [],
   "source": []
  }
 ],
 "metadata": {
  "kernelspec": {
   "display_name": "Python 3",
   "language": "python",
   "name": "python3"
  },
  "language_info": {
   "codemirror_mode": {
    "name": "ipython",
    "version": 3
   },
   "file_extension": ".py",
   "mimetype": "text/x-python",
   "name": "python",
   "nbconvert_exporter": "python",
   "pygments_lexer": "ipython3",
   "version": "3.8.5"
  }
 },
 "nbformat": 4,
 "nbformat_minor": 5
}
