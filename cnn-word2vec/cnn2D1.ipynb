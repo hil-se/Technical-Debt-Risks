{
 "cells": [
  {
   "cell_type": "code",
   "execution_count": 56,
   "id": "velvet-mexican",
   "metadata": {},
   "outputs": [
    {
     "data": {
      "text/plain": [
       "\"import nltk\\nnltk.download('stopwords')\""
      ]
     },
     "execution_count": 56,
     "metadata": {},
     "output_type": "execute_result"
    }
   ],
   "source": [
    "import tensorflow as tf\n",
    "import pandas as pd\n",
    "import numpy as np\n",
    "import seaborn as sns\n",
    "import matplotlib.pyplot as plt\n",
    "pd.set_option('display.max_colwidth', None)\n",
    "import glob\n",
    "import re\n",
    "from nltk.corpus import stopwords\n",
    "from sklearn.model_selection import train_test_split\n",
    "from tensorflow.keras.preprocessing.text import Tokenizer\n",
    "from tensorflow.keras.preprocessing.sequence import pad_sequences\n",
    "'''import nltk\n",
    "nltk.download('stopwords')'''\n",
    "\n"
   ]
  },
  {
   "cell_type": "code",
   "execution_count": 57,
   "id": "sexual-bangkok",
   "metadata": {},
   "outputs": [
    {
     "data": {
      "application/javascript": [
       "IPython.OutputArea.prototype._should_scroll = function(lines) {\n",
       "    return false;\n",
       "}\n"
      ],
      "text/plain": [
       "<IPython.core.display.Javascript object>"
      ]
     },
     "metadata": {},
     "output_type": "display_data"
    }
   ],
   "source": [
    "%%javascript\n",
    "IPython.OutputArea.prototype._should_scroll = function(lines) {\n",
    "    return false;\n",
    "}"
   ]
  },
  {
   "cell_type": "code",
   "execution_count": 58,
   "id": "chronic-ideal",
   "metadata": {},
   "outputs": [],
   "source": [
    "filenames = list(glob.glob(\"data/*\"))\n",
    "dataframes = [pd.read_csv(file) for file in filenames]"
   ]
  },
  {
   "cell_type": "code",
   "execution_count": 59,
   "id": "floral-orbit",
   "metadata": {},
   "outputs": [
    {
     "data": {
      "text/html": [
       "<div>\n",
       "<style scoped>\n",
       "    .dataframe tbody tr th:only-of-type {\n",
       "        vertical-align: middle;\n",
       "    }\n",
       "\n",
       "    .dataframe tbody tr th {\n",
       "        vertical-align: top;\n",
       "    }\n",
       "\n",
       "    .dataframe thead th {\n",
       "        text-align: right;\n",
       "    }\n",
       "</style>\n",
       "<table border=\"1\" class=\"dataframe\">\n",
       "  <thead>\n",
       "    <tr style=\"text-align: right;\">\n",
       "      <th></th>\n",
       "      <th>projectname</th>\n",
       "      <th>classification</th>\n",
       "      <th>commenttext</th>\n",
       "    </tr>\n",
       "  </thead>\n",
       "  <tbody>\n",
       "    <tr>\n",
       "      <th>0</th>\n",
       "      <td>apache-ant-1.7.0</td>\n",
       "      <td>DEFECT</td>\n",
       "      <td>// FIXME formatters are not thread-safe</td>\n",
       "    </tr>\n",
       "    <tr>\n",
       "      <th>1</th>\n",
       "      <td>apache-ant-1.7.0</td>\n",
       "      <td>DEFECT</td>\n",
       "      <td>// XXX: (Jon Skeet) The comment \"if it hasn't been done already\" may // not be strictly true. wrapper.maybeConfigure() won't configure the same // attributes/text more than once, but it may well add the children again, // unless I've missed something.</td>\n",
       "    </tr>\n",
       "    <tr>\n",
       "      <th>2</th>\n",
       "      <td>apache-ant-1.7.0</td>\n",
       "      <td>DEFECT</td>\n",
       "      <td>// I hate to admit it, but we don't know what happened // here.  Throw the Exception.</td>\n",
       "    </tr>\n",
       "    <tr>\n",
       "      <th>3</th>\n",
       "      <td>apache-ant-1.7.0</td>\n",
       "      <td>DEFECT</td>\n",
       "      <td>// Just a note: StarTeam has a status for NEW which implies // that there is an item  on your local machine that is not // in the repository.  These are the items that show up as // NOT IN VIEW in the Starteam GUI. // One would think that we would want to perhaps checkin the // NEW items (not in all cases! - Steve Cohen 15 Dec 2001) // Unfortunately, the sdk doesn't really work, and we can't // actually see  anything with a status of NEW. That is why // we can just check out  everything here without worrying // about losing anything.</td>\n",
       "    </tr>\n",
       "    <tr>\n",
       "      <th>4</th>\n",
       "      <td>apache-ant-1.7.0</td>\n",
       "      <td>DEFECT</td>\n",
       "      <td>// the generated classes must not be added in the generic JAR! // is that buggy on old JOnAS (2.4) ??</td>\n",
       "    </tr>\n",
       "    <tr>\n",
       "      <th>5</th>\n",
       "      <td>apache-ant-1.7.0</td>\n",
       "      <td>DEFECT</td>\n",
       "      <td>// todo: is this comment still relevant ?? // FIXME: need to use a SAXSource as the source for the transform // so we can plug in our own entity resolver</td>\n",
       "    </tr>\n",
       "    <tr>\n",
       "      <th>6</th>\n",
       "      <td>apache-ant-1.7.0</td>\n",
       "      <td>DEFECT</td>\n",
       "      <td>// This is turned off temporarily. There appears to be a bug // in SelectorUtils.matchPattern() where it is recursive on // Windows even if no ** is in pattern. //assertEquals(\"FFFTFFFFFFFF\", results); // Unix // vs //assertEquals(\"FFFTFFFFTFFF\", results); // Windows</td>\n",
       "    </tr>\n",
       "    <tr>\n",
       "      <th>7</th>\n",
       "      <td>apache-ant-1.7.0</td>\n",
       "      <td>DEFECT</td>\n",
       "      <td>// pattern now holds ** while string is not exhausted // this will generate false positives but we can live with that.</td>\n",
       "    </tr>\n",
       "    <tr>\n",
       "      <th>8</th>\n",
       "      <td>apache-ant-1.7.0</td>\n",
       "      <td>DEFECT</td>\n",
       "      <td>// FIXME: Is \"No Namespace is Empty Namespace\" really OK?</td>\n",
       "    </tr>\n",
       "    <tr>\n",
       "      <th>9</th>\n",
       "      <td>apache-ant-1.7.0</td>\n",
       "      <td>DEFECT</td>\n",
       "      <td>// FIXME this is actually not very cpu cycles friendly as we are converting from // dos to java while the underlying Sun implementation will convert // from java to dos time for internal storage...</td>\n",
       "    </tr>\n",
       "  </tbody>\n",
       "</table>\n",
       "</div>"
      ],
      "text/plain": [
       "        projectname classification  \\\n",
       "0  apache-ant-1.7.0         DEFECT   \n",
       "1  apache-ant-1.7.0         DEFECT   \n",
       "2  apache-ant-1.7.0         DEFECT   \n",
       "3  apache-ant-1.7.0         DEFECT   \n",
       "4  apache-ant-1.7.0         DEFECT   \n",
       "5  apache-ant-1.7.0         DEFECT   \n",
       "6  apache-ant-1.7.0         DEFECT   \n",
       "7  apache-ant-1.7.0         DEFECT   \n",
       "8  apache-ant-1.7.0         DEFECT   \n",
       "9  apache-ant-1.7.0         DEFECT   \n",
       "\n",
       "                                                                                                                                                                                                                                                                                                                                                                                                                                                                                                                                                   commenttext  \n",
       "0                                                                                                                                                                                                                                                                                                                                                                                                                                                                                                                      // FIXME formatters are not thread-safe  \n",
       "1                                                                                                                                                                                                                                                                                                  // XXX: (Jon Skeet) The comment \"if it hasn't been done already\" may // not be strictly true. wrapper.maybeConfigure() won't configure the same // attributes/text more than once, but it may well add the children again, // unless I've missed something.  \n",
       "2                                                                                                                                                                                                                                                                                                                                                                                                                                                                        // I hate to admit it, but we don't know what happened // here.  Throw the Exception.  \n",
       "3  // Just a note: StarTeam has a status for NEW which implies // that there is an item  on your local machine that is not // in the repository.  These are the items that show up as // NOT IN VIEW in the Starteam GUI. // One would think that we would want to perhaps checkin the // NEW items (not in all cases! - Steve Cohen 15 Dec 2001) // Unfortunately, the sdk doesn't really work, and we can't // actually see  anything with a status of NEW. That is why // we can just check out  everything here without worrying // about losing anything.  \n",
       "4                                                                                                                                                                                                                                                                                                                                                                                                                                                        // the generated classes must not be added in the generic JAR! // is that buggy on old JOnAS (2.4) ??  \n",
       "5                                                                                                                                                                                                                                                                                                                                                                                                    // todo: is this comment still relevant ?? // FIXME: need to use a SAXSource as the source for the transform // so we can plug in our own entity resolver  \n",
       "6                                                                                                                                                                                                                                                                                  // This is turned off temporarily. There appears to be a bug // in SelectorUtils.matchPattern() where it is recursive on // Windows even if no ** is in pattern. //assertEquals(\"FFFTFFFFFFFF\", results); // Unix // vs //assertEquals(\"FFFTFFFFTFFF\", results); // Windows  \n",
       "7                                                                                                                                                                                                                                                                                                                                                                                                                                       // pattern now holds ** while string is not exhausted // this will generate false positives but we can live with that.  \n",
       "8                                                                                                                                                                                                                                                                                                                                                                                                                                                                                                    // FIXME: Is \"No Namespace is Empty Namespace\" really OK?  \n",
       "9                                                                                                                                                                                                                                                                                                                                                        // FIXME this is actually not very cpu cycles friendly as we are converting from // dos to java while the underlying Sun implementation will convert // from java to dos time for internal storage...  "
      ]
     },
     "execution_count": 59,
     "metadata": {},
     "output_type": "execute_result"
    }
   ],
   "source": [
    "metadata = pd.concat(dataframes)\n",
    "metadata.head(10)"
   ]
  },
  {
   "cell_type": "code",
   "execution_count": 60,
   "id": "professional-italy",
   "metadata": {},
   "outputs": [
    {
     "data": {
      "text/html": [
       "<div>\n",
       "<style scoped>\n",
       "    .dataframe tbody tr th:only-of-type {\n",
       "        vertical-align: middle;\n",
       "    }\n",
       "\n",
       "    .dataframe tbody tr th {\n",
       "        vertical-align: top;\n",
       "    }\n",
       "\n",
       "    .dataframe thead th {\n",
       "        text-align: right;\n",
       "    }\n",
       "</style>\n",
       "<table border=\"1\" class=\"dataframe\">\n",
       "  <thead>\n",
       "    <tr style=\"text-align: right;\">\n",
       "      <th></th>\n",
       "      <th>projectname</th>\n",
       "      <th>classification</th>\n",
       "      <th>commenttext</th>\n",
       "      <th>label</th>\n",
       "    </tr>\n",
       "  </thead>\n",
       "  <tbody>\n",
       "    <tr>\n",
       "      <th>0</th>\n",
       "      <td>apache-ant-1.7.0</td>\n",
       "      <td>DEFECT</td>\n",
       "      <td>// FIXME formatters are not thread-safe</td>\n",
       "      <td>1</td>\n",
       "    </tr>\n",
       "    <tr>\n",
       "      <th>1</th>\n",
       "      <td>apache-ant-1.7.0</td>\n",
       "      <td>DEFECT</td>\n",
       "      <td>// XXX: (Jon Skeet) The comment \"if it hasn't been done already\" may // not be strictly true. wrapper.maybeConfigure() won't configure the same // attributes/text more than once, but it may well add the children again, // unless I've missed something.</td>\n",
       "      <td>1</td>\n",
       "    </tr>\n",
       "    <tr>\n",
       "      <th>2</th>\n",
       "      <td>apache-ant-1.7.0</td>\n",
       "      <td>DEFECT</td>\n",
       "      <td>// I hate to admit it, but we don't know what happened // here.  Throw the Exception.</td>\n",
       "      <td>1</td>\n",
       "    </tr>\n",
       "    <tr>\n",
       "      <th>3</th>\n",
       "      <td>apache-ant-1.7.0</td>\n",
       "      <td>DEFECT</td>\n",
       "      <td>// Just a note: StarTeam has a status for NEW which implies // that there is an item  on your local machine that is not // in the repository.  These are the items that show up as // NOT IN VIEW in the Starteam GUI. // One would think that we would want to perhaps checkin the // NEW items (not in all cases! - Steve Cohen 15 Dec 2001) // Unfortunately, the sdk doesn't really work, and we can't // actually see  anything with a status of NEW. That is why // we can just check out  everything here without worrying // about losing anything.</td>\n",
       "      <td>1</td>\n",
       "    </tr>\n",
       "    <tr>\n",
       "      <th>4</th>\n",
       "      <td>apache-ant-1.7.0</td>\n",
       "      <td>DEFECT</td>\n",
       "      <td>// the generated classes must not be added in the generic JAR! // is that buggy on old JOnAS (2.4) ??</td>\n",
       "      <td>1</td>\n",
       "    </tr>\n",
       "  </tbody>\n",
       "</table>\n",
       "</div>"
      ],
      "text/plain": [
       "        projectname classification  \\\n",
       "0  apache-ant-1.7.0         DEFECT   \n",
       "1  apache-ant-1.7.0         DEFECT   \n",
       "2  apache-ant-1.7.0         DEFECT   \n",
       "3  apache-ant-1.7.0         DEFECT   \n",
       "4  apache-ant-1.7.0         DEFECT   \n",
       "\n",
       "                                                                                                                                                                                                                                                                                                                                                                                                                                                                                                                                                   commenttext  \\\n",
       "0                                                                                                                                                                                                                                                                                                                                                                                                                                                                                                                      // FIXME formatters are not thread-safe   \n",
       "1                                                                                                                                                                                                                                                                                                  // XXX: (Jon Skeet) The comment \"if it hasn't been done already\" may // not be strictly true. wrapper.maybeConfigure() won't configure the same // attributes/text more than once, but it may well add the children again, // unless I've missed something.   \n",
       "2                                                                                                                                                                                                                                                                                                                                                                                                                                                                        // I hate to admit it, but we don't know what happened // here.  Throw the Exception.   \n",
       "3  // Just a note: StarTeam has a status for NEW which implies // that there is an item  on your local machine that is not // in the repository.  These are the items that show up as // NOT IN VIEW in the Starteam GUI. // One would think that we would want to perhaps checkin the // NEW items (not in all cases! - Steve Cohen 15 Dec 2001) // Unfortunately, the sdk doesn't really work, and we can't // actually see  anything with a status of NEW. That is why // we can just check out  everything here without worrying // about losing anything.   \n",
       "4                                                                                                                                                                                                                                                                                                                                                                                                                                                        // the generated classes must not be added in the generic JAR! // is that buggy on old JOnAS (2.4) ??   \n",
       "\n",
       "   label  \n",
       "0      1  \n",
       "1      1  \n",
       "2      1  \n",
       "3      1  \n",
       "4      1  "
      ]
     },
     "execution_count": 60,
     "metadata": {},
     "output_type": "execute_result"
    }
   ],
   "source": [
    "#Form labels for SATD: 0 for non-satd and 1 for satd\n",
    "# Is important that text labels are converted into numeric for NN\n",
    "metadata['label'] = np.where(metadata.classification == 'WITHOUT_CLASSIFICATION', 0, 1)\n",
    "metadata.head()"
   ]
  },
  {
   "cell_type": "code",
   "execution_count": 61,
   "id": "reserved-norway",
   "metadata": {},
   "outputs": [
    {
     "name": "stdout",
     "output_type": "stream",
     "text": [
      "0    58204\n",
      "1     4071\n",
      "Name: label, dtype: int64\n"
     ]
    }
   ],
   "source": [
    "print(metadata['label'].value_counts())"
   ]
  },
  {
   "cell_type": "code",
   "execution_count": 62,
   "id": "approximate-builder",
   "metadata": {},
   "outputs": [
    {
     "name": "stdout",
     "output_type": "stream",
     "text": [
      "['apache-ant-1.7.0' 'apache-jmeter-2.10' 'argouml' 'columba-1.4-src'\n",
      " 'emf-2.4.1' 'hibernate-distribution-3.3.2.GA' 'jEdit-4.2'\n",
      " 'jfreechart-1.0.19' 'jruby-1.4.0' 'sql12']\n"
     ]
    }
   ],
   "source": [
    "print(metadata.projectname.unique())"
   ]
  },
  {
   "cell_type": "code",
   "execution_count": 79,
   "id": "completed-background",
   "metadata": {},
   "outputs": [
    {
     "name": "stdout",
     "output_type": "stream",
     "text": [
      "projectname       0\n",
      "classification    0\n",
      "commenttext       0\n",
      "label             0\n",
      "dtype: int64\n",
      "<class 'pandas.core.frame.DataFrame'>\n",
      "Int64Index: 9452 entries, 0 to 9451\n",
      "Data columns (total 4 columns):\n",
      " #   Column          Non-Null Count  Dtype \n",
      "---  ------          --------------  ----- \n",
      " 0   projectname     9452 non-null   object\n",
      " 1   classification  9452 non-null   object\n",
      " 2   commenttext     9452 non-null   object\n",
      " 3   label           9452 non-null   int32 \n",
      "dtypes: int32(1), object(3)\n",
      "memory usage: 332.3+ KB\n"
     ]
    }
   ],
   "source": [
    "#Specify in project dataset name to test\n",
    "df = metadata[metadata.projectname == 'argouml']\n",
    "print(df.isnull().sum())\n",
    "df.info()"
   ]
  },
  {
   "cell_type": "code",
   "execution_count": 64,
   "id": "sapphire-westminster",
   "metadata": {},
   "outputs": [
    {
     "data": {
      "text/html": [
       "<div>\n",
       "<style scoped>\n",
       "    .dataframe tbody tr th:only-of-type {\n",
       "        vertical-align: middle;\n",
       "    }\n",
       "\n",
       "    .dataframe tbody tr th {\n",
       "        vertical-align: top;\n",
       "    }\n",
       "\n",
       "    .dataframe thead th {\n",
       "        text-align: right;\n",
       "    }\n",
       "</style>\n",
       "<table border=\"1\" class=\"dataframe\">\n",
       "  <thead>\n",
       "    <tr style=\"text-align: right;\">\n",
       "      <th></th>\n",
       "      <th>projectname</th>\n",
       "      <th>classification</th>\n",
       "      <th>commenttext</th>\n",
       "      <th>label</th>\n",
       "    </tr>\n",
       "  </thead>\n",
       "  <tbody>\n",
       "    <tr>\n",
       "      <th>0</th>\n",
       "      <td>argouml</td>\n",
       "      <td>DEFECT</td>\n",
       "      <td>// TODO: This brute force approach of updating listeners on each // and every event, without checking the event type or any other // information is going to cause lots of InvalidElementExceptions // in subclasses implementations of updateListeners (and they // won't have the event information to make their own decisions)</td>\n",
       "      <td>1</td>\n",
       "    </tr>\n",
       "    <tr>\n",
       "      <th>1</th>\n",
       "      <td>argouml</td>\n",
       "      <td>DEFECT</td>\n",
       "      <td>/* TODO: The above statement also refreshes when \\r                         * we are not shown (to be verified) - hence \\r                         * not entirely correct. */</td>\n",
       "      <td>1</td>\n",
       "    </tr>\n",
       "    <tr>\n",
       "      <th>2</th>\n",
       "      <td>argouml</td>\n",
       "      <td>DEFECT</td>\n",
       "      <td>/**\\r * Class to display graphics for a UML SynchState in a diagram. &lt;p&gt;\\r * \\r * TODO: If the font increases, the circle should grow, too.\\r *\\r * @author pepargouml@yahoo.es\\r */</td>\n",
       "      <td>1</td>\n",
       "    </tr>\n",
       "    <tr>\n",
       "      <th>3</th>\n",
       "      <td>argouml</td>\n",
       "      <td>DEFECT</td>\n",
       "      <td>/* TODO: If this is an ordered list, then you have to\\r                        add in the right location! */</td>\n",
       "      <td>1</td>\n",
       "    </tr>\n",
       "    <tr>\n",
       "      <th>4</th>\n",
       "      <td>argouml</td>\n",
       "      <td>DEFECT</td>\n",
       "      <td>/**\\r     * Rank the nodes depending on their level (position in hierarchy) and set\\r     * their weight to achieve a proper node-sequence for the layout. Rows\\r     * exceeding the maximum row width are split, if standalone nodes are\\r     * available.\\r     * &lt;p&gt;\\r     * Weight the other nodes to determine their columns.\\r     * &lt;p&gt;\\r     * TODO: Weighting doesn't appear to be working as intended because multiple\\r     * groups of children/specializations get intermixed in name order rather\\r     * than being grouped by their parent/generalization. - tfm - 20070314\\r     */</td>\n",
       "      <td>1</td>\n",
       "    </tr>\n",
       "  </tbody>\n",
       "</table>\n",
       "</div>"
      ],
      "text/plain": [
       "  projectname classification  \\\n",
       "0     argouml         DEFECT   \n",
       "1     argouml         DEFECT   \n",
       "2     argouml         DEFECT   \n",
       "3     argouml         DEFECT   \n",
       "4     argouml         DEFECT   \n",
       "\n",
       "                                                                                                                                                                                                                                                                                                                                                                                                                                                                                                                                                                                              commenttext  \\\n",
       "0                                                                                                                                                                                                                                                                      // TODO: This brute force approach of updating listeners on each // and every event, without checking the event type or any other // information is going to cause lots of InvalidElementExceptions // in subclasses implementations of updateListeners (and they // won't have the event information to make their own decisions)   \n",
       "1                                                                                                                                                                                                                                                                                                                                                                                                                           /* TODO: The above statement also refreshes when \\r                         * we are not shown (to be verified) - hence \\r                         * not entirely correct. */   \n",
       "2                                                                                                                                                                                                                                                                                                                                                                                                                    /**\\r * Class to display graphics for a UML SynchState in a diagram. <p>\\r * \\r * TODO: If the font increases, the circle should grow, too.\\r *\\r * @author pepargouml@yahoo.es\\r */   \n",
       "3                                                                                                                                                                                                                                                                                                                                                                                                                                                                                            /* TODO: If this is an ordered list, then you have to\\r                        add in the right location! */   \n",
       "4  /**\\r     * Rank the nodes depending on their level (position in hierarchy) and set\\r     * their weight to achieve a proper node-sequence for the layout. Rows\\r     * exceeding the maximum row width are split, if standalone nodes are\\r     * available.\\r     * <p>\\r     * Weight the other nodes to determine their columns.\\r     * <p>\\r     * TODO: Weighting doesn't appear to be working as intended because multiple\\r     * groups of children/specializations get intermixed in name order rather\\r     * than being grouped by their parent/generalization. - tfm - 20070314\\r     */   \n",
       "\n",
       "   label  \n",
       "0      1  \n",
       "1      1  \n",
       "2      1  \n",
       "3      1  \n",
       "4      1  "
      ]
     },
     "execution_count": 64,
     "metadata": {},
     "output_type": "execute_result"
    }
   ],
   "source": [
    "df[0:5]"
   ]
  },
  {
   "cell_type": "code",
   "execution_count": 65,
   "id": "boxed-basement",
   "metadata": {},
   "outputs": [],
   "source": [
    "'''\n",
    "1] Preprocessing:\n",
    "1. Remove tags, punctuations, stop words, special characters and return X_clean and y as np arrays\n",
    "2. Split data in train and test. Remember Xclean and y should reflect metadata used for training\n",
    "def remove_tags(text):\n",
    "\n",
    "'''\n",
    "def remove_tags(text):\n",
    "    TAG_RE = re.compile(r'<[^>]+>')\n",
    "\n",
    "    return TAG_RE.sub('', text)\n",
    "    \n",
    "def preprocess_text(sen):\n",
    "    # Removing html tags\n",
    "    sentence = remove_tags(sen)\n",
    "    \n",
    "    # Remove punctuations and numbers\n",
    "    sentence = re.sub('[^a-zA-Z]', ' ', sentence)\n",
    "    \n",
    "    # Single character removal\n",
    "    sentence = re.sub(r\"\\s+[a-zA-Z]\\s+\", ' ', sentence)\n",
    "    \n",
    "    # Removing multiple spaces\n",
    "    sentence = re.sub(r'\\s+', ' ', sentence)\n",
    "    \n",
    "    pattern = re.compile(r'\\b(' + r'|'.join(stopwords.words('english')) + r')\\b\\s*')\n",
    "    sentence = pattern.sub('', sentence)\n",
    "    #print(sentence)\n",
    "    return sentence\n",
    "\n",
    "def prepare_data(_df):\n",
    "    X_clean = []\n",
    "    sentences = list(_df['commenttext'])\n",
    "\n",
    "    for sen in sentences:\n",
    "        X_clean.append(preprocess_text(sen))\n",
    "\n",
    "    print(X_clean[:3], \"\\n\\n*************************\")\n",
    "    X_clean = np.array(X_clean)\n",
    "    y = np.array(_df.label)\n",
    "\n",
    "    print(\"Cleaned corpus shape:\", X_clean.shape, y.shape)\n",
    "    return X_clean, y\n",
    "\n",
    "def split_data(df):\n",
    "    X_clean, y = prepare_data(df)\n",
    "    print(X_clean[:3], \"\\n****kkk****\\n\")\n",
    "    \n",
    "    X_train, X_val, y_train, y_val = train_test_split(X_clean, y, test_size=0.20, random_state=42)\n",
    "    print(\"Train set:\",X_train.shape, y_train.shape)\n",
    "    print(\"Validation set:\", X_val.shape, X_val.shape)\n",
    "    return X_train, X_val, y_train, y_val"
   ]
  },
  {
   "cell_type": "code",
   "execution_count": 66,
   "id": "ethical-premiere",
   "metadata": {},
   "outputs": [
    {
     "name": "stdout",
     "output_type": "stream",
     "text": [
      "[' TODO This brute force approach updating listeners every event without checking event type information going cause lots InvalidElementExceptions subclasses implementations updateListeners event information make decisions ', ' TODO The statement also refreshes shown verified hence entirely correct ', ' Class display graphics UML SynchState diagram TODO If font increases circle grow author pepargouml yahoo es '] \n",
      "\n",
      "*************************\n",
      "Cleaned corpus shape: (9452,) (9452,)\n",
      "[' TODO This brute force approach updating listeners every event without checking event type information going cause lots InvalidElementExceptions subclasses implementations updateListeners event information make decisions '\n",
      " ' TODO The statement also refreshes shown verified hence entirely correct '\n",
      " ' Class display graphics UML SynchState diagram TODO If font increases circle grow author pepargouml yahoo es '] \n",
      "****kkk****\n",
      "\n",
      "Train set: (7561,) (7561,)\n",
      "Validation set: (1891,) (1891,)\n"
     ]
    }
   ],
   "source": [
    "#collect Xtrain and ytrain along with Xval and yval\n",
    "X_train, X_val, y_train, y_val = split_data(df)"
   ]
  },
  {
   "cell_type": "code",
   "execution_count": 67,
   "id": "failing-patrol",
   "metadata": {},
   "outputs": [
    {
     "name": "stdout",
     "output_type": "stream",
     "text": [
      "\n",
      "\n",
      "Training set head\n",
      "\n",
      "\n",
      "[' Clear target multiple copies effect inefficiency '\n",
      " ' TODO This nd part method ' ' create new empty project' ... ' ok'\n",
      " ' TODO returns Collection single Object Is callers expect '\n",
      " ' see org argouml cognitive critics Critic toDoItem java lang Object org argouml cognitive Designer ']\n"
     ]
    }
   ],
   "source": [
    "print(\"\\n\\nTraining set head\\n\\n\")\n",
    "print((X_train))"
   ]
  },
  {
   "cell_type": "code",
   "execution_count": 68,
   "id": "angry-alberta",
   "metadata": {},
   "outputs": [
    {
     "data": {
      "text/plain": [
       "(7561,)"
      ]
     },
     "execution_count": 68,
     "metadata": {},
     "output_type": "execute_result"
    }
   ],
   "source": [
    "X_train.shape"
   ]
  },
  {
   "cell_type": "code",
   "execution_count": 69,
   "id": "graduate-dance",
   "metadata": {},
   "outputs": [],
   "source": [
    "'''\n",
    "2] Tokenize the splitted data and convert them intp sequences and add post padding.\n",
    "Final output stored as X_train_padded, X-val_padded and y_train and y_val\n",
    "\n",
    "'''\n",
    "\n",
    "def prepare_data(X_train, X_val, y_train, y_val):\n",
    "    \n",
    "    #Step 2: Use keras to tokenize words and find word.index'length for getting number of unique words i.e vocab size\n",
    "\n",
    "    tokenizer = Tokenizer(filters='!\"#$%&()*+,-./:;<=>?@[\\\\]^_`{|}~\\t\\n\\'',\n",
    "                          lower=True)\n",
    "\n",
    "    tokenizer.fit_on_texts(X_train)\n",
    "\n",
    "    word_index = tokenizer.word_index\n",
    "    vocab_size = len(tokenizer.word_index) + 1\n",
    "    print('VOCAB SIZE: Found %s unique tokens.' % len(word_index))\n",
    "\n",
    "    # Step 3: Embed the sentences into numbers using text to sequences\n",
    "\n",
    "    sequences_train = tokenizer.texts_to_sequences(X_train)\n",
    "    sequences_valid = tokenizer.texts_to_sequences(X_val)\n",
    "\n",
    "    # Step 4: next step is to find the number of words in the longest sentence and then to apply \n",
    "    #padding to the sentences having shorter lengths than the length of the longest sentence\n",
    "\n",
    "    from nltk.tokenize import word_tokenize\n",
    "    word_count = lambda sentence: len(word_tokenize(sentence))\n",
    "    longest_sentence = max(X_train, key=word_count)\n",
    "    length_long_sentence = len(word_tokenize(longest_sentence))\n",
    "    print(\"Longest sentence length: \",  length_long_sentence)\n",
    "    \n",
    "    print(\"**********************\")\n",
    "    \n",
    "    #Step 5: Pad zeros at the end using the length of the longest word \n",
    "    X_train_padded = pad_sequences(sequences_train,length_long_sentence, padding='post')\n",
    "    X_val_padded = pad_sequences(sequences_valid,padding='post', maxlen = length_long_sentence)\n",
    "\n",
    "\n",
    "    print('Shape of X train and X validation tensor:', X_train_padded.shape,X_val_padded.shape)\n",
    "    print('Shape of label train and validation tensor:', y_train.shape,y_val.shape)\n",
    "    \n",
    "    return X_train_padded, X_val_padded, y_train, y_val, vocab_size, word_index, length_long_sentence"
   ]
  },
  {
   "cell_type": "code",
   "execution_count": 70,
   "id": "educational-bloom",
   "metadata": {},
   "outputs": [
    {
     "name": "stdout",
     "output_type": "stream",
     "text": [
      "VOCAB SIZE: Found 5350 unique tokens.\n",
      "Longest sentence length:  163\n",
      "**********************\n",
      "Shape of X train and X validation tensor: (7561, 163) (1891, 163)\n",
      "Shape of label train and validation tensor: (7561,) (1891,)\n"
     ]
    }
   ],
   "source": [
    "X_train_padded, X_val_padded, y_train, y_val, vocab_size, word_index, length_long_sentence= prepare_data(X_train, X_val, y_train, y_val)"
   ]
  },
  {
   "cell_type": "code",
   "execution_count": 71,
   "id": "congressional-homeless",
   "metadata": {},
   "outputs": [
    {
     "name": "stdout",
     "output_type": "stream",
     "text": [
      "[[524  78 222 ...   0   0   0]\n",
      " [  5  14 774 ...   0   0   0]\n",
      " [ 40  26  77 ...   0   0   0]\n",
      " ...\n",
      " [303   0   0 ...   0   0   0]\n",
      " [  5 321 151 ...   0   0   0]\n",
      " [  1   2   3 ...   0   0   0]]\n"
     ]
    }
   ],
   "source": [
    "print(X_train_padded)"
   ]
  },
  {
   "cell_type": "code",
   "execution_count": 72,
   "id": "certified-yemen",
   "metadata": {},
   "outputs": [],
   "source": [
    "'''3] Build embedidng matrix : Word2vec and glove (needs fixes)'''\n",
    "def build_embedding_matrix_word2vec(vocab_size, word_index):\n",
    "    import gensim\n",
    "    from gensim.models import Word2Vec\n",
    "    from gensim.utils import simple_preprocess\n",
    "\n",
    "    from gensim.models.keyedvectors import KeyedVectors\n",
    "    path_to_word2vec = 'E:/RIT/GA-TECHNICAL DEBTS/rudimentary-stages/cnn-word2vec/GoogleNews-vectors-negative300.bin'\n",
    "    word_vectors = KeyedVectors.load_word2vec_format(path_to_word2vec, binary=True)\n",
    "    \n",
    "    \n",
    "    EMBEDDING_DIM= 300\n",
    "    vocab_size = vocab_size\n",
    "    \n",
    "    #Size of embed matrix must be = vocab sizeV * dimension of embeding\n",
    "    #Step 6: Generate an embedding matrix to get embeddings representaion of words in our corpus\n",
    "    #Our embedding_matrix now contains pretrained word embeddings for the words in our corpus.\n",
    "    embedding_matrix = np.zeros((vocab_size, EMBEDDING_DIM))\n",
    "\n",
    "    for word, i in word_index.items():\n",
    "        if i>=vocab_size:\n",
    "            continue\n",
    "        try:\n",
    "            embedding_vector = word_vectors[word]\n",
    "            embedding_matrix[i] = embedding_vector\n",
    "        except KeyError:\n",
    "            embedding_matrix[i]=np.random.normal(0,np.sqrt(0.25),EMBEDDING_DIM)\n",
    "    \n",
    "    return embedding_matrix"
   ]
  },
  {
   "cell_type": "code",
   "execution_count": 73,
   "id": "conservative-bidding",
   "metadata": {},
   "outputs": [],
   "source": [
    "embedding_matrix =  build_embedding_matrix_word2vec(vocab_size, word_index)"
   ]
  },
  {
   "cell_type": "code",
   "execution_count": 85,
   "id": "confused-constraint",
   "metadata": {},
   "outputs": [
    {
     "name": "stdout",
     "output_type": "stream",
     "text": [
      "\n",
      "\n",
      "Embedding matrix shape: (5351, 300)\n"
     ]
    }
   ],
   "source": [
    "print(\"\\n\\nEmbedding matrix shape:\",embedding_matrix.shape)\n",
    "#embeddingMatrix[524] gives embedidngs i.e array of 300 vals\n",
    "#524 is index of word number 524 from our seq array "
   ]
  },
  {
   "cell_type": "code",
   "execution_count": 75,
   "id": "lucky-relative",
   "metadata": {},
   "outputs": [],
   "source": [
    "'''4] Weighted loss func to handle class imbalance'''\n",
    "def sklearn_weighted_loss(y_train):\n",
    "    # Calculate the weights for each class so that we can balance the data\n",
    "    #The minority class will have a higher class weight\n",
    "    from sklearn.utils import class_weight\n",
    "    weights = class_weight.compute_class_weight('balanced',\n",
    "                                                np.unique(y_train),\n",
    "                                                y_train)\n",
    "    print(\"Resultant weight:\", weights)\n",
    "    sklearn_weight = {0: weights[0], 1: weights[1]}\n",
    "    return sklearn_weight\n",
    "\n",
    "def weighted_loss(y_train):\n",
    "    '''Link: https://www.tensorflow.org/tutorials/structured_data/imbalanced_data'''\n",
    "\n",
    "    neg, pos = np.bincount(y_train)\n",
    "    total = neg + pos\n",
    "    # Scaling by total/2 helps keep the loss to a similar magnitude.\n",
    "    # The sum of the weights of all examples stays the same.\n",
    "    weight_for_0 = (1 / neg) * (total / 2.0)\n",
    "    weight_for_1 = (1 / pos) * (total / 2.0)\n",
    "\n",
    "    class_weight = {0: weight_for_0, 1: weight_for_1}\n",
    "\n",
    "    print('Weight for class 0: {:.2f}'.format(weight_for_0))\n",
    "    print('Weight for class 1: {:.2f}'.format(weight_for_1))\n",
    "    return class_weight\n",
    "    "
   ]
  },
  {
   "cell_type": "code",
   "execution_count": 76,
   "id": "choice-lighting",
   "metadata": {},
   "outputs": [
    {
     "name": "stdout",
     "output_type": "stream",
     "text": [
      "Weight for class 0: 0.59\n",
      "Weight for class 1: 3.33\n",
      "Custom weights: {0: 0.5882215652715108, 1: 3.333774250440917}\n",
      "Resultant weight: [0.58822157 3.33377425]\n"
     ]
    },
    {
     "name": "stderr",
     "output_type": "stream",
     "text": [
      "C:\\Users\\ketak\\anaconda3\\envs\\tensorflow\\lib\\site-packages\\sklearn\\utils\\validation.py:70: FutureWarning: Pass classes=[0 1], y=[0 0 0 ... 0 1 0] as keyword args. From version 1.0 (renaming of 0.25) passing these as positional arguments will result in an error\n",
      "  warnings.warn(f\"Pass {args_msg} as keyword args. From version \"\n"
     ]
    }
   ],
   "source": [
    "custom_class_weights = weighted_loss(y_train)\n",
    "print(\"Custom weights:\", custom_class_weights)\n",
    "#or use \n",
    "sklearn_weights= sklearn_weighted_loss(y_train)"
   ]
  },
  {
   "cell_type": "code",
   "execution_count": 155,
   "id": "crude-vision",
   "metadata": {},
   "outputs": [],
   "source": [
    "from tensorflow.keras.layers import Embedding\n",
    "from tensorflow.keras.layers import Dense, Input, GlobalMaxPooling1D\n",
    "from tensorflow.keras.layers import Conv1D, MaxPooling1D, Embedding, LSTM\n",
    "from tensorflow.keras.models import Model, Sequential\n",
    "from tensorflow.keras.layers import Input, Dense, Embedding, Conv2D, MaxPooling2D, Dropout,concatenate\n",
    "from tensorflow.keras.layers import Reshape, Flatten\n",
    "from tensorflow.keras.callbacks import EarlyStopping\n",
    "from tensorflow.keras.optimizers import Adam,SGD\n",
    "from tensorflow.keras.models import Model\n",
    "from tensorflow.keras import regularizers\n",
    "from tensorflow.keras import backend \n",
    "EMBEDDING_DIM = 300\n"
   ]
  },
  {
   "cell_type": "markdown",
   "id": "choice-marker",
   "metadata": {},
   "source": [
    "# 2D CNN Model "
   ]
  },
  {
   "cell_type": "code",
   "execution_count": 157,
   "id": "impaired-tulsa",
   "metadata": {},
   "outputs": [],
   "source": [
    "#try window size of 1\n",
    "#(i am underfitting, try ways to improve)\n",
    "#3conv layer, 1.) add DENSE LAYERS before\n",
    "\n",
    "#2) repeat conv layers * 3, padding options to keep o/p size same\n",
    "#try to overfit first, train loss decreases, val loss increases\n",
    "\n",
    "#remove batch norm, drop and regu because those are for overfit. you are underfit so try complex model, more data, augment data\n",
    "'''Questions for DR. Yu:\n",
    "1. Should I add dense layers in b/w conv layers? \n",
    "2. How many units if neurons in dense layers is recommended? Also, ideally how many epochs to start and compare perf?\n",
    "3. Ideal values for loss look like? 0.1?\n",
    "4. Goal is to OVERFIT and then regularize, batch norm and increase F1.\n",
    "5. Match results with that of the paper and try on corrected data?\n",
    "5. What exactly did we do to correct this data?\n",
    "6. Applied DS course plan\n",
    "7. Run on RC?\n",
    "\n",
    "later\n",
    "maybe rnn is good eg\n",
    "'''\n",
    "\n",
    "\n",
    "\n",
    "'''Vinay notes:\n",
    "change filter sizes array to be [1*WordDim, 2*WordDim...] so output is 1*n\n",
    "and then number of filters * filtersizes[i]\n",
    "then do maxpool only on (filtersize,1)\n",
    "hgram matrix 163*300 put h gram matrix on this 162*300 aise 4 matrics 162*300*4 then put filter matrix 162*4\n",
    "hgram = [162, 163, 163]\n",
    "'''\n",
    "filter_sizes = [2,3,4]\n",
    "num_filters = 32\n",
    "drop = 0.1\n",
    "EMBEDDING_DIM = 300 \n",
    "\n",
    "deep_inputs = Input(shape=(length_long_sentence,))\n",
    "embedding = Embedding(vocab_size, 300, weights=[embedding_matrix], input_length=length_long_sentence, trainable=False)(deep_inputs)\n",
    "reshape = Reshape((length_long_sentence,EMBEDDING_DIM,1))(embedding)\n",
    "\n",
    "conv_0 = Conv2D(num_filters, (filter_sizes[0], EMBEDDING_DIM),activation='relu', kernel_regularizer = regularizers.l2(0.01))(reshape)\n",
    "conv_1 = Conv2D(num_filters, (filter_sizes[1], EMBEDDING_DIM),activation='relu', kernel_regularizer = regularizers.l2(0.01))(reshape)\n",
    "conv_2 = Conv2D(num_filters, (filter_sizes[2], EMBEDDING_DIM),activation='relu', kernel_regularizer = regularizers.l2(0.01))(reshape)\n",
    "maxpool_0 = MaxPooling2D((length_long_sentence - filter_sizes[0] + 1, 1), strides=(1,1))(conv_0)\n",
    "maxpool_1 = MaxPooling2D((length_long_sentence - filter_sizes[1] + 1, 1), strides=(1,1))(conv_1)\n",
    "maxpool_2 = MaxPooling2D((length_long_sentence - filter_sizes[2] + 1, 1), strides=(1,1))(conv_2)\n",
    "\n",
    "\n",
    "merged_tensor = concatenate([maxpool_0,maxpool_1,maxpool_2], axis=3)\n",
    "\n",
    "#batch_normalization = tf.keras.layers.BatchNormalization()(merged_tensor)\n",
    "flatten = Flatten()(merged_tensor)\n",
    "reshape = Reshape((3*num_filters,))(flatten)\n",
    "#dropout = Dropout(drop)(flatten)\n",
    "\n",
    "#add dense layers here, RELU same i/p,  o/p size\n",
    "cov0_dense =  Dense(units=64, activation='relu', kernel_regularizer = regularizers.l2(0.01))(flatten)\n",
    "cov1_dense =  Dense(units=64, activation='relu', kernel_regularizer = regularizers.l2(0.01))(cov0_dense)\n",
    "cov2_dense =  Dense(units=64, activation='relu', kernel_regularizer = regularizers.l2(0.01))(cov1_dense)\n",
    "dense_1 =  Dense(units=64, activation='relu', kernel_regularizer = regularizers.l2(0.01))(cov2_dense)\n",
    "\n",
    "output = Dense(units=2, activation='softmax', kernel_regularizer = regularizers.l2(0.01))(dense_1)\n",
    "#p(c=1)+ p(c=0) = 1\n",
    "# this creates a model that includes\n",
    "cnn2d_model = Model(deep_inputs, output)"
   ]
  },
  {
   "cell_type": "code",
   "execution_count": 163,
   "id": "coordinate-treat",
   "metadata": {},
   "outputs": [
    {
     "name": "stdout",
     "output_type": "stream",
     "text": [
      "Model: \"model\"\n",
      "__________________________________________________________________________________________________\n",
      "Layer (type)                    Output Shape         Param #     Connected to                     \n",
      "==================================================================================================\n",
      "input_1 (InputLayer)            [(None, 163)]        0                                            \n",
      "__________________________________________________________________________________________________\n",
      "embedding (Embedding)           (None, 163, 300)     1605300     input_1[0][0]                    \n",
      "__________________________________________________________________________________________________\n",
      "reshape (Reshape)               (None, 163, 300, 1)  0           embedding[0][0]                  \n",
      "__________________________________________________________________________________________________\n",
      "conv2d (Conv2D)                 (None, 162, 1, 64)   38464       reshape[0][0]                    \n",
      "__________________________________________________________________________________________________\n",
      "conv2d_1 (Conv2D)               (None, 161, 1, 64)   57664       reshape[0][0]                    \n",
      "__________________________________________________________________________________________________\n",
      "conv2d_2 (Conv2D)               (None, 160, 1, 64)   76864       reshape[0][0]                    \n",
      "__________________________________________________________________________________________________\n",
      "max_pooling2d (MaxPooling2D)    (None, 1, 1, 64)     0           conv2d[0][0]                     \n",
      "__________________________________________________________________________________________________\n",
      "max_pooling2d_1 (MaxPooling2D)  (None, 1, 1, 64)     0           conv2d_1[0][0]                   \n",
      "__________________________________________________________________________________________________\n",
      "max_pooling2d_2 (MaxPooling2D)  (None, 1, 1, 64)     0           conv2d_2[0][0]                   \n",
      "__________________________________________________________________________________________________\n",
      "concatenate (Concatenate)       (None, 1, 1, 192)    0           max_pooling2d[0][0]              \n",
      "                                                                 max_pooling2d_1[0][0]            \n",
      "                                                                 max_pooling2d_2[0][0]            \n",
      "__________________________________________________________________________________________________\n",
      "flatten (Flatten)               (None, 192)          0           concatenate[0][0]                \n",
      "__________________________________________________________________________________________________\n",
      "dense (Dense)                   (None, 64)           12352       flatten[0][0]                    \n",
      "__________________________________________________________________________________________________\n",
      "dense_1 (Dense)                 (None, 64)           4160        dense[0][0]                      \n",
      "__________________________________________________________________________________________________\n",
      "dense_2 (Dense)                 (None, 64)           4160        dense_1[0][0]                    \n",
      "__________________________________________________________________________________________________\n",
      "dense_3 (Dense)                 (None, 64)           4160        dense_2[0][0]                    \n",
      "__________________________________________________________________________________________________\n",
      "dense_4 (Dense)                 (None, 2)            130         dense_3[0][0]                    \n",
      "==================================================================================================\n",
      "Total params: 1,803,254\n",
      "Trainable params: 197,954\n",
      "Non-trainable params: 1,605,300\n",
      "__________________________________________________________________________________________________\n",
      "None\n"
     ]
    }
   ],
   "source": [
    "#adam = Adam(lr=0.003)\n",
    "sgd = SGD(learning_rate=0.004)\n",
    "cnn2d_model.compile(optimizer = sgd , loss='binary_crossentropy', metrics=['acc']) \n",
    "#use tf.keras.losses.BinaryCrossentropy(from_logits=True) in loss\n",
    "callbacks = [EarlyStopping(monitor='val_loss',  min_delta=0.0001)]\n",
    "print(cnn2d_model.summary())"
   ]
  },
  {
   "cell_type": "code",
   "execution_count": 164,
   "id": "dependent-fight",
   "metadata": {},
   "outputs": [
    {
     "name": "stdout",
     "output_type": "stream",
     "text": [
      "Epoch 1/200\n",
      "101/101 [==============================] - 6s 64ms/step - loss: 0.9601 - acc: 0.3858 - val_loss: 0.9546 - val_acc: 0.3974\n",
      "Epoch 2/200\n",
      "101/101 [==============================] - 6s 59ms/step - loss: 0.9559 - acc: 0.3892 - val_loss: 0.9504 - val_acc: 0.3982\n",
      "Epoch 3/200\n",
      "101/101 [==============================] - 6s 60ms/step - loss: 0.9517 - acc: 0.3892 - val_loss: 0.9463 - val_acc: 0.3982\n",
      "Epoch 4/200\n",
      "101/101 [==============================] - 6s 61ms/step - loss: 0.9476 - acc: 0.3883 - val_loss: 0.9422 - val_acc: 0.3991\n",
      "Epoch 5/200\n",
      "101/101 [==============================] - 6s 60ms/step - loss: 0.9436 - acc: 0.3931 - val_loss: 0.9382 - val_acc: 0.4009\n",
      "Epoch 6/200\n",
      "101/101 [==============================] - 6s 59ms/step - loss: 0.9396 - acc: 0.3939 - val_loss: 0.9343 - val_acc: 0.4026\n",
      "Epoch 7/200\n",
      "101/101 [==============================] - 6s 60ms/step - loss: 0.9357 - acc: 0.3951 - val_loss: 0.9304 - val_acc: 0.4044\n",
      "Epoch 8/200\n",
      "101/101 [==============================] - 6s 59ms/step - loss: 0.9319 - acc: 0.4076 - val_loss: 0.9266 - val_acc: 0.4211\n",
      "Epoch 9/200\n",
      "101/101 [==============================] - 6s 58ms/step - loss: 0.9281 - acc: 0.4073 - val_loss: 0.9229 - val_acc: 0.4211\n",
      "Epoch 10/200\n",
      "101/101 [==============================] - 6s 59ms/step - loss: 0.9244 - acc: 0.4069 - val_loss: 0.9192 - val_acc: 0.4203\n",
      "Epoch 11/200\n",
      "101/101 [==============================] - 6s 59ms/step - loss: 0.9207 - acc: 0.4060 - val_loss: 0.9156 - val_acc: 0.4203\n",
      "Epoch 12/200\n",
      "101/101 [==============================] - 6s 59ms/step - loss: 0.9172 - acc: 0.4037 - val_loss: 0.9120 - val_acc: 0.4194\n",
      "Epoch 13/200\n",
      "101/101 [==============================] - 6s 59ms/step - loss: 0.9136 - acc: 0.4034 - val_loss: 0.9085 - val_acc: 0.4194\n",
      "Epoch 14/200\n",
      "101/101 [==============================] - 6s 59ms/step - loss: 0.9101 - acc: 0.4023 - val_loss: 0.9051 - val_acc: 0.4185\n",
      "Epoch 15/200\n",
      "101/101 [==============================] - 6s 59ms/step - loss: 0.9067 - acc: 0.4009 - val_loss: 0.9017 - val_acc: 0.4167\n",
      "Epoch 16/200\n",
      "101/101 [==============================] - 6s 59ms/step - loss: 0.9033 - acc: 0.3976 - val_loss: 0.8983 - val_acc: 0.4123\n",
      "Epoch 17/200\n",
      "101/101 [==============================] - 6s 58ms/step - loss: 0.9000 - acc: 0.3968 - val_loss: 0.8950 - val_acc: 0.4097\n",
      "Epoch 18/200\n",
      "101/101 [==============================] - 6s 61ms/step - loss: 0.8968 - acc: 0.3948 - val_loss: 0.8918 - val_acc: 0.4088\n",
      "Epoch 19/200\n",
      "101/101 [==============================] - 6s 59ms/step - loss: 0.8935 - acc: 0.3925 - val_loss: 0.8886 - val_acc: 0.4062\n",
      "Epoch 20/200\n",
      "101/101 [==============================] - 6s 59ms/step - loss: 0.8904 - acc: 0.3838 - val_loss: 0.8855 - val_acc: 0.3771\n",
      "Epoch 21/200\n",
      "101/101 [==============================] - 6s 59ms/step - loss: 0.8873 - acc: 0.3738 - val_loss: 0.8824 - val_acc: 0.3762\n",
      "Epoch 22/200\n",
      "101/101 [==============================] - 6s 61ms/step - loss: 0.8842 - acc: 0.3707 - val_loss: 0.8794 - val_acc: 0.3692\n",
      "Epoch 23/200\n",
      "101/101 [==============================] - 6s 61ms/step - loss: 0.8812 - acc: 0.3641 - val_loss: 0.8764 - val_acc: 0.3612\n",
      "Epoch 24/200\n",
      "101/101 [==============================] - 6s 61ms/step - loss: 0.8783 - acc: 0.3579 - val_loss: 0.8734 - val_acc: 0.3568\n",
      "Epoch 25/200\n",
      "101/101 [==============================] - 6s 61ms/step - loss: 0.8753 - acc: 0.3542 - val_loss: 0.8705 - val_acc: 0.3577\n",
      "Epoch 26/200\n",
      "101/101 [==============================] - 6s 61ms/step - loss: 0.8725 - acc: 0.3526 - val_loss: 0.8677 - val_acc: 0.3568\n",
      "Epoch 27/200\n",
      "101/101 [==============================] - 6s 61ms/step - loss: 0.8696 - acc: 0.3505 - val_loss: 0.8649 - val_acc: 0.3551\n",
      "Epoch 28/200\n",
      "101/101 [==============================] - 6s 60ms/step - loss: 0.8669 - acc: 0.3461 - val_loss: 0.8622 - val_acc: 0.3471\n",
      "Epoch 29/200\n",
      "101/101 [==============================] - 6s 62ms/step - loss: 0.8641 - acc: 0.3406 - val_loss: 0.8594 - val_acc: 0.3392\n",
      "Epoch 30/200\n",
      "101/101 [==============================] - 6s 61ms/step - loss: 0.8615 - acc: 0.3366 - val_loss: 0.8568 - val_acc: 0.3322\n",
      "Epoch 31/200\n",
      "101/101 [==============================] - 6s 60ms/step - loss: 0.8588 - acc: 0.3318 - val_loss: 0.8542 - val_acc: 0.3286\n",
      "Epoch 32/200\n",
      "101/101 [==============================] - 6s 61ms/step - loss: 0.8562 - acc: 0.3319 - val_loss: 0.8516 - val_acc: 0.3286\n",
      "Epoch 33/200\n",
      "101/101 [==============================] - 6s 61ms/step - loss: 0.8536 - acc: 0.3279 - val_loss: 0.8490 - val_acc: 0.3233\n",
      "Epoch 34/200\n",
      "101/101 [==============================] - 6s 61ms/step - loss: 0.8511 - acc: 0.3231 - val_loss: 0.8465 - val_acc: 0.3189\n",
      "Epoch 35/200\n",
      "101/101 [==============================] - 6s 61ms/step - loss: 0.8486 - acc: 0.3114 - val_loss: 0.8441 - val_acc: 0.3066\n",
      "Epoch 36/200\n",
      "101/101 [==============================] - 6s 60ms/step - loss: 0.8462 - acc: 0.2957 - val_loss: 0.8417 - val_acc: 0.2863\n",
      "Epoch 37/200\n",
      "101/101 [==============================] - 6s 61ms/step - loss: 0.8438 - acc: 0.2879 - val_loss: 0.8393 - val_acc: 0.2828\n",
      "Epoch 38/200\n",
      "101/101 [==============================] - 6s 61ms/step - loss: 0.8414 - acc: 0.2820 - val_loss: 0.8369 - val_acc: 0.2731\n",
      "Epoch 39/200\n",
      "101/101 [==============================] - 6s 62ms/step - loss: 0.8391 - acc: 0.2719 - val_loss: 0.8346 - val_acc: 0.2687\n",
      "Epoch 40/200\n",
      "101/101 [==============================] - 6s 61ms/step - loss: 0.8368 - acc: 0.2700 - val_loss: 0.8324 - val_acc: 0.2661\n",
      "Epoch 41/200\n",
      "101/101 [==============================] - 6s 61ms/step - loss: 0.8346 - acc: 0.2619 - val_loss: 0.8301 - val_acc: 0.2529\n",
      "Epoch 42/200\n",
      "101/101 [==============================] - 6s 60ms/step - loss: 0.8324 - acc: 0.2501 - val_loss: 0.8279 - val_acc: 0.2335\n",
      "Epoch 43/200\n",
      "101/101 [==============================] - 6s 61ms/step - loss: 0.8302 - acc: 0.2308 - val_loss: 0.8258 - val_acc: 0.2220\n",
      "Epoch 44/200\n",
      "101/101 [==============================] - 6s 60ms/step - loss: 0.8280 - acc: 0.2294 - val_loss: 0.8236 - val_acc: 0.2185\n",
      "Epoch 45/200\n",
      "101/101 [==============================] - 6s 60ms/step - loss: 0.8259 - acc: 0.2253 - val_loss: 0.8216 - val_acc: 0.2132\n",
      "Epoch 46/200\n",
      "101/101 [==============================] - 6s 60ms/step - loss: 0.8239 - acc: 0.2236 - val_loss: 0.8195 - val_acc: 0.2115\n",
      "Epoch 47/200\n",
      "101/101 [==============================] - 6s 61ms/step - loss: 0.8218 - acc: 0.2196 - val_loss: 0.8175 - val_acc: 0.2053\n",
      "Epoch 48/200\n",
      "101/101 [==============================] - 6s 60ms/step - loss: 0.8198 - acc: 0.2180 - val_loss: 0.8155 - val_acc: 0.2026\n",
      "Epoch 49/200\n",
      "101/101 [==============================] - 6s 60ms/step - loss: 0.8178 - acc: 0.2182 - val_loss: 0.8135 - val_acc: 0.1938\n",
      "Epoch 50/200\n",
      "101/101 [==============================] - 6s 62ms/step - loss: 0.8159 - acc: 0.2182 - val_loss: 0.8116 - val_acc: 0.1938\n",
      "Epoch 51/200\n",
      "101/101 [==============================] - 6s 60ms/step - loss: 0.8140 - acc: 0.2185 - val_loss: 0.8097 - val_acc: 0.1956\n",
      "Epoch 52/200\n",
      "101/101 [==============================] - 6s 60ms/step - loss: 0.8121 - acc: 0.2179 - val_loss: 0.8078 - val_acc: 0.1991\n",
      "Epoch 53/200\n",
      "101/101 [==============================] - 6s 60ms/step - loss: 0.8102 - acc: 0.2168 - val_loss: 0.8060 - val_acc: 0.2000\n",
      "Epoch 54/200\n",
      "101/101 [==============================] - 6s 60ms/step - loss: 0.8084 - acc: 0.2190 - val_loss: 0.8042 - val_acc: 0.1982\n",
      "Epoch 55/200\n",
      "101/101 [==============================] - 6s 60ms/step - loss: 0.8066 - acc: 0.2174 - val_loss: 0.8024 - val_acc: 0.2044\n",
      "Epoch 56/200\n",
      "101/101 [==============================] - 6s 60ms/step - loss: 0.8049 - acc: 0.2163 - val_loss: 0.8006 - val_acc: 0.2053\n",
      "Epoch 57/200\n",
      "101/101 [==============================] - 6s 60ms/step - loss: 0.8031 - acc: 0.2162 - val_loss: 0.7989 - val_acc: 0.2070\n",
      "Epoch 58/200\n",
      "101/101 [==============================] - 6s 60ms/step - loss: 0.8014 - acc: 0.2168 - val_loss: 0.7972 - val_acc: 0.2070\n",
      "Epoch 59/200\n",
      "101/101 [==============================] - 6s 60ms/step - loss: 0.7997 - acc: 0.2177 - val_loss: 0.7956 - val_acc: 0.2070\n",
      "Epoch 60/200\n",
      "101/101 [==============================] - 6s 60ms/step - loss: 0.7981 - acc: 0.2169 - val_loss: 0.7939 - val_acc: 0.2018\n",
      "Epoch 61/200\n",
      "101/101 [==============================] - 6s 61ms/step - loss: 0.7964 - acc: 0.2092 - val_loss: 0.7923 - val_acc: 0.1938\n"
     ]
    },
    {
     "name": "stdout",
     "output_type": "stream",
     "text": [
      "Epoch 62/200\n",
      "101/101 [==============================] - 6s 61ms/step - loss: 0.7948 - acc: 0.2062 - val_loss: 0.7907 - val_acc: 0.1930\n",
      "Epoch 63/200\n",
      "101/101 [==============================] - 6s 60ms/step - loss: 0.7933 - acc: 0.2059 - val_loss: 0.7891 - val_acc: 0.1930\n",
      "Epoch 64/200\n",
      "101/101 [==============================] - 6s 60ms/step - loss: 0.7917 - acc: 0.2053 - val_loss: 0.7876 - val_acc: 0.1921\n",
      "Epoch 65/200\n",
      "101/101 [==============================] - 6s 60ms/step - loss: 0.7902 - acc: 0.2029 - val_loss: 0.7861 - val_acc: 0.1885\n",
      "Epoch 66/200\n",
      "101/101 [==============================] - 6s 60ms/step - loss: 0.7887 - acc: 0.2006 - val_loss: 0.7846 - val_acc: 0.1877\n",
      "Epoch 67/200\n",
      "101/101 [==============================] - 6s 61ms/step - loss: 0.7872 - acc: 0.1956 - val_loss: 0.7831 - val_acc: 0.1859\n",
      "Epoch 68/200\n",
      "101/101 [==============================] - 6s 60ms/step - loss: 0.7857 - acc: 0.1919 - val_loss: 0.7817 - val_acc: 0.1841\n",
      "Epoch 69/200\n",
      "101/101 [==============================] - 6s 60ms/step - loss: 0.7843 - acc: 0.1905 - val_loss: 0.7803 - val_acc: 0.1841\n",
      "Epoch 70/200\n",
      "101/101 [==============================] - 6s 60ms/step - loss: 0.7829 - acc: 0.1888 - val_loss: 0.7789 - val_acc: 0.1797\n",
      "Epoch 71/200\n",
      "101/101 [==============================] - 6s 61ms/step - loss: 0.7815 - acc: 0.1877 - val_loss: 0.7775 - val_acc: 0.1762\n",
      "Epoch 72/200\n",
      "101/101 [==============================] - 6s 61ms/step - loss: 0.7802 - acc: 0.1866 - val_loss: 0.7761 - val_acc: 0.1762\n",
      "Epoch 73/200\n",
      "101/101 [==============================] - 6s 61ms/step - loss: 0.7788 - acc: 0.1852 - val_loss: 0.7748 - val_acc: 0.1736\n",
      "Epoch 74/200\n",
      "101/101 [==============================] - 6s 61ms/step - loss: 0.7775 - acc: 0.1846 - val_loss: 0.7735 - val_acc: 0.1744\n",
      "Epoch 75/200\n",
      "101/101 [==============================] - 6s 62ms/step - loss: 0.7762 - acc: 0.1829 - val_loss: 0.7722 - val_acc: 0.1709\n",
      "Epoch 76/200\n",
      "101/101 [==============================] - 6s 63ms/step - loss: 0.7749 - acc: 0.1822 - val_loss: 0.7710 - val_acc: 0.1665\n",
      "Epoch 77/200\n",
      "101/101 [==============================] - 6s 62ms/step - loss: 0.7737 - acc: 0.1807 - val_loss: 0.7697 - val_acc: 0.1665\n",
      "Epoch 78/200\n",
      "101/101 [==============================] - 6s 62ms/step - loss: 0.7724 - acc: 0.1796 - val_loss: 0.7685 - val_acc: 0.1612\n",
      "Epoch 79/200\n",
      "101/101 [==============================] - 6s 62ms/step - loss: 0.7712 - acc: 0.1723 - val_loss: 0.7673 - val_acc: 0.1533\n",
      "Epoch 80/200\n",
      "101/101 [==============================] - 6s 62ms/step - loss: 0.7700 - acc: 0.1660 - val_loss: 0.7661 - val_acc: 0.1507\n",
      "Epoch 81/200\n",
      "101/101 [==============================] - 7s 65ms/step - loss: 0.7688 - acc: 0.1650 - val_loss: 0.7649 - val_acc: 0.1507\n",
      "Epoch 82/200\n",
      "101/101 [==============================] - 7s 64ms/step - loss: 0.7677 - acc: 0.1631 - val_loss: 0.7638 - val_acc: 0.1489\n",
      "Epoch 83/200\n",
      "101/101 [==============================] - 6s 62ms/step - loss: 0.7665 - acc: 0.1611 - val_loss: 0.7626 - val_acc: 0.1463\n",
      "Epoch 84/200\n",
      "101/101 [==============================] - 6s 62ms/step - loss: 0.7654 - acc: 0.1586 - val_loss: 0.7615 - val_acc: 0.1445\n",
      "Epoch 85/200\n",
      "101/101 [==============================] - 6s 62ms/step - loss: 0.7643 - acc: 0.1586 - val_loss: 0.7604 - val_acc: 0.1445\n",
      "Epoch 86/200\n",
      "101/101 [==============================] - 6s 62ms/step - loss: 0.7632 - acc: 0.1584 - val_loss: 0.7593 - val_acc: 0.1445\n",
      "Epoch 87/200\n",
      "101/101 [==============================] - 6s 62ms/step - loss: 0.7621 - acc: 0.1559 - val_loss: 0.7583 - val_acc: 0.1419\n",
      "Epoch 88/200\n",
      "101/101 [==============================] - 7s 66ms/step - loss: 0.7611 - acc: 0.1545 - val_loss: 0.7572 - val_acc: 0.1410\n",
      "Epoch 89/200\n",
      "101/101 [==============================] - 6s 62ms/step - loss: 0.7601 - acc: 0.1541 - val_loss: 0.7562 - val_acc: 0.1410\n",
      "Epoch 90/200\n",
      "101/101 [==============================] - 6s 62ms/step - loss: 0.7590 - acc: 0.1536 - val_loss: 0.7552 - val_acc: 0.1401\n",
      "Epoch 91/200\n",
      "101/101 [==============================] - 6s 62ms/step - loss: 0.7580 - acc: 0.1531 - val_loss: 0.7542 - val_acc: 0.1401\n",
      "Epoch 92/200\n",
      "101/101 [==============================] - 6s 64ms/step - loss: 0.7570 - acc: 0.1530 - val_loss: 0.7532 - val_acc: 0.1401\n",
      "Epoch 93/200\n",
      "101/101 [==============================] - 6s 62ms/step - loss: 0.7561 - acc: 0.1530 - val_loss: 0.7523 - val_acc: 0.1401\n",
      "Epoch 94/200\n",
      "101/101 [==============================] - 6s 62ms/step - loss: 0.7551 - acc: 0.1536 - val_loss: 0.7513 - val_acc: 0.1410\n",
      "Epoch 95/200\n",
      "101/101 [==============================] - 6s 63ms/step - loss: 0.7542 - acc: 0.1528 - val_loss: 0.7504 - val_acc: 0.1401\n",
      "Epoch 96/200\n",
      "101/101 [==============================] - 6s 63ms/step - loss: 0.7533 - acc: 0.1525 - val_loss: 0.7495 - val_acc: 0.1401\n",
      "Epoch 97/200\n",
      "101/101 [==============================] - 6s 63ms/step - loss: 0.7523 - acc: 0.1522 - val_loss: 0.7486 - val_acc: 0.1401\n",
      "Epoch 98/200\n",
      "101/101 [==============================] - 6s 62ms/step - loss: 0.7514 - acc: 0.1522 - val_loss: 0.7477 - val_acc: 0.1401\n",
      "Epoch 99/200\n",
      "101/101 [==============================] - 6s 62ms/step - loss: 0.7506 - acc: 0.1520 - val_loss: 0.7468 - val_acc: 0.1401\n",
      "Epoch 100/200\n",
      "101/101 [==============================] - 6s 62ms/step - loss: 0.7497 - acc: 0.1520 - val_loss: 0.7459 - val_acc: 0.1401\n",
      "Epoch 101/200\n",
      "101/101 [==============================] - 6s 62ms/step - loss: 0.7488 - acc: 0.1519 - val_loss: 0.7451 - val_acc: 0.1401\n",
      "Epoch 102/200\n",
      "101/101 [==============================] - 6s 63ms/step - loss: 0.7480 - acc: 0.1517 - val_loss: 0.7443 - val_acc: 0.1401\n",
      "Epoch 103/200\n",
      "101/101 [==============================] - 6s 62ms/step - loss: 0.7472 - acc: 0.1517 - val_loss: 0.7434 - val_acc: 0.1401\n",
      "Epoch 104/200\n",
      "101/101 [==============================] - 6s 62ms/step - loss: 0.7464 - acc: 0.1517 - val_loss: 0.7426 - val_acc: 0.1401\n",
      "Epoch 105/200\n",
      "101/101 [==============================] - 6s 62ms/step - loss: 0.7456 - acc: 0.1517 - val_loss: 0.7418 - val_acc: 0.1401\n",
      "Epoch 106/200\n",
      "101/101 [==============================] - 6s 62ms/step - loss: 0.7448 - acc: 0.1517 - val_loss: 0.7411 - val_acc: 0.1401\n",
      "Epoch 107/200\n",
      "101/101 [==============================] - 6s 62ms/step - loss: 0.7440 - acc: 0.1517 - val_loss: 0.7403 - val_acc: 0.1401\n",
      "Epoch 108/200\n",
      "101/101 [==============================] - 6s 62ms/step - loss: 0.7432 - acc: 0.1517 - val_loss: 0.7395 - val_acc: 0.1401\n",
      "Epoch 109/200\n",
      "101/101 [==============================] - 6s 62ms/step - loss: 0.7425 - acc: 0.1517 - val_loss: 0.7388 - val_acc: 0.1401\n",
      "Epoch 110/200\n",
      "101/101 [==============================] - 7s 70ms/step - loss: 0.7418 - acc: 0.1517 - val_loss: 0.7381 - val_acc: 0.1401\n",
      "Epoch 111/200\n",
      "101/101 [==============================] - 7s 68ms/step - loss: 0.7410 - acc: 0.1517 - val_loss: 0.7373 - val_acc: 0.1401\n",
      "Epoch 112/200\n",
      "101/101 [==============================] - 7s 72ms/step - loss: 0.7403 - acc: 0.1517 - val_loss: 0.7366 - val_acc: 0.1401\n",
      "Epoch 113/200\n",
      "101/101 [==============================] - 7s 65ms/step - loss: 0.7396 - acc: 0.1517 - val_loss: 0.7359 - val_acc: 0.1401\n",
      "Epoch 114/200\n",
      "101/101 [==============================] - 7s 65ms/step - loss: 0.7389 - acc: 0.1517 - val_loss: 0.7352 - val_acc: 0.1401\n",
      "Epoch 115/200\n",
      "101/101 [==============================] - 6s 64ms/step - loss: 0.7382 - acc: 0.1517 - val_loss: 0.7346 - val_acc: 0.1401\n",
      "Epoch 116/200\n",
      "101/101 [==============================] - 7s 65ms/step - loss: 0.7376 - acc: 0.1517 - val_loss: 0.7339 - val_acc: 0.1401\n",
      "Epoch 117/200\n",
      "101/101 [==============================] - 6s 64ms/step - loss: 0.7369 - acc: 0.1517 - val_loss: 0.7333 - val_acc: 0.1401\n",
      "Epoch 118/200\n",
      "101/101 [==============================] - 7s 65ms/step - loss: 0.7363 - acc: 0.1517 - val_loss: 0.7326 - val_acc: 0.1401\n",
      "Epoch 119/200\n",
      "101/101 [==============================] - 6s 64ms/step - loss: 0.7356 - acc: 0.1517 - val_loss: 0.7320 - val_acc: 0.1401\n",
      "Epoch 120/200\n",
      "101/101 [==============================] - 6s 64ms/step - loss: 0.7350 - acc: 0.1517 - val_loss: 0.7314 - val_acc: 0.1401\n",
      "Epoch 121/200\n",
      "101/101 [==============================] - 7s 65ms/step - loss: 0.7344 - acc: 0.1517 - val_loss: 0.7307 - val_acc: 0.1401\n",
      "Epoch 122/200\n",
      "101/101 [==============================] - 7s 65ms/step - loss: 0.7338 - acc: 0.1517 - val_loss: 0.7301 - val_acc: 0.1401\n",
      "Epoch 123/200\n",
      "101/101 [==============================] - 7s 66ms/step - loss: 0.7332 - acc: 0.1517 - val_loss: 0.7296 - val_acc: 0.1401\n",
      "Epoch 124/200\n",
      "101/101 [==============================] - 6s 64ms/step - loss: 0.7326 - acc: 0.1517 - val_loss: 0.7290 - val_acc: 0.1401\n",
      "Epoch 125/200\n",
      "101/101 [==============================] - 6s 64ms/step - loss: 0.7320 - acc: 0.1517 - val_loss: 0.7284 - val_acc: 0.1401\n",
      "Epoch 126/200\n",
      "101/101 [==============================] - 6s 64ms/step - loss: 0.7314 - acc: 0.1517 - val_loss: 0.7278 - val_acc: 0.1401\n",
      "Epoch 127/200\n",
      "101/101 [==============================] - 6s 64ms/step - loss: 0.7309 - acc: 0.1517 - val_loss: 0.7273 - val_acc: 0.1401\n",
      "Epoch 128/200\n",
      "101/101 [==============================] - 7s 65ms/step - loss: 0.7303 - acc: 0.1517 - val_loss: 0.7267 - val_acc: 0.1401\n",
      "Epoch 129/200\n",
      "101/101 [==============================] - 6s 64ms/step - loss: 0.7298 - acc: 0.1517 - val_loss: 0.7262 - val_acc: 0.1401\n",
      "Epoch 130/200\n",
      "101/101 [==============================] - 6s 64ms/step - loss: 0.7292 - acc: 0.1517 - val_loss: 0.7257 - val_acc: 0.1401\n",
      "Epoch 131/200\n",
      "101/101 [==============================] - 6s 64ms/step - loss: 0.7287 - acc: 0.1517 - val_loss: 0.7251 - val_acc: 0.1401\n",
      "Epoch 132/200\n",
      "101/101 [==============================] - 7s 65ms/step - loss: 0.7282 - acc: 0.1517 - val_loss: 0.7246 - val_acc: 0.1401\n",
      "Epoch 133/200\n",
      "101/101 [==============================] - 7s 65ms/step - loss: 0.7277 - acc: 0.1517 - val_loss: 0.7241 - val_acc: 0.1401\n",
      "Epoch 134/200\n",
      "101/101 [==============================] - 6s 64ms/step - loss: 0.7272 - acc: 0.1517 - val_loss: 0.7236 - val_acc: 0.1401\n",
      "Epoch 135/200\n",
      "101/101 [==============================] - 6s 64ms/step - loss: 0.7267 - acc: 0.1517 - val_loss: 0.7231 - val_acc: 0.1401\n",
      "Epoch 136/200\n",
      "101/101 [==============================] - 7s 68ms/step - loss: 0.7262 - acc: 0.1517 - val_loss: 0.7227 - val_acc: 0.1401\n",
      "Epoch 137/200\n",
      "101/101 [==============================] - 7s 67ms/step - loss: 0.7257 - acc: 0.1517 - val_loss: 0.7222 - val_acc: 0.1401\n",
      "Epoch 138/200\n",
      "101/101 [==============================] - 7s 66ms/step - loss: 0.7253 - acc: 0.1517 - val_loss: 0.7217 - val_acc: 0.1401\n",
      "Epoch 139/200\n",
      "101/101 [==============================] - 7s 67ms/step - loss: 0.7248 - acc: 0.1517 - val_loss: 0.7213 - val_acc: 0.1401\n",
      "Epoch 140/200\n",
      "101/101 [==============================] - 7s 67ms/step - loss: 0.7244 - acc: 0.1517 - val_loss: 0.7208 - val_acc: 0.1401\n",
      "Epoch 141/200\n",
      "101/101 [==============================] - 7s 68ms/step - loss: 0.7239 - acc: 0.1517 - val_loss: 0.7204 - val_acc: 0.1401\n",
      "Epoch 142/200\n",
      "101/101 [==============================] - 7s 67ms/step - loss: 0.7235 - acc: 0.1517 - val_loss: 0.7199 - val_acc: 0.1401\n",
      "Epoch 143/200\n",
      "101/101 [==============================] - 7s 67ms/step - loss: 0.7230 - acc: 0.1517 - val_loss: 0.7195 - val_acc: 0.1401\n",
      "Epoch 144/200\n",
      "101/101 [==============================] - 7s 66ms/step - loss: 0.7226 - acc: 0.1517 - val_loss: 0.7191 - val_acc: 0.1401\n",
      "Epoch 145/200\n",
      "101/101 [==============================] - 7s 67ms/step - loss: 0.7222 - acc: 0.1517 - val_loss: 0.7187 - val_acc: 0.1401\n",
      "Epoch 146/200\n",
      "101/101 [==============================] - 7s 68ms/step - loss: 0.7218 - acc: 0.1517 - val_loss: 0.7182 - val_acc: 0.1401\n",
      "Epoch 147/200\n",
      "101/101 [==============================] - 7s 68ms/step - loss: 0.7214 - acc: 0.1517 - val_loss: 0.7178 - val_acc: 0.1401\n",
      "Epoch 148/200\n",
      "101/101 [==============================] - 7s 68ms/step - loss: 0.7210 - acc: 0.1517 - val_loss: 0.7175 - val_acc: 0.1401\n",
      "Epoch 149/200\n",
      "101/101 [==============================] - 7s 66ms/step - loss: 0.7206 - acc: 0.1517 - val_loss: 0.7171 - val_acc: 0.1401\n",
      "Epoch 150/200\n",
      "101/101 [==============================] - 7s 67ms/step - loss: 0.7202 - acc: 0.1517 - val_loss: 0.7167 - val_acc: 0.1401\n",
      "Epoch 151/200\n",
      "101/101 [==============================] - 7s 68ms/step - loss: 0.7198 - acc: 0.1517 - val_loss: 0.7163 - val_acc: 0.1401\n",
      "Epoch 152/200\n",
      "101/101 [==============================] - 7s 68ms/step - loss: 0.7194 - acc: 0.1517 - val_loss: 0.7159 - val_acc: 0.1401\n",
      "Epoch 153/200\n",
      "101/101 [==============================] - 7s 66ms/step - loss: 0.7191 - acc: 0.1517 - val_loss: 0.7156 - val_acc: 0.1401\n",
      "Epoch 154/200\n",
      "101/101 [==============================] - 7s 66ms/step - loss: 0.7187 - acc: 0.1517 - val_loss: 0.7152 - val_acc: 0.1401\n",
      "Epoch 155/200\n",
      "101/101 [==============================] - 7s 67ms/step - loss: 0.7184 - acc: 0.1517 - val_loss: 0.7149 - val_acc: 0.1401 1s - loss: 0.\n",
      "Epoch 156/200\n",
      "101/101 [==============================] - 7s 67ms/step - loss: 0.7180 - acc: 0.1517 - val_loss: 0.7145 - val_acc: 0.1401- acc: 0 - ETA: 0s - loss: 0.7183 -\n",
      "Epoch 157/200\n",
      "101/101 [==============================] - 7s 66ms/step - loss: 0.7177 - acc: 0.1517 - val_loss: 0.7142 - val_acc: 0.1401\n",
      "Epoch 158/200\n",
      "101/101 [==============================] - 7s 66ms/step - loss: 0.7173 - acc: 0.1517 - val_loss: 0.7138 - val_acc: 0.1401\n",
      "Epoch 159/200\n",
      "101/101 [==============================] - 7s 68ms/step - loss: 0.7170 - acc: 0.1517 - val_loss: 0.7135 - val_acc: 0.1401\n",
      "Epoch 160/200\n",
      "101/101 [==============================] - 7s 66ms/step - loss: 0.7167 - acc: 0.1517 - val_loss: 0.7132 - val_acc: 0.1401\n",
      "Epoch 161/200\n",
      "101/101 [==============================] - 7s 67ms/step - loss: 0.7163 - acc: 0.1517 - val_loss: 0.7128 - val_acc: 0.1401\n",
      "Epoch 162/200\n",
      "101/101 [==============================] - 7s 68ms/step - loss: 0.7160 - acc: 0.1517 - val_loss: 0.7125 - val_acc: 0.1401\n",
      "Epoch 163/200\n",
      "101/101 [==============================] - 7s 67ms/step - loss: 0.7157 - acc: 0.1517 - val_loss: 0.7122 - val_acc: 0.1401\n",
      "Epoch 164/200\n",
      "101/101 [==============================] - 7s 67ms/step - loss: 0.7154 - acc: 0.1517 - val_loss: 0.7119 - val_acc: 0.1401\n",
      "Epoch 165/200\n",
      "101/101 [==============================] - 7s 67ms/step - loss: 0.7151 - acc: 0.1517 - val_loss: 0.7116 - val_acc: 0.1401\n",
      "Epoch 166/200\n",
      "101/101 [==============================] - 7s 67ms/step - loss: 0.7148 - acc: 0.1517 - val_loss: 0.7113 - val_acc: 0.1401\n",
      "Epoch 167/200\n",
      "101/101 [==============================] - 7s 67ms/step - loss: 0.7145 - acc: 0.1517 - val_loss: 0.7110 - val_acc: 0.1401\n",
      "Epoch 168/200\n",
      "101/101 [==============================] - 7s 67ms/step - loss: 0.7142 - acc: 0.1517 - val_loss: 0.7107 - val_acc: 0.1401\n",
      "Epoch 169/200\n",
      "101/101 [==============================] - 7s 67ms/step - loss: 0.7139 - acc: 0.1517 - val_loss: 0.7105 - val_acc: 0.1401\n",
      "Epoch 170/200\n",
      "101/101 [==============================] - 7s 67ms/step - loss: 0.7136 - acc: 0.1517 - val_loss: 0.7102 - val_acc: 0.1401\n",
      "Epoch 171/200\n",
      "101/101 [==============================] - 7s 71ms/step - loss: 0.7134 - acc: 0.1517 - val_loss: 0.7099 - val_acc: 0.1401\n",
      "Epoch 172/200\n",
      "101/101 [==============================] - 7s 68ms/step - loss: 0.7131 - acc: 0.1517 - val_loss: 0.7096 - val_acc: 0.1401\n",
      "Epoch 173/200\n",
      "101/101 [==============================] - 7s 68ms/step - loss: 0.7128 - acc: 0.1517 - val_loss: 0.7094 - val_acc: 0.1401\n",
      "Epoch 174/200\n",
      "101/101 [==============================] - 7s 68ms/step - loss: 0.7126 - acc: 0.1517 - val_loss: 0.7091 - val_acc: 0.1401\n",
      "Epoch 175/200\n",
      "101/101 [==============================] - 7s 67ms/step - loss: 0.7123 - acc: 0.1517 - val_loss: 0.7089 - val_acc: 0.1401\n",
      "Epoch 176/200\n",
      "101/101 [==============================] - 7s 68ms/step - loss: 0.7121 - acc: 0.1517 - val_loss: 0.7086 - val_acc: 0.1401\n",
      "Epoch 177/200\n",
      "101/101 [==============================] - 7s 68ms/step - loss: 0.7118 - acc: 0.1517 - val_loss: 0.7084 - val_acc: 0.1401\n",
      "Epoch 178/200\n",
      "101/101 [==============================] - 7s 68ms/step - loss: 0.7116 - acc: 0.1517 - val_loss: 0.7081 - val_acc: 0.1401\n",
      "Epoch 179/200\n",
      "101/101 [==============================] - 7s 68ms/step - loss: 0.7113 - acc: 0.1517 - val_loss: 0.7079 - val_acc: 0.1401\n",
      "Epoch 180/200\n",
      "101/101 [==============================] - 7s 68ms/step - loss: 0.7111 - acc: 0.1517 - val_loss: 0.7076 - val_acc: 0.1401\n",
      "Epoch 181/200\n",
      "101/101 [==============================] - 7s 72ms/step - loss: 0.7108 - acc: 0.1517 - val_loss: 0.7074 - val_acc: 0.1401\n"
     ]
    },
    {
     "name": "stdout",
     "output_type": "stream",
     "text": [
      "Epoch 182/200\n",
      "101/101 [==============================] - 7s 67ms/step - loss: 0.7106 - acc: 0.1517 - val_loss: 0.7072 - val_acc: 0.1401\n",
      "Epoch 183/200\n",
      "101/101 [==============================] - 7s 67ms/step - loss: 0.7104 - acc: 0.1517 - val_loss: 0.7070 - val_acc: 0.1401\n",
      "Epoch 184/200\n",
      "101/101 [==============================] - 7s 67ms/step - loss: 0.7102 - acc: 0.1517 - val_loss: 0.7067 - val_acc: 0.1401\n",
      "Epoch 185/200\n",
      "101/101 [==============================] - 7s 68ms/step - loss: 0.7099 - acc: 0.1517 - val_loss: 0.7065 - val_acc: 0.1401\n",
      "Epoch 186/200\n",
      "101/101 [==============================] - 7s 68ms/step - loss: 0.7097 - acc: 0.1517 - val_loss: 0.7063 - val_acc: 0.1401\n",
      "Epoch 187/200\n",
      "101/101 [==============================] - 7s 69ms/step - loss: 0.7095 - acc: 0.1517 - val_loss: 0.7061 - val_acc: 0.1401\n",
      "Epoch 188/200\n",
      "101/101 [==============================] - 7s 72ms/step - loss: 0.7093 - acc: 0.1517 - val_loss: 0.7059 - val_acc: 0.1401\n",
      "Epoch 189/200\n",
      "101/101 [==============================] - 7s 71ms/step - loss: 0.7091 - acc: 0.1517 - val_loss: 0.7057 - val_acc: 0.1401\n",
      "Epoch 190/200\n",
      "101/101 [==============================] - 7s 70ms/step - loss: 0.7089 - acc: 0.1517 - val_loss: 0.7055 - val_acc: 0.1401\n",
      "Epoch 191/200\n",
      "101/101 [==============================] - 7s 69ms/step - loss: 0.7087 - acc: 0.1517 - val_loss: 0.7053 - val_acc: 0.1401\n",
      "Epoch 192/200\n",
      "101/101 [==============================] - 7s 69ms/step - loss: 0.7085 - acc: 0.1517 - val_loss: 0.7051 - val_acc: 0.1401\n",
      "Epoch 193/200\n",
      "101/101 [==============================] - 7s 69ms/step - loss: 0.7083 - acc: 0.1517 - val_loss: 0.7049 - val_acc: 0.1401\n",
      "Epoch 194/200\n",
      "101/101 [==============================] - 7s 69ms/step - loss: 0.7081 - acc: 0.1517 - val_loss: 0.7047 - val_acc: 0.1401\n",
      "Epoch 195/200\n",
      "101/101 [==============================] - 7s 69ms/step - loss: 0.7079 - acc: 0.1517 - val_loss: 0.7045 - val_acc: 0.1401\n",
      "Epoch 196/200\n",
      "101/101 [==============================] - 7s 70ms/step - loss: 0.7078 - acc: 0.1517 - val_loss: 0.7043 - val_acc: 0.1401\n",
      "Epoch 197/200\n",
      "101/101 [==============================] - 7s 69ms/step - loss: 0.7076 - acc: 0.1517 - val_loss: 0.7042 - val_acc: 0.1401\n",
      "Epoch 198/200\n",
      "101/101 [==============================] - 7s 70ms/step - loss: 0.7074 - acc: 0.1517 - val_loss: 0.7040 - val_acc: 0.1401\n",
      "Epoch 199/200\n",
      "101/101 [==============================] - 7s 71ms/step - loss: 0.7072 - acc: 0.1517 - val_loss: 0.7038 - val_acc: 0.1401\n",
      "Epoch 200/200\n",
      "101/101 [==============================] - 7s 69ms/step - loss: 0.7070 - acc: 0.1517 - val_loss: 0.7036 - val_acc: 0.1401\n"
     ]
    }
   ],
   "source": [
    "cnn2d_history = cnn2d_model.fit(X_train_padded, y_train, batch_size=64, epochs=200, validation_split=0.15, \n",
    "                                class_weight = sklearn_weights,shuffle = True )\n",
    "#rmsprop or zyada fast wala read"
   ]
  },
  {
   "cell_type": "code",
   "execution_count": 165,
   "id": "entitled-columbia",
   "metadata": {},
   "outputs": [
    {
     "name": "stdout",
     "output_type": "stream",
     "text": [
      "60/60 [==============================] - 1s 19ms/step - loss: 0.7036 - acc: 0.1475\n",
      "Test Loss: 0.7036360502243042\n",
      "Test Accuracy: 0.14754098653793335\n"
     ]
    }
   ],
   "source": [
    "score = cnn2d_model.evaluate(X_val_padded, y_val, verbose=1)\n",
    "print(\"Test Loss:\", score[0])\n",
    "print(\"Test Accuracy:\", score[1])"
   ]
  },
  {
   "cell_type": "code",
   "execution_count": 166,
   "id": "reliable-orchestra",
   "metadata": {},
   "outputs": [
    {
     "data": {
      "image/png": "[encoded data removed]",
      "text/plain": [
       "<Figure size 432x288 with 1 Axes>"
      ]
     },
     "metadata": {
      "needs_background": "light"
     },
     "output_type": "display_data"
    },
    {
     "data": {
      "image/png": "[encoded data removed]",
      "text/plain": [
       "<Figure size 432x288 with 1 Axes>"
      ]
     },
     "metadata": {
      "needs_background": "light"
     },
     "output_type": "display_data"
    },
    {
     "data": {
      "text/plain": [
       "<Figure size 432x288 with 0 Axes>"
      ]
     },
     "metadata": {},
     "output_type": "display_data"
    }
   ],
   "source": [
    "plt.plot(cnn2d_history.history['acc'])\n",
    "plt.plot(cnn2d_history.history['val_acc'])\n",
    "\n",
    "plt.title('model accuracy')\n",
    "plt.ylabel('accuracy')\n",
    "plt.xlabel('epoch')\n",
    "plt.legend(['train','test'], loc='upper left')\n",
    "plt.ylim([0,1.01])\n",
    "plt.show()\n",
    "plt.savefig('AccEpoch1.png')\n",
    "plt.plot(cnn2d_history.history['loss'])\n",
    "plt.plot(cnn2d_history.history['val_loss'])\n",
    "\n",
    "plt.title('model loss')\n",
    "plt.ylabel('loss')\n",
    "plt.xlabel('epoch')\n",
    "plt.legend(['train','test'], loc='upper left')\n",
    "plt.show()\n",
    "plt.savefig('LossEpoch1.png')"
   ]
  },
  {
   "cell_type": "code",
   "execution_count": 167,
   "id": "threatened-playlist",
   "metadata": {},
   "outputs": [
    {
     "name": "stdout",
     "output_type": "stream",
     "text": [
      "Precision: 0.07\n",
      "Recall: 0.5\n",
      "F1 Score: 0.13\n"
     ]
    },
    {
     "name": "stderr",
     "output_type": "stream",
     "text": [
      "C:\\Users\\ketak\\anaconda3\\envs\\tensorflow\\lib\\site-packages\\sklearn\\metrics\\_classification.py:1245: UndefinedMetricWarning: Precision is ill-defined and being set to 0.0 in labels with no predicted samples. Use `zero_division` parameter to control this behavior.\n",
      "  _warn_prf(average, modifier, msg_start, len(result))\n"
     ]
    }
   ],
   "source": [
    "from sklearn.metrics import f1_score, precision_score, recall_score, confusion_matrix\n",
    "y_pred1 = cnn2d_model.predict(X_val_padded)\n",
    "y_pred = np.argmax(y_pred1, axis=1)\n",
    "\n",
    "# Print f1, precision, and recall scores\n",
    "print(\"Precision:\", round(precision_score(y_val, y_pred , average=\"macro\"),2))\n",
    "print(\"Recall:\", round(recall_score(y_val, y_pred, average=\"macro\"),2))\n",
    "print(\"F1 Score:\", round(f1_score(y_val, y_pred , average=\"macro\"),2))\n"
   ]
  },
  {
   "cell_type": "markdown",
   "id": "double-paris",
   "metadata": {},
   "source": [
    "* 1 Sentence => 1 Matrix of size : #words x wD\n",
    "- N sentences => N matrix of above size \n",
    "- every sentence has different words of differnt size\n",
    "- sort the sentences in increasing length of words and truncate the sentences above 95-percentile length"
   ]
  },
  {
   "cell_type": "code",
   "execution_count": 156,
   "id": "czech-borough",
   "metadata": {},
   "outputs": [],
   "source": [
    "backend.clear_session()"
   ]
  },
  {
   "cell_type": "code",
   "execution_count": null,
   "id": "cloudy-bracket",
   "metadata": {},
   "outputs": [],
   "source": []
  },
  {
   "cell_type": "code",
   "execution_count": null,
   "id": "statewide-sequence",
   "metadata": {},
   "outputs": [],
   "source": []
  },
  {
   "cell_type": "code",
   "execution_count": null,
   "id": "excited-credit",
   "metadata": {},
   "outputs": [],
   "source": []
  },
  {
   "cell_type": "code",
   "execution_count": 22,
   "id": "pediatric-coffee",
   "metadata": {},
   "outputs": [
    {
     "name": "stdout",
     "output_type": "stream",
     "text": [
      "[' Clear target multiple copies effect inefficiency '\n",
      " ' TODO This nd part method ' ' create new empty project' ... ' ok'\n",
      " ' TODO returns Collection single Object Is callers expect '\n",
      " ' see org argouml cognitive critics Critic toDoItem java lang Object org argouml cognitive Designer ']\n"
     ]
    }
   ],
   "source": [
    "print((X_train))"
   ]
  },
  {
   "cell_type": "code",
   "execution_count": 30,
   "id": "junior-divorce",
   "metadata": {},
   "outputs": [
    {
     "data": {
      "text/plain": [
       "(7561,)"
      ]
     },
     "execution_count": 30,
     "metadata": {},
     "output_type": "execute_result"
    }
   ],
   "source": [
    "X_train.shape"
   ]
  },
  {
   "cell_type": "code",
   "execution_count": 23,
   "id": "duplicate-bloom",
   "metadata": {},
   "outputs": [
    {
     "data": {
      "text/plain": [
       "[[265, 1167]]"
      ]
     },
     "execution_count": 23,
     "metadata": {},
     "output_type": "execute_result"
    }
   ],
   "source": [
    "sequences"
   ]
  },
  {
   "cell_type": "code",
   "execution_count": 25,
   "id": "disciplinary-problem",
   "metadata": {},
   "outputs": [
    {
     "data": {
      "text/plain": [
       "(7561, 5351)"
      ]
     },
     "execution_count": 25,
     "metadata": {},
     "output_type": "execute_result"
    }
   ],
   "source": [
    "matrices.shape #not be 5351, should be median remove empty, 95\n",
    "#tokenizer hugging face wala use kar, has truncate keyword"
   ]
  },
  {
   "cell_type": "code",
   "execution_count": 26,
   "id": "partial-valentine",
   "metadata": {},
   "outputs": [
    {
     "data": {
      "text/plain": [
       "50"
      ]
     },
     "execution_count": 26,
     "metadata": {},
     "output_type": "execute_result"
    }
   ],
   "source": [
    "len(X_train[0])"
   ]
  },
  {
   "cell_type": "code",
   "execution_count": 27,
   "id": "saved-arrival",
   "metadata": {},
   "outputs": [
    {
     "data": {
      "text/plain": [
       "' '"
      ]
     },
     "execution_count": 27,
     "metadata": {},
     "output_type": "execute_result"
    }
   ],
   "source": [
    "sorted(X_train, key = lambda x : len(x))[0]"
   ]
  },
  {
   "cell_type": "code",
   "execution_count": 14,
   "id": "divine-ocean",
   "metadata": {},
   "outputs": [],
   "source": [
    "tokenizer = Tokenizer(filters='!\"#$%&()*+,-./:;<=>?@[\\\\]^_`{|}~\\t\\n\\'',\n",
    "                          lower=True)\n",
    "\n",
    "tokenizer.fit_on_texts(X_train)"
   ]
  },
  {
   "cell_type": "code",
   "execution_count": 17,
   "id": "handmade-italian",
   "metadata": {},
   "outputs": [],
   "source": [
    "sequences = tokenizer.texts_to_sequences([\"this perhaps not really necessary\"])"
   ]
  },
  {
   "cell_type": "code",
   "execution_count": 18,
   "id": "sealed-neutral",
   "metadata": {},
   "outputs": [
    {
     "data": {
      "text/plain": [
       "[[14, 918, 320, 152, 514]]"
      ]
     },
     "execution_count": 18,
     "metadata": {},
     "output_type": "execute_result"
    }
   ],
   "source": [
    "sequences"
   ]
  },
  {
   "cell_type": "code",
   "execution_count": 19,
   "id": "fossil-emergency",
   "metadata": {},
   "outputs": [
    {
     "data": {
      "text/plain": [
       "(7561,)"
      ]
     },
     "execution_count": 19,
     "metadata": {},
     "output_type": "execute_result"
    }
   ],
   "source": [
    "X_train.shape"
   ]
  },
  {
   "cell_type": "code",
   "execution_count": 20,
   "id": "hybrid-south",
   "metadata": {},
   "outputs": [],
   "source": [
    "matrices = tokenizer.texts_to_matrix(X_train)"
   ]
  },
  {
   "cell_type": "code",
   "execution_count": 21,
   "id": "nearby-comedy",
   "metadata": {},
   "outputs": [
    {
     "data": {
      "text/plain": [
       "array([[0., 0., 0., ..., 0., 0., 0.],\n",
       "       [0., 0., 0., ..., 0., 0., 0.],\n",
       "       [0., 0., 0., ..., 0., 0., 0.],\n",
       "       ...,\n",
       "       [0., 0., 0., ..., 0., 0., 0.],\n",
       "       [0., 0., 0., ..., 0., 0., 0.],\n",
       "       [0., 1., 1., ..., 0., 0., 0.]])"
      ]
     },
     "execution_count": 21,
     "metadata": {},
     "output_type": "execute_result"
    }
   ],
   "source": [
    "matrices"
   ]
  },
  {
   "cell_type": "markdown",
   "id": "comfortable-tourism",
   "metadata": {},
   "source": [
    "# Test your prep\n"
   ]
  },
  {
   "cell_type": "code",
   "execution_count": 34,
   "id": "attended-border",
   "metadata": {},
   "outputs": [],
   "source": [
    "corpus = [\n",
    "    # Positive Reviews\n",
    "\n",
    "    'This is an excellent movie',\n",
    "    'The move was fantastic I like it',\n",
    "    'You should watch it is brilliant',\n",
    "    'Exceptionally good',\n",
    "    'Wonderfully directed and executed I like it',\n",
    "    'Its a fantastic series',\n",
    "    'Never watched such a brillent movie',\n",
    "    'It is a Wonderful movie',\n",
    "\n",
    "    # Negtive Reviews\n",
    "\n",
    "    \"horrible acting\",\n",
    "    'waste of money',\n",
    "    'pathetic picture',\n",
    "    'It was very boring',\n",
    "    'I did not like the movie',\n",
    "    'The movie was horrible',\n",
    "    'I will not recommend',\n",
    "    'The acting is pathetic'\n",
    "]\n",
    "sentiments = np.array([1,1,1,1,1,1,1,1,0,0,0,0,0,0,0,0])"
   ]
  },
  {
   "cell_type": "code",
   "execution_count": 36,
   "id": "stylish-joining",
   "metadata": {},
   "outputs": [],
   "source": [
    "sentiments = np.array([1,1,1,1,1,1,1,1,0,0,0,0,0,0,0,0])"
   ]
  },
  {
   "cell_type": "code",
   "execution_count": 45,
   "id": "willing-algeria",
   "metadata": {},
   "outputs": [
    {
     "name": "stdout",
     "output_type": "stream",
     "text": [
      "45\n"
     ]
    }
   ],
   "source": [
    "#Embedding Layer (wordVocab,wordDim,inputlen) -- transforms words as rows, dimesions as cols matrx\n",
    "from nltk.tokenize import word_tokenize\n",
    "\n",
    "all_words = []\n",
    "for sent in corpus:\n",
    "    tokenize_word = word_tokenize(sent)\n",
    "    #tokenize_word is a list of all words in a sentence\n",
    "    for word in tokenize_word:\n",
    "        all_words.append(word)\n",
    "#all_words\n",
    "#we only need unique words \n",
    "unique_words = set(all_words)\n",
    "print(len(unique_words))\n",
    "vocab_length = len(unique_words)"
   ]
  },
  {
   "cell_type": "code",
   "execution_count": 46,
   "id": "regular-margin",
   "metadata": {},
   "outputs": [
    {
     "name": "stdout",
     "output_type": "stream",
     "text": [
      "[[33, 25, 1, 12, 13], [35, 19, 19, 4, 30, 14, 36], [37, 37, 31, 36, 25, 40], [27, 7], [25, 10, 10, 5, 30, 14, 36], [40, 30, 4, 36], [32, 12, 26, 30, 10, 13], [36, 25, 30, 3, 13], [44, 28], [6, 5, 1], [10, 6], [36, 19, 24, 6], [30, 31, 19, 14, 35, 13], [35, 13, 19, 44], [30, 13, 19, 30], [35, 28, 25, 10]]\n"
     ]
    }
   ],
   "source": [
    "from tensorflow.keras.preprocessing.text import one_hot\n",
    "embedded_sentences = [one_hot(sent, vocab_length) for sent in corpus]\n",
    "print(embedded_sentences)\n",
    "#but all these are different lengths so pad them equal to len if longest sentence"
   ]
  },
  {
   "cell_type": "code",
   "execution_count": 47,
   "id": "mexican-upset",
   "metadata": {},
   "outputs": [],
   "source": [
    "word_count = lambda sentence: len(word_tokenize(sentence))\n",
    "longest_sentence = max(corpus, key=word_count)\n",
    "length_long_sentence = len(word_tokenize(longest_sentence))"
   ]
  },
  {
   "cell_type": "code",
   "execution_count": 48,
   "id": "southeast-privilege",
   "metadata": {},
   "outputs": [
    {
     "name": "stdout",
     "output_type": "stream",
     "text": [
      "[[33 25  1 12 13  0  0]\n",
      " [35 19 19  4 30 14 36]\n",
      " [37 37 31 36 25 40  0]\n",
      " [27  7  0  0  0  0  0]\n",
      " [25 10 10  5 30 14 36]\n",
      " [40 30  4 36  0  0  0]\n",
      " [32 12 26 30 10 13  0]\n",
      " [36 25 30  3 13  0  0]\n",
      " [44 28  0  0  0  0  0]\n",
      " [ 6  5  1  0  0  0  0]\n",
      " [10  6  0  0  0  0  0]\n",
      " [36 19 24  6  0  0  0]\n",
      " [30 31 19 14 35 13  0]\n",
      " [35 13 19 44  0  0  0]\n",
      " [30 13 19 30  0  0  0]\n",
      " [35 28 25 10  0  0  0]]\n"
     ]
    }
   ],
   "source": [
    "padded_sentences = pad_sequences(embedded_sentences, length_long_sentence, padding='post')\n",
    "print(padded_sentences)"
   ]
  },
  {
   "cell_type": "code",
   "execution_count": 83,
   "id": "historical-jamaica",
   "metadata": {},
   "outputs": [
    {
     "data": {
      "text/plain": [
       "20"
      ]
     },
     "execution_count": 83,
     "metadata": {},
     "output_type": "execute_result"
    }
   ],
   "source": [
    "e = Embedding(vocab_length, 20, input_length=length_long_sentence)\n",
    "e.output_dim #16 * 7* 20"
   ]
  },
  {
   "cell_type": "code",
   "execution_count": 78,
   "id": "amateur-wellington",
   "metadata": {},
   "outputs": [],
   "source": [
    "from tensorflow.keras import Sequential\n",
    "model = Sequential()\n",
    "model.add(Embedding(vocab_length, 20, input_length=length_long_sentence))\n",
    "model.add(Flatten())\n",
    "model.add(Dense(1, activation='sigmoid'))"
   ]
  },
  {
   "cell_type": "code",
   "execution_count": 53,
   "id": "current-looking",
   "metadata": {},
   "outputs": [
    {
     "name": "stdout",
     "output_type": "stream",
     "text": [
      "Model: \"sequential_1\"\n",
      "_________________________________________________________________\n",
      "Layer (type)                 Output Shape              Param #   \n",
      "=================================================================\n",
      "embedding (Embedding)        (None, 7, 20)             900       \n",
      "_________________________________________________________________\n",
      "flatten (Flatten)            (None, 140)               0         \n",
      "_________________________________________________________________\n",
      "dense (Dense)                (None, 1)                 141       \n",
      "=================================================================\n",
      "Total params: 1,041\n",
      "Trainable params: 1,041\n",
      "Non-trainable params: 0\n",
      "_________________________________________________________________\n",
      "None\n"
     ]
    }
   ],
   "source": [
    "model.compile(optimizer='adam', loss='binary_crossentropy', metrics=['acc'])\n",
    "print(model.summary())"
   ]
  },
  {
   "cell_type": "code",
   "execution_count": 54,
   "id": "overall-covering",
   "metadata": {},
   "outputs": [
    {
     "name": "stdout",
     "output_type": "stream",
     "text": [
      "Epoch 1/100\n",
      "1/1 [==============================] - 0s 0s/step - loss: 0.6940 - acc: 0.4375\n",
      "Epoch 2/100\n",
      "1/1 [==============================] - 0s 0s/step - loss: 0.6906 - acc: 0.5000\n",
      "Epoch 3/100\n",
      "1/1 [==============================] - 0s 0s/step - loss: 0.6873 - acc: 0.6250\n",
      "Epoch 4/100\n",
      "1/1 [==============================] - 0s 0s/step - loss: 0.6839 - acc: 0.6875\n",
      "Epoch 5/100\n",
      "1/1 [==============================] - 0s 0s/step - loss: 0.6805 - acc: 0.7500\n",
      "Epoch 6/100\n",
      "1/1 [==============================] - 0s 0s/step - loss: 0.6771 - acc: 0.7500\n",
      "Epoch 7/100\n",
      "1/1 [==============================] - 0s 0s/step - loss: 0.6738 - acc: 0.8750\n",
      "Epoch 8/100\n",
      "1/1 [==============================] - 0s 0s/step - loss: 0.6704 - acc: 0.8750\n",
      "Epoch 9/100\n",
      "1/1 [==============================] - 0s 0s/step - loss: 0.6670 - acc: 0.8750\n",
      "Epoch 10/100\n",
      "1/1 [==============================] - 0s 0s/step - loss: 0.6637 - acc: 0.8750\n",
      "Epoch 11/100\n",
      "1/1 [==============================] - 0s 0s/step - loss: 0.6603 - acc: 0.8750\n",
      "Epoch 12/100\n",
      "1/1 [==============================] - 0s 0s/step - loss: 0.6569 - acc: 0.8750\n",
      "Epoch 13/100\n",
      "1/1 [==============================] - 0s 0s/step - loss: 0.6535 - acc: 0.9375\n",
      "Epoch 14/100\n",
      "1/1 [==============================] - 0s 8ms/step - loss: 0.6501 - acc: 0.9375\n",
      "Epoch 15/100\n",
      "1/1 [==============================] - 0s 0s/step - loss: 0.6467 - acc: 0.9375\n",
      "Epoch 16/100\n",
      "1/1 [==============================] - 0s 0s/step - loss: 0.6433 - acc: 0.9375\n",
      "Epoch 17/100\n",
      "1/1 [==============================] - 0s 0s/step - loss: 0.6398 - acc: 0.9375\n",
      "Epoch 18/100\n",
      "1/1 [==============================] - 0s 0s/step - loss: 0.6363 - acc: 0.9375\n",
      "Epoch 19/100\n",
      "1/1 [==============================] - 0s 0s/step - loss: 0.6328 - acc: 0.9375\n",
      "Epoch 20/100\n",
      "1/1 [==============================] - 0s 0s/step - loss: 0.6293 - acc: 0.9375\n",
      "Epoch 21/100\n",
      "1/1 [==============================] - 0s 0s/step - loss: 0.6258 - acc: 0.9375\n",
      "Epoch 22/100\n",
      "1/1 [==============================] - 0s 0s/step - loss: 0.6222 - acc: 0.9375\n",
      "Epoch 23/100\n",
      "1/1 [==============================] - 0s 8ms/step - loss: 0.6187 - acc: 0.9375\n",
      "Epoch 24/100\n",
      "1/1 [==============================] - 0s 0s/step - loss: 0.6150 - acc: 0.9375\n",
      "Epoch 25/100\n",
      "1/1 [==============================] - 0s 0s/step - loss: 0.6114 - acc: 0.9375\n",
      "Epoch 26/100\n",
      "1/1 [==============================] - 0s 8ms/step - loss: 0.6077 - acc: 0.9375\n",
      "Epoch 27/100\n",
      "1/1 [==============================] - 0s 0s/step - loss: 0.6041 - acc: 0.9375\n",
      "Epoch 28/100\n",
      "1/1 [==============================] - 0s 0s/step - loss: 0.6003 - acc: 0.9375\n",
      "Epoch 29/100\n",
      "1/1 [==============================] - 0s 0s/step - loss: 0.5966 - acc: 0.9375\n",
      "Epoch 30/100\n",
      "1/1 [==============================] - 0s 0s/step - loss: 0.5928 - acc: 0.9375\n",
      "Epoch 31/100\n",
      "1/1 [==============================] - 0s 8ms/step - loss: 0.5890 - acc: 0.9375\n",
      "Epoch 32/100\n",
      "1/1 [==============================] - 0s 0s/step - loss: 0.5851 - acc: 0.9375\n",
      "Epoch 33/100\n",
      "1/1 [==============================] - 0s 0s/step - loss: 0.5812 - acc: 0.9375\n",
      "Epoch 34/100\n",
      "1/1 [==============================] - 0s 0s/step - loss: 0.5773 - acc: 0.9375\n",
      "Epoch 35/100\n",
      "1/1 [==============================] - 0s 0s/step - loss: 0.5734 - acc: 0.9375\n",
      "Epoch 36/100\n",
      "1/1 [==============================] - 0s 0s/step - loss: 0.5694 - acc: 0.9375\n",
      "Epoch 37/100\n",
      "1/1 [==============================] - 0s 0s/step - loss: 0.5654 - acc: 0.9375\n",
      "Epoch 38/100\n",
      "1/1 [==============================] - 0s 0s/step - loss: 0.5614 - acc: 0.9375\n",
      "Epoch 39/100\n",
      "1/1 [==============================] - 0s 0s/step - loss: 0.5573 - acc: 0.9375\n",
      "Epoch 40/100\n",
      "1/1 [==============================] - 0s 8ms/step - loss: 0.5532 - acc: 0.9375\n",
      "Epoch 41/100\n",
      "1/1 [==============================] - 0s 0s/step - loss: 0.5491 - acc: 0.9375\n",
      "Epoch 42/100\n",
      "1/1 [==============================] - 0s 0s/step - loss: 0.5449 - acc: 0.9375\n",
      "Epoch 43/100\n",
      "1/1 [==============================] - 0s 0s/step - loss: 0.5407 - acc: 0.9375\n",
      "Epoch 44/100\n",
      "1/1 [==============================] - 0s 0s/step - loss: 0.5365 - acc: 0.9375\n",
      "Epoch 45/100\n",
      "1/1 [==============================] - 0s 0s/step - loss: 0.5322 - acc: 0.9375\n",
      "Epoch 46/100\n",
      "1/1 [==============================] - 0s 0s/step - loss: 0.5279 - acc: 0.9375\n",
      "Epoch 47/100\n",
      "1/1 [==============================] - 0s 8ms/step - loss: 0.5236 - acc: 0.9375\n",
      "Epoch 48/100\n",
      "1/1 [==============================] - 0s 0s/step - loss: 0.5193 - acc: 0.9375\n",
      "Epoch 49/100\n",
      "1/1 [==============================] - 0s 0s/step - loss: 0.5149 - acc: 0.9375\n",
      "Epoch 50/100\n",
      "1/1 [==============================] - 0s 0s/step - loss: 0.5106 - acc: 0.9375\n",
      "Epoch 51/100\n",
      "1/1 [==============================] - 0s 0s/step - loss: 0.5062 - acc: 0.9375\n",
      "Epoch 52/100\n",
      "1/1 [==============================] - 0s 0s/step - loss: 0.5017 - acc: 0.9375\n",
      "Epoch 53/100\n",
      "1/1 [==============================] - 0s 0s/step - loss: 0.4973 - acc: 0.9375\n",
      "Epoch 54/100\n",
      "1/1 [==============================] - 0s 0s/step - loss: 0.4928 - acc: 0.9375\n",
      "Epoch 55/100\n",
      "1/1 [==============================] - 0s 0s/step - loss: 0.4883 - acc: 0.9375\n",
      "Epoch 56/100\n",
      "1/1 [==============================] - 0s 0s/step - loss: 0.4838 - acc: 0.9375\n",
      "Epoch 57/100\n",
      "1/1 [==============================] - 0s 0s/step - loss: 0.4793 - acc: 0.9375\n",
      "Epoch 58/100\n",
      "1/1 [==============================] - 0s 0s/step - loss: 0.4748 - acc: 0.9375\n",
      "Epoch 59/100\n",
      "1/1 [==============================] - 0s 8ms/step - loss: 0.4702 - acc: 0.9375\n",
      "Epoch 60/100\n",
      "1/1 [==============================] - 0s 0s/step - loss: 0.4657 - acc: 0.9375\n",
      "Epoch 61/100\n",
      "1/1 [==============================] - 0s 0s/step - loss: 0.4611 - acc: 0.9375\n",
      "Epoch 62/100\n",
      "1/1 [==============================] - 0s 0s/step - loss: 0.4565 - acc: 0.9375\n",
      "Epoch 63/100\n",
      "1/1 [==============================] - 0s 0s/step - loss: 0.4519 - acc: 0.9375\n",
      "Epoch 64/100\n",
      "1/1 [==============================] - 0s 0s/step - loss: 0.4474 - acc: 0.9375\n",
      "Epoch 65/100\n",
      "1/1 [==============================] - 0s 0s/step - loss: 0.4428 - acc: 0.9375\n",
      "Epoch 66/100\n",
      "1/1 [==============================] - 0s 0s/step - loss: 0.4382 - acc: 0.9375\n",
      "Epoch 67/100\n",
      "1/1 [==============================] - 0s 0s/step - loss: 0.4336 - acc: 0.9375\n",
      "Epoch 68/100\n",
      "1/1 [==============================] - 0s 0s/step - loss: 0.4290 - acc: 0.9375\n",
      "Epoch 69/100\n",
      "1/1 [==============================] - 0s 0s/step - loss: 0.4244 - acc: 0.9375\n",
      "Epoch 70/100\n",
      "1/1 [==============================] - 0s 0s/step - loss: 0.4198 - acc: 0.9375\n",
      "Epoch 71/100\n",
      "1/1 [==============================] - 0s 0s/step - loss: 0.4152 - acc: 1.0000\n",
      "Epoch 72/100\n",
      "1/1 [==============================] - 0s 0s/step - loss: 0.4106 - acc: 1.0000\n",
      "Epoch 73/100\n",
      "1/1 [==============================] - 0s 0s/step - loss: 0.4060 - acc: 1.0000\n",
      "Epoch 74/100\n",
      "1/1 [==============================] - 0s 0s/step - loss: 0.4015 - acc: 1.0000\n",
      "Epoch 75/100\n",
      "1/1 [==============================] - 0s 0s/step - loss: 0.3969 - acc: 1.0000\n",
      "Epoch 76/100\n",
      "1/1 [==============================] - 0s 0s/step - loss: 0.3924 - acc: 1.0000\n",
      "Epoch 77/100\n",
      "1/1 [==============================] - 0s 0s/step - loss: 0.3878 - acc: 1.0000\n",
      "Epoch 78/100\n",
      "1/1 [==============================] - 0s 0s/step - loss: 0.3833 - acc: 1.0000\n",
      "Epoch 79/100\n",
      "1/1 [==============================] - 0s 0s/step - loss: 0.3788 - acc: 1.0000\n",
      "Epoch 80/100\n",
      "1/1 [==============================] - 0s 0s/step - loss: 0.3743 - acc: 1.0000\n",
      "Epoch 81/100\n",
      "1/1 [==============================] - 0s 0s/step - loss: 0.3699 - acc: 1.0000\n",
      "Epoch 82/100\n",
      "1/1 [==============================] - 0s 0s/step - loss: 0.3654 - acc: 1.0000\n",
      "Epoch 83/100\n",
      "1/1 [==============================] - 0s 0s/step - loss: 0.3610 - acc: 1.0000\n",
      "Epoch 84/100\n",
      "1/1 [==============================] - 0s 0s/step - loss: 0.3566 - acc: 1.0000\n",
      "Epoch 85/100\n",
      "1/1 [==============================] - 0s 0s/step - loss: 0.3522 - acc: 1.0000\n",
      "Epoch 86/100\n",
      "1/1 [==============================] - 0s 8ms/step - loss: 0.3478 - acc: 1.0000\n",
      "Epoch 87/100\n",
      "1/1 [==============================] - 0s 0s/step - loss: 0.3435 - acc: 1.0000\n",
      "Epoch 88/100\n",
      "1/1 [==============================] - 0s 8ms/step - loss: 0.3392 - acc: 1.0000\n",
      "Epoch 89/100\n",
      "1/1 [==============================] - 0s 0s/step - loss: 0.3349 - acc: 1.0000\n",
      "Epoch 90/100\n"
     ]
    },
    {
     "name": "stdout",
     "output_type": "stream",
     "text": [
      "1/1 [==============================] - 0s 8ms/step - loss: 0.3306 - acc: 1.0000\n",
      "Epoch 91/100\n",
      "1/1 [==============================] - 0s 0s/step - loss: 0.3264 - acc: 1.0000\n",
      "Epoch 92/100\n",
      "1/1 [==============================] - 0s 8ms/step - loss: 0.3222 - acc: 1.0000\n",
      "Epoch 93/100\n",
      "1/1 [==============================] - 0s 0s/step - loss: 0.3180 - acc: 1.0000\n",
      "Epoch 94/100\n",
      "1/1 [==============================] - 0s 8ms/step - loss: 0.3139 - acc: 1.0000\n",
      "Epoch 95/100\n",
      "1/1 [==============================] - 0s 0s/step - loss: 0.3098 - acc: 1.0000\n",
      "Epoch 96/100\n",
      "1/1 [==============================] - 0s 0s/step - loss: 0.3057 - acc: 1.0000\n",
      "Epoch 97/100\n",
      "1/1 [==============================] - 0s 0s/step - loss: 0.3017 - acc: 1.0000\n",
      "Epoch 98/100\n",
      "1/1 [==============================] - 0s 8ms/step - loss: 0.2977 - acc: 1.0000\n",
      "Epoch 99/100\n",
      "1/1 [==============================] - 0s 0s/step - loss: 0.2937 - acc: 1.0000\n",
      "Epoch 100/100\n",
      "1/1 [==============================] - 0s 0s/step - loss: 0.2897 - acc: 1.0000\n"
     ]
    },
    {
     "data": {
      "text/plain": [
       "<tensorflow.python.keras.callbacks.History at 0x18307e5dee0>"
      ]
     },
     "execution_count": 54,
     "metadata": {},
     "output_type": "execute_result"
    }
   ],
   "source": [
    "model.fit(padded_sentences, sentiments, epochs=100, verbose=1)"
   ]
  },
  {
   "cell_type": "code",
   "execution_count": 55,
   "id": "optimum-remainder",
   "metadata": {},
   "outputs": [
    {
     "name": "stdout",
     "output_type": "stream",
     "text": [
      "Accuracy: 100.000000\n"
     ]
    }
   ],
   "source": [
    "loss, accuracy = model.evaluate(padded_sentences, sentiments, verbose=0)\n",
    "print('Accuracy: %f' % (accuracy*100))\n"
   ]
  },
  {
   "cell_type": "code",
   "execution_count": null,
   "id": "engaged-invitation",
   "metadata": {},
   "outputs": [],
   "source": []
  }
 ],
 "metadata": {
  "kernelspec": {
   "display_name": "Python 3",
   "language": "python",
   "name": "python3"
  },
  "language_info": {
   "codemirror_mode": {
    "name": "ipython",
    "version": 3
   },
   "file_extension": ".py",
   "mimetype": "text/x-python",
   "name": "python",
   "nbconvert_exporter": "python",
   "pygments_lexer": "ipython3",
   "version": "3.8.5"
  }
 },
 "nbformat": 4,
 "nbformat_minor": 5
}
